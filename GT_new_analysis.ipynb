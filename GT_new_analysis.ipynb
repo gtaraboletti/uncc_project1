{
 "cells": [
  {
   "cell_type": "code",
   "execution_count": 313,
   "id": "21967914-dca5-4b3e-ba70-4b86c9a552c0",
   "metadata": {},
   "outputs": [],
   "source": [
    "#import libraries\n",
    "\n",
    "\n",
    "import numpy as np\n",
    "import pandas as pd\n",
    "import hvplot.pandas\n",
    "import sqlalchemy\n",
    "from pathlib import Path\n",
    "import plotly.express as px\n",
    "import holoviews as hv\n",
    "\n",
    "#loads state code dictionary to simplify heatmap creation \n",
    "code = {'Alabama': 'AL',\n",
    "        'Alaska': 'AK',\n",
    "        'Arizona': 'AZ',\n",
    "        'Arkansas': 'AR',\n",
    "        'California': 'CA',\n",
    "        'Colorado': 'CO',\n",
    "        'Connecticut': 'CT',\n",
    "        'Delaware': 'DE',\n",
    "        'District of Columbia': 'DC',\n",
    "        'Florida': 'FL',\n",
    "        'Georgia': 'GA',\n",
    "        'Hawaii': 'HI',\n",
    "        'Idaho': 'ID',\n",
    "        'Illinois': 'IL',\n",
    "        'Indiana': 'IN',\n",
    "        'Iowa': 'IA',\n",
    "        'Kansas': 'KS',\n",
    "        'Kentucky': 'KY',\n",
    "        'Louisiana': 'LA',\n",
    "        'Maine': 'ME',\n",
    "        'Maryland': 'MD',\n",
    "        'Massachusetts': 'MA',\n",
    "        'Michigan': 'MI',\n",
    "        'Minnesota': 'MN',\n",
    "        'Mississippi': 'MS',\n",
    "        'Missouri': 'MO',\n",
    "        'Montana': 'MT',\n",
    "        'Nebraska': 'NE',\n",
    "        'Nevada': 'NV',\n",
    "        'New Hampshire': 'NH',\n",
    "        'New Jersey': 'NJ',\n",
    "        'New Mexico': 'NM',\n",
    "        'New York': 'NY',\n",
    "        'North Carolina': 'NC',\n",
    "        'North Dakota': 'ND',\n",
    "        'Ohio': 'OH',\n",
    "        'Oklahoma': 'OK',\n",
    "        'Oregon': 'OR',\n",
    "        'Pennsylvania': 'PA',\n",
    "        'Rhode Island': 'RI',\n",
    "        'South Carolina': 'SC',\n",
    "        'South Dakota': 'SD',\n",
    "        'Tennessee': 'TN',\n",
    "        'Texas': 'TX',\n",
    "        'Utah': 'UT',\n",
    "        'Vermont': 'VT',\n",
    "        'Virginia': 'VA',\n",
    "        'Washington': 'WA',\n",
    "        'West Virginia': 'WV',\n",
    "        'Wisconsin': 'WI',\n",
    "        'Wyoming': 'WY'}"
   ]
  },
  {
   "cell_type": "code",
   "execution_count": 414,
   "id": "7916e0eb-b1cd-43cc-9318-e23fc195275e",
   "metadata": {},
   "outputs": [
    {
     "data": {
      "text/html": [
       "<div>\n",
       "<style scoped>\n",
       "    .dataframe tbody tr th:only-of-type {\n",
       "        vertical-align: middle;\n",
       "    }\n",
       "\n",
       "    .dataframe tbody tr th {\n",
       "        vertical-align: top;\n",
       "    }\n",
       "\n",
       "    .dataframe thead th {\n",
       "        text-align: right;\n",
       "    }\n",
       "</style>\n",
       "<table border=\"1\" class=\"dataframe\">\n",
       "  <thead>\n",
       "    <tr style=\"text-align: right;\">\n",
       "      <th></th>\n",
       "      <th>State</th>\n",
       "      <th>Rank in Spending</th>\n",
       "      <th>Spending per pupil</th>\n",
       "      <th>Total Funding</th>\n",
       "      <th>Funding State Sources</th>\n",
       "      <th>Funding Local Sources</th>\n",
       "      <th>Total Expenditures</th>\n",
       "      <th>Current Spending</th>\n",
       "      <th>Rank</th>\n",
       "      <th>College Readiness</th>\n",
       "      <th>High School Graduation Rate</th>\n",
       "      <th>NAEP Math Scores</th>\n",
       "      <th>NAEP Reading Scores</th>\n",
       "      <th>Preschool Enrollment</th>\n",
       "    </tr>\n",
       "  </thead>\n",
       "  <tbody>\n",
       "    <tr>\n",
       "      <th>0</th>\n",
       "      <td>Alabama</td>\n",
       "      <td>45</td>\n",
       "      <td>9636</td>\n",
       "      <td>803907000</td>\n",
       "      <td>4148764000</td>\n",
       "      <td>2652925000</td>\n",
       "      <td>7854516000</td>\n",
       "      <td>7.000000e+09</td>\n",
       "      <td>45</td>\n",
       "      <td>44</td>\n",
       "      <td>5</td>\n",
       "      <td>49</td>\n",
       "      <td>48</td>\n",
       "      <td>38</td>\n",
       "    </tr>\n",
       "    <tr>\n",
       "      <th>1</th>\n",
       "      <td>Alaska</td>\n",
       "      <td>7</td>\n",
       "      <td>16576</td>\n",
       "      <td>307320000</td>\n",
       "      <td>1613675000</td>\n",
       "      <td>573685000</td>\n",
       "      <td>2623014000</td>\n",
       "      <td>2.327151e+09</td>\n",
       "      <td>49</td>\n",
       "      <td>37</td>\n",
       "      <td>49</td>\n",
       "      <td>43</td>\n",
       "      <td>49</td>\n",
       "      <td>33</td>\n",
       "    </tr>\n",
       "    <tr>\n",
       "      <th>2</th>\n",
       "      <td>Arizona</td>\n",
       "      <td>48</td>\n",
       "      <td>8882</td>\n",
       "      <td>1160908000</td>\n",
       "      <td>3440726000</td>\n",
       "      <td>3828455000</td>\n",
       "      <td>7984562000</td>\n",
       "      <td>7.276067e+09</td>\n",
       "      <td>47</td>\n",
       "      <td>47</td>\n",
       "      <td>47</td>\n",
       "      <td>27</td>\n",
       "      <td>37</td>\n",
       "      <td>42</td>\n",
       "    </tr>\n",
       "    <tr>\n",
       "      <th>3</th>\n",
       "      <td>Arkansas</td>\n",
       "      <td>43</td>\n",
       "      <td>9976</td>\n",
       "      <td>593656000</td>\n",
       "      <td>4122377000</td>\n",
       "      <td>668082000</td>\n",
       "      <td>5407470000</td>\n",
       "      <td>4.750938e+09</td>\n",
       "      <td>38</td>\n",
       "      <td>45</td>\n",
       "      <td>9</td>\n",
       "      <td>43</td>\n",
       "      <td>37</td>\n",
       "      <td>19</td>\n",
       "    </tr>\n",
       "    <tr>\n",
       "      <th>4</th>\n",
       "      <td>California</td>\n",
       "      <td>27</td>\n",
       "      <td>11588</td>\n",
       "      <td>7709079000</td>\n",
       "      <td>50904567000</td>\n",
       "      <td>27943521000</td>\n",
       "      <td>82146317000</td>\n",
       "      <td>7.264124e+10</td>\n",
       "      <td>40</td>\n",
       "      <td>33</td>\n",
       "      <td>36</td>\n",
       "      <td>38</td>\n",
       "      <td>37</td>\n",
       "      <td>16</td>\n",
       "    </tr>\n",
       "  </tbody>\n",
       "</table>\n",
       "</div>"
      ],
      "text/plain": [
       "        State  Rank in Spending  Spending per pupil  Total Funding  \\\n",
       "0     Alabama                45                9636      803907000   \n",
       "1      Alaska                 7               16576      307320000   \n",
       "2     Arizona                48                8882     1160908000   \n",
       "3    Arkansas                43                9976      593656000   \n",
       "4  California                27               11588     7709079000   \n",
       "\n",
       "   Funding State Sources  Funding Local Sources  Total Expenditures  \\\n",
       "0             4148764000             2652925000          7854516000   \n",
       "1             1613675000              573685000          2623014000   \n",
       "2             3440726000             3828455000          7984562000   \n",
       "3             4122377000              668082000          5407470000   \n",
       "4            50904567000            27943521000         82146317000   \n",
       "\n",
       "   Current Spending  Rank  College Readiness  High School Graduation Rate  \\\n",
       "0      7.000000e+09    45                 44                            5   \n",
       "1      2.327151e+09    49                 37                           49   \n",
       "2      7.276067e+09    47                 47                           47   \n",
       "3      4.750938e+09    38                 45                            9   \n",
       "4      7.264124e+10    40                 33                           36   \n",
       "\n",
       "   NAEP Math Scores  NAEP Reading Scores  Preschool Enrollment  \n",
       "0                49                   48                    38  \n",
       "1                43                   49                    33  \n",
       "2                27                   37                    42  \n",
       "3                43                   37                    19  \n",
       "4                38                   37                    16  "
      ]
     },
     "execution_count": 414,
     "metadata": {},
     "output_type": "execute_result"
    }
   ],
   "source": [
    "#imports csv file called \"revised_school_data\"\n",
    "#contains basic data for many of the comparisons in this jupyter notebook \n",
    "#including Rank, Rank in Spending, Spending per Student, and Total Funding\n",
    "school_df = pd.read_csv(\n",
    "    Path(\"../uncc_project1/revised_school_data.csv\"))\n",
    "\n",
    "#deletes a column of state names that was a duplicate caused by having merged 2 csv files\n",
    "#then displays first 5 rows to check that the drop worked\n",
    "school_df=school_df.drop(columns=['State.1'],axis=1)\n",
    "school_df.head()"
   ]
  },
  {
   "cell_type": "code",
   "execution_count": 315,
   "id": "026ef2b3-fac2-4fe2-861a-81357c2c11ea",
   "metadata": {},
   "outputs": [
    {
     "data": {
      "application/vnd.plotly.v1+json": {
       "config": {
        "plotlyServerURL": "https://plot.ly"
       },
       "data": [
        {
         "coloraxis": "coloraxis",
         "geo": "geo",
         "hovertemplate": "<b>%{hovertext}</b><br><br>Code=%{location}<br>color=%{z}<extra></extra>",
         "hovertext": [
          "Alabama",
          "Alaska",
          "Arizona",
          "Arkansas",
          "California",
          "Colorado",
          "Connecticut",
          "Delaware",
          "Florida",
          "Georgia",
          "Hawaii",
          "Idaho",
          "Illinois",
          "Indiana",
          "Iowa",
          "Kansas",
          "Kentucky",
          "Louisiana",
          "Maine",
          "Maryland",
          "Massachusetts",
          "Michigan",
          "Minnesota",
          "Mississippi",
          "Missouri",
          "Montana",
          "Nebraska",
          "Nevada",
          "New Hampshire",
          "New Jersey",
          "New Mexico",
          "New York",
          "North Carolina",
          "North Dakota",
          "Ohio",
          "Oklahoma",
          "Oregon",
          "Pennsylvania",
          "Rhode Island",
          "South Carolina",
          "South Dakota",
          "Tennessee",
          "Texas",
          "Utah",
          "Vermont",
          "Virginia",
          "Washington",
          "West Virginia",
          "Wisconsin",
          "Wyoming"
         ],
         "locationmode": "USA-states",
         "locations": [
          "AL",
          "AK",
          "AZ",
          "AR",
          "CA",
          "CO",
          "CT",
          "DE",
          "FL",
          "GA",
          "HI",
          "ID",
          "IL",
          "IN",
          "IA",
          "KS",
          "KY",
          "LA",
          "ME",
          "MD",
          "MA",
          "MI",
          "MN",
          "MS",
          "MO",
          "MT",
          "NE",
          "NV",
          "NH",
          "NJ",
          "NM",
          "NY",
          "NC",
          "ND",
          "OH",
          "OK",
          "OR",
          "PA",
          "RI",
          "SC",
          "SD",
          "TN",
          "TX",
          "UT",
          "VT",
          "VA",
          "WA",
          "WV",
          "WI",
          "WY"
         ],
         "name": "",
         "type": "choropleth",
         "z": [
          9636,
          16576,
          8882,
          9976,
          11588,
          10171,
          17373,
          14335,
          10098,
          10893,
          14987,
          8141,
          12457,
          12360,
          11337,
          11939,
          10010,
          11967,
          13666,
          15574,
          16270,
          11987,
          12664,
          8919,
          10457,
          11266,
          11796,
          10305,
          13725,
          18874,
          11266,
          20645,
          10613,
          11664,
          12811,
          9353,
          10862,
          15023,
          15312,
          10719,
          9913,
          8324,
          10314,
          7954,
          17108,
          12146,
          11510,
          10984,
          12435,
          19238
         ]
        }
       ],
       "layout": {
        "coloraxis": {
         "cmax": 21000,
         "cmin": 7500,
         "colorbar": {
          "title": {
           "text": "USD"
          }
         },
         "colorscale": [
          [
           0,
           "rgb(94,79,162)"
          ],
          [
           0.1,
           "rgb(50,136,189)"
          ],
          [
           0.2,
           "rgb(102,194,165)"
          ],
          [
           0.3,
           "rgb(171,221,164)"
          ],
          [
           0.4,
           "rgb(230,245,152)"
          ],
          [
           0.5,
           "rgb(255,255,191)"
          ],
          [
           0.6,
           "rgb(254,224,139)"
          ],
          [
           0.7,
           "rgb(253,174,97)"
          ],
          [
           0.8,
           "rgb(244,109,67)"
          ],
          [
           0.9,
           "rgb(213,62,79)"
          ],
          [
           1,
           "rgb(158,1,66)"
          ]
         ]
        },
        "geo": {
         "center": {
          "lat": 38.7,
          "lon": -96.6
         },
         "domain": {
          "x": [
           0,
           1
          ],
          "y": [
           0,
           1
          ]
         },
         "fitbounds": false,
         "projection": {
          "scale": 1
         },
         "scope": "usa"
        },
        "height": 500,
        "legend": {
         "tracegroupgap": 0
        },
        "margin": {
         "l": 5,
         "r": 10
        },
        "template": {
         "data": {
          "bar": [
           {
            "error_x": {
             "color": "#2a3f5f"
            },
            "error_y": {
             "color": "#2a3f5f"
            },
            "marker": {
             "line": {
              "color": "#E5ECF6",
              "width": 0.5
             },
             "pattern": {
              "fillmode": "overlay",
              "size": 10,
              "solidity": 0.2
             }
            },
            "type": "bar"
           }
          ],
          "barpolar": [
           {
            "marker": {
             "line": {
              "color": "#E5ECF6",
              "width": 0.5
             },
             "pattern": {
              "fillmode": "overlay",
              "size": 10,
              "solidity": 0.2
             }
            },
            "type": "barpolar"
           }
          ],
          "carpet": [
           {
            "aaxis": {
             "endlinecolor": "#2a3f5f",
             "gridcolor": "white",
             "linecolor": "white",
             "minorgridcolor": "white",
             "startlinecolor": "#2a3f5f"
            },
            "baxis": {
             "endlinecolor": "#2a3f5f",
             "gridcolor": "white",
             "linecolor": "white",
             "minorgridcolor": "white",
             "startlinecolor": "#2a3f5f"
            },
            "type": "carpet"
           }
          ],
          "choropleth": [
           {
            "colorbar": {
             "outlinewidth": 0,
             "ticks": ""
            },
            "type": "choropleth"
           }
          ],
          "contour": [
           {
            "colorbar": {
             "outlinewidth": 0,
             "ticks": ""
            },
            "colorscale": [
             [
              0,
              "#0d0887"
             ],
             [
              0.1111111111111111,
              "#46039f"
             ],
             [
              0.2222222222222222,
              "#7201a8"
             ],
             [
              0.3333333333333333,
              "#9c179e"
             ],
             [
              0.4444444444444444,
              "#bd3786"
             ],
             [
              0.5555555555555556,
              "#d8576b"
             ],
             [
              0.6666666666666666,
              "#ed7953"
             ],
             [
              0.7777777777777778,
              "#fb9f3a"
             ],
             [
              0.8888888888888888,
              "#fdca26"
             ],
             [
              1,
              "#f0f921"
             ]
            ],
            "type": "contour"
           }
          ],
          "contourcarpet": [
           {
            "colorbar": {
             "outlinewidth": 0,
             "ticks": ""
            },
            "type": "contourcarpet"
           }
          ],
          "heatmap": [
           {
            "colorbar": {
             "outlinewidth": 0,
             "ticks": ""
            },
            "colorscale": [
             [
              0,
              "#0d0887"
             ],
             [
              0.1111111111111111,
              "#46039f"
             ],
             [
              0.2222222222222222,
              "#7201a8"
             ],
             [
              0.3333333333333333,
              "#9c179e"
             ],
             [
              0.4444444444444444,
              "#bd3786"
             ],
             [
              0.5555555555555556,
              "#d8576b"
             ],
             [
              0.6666666666666666,
              "#ed7953"
             ],
             [
              0.7777777777777778,
              "#fb9f3a"
             ],
             [
              0.8888888888888888,
              "#fdca26"
             ],
             [
              1,
              "#f0f921"
             ]
            ],
            "type": "heatmap"
           }
          ],
          "heatmapgl": [
           {
            "colorbar": {
             "outlinewidth": 0,
             "ticks": ""
            },
            "colorscale": [
             [
              0,
              "#0d0887"
             ],
             [
              0.1111111111111111,
              "#46039f"
             ],
             [
              0.2222222222222222,
              "#7201a8"
             ],
             [
              0.3333333333333333,
              "#9c179e"
             ],
             [
              0.4444444444444444,
              "#bd3786"
             ],
             [
              0.5555555555555556,
              "#d8576b"
             ],
             [
              0.6666666666666666,
              "#ed7953"
             ],
             [
              0.7777777777777778,
              "#fb9f3a"
             ],
             [
              0.8888888888888888,
              "#fdca26"
             ],
             [
              1,
              "#f0f921"
             ]
            ],
            "type": "heatmapgl"
           }
          ],
          "histogram": [
           {
            "marker": {
             "pattern": {
              "fillmode": "overlay",
              "size": 10,
              "solidity": 0.2
             }
            },
            "type": "histogram"
           }
          ],
          "histogram2d": [
           {
            "colorbar": {
             "outlinewidth": 0,
             "ticks": ""
            },
            "colorscale": [
             [
              0,
              "#0d0887"
             ],
             [
              0.1111111111111111,
              "#46039f"
             ],
             [
              0.2222222222222222,
              "#7201a8"
             ],
             [
              0.3333333333333333,
              "#9c179e"
             ],
             [
              0.4444444444444444,
              "#bd3786"
             ],
             [
              0.5555555555555556,
              "#d8576b"
             ],
             [
              0.6666666666666666,
              "#ed7953"
             ],
             [
              0.7777777777777778,
              "#fb9f3a"
             ],
             [
              0.8888888888888888,
              "#fdca26"
             ],
             [
              1,
              "#f0f921"
             ]
            ],
            "type": "histogram2d"
           }
          ],
          "histogram2dcontour": [
           {
            "colorbar": {
             "outlinewidth": 0,
             "ticks": ""
            },
            "colorscale": [
             [
              0,
              "#0d0887"
             ],
             [
              0.1111111111111111,
              "#46039f"
             ],
             [
              0.2222222222222222,
              "#7201a8"
             ],
             [
              0.3333333333333333,
              "#9c179e"
             ],
             [
              0.4444444444444444,
              "#bd3786"
             ],
             [
              0.5555555555555556,
              "#d8576b"
             ],
             [
              0.6666666666666666,
              "#ed7953"
             ],
             [
              0.7777777777777778,
              "#fb9f3a"
             ],
             [
              0.8888888888888888,
              "#fdca26"
             ],
             [
              1,
              "#f0f921"
             ]
            ],
            "type": "histogram2dcontour"
           }
          ],
          "mesh3d": [
           {
            "colorbar": {
             "outlinewidth": 0,
             "ticks": ""
            },
            "type": "mesh3d"
           }
          ],
          "parcoords": [
           {
            "line": {
             "colorbar": {
              "outlinewidth": 0,
              "ticks": ""
             }
            },
            "type": "parcoords"
           }
          ],
          "pie": [
           {
            "automargin": true,
            "type": "pie"
           }
          ],
          "scatter": [
           {
            "marker": {
             "colorbar": {
              "outlinewidth": 0,
              "ticks": ""
             }
            },
            "type": "scatter"
           }
          ],
          "scatter3d": [
           {
            "line": {
             "colorbar": {
              "outlinewidth": 0,
              "ticks": ""
             }
            },
            "marker": {
             "colorbar": {
              "outlinewidth": 0,
              "ticks": ""
             }
            },
            "type": "scatter3d"
           }
          ],
          "scattercarpet": [
           {
            "marker": {
             "colorbar": {
              "outlinewidth": 0,
              "ticks": ""
             }
            },
            "type": "scattercarpet"
           }
          ],
          "scattergeo": [
           {
            "marker": {
             "colorbar": {
              "outlinewidth": 0,
              "ticks": ""
             }
            },
            "type": "scattergeo"
           }
          ],
          "scattergl": [
           {
            "marker": {
             "colorbar": {
              "outlinewidth": 0,
              "ticks": ""
             }
            },
            "type": "scattergl"
           }
          ],
          "scattermapbox": [
           {
            "marker": {
             "colorbar": {
              "outlinewidth": 0,
              "ticks": ""
             }
            },
            "type": "scattermapbox"
           }
          ],
          "scatterpolar": [
           {
            "marker": {
             "colorbar": {
              "outlinewidth": 0,
              "ticks": ""
             }
            },
            "type": "scatterpolar"
           }
          ],
          "scatterpolargl": [
           {
            "marker": {
             "colorbar": {
              "outlinewidth": 0,
              "ticks": ""
             }
            },
            "type": "scatterpolargl"
           }
          ],
          "scatterternary": [
           {
            "marker": {
             "colorbar": {
              "outlinewidth": 0,
              "ticks": ""
             }
            },
            "type": "scatterternary"
           }
          ],
          "surface": [
           {
            "colorbar": {
             "outlinewidth": 0,
             "ticks": ""
            },
            "colorscale": [
             [
              0,
              "#0d0887"
             ],
             [
              0.1111111111111111,
              "#46039f"
             ],
             [
              0.2222222222222222,
              "#7201a8"
             ],
             [
              0.3333333333333333,
              "#9c179e"
             ],
             [
              0.4444444444444444,
              "#bd3786"
             ],
             [
              0.5555555555555556,
              "#d8576b"
             ],
             [
              0.6666666666666666,
              "#ed7953"
             ],
             [
              0.7777777777777778,
              "#fb9f3a"
             ],
             [
              0.8888888888888888,
              "#fdca26"
             ],
             [
              1,
              "#f0f921"
             ]
            ],
            "type": "surface"
           }
          ],
          "table": [
           {
            "cells": {
             "fill": {
              "color": "#EBF0F8"
             },
             "line": {
              "color": "white"
             }
            },
            "header": {
             "fill": {
              "color": "#C8D4E3"
             },
             "line": {
              "color": "white"
             }
            },
            "type": "table"
           }
          ]
         },
         "layout": {
          "annotationdefaults": {
           "arrowcolor": "#2a3f5f",
           "arrowhead": 0,
           "arrowwidth": 1
          },
          "autotypenumbers": "strict",
          "coloraxis": {
           "colorbar": {
            "outlinewidth": 0,
            "ticks": ""
           }
          },
          "colorscale": {
           "diverging": [
            [
             0,
             "#8e0152"
            ],
            [
             0.1,
             "#c51b7d"
            ],
            [
             0.2,
             "#de77ae"
            ],
            [
             0.3,
             "#f1b6da"
            ],
            [
             0.4,
             "#fde0ef"
            ],
            [
             0.5,
             "#f7f7f7"
            ],
            [
             0.6,
             "#e6f5d0"
            ],
            [
             0.7,
             "#b8e186"
            ],
            [
             0.8,
             "#7fbc41"
            ],
            [
             0.9,
             "#4d9221"
            ],
            [
             1,
             "#276419"
            ]
           ],
           "sequential": [
            [
             0,
             "#0d0887"
            ],
            [
             0.1111111111111111,
             "#46039f"
            ],
            [
             0.2222222222222222,
             "#7201a8"
            ],
            [
             0.3333333333333333,
             "#9c179e"
            ],
            [
             0.4444444444444444,
             "#bd3786"
            ],
            [
             0.5555555555555556,
             "#d8576b"
            ],
            [
             0.6666666666666666,
             "#ed7953"
            ],
            [
             0.7777777777777778,
             "#fb9f3a"
            ],
            [
             0.8888888888888888,
             "#fdca26"
            ],
            [
             1,
             "#f0f921"
            ]
           ],
           "sequentialminus": [
            [
             0,
             "#0d0887"
            ],
            [
             0.1111111111111111,
             "#46039f"
            ],
            [
             0.2222222222222222,
             "#7201a8"
            ],
            [
             0.3333333333333333,
             "#9c179e"
            ],
            [
             0.4444444444444444,
             "#bd3786"
            ],
            [
             0.5555555555555556,
             "#d8576b"
            ],
            [
             0.6666666666666666,
             "#ed7953"
            ],
            [
             0.7777777777777778,
             "#fb9f3a"
            ],
            [
             0.8888888888888888,
             "#fdca26"
            ],
            [
             1,
             "#f0f921"
            ]
           ]
          },
          "colorway": [
           "#636efa",
           "#EF553B",
           "#00cc96",
           "#ab63fa",
           "#FFA15A",
           "#19d3f3",
           "#FF6692",
           "#B6E880",
           "#FF97FF",
           "#FECB52"
          ],
          "font": {
           "color": "#2a3f5f"
          },
          "geo": {
           "bgcolor": "white",
           "lakecolor": "white",
           "landcolor": "#E5ECF6",
           "showlakes": true,
           "showland": true,
           "subunitcolor": "white"
          },
          "hoverlabel": {
           "align": "left"
          },
          "hovermode": "closest",
          "mapbox": {
           "style": "light"
          },
          "paper_bgcolor": "white",
          "plot_bgcolor": "#E5ECF6",
          "polar": {
           "angularaxis": {
            "gridcolor": "white",
            "linecolor": "white",
            "ticks": ""
           },
           "bgcolor": "#E5ECF6",
           "radialaxis": {
            "gridcolor": "white",
            "linecolor": "white",
            "ticks": ""
           }
          },
          "scene": {
           "xaxis": {
            "backgroundcolor": "#E5ECF6",
            "gridcolor": "white",
            "gridwidth": 2,
            "linecolor": "white",
            "showbackground": true,
            "ticks": "",
            "zerolinecolor": "white"
           },
           "yaxis": {
            "backgroundcolor": "#E5ECF6",
            "gridcolor": "white",
            "gridwidth": 2,
            "linecolor": "white",
            "showbackground": true,
            "ticks": "",
            "zerolinecolor": "white"
           },
           "zaxis": {
            "backgroundcolor": "#E5ECF6",
            "gridcolor": "white",
            "gridwidth": 2,
            "linecolor": "white",
            "showbackground": true,
            "ticks": "",
            "zerolinecolor": "white"
           }
          },
          "shapedefaults": {
           "line": {
            "color": "#2a3f5f"
           }
          },
          "ternary": {
           "aaxis": {
            "gridcolor": "white",
            "linecolor": "white",
            "ticks": ""
           },
           "baxis": {
            "gridcolor": "white",
            "linecolor": "white",
            "ticks": ""
           },
           "bgcolor": "#E5ECF6",
           "caxis": {
            "gridcolor": "white",
            "linecolor": "white",
            "ticks": ""
           }
          },
          "title": {
           "x": 0.05
          },
          "xaxis": {
           "automargin": true,
           "gridcolor": "white",
           "linecolor": "white",
           "ticks": "",
           "title": {
            "standoff": 15
           },
           "zerolinecolor": "white",
           "zerolinewidth": 2
          },
          "yaxis": {
           "automargin": true,
           "gridcolor": "white",
           "linecolor": "white",
           "ticks": "",
           "title": {
            "standoff": 15
           },
           "zerolinecolor": "white",
           "zerolinewidth": 2
          }
         }
        },
        "title": {
         "text": "Spending per Student by State"
        },
        "width": 700
       }
      },
      "text/html": [
       "<div>                            <div id=\"c2be0097-c1ff-4940-8b68-af8ede8e8568\" class=\"plotly-graph-div\" style=\"height:500px; width:700px;\"></div>            <script type=\"text/javascript\">                require([\"plotly\"], function(Plotly) {                    window.PLOTLYENV=window.PLOTLYENV || {};                                    if (document.getElementById(\"c2be0097-c1ff-4940-8b68-af8ede8e8568\")) {                    Plotly.newPlot(                        \"c2be0097-c1ff-4940-8b68-af8ede8e8568\",                        [{\"coloraxis\":\"coloraxis\",\"geo\":\"geo\",\"hovertemplate\":\"<b>%{hovertext}</b><br><br>Code=%{location}<br>color=%{z}<extra></extra>\",\"hovertext\":[\"Alabama\",\"Alaska\",\"Arizona\",\"Arkansas\",\"California\",\"Colorado\",\"Connecticut\",\"Delaware\",\"Florida\",\"Georgia\",\"Hawaii\",\"Idaho\",\"Illinois\",\"Indiana\",\"Iowa\",\"Kansas\",\"Kentucky\",\"Louisiana\",\"Maine\",\"Maryland\",\"Massachusetts\",\"Michigan\",\"Minnesota\",\"Mississippi\",\"Missouri\",\"Montana\",\"Nebraska\",\"Nevada\",\"New Hampshire\",\"New Jersey\",\"New Mexico\",\"New York\",\"North Carolina\",\"North Dakota\",\"Ohio\",\"Oklahoma\",\"Oregon\",\"Pennsylvania\",\"Rhode Island\",\"South Carolina\",\"South Dakota\",\"Tennessee\",\"Texas\",\"Utah\",\"Vermont\",\"Virginia\",\"Washington\",\"West Virginia\",\"Wisconsin\",\"Wyoming\"],\"locationmode\":\"USA-states\",\"locations\":[\"AL\",\"AK\",\"AZ\",\"AR\",\"CA\",\"CO\",\"CT\",\"DE\",\"FL\",\"GA\",\"HI\",\"ID\",\"IL\",\"IN\",\"IA\",\"KS\",\"KY\",\"LA\",\"ME\",\"MD\",\"MA\",\"MI\",\"MN\",\"MS\",\"MO\",\"MT\",\"NE\",\"NV\",\"NH\",\"NJ\",\"NM\",\"NY\",\"NC\",\"ND\",\"OH\",\"OK\",\"OR\",\"PA\",\"RI\",\"SC\",\"SD\",\"TN\",\"TX\",\"UT\",\"VT\",\"VA\",\"WA\",\"WV\",\"WI\",\"WY\"],\"name\":\"\",\"type\":\"choropleth\",\"z\":[9636.0,16576.0,8882.0,9976.0,11588.0,10171.0,17373.0,14335.0,10098.0,10893.0,14987.0,8141.0,12457.0,12360.0,11337.0,11939.0,10010.0,11967.0,13666.0,15574.0,16270.0,11987.0,12664.0,8919.0,10457.0,11266.0,11796.0,10305.0,13725.0,18874.0,11266.0,20645.0,10613.0,11664.0,12811.0,9353.0,10862.0,15023.0,15312.0,10719.0,9913.0,8324.0,10314.0,7954.0,17108.0,12146.0,11510.0,10984.0,12435.0,19238.0]}],                        {\"coloraxis\":{\"cmax\":21000,\"cmin\":7500,\"colorbar\":{\"title\":{\"text\":\"USD\"}},\"colorscale\":[[0.0,\"rgb(94,79,162)\"],[0.1,\"rgb(50,136,189)\"],[0.2,\"rgb(102,194,165)\"],[0.3,\"rgb(171,221,164)\"],[0.4,\"rgb(230,245,152)\"],[0.5,\"rgb(255,255,191)\"],[0.6,\"rgb(254,224,139)\"],[0.7,\"rgb(253,174,97)\"],[0.8,\"rgb(244,109,67)\"],[0.9,\"rgb(213,62,79)\"],[1.0,\"rgb(158,1,66)\"]]},\"geo\":{\"center\":{},\"domain\":{\"x\":[0.0,1.0],\"y\":[0.0,1.0]},\"scope\":\"usa\"},\"height\":500,\"legend\":{\"tracegroupgap\":0},\"margin\":{\"l\":5,\"r\":10},\"template\":{\"data\":{\"bar\":[{\"error_x\":{\"color\":\"#2a3f5f\"},\"error_y\":{\"color\":\"#2a3f5f\"},\"marker\":{\"line\":{\"color\":\"#E5ECF6\",\"width\":0.5},\"pattern\":{\"fillmode\":\"overlay\",\"size\":10,\"solidity\":0.2}},\"type\":\"bar\"}],\"barpolar\":[{\"marker\":{\"line\":{\"color\":\"#E5ECF6\",\"width\":0.5},\"pattern\":{\"fillmode\":\"overlay\",\"size\":10,\"solidity\":0.2}},\"type\":\"barpolar\"}],\"carpet\":[{\"aaxis\":{\"endlinecolor\":\"#2a3f5f\",\"gridcolor\":\"white\",\"linecolor\":\"white\",\"minorgridcolor\":\"white\",\"startlinecolor\":\"#2a3f5f\"},\"baxis\":{\"endlinecolor\":\"#2a3f5f\",\"gridcolor\":\"white\",\"linecolor\":\"white\",\"minorgridcolor\":\"white\",\"startlinecolor\":\"#2a3f5f\"},\"type\":\"carpet\"}],\"choropleth\":[{\"colorbar\":{\"outlinewidth\":0,\"ticks\":\"\"},\"type\":\"choropleth\"}],\"contour\":[{\"colorbar\":{\"outlinewidth\":0,\"ticks\":\"\"},\"colorscale\":[[0.0,\"#0d0887\"],[0.1111111111111111,\"#46039f\"],[0.2222222222222222,\"#7201a8\"],[0.3333333333333333,\"#9c179e\"],[0.4444444444444444,\"#bd3786\"],[0.5555555555555556,\"#d8576b\"],[0.6666666666666666,\"#ed7953\"],[0.7777777777777778,\"#fb9f3a\"],[0.8888888888888888,\"#fdca26\"],[1.0,\"#f0f921\"]],\"type\":\"contour\"}],\"contourcarpet\":[{\"colorbar\":{\"outlinewidth\":0,\"ticks\":\"\"},\"type\":\"contourcarpet\"}],\"heatmap\":[{\"colorbar\":{\"outlinewidth\":0,\"ticks\":\"\"},\"colorscale\":[[0.0,\"#0d0887\"],[0.1111111111111111,\"#46039f\"],[0.2222222222222222,\"#7201a8\"],[0.3333333333333333,\"#9c179e\"],[0.4444444444444444,\"#bd3786\"],[0.5555555555555556,\"#d8576b\"],[0.6666666666666666,\"#ed7953\"],[0.7777777777777778,\"#fb9f3a\"],[0.8888888888888888,\"#fdca26\"],[1.0,\"#f0f921\"]],\"type\":\"heatmap\"}],\"heatmapgl\":[{\"colorbar\":{\"outlinewidth\":0,\"ticks\":\"\"},\"colorscale\":[[0.0,\"#0d0887\"],[0.1111111111111111,\"#46039f\"],[0.2222222222222222,\"#7201a8\"],[0.3333333333333333,\"#9c179e\"],[0.4444444444444444,\"#bd3786\"],[0.5555555555555556,\"#d8576b\"],[0.6666666666666666,\"#ed7953\"],[0.7777777777777778,\"#fb9f3a\"],[0.8888888888888888,\"#fdca26\"],[1.0,\"#f0f921\"]],\"type\":\"heatmapgl\"}],\"histogram\":[{\"marker\":{\"pattern\":{\"fillmode\":\"overlay\",\"size\":10,\"solidity\":0.2}},\"type\":\"histogram\"}],\"histogram2d\":[{\"colorbar\":{\"outlinewidth\":0,\"ticks\":\"\"},\"colorscale\":[[0.0,\"#0d0887\"],[0.1111111111111111,\"#46039f\"],[0.2222222222222222,\"#7201a8\"],[0.3333333333333333,\"#9c179e\"],[0.4444444444444444,\"#bd3786\"],[0.5555555555555556,\"#d8576b\"],[0.6666666666666666,\"#ed7953\"],[0.7777777777777778,\"#fb9f3a\"],[0.8888888888888888,\"#fdca26\"],[1.0,\"#f0f921\"]],\"type\":\"histogram2d\"}],\"histogram2dcontour\":[{\"colorbar\":{\"outlinewidth\":0,\"ticks\":\"\"},\"colorscale\":[[0.0,\"#0d0887\"],[0.1111111111111111,\"#46039f\"],[0.2222222222222222,\"#7201a8\"],[0.3333333333333333,\"#9c179e\"],[0.4444444444444444,\"#bd3786\"],[0.5555555555555556,\"#d8576b\"],[0.6666666666666666,\"#ed7953\"],[0.7777777777777778,\"#fb9f3a\"],[0.8888888888888888,\"#fdca26\"],[1.0,\"#f0f921\"]],\"type\":\"histogram2dcontour\"}],\"mesh3d\":[{\"colorbar\":{\"outlinewidth\":0,\"ticks\":\"\"},\"type\":\"mesh3d\"}],\"parcoords\":[{\"line\":{\"colorbar\":{\"outlinewidth\":0,\"ticks\":\"\"}},\"type\":\"parcoords\"}],\"pie\":[{\"automargin\":true,\"type\":\"pie\"}],\"scatter\":[{\"marker\":{\"colorbar\":{\"outlinewidth\":0,\"ticks\":\"\"}},\"type\":\"scatter\"}],\"scatter3d\":[{\"line\":{\"colorbar\":{\"outlinewidth\":0,\"ticks\":\"\"}},\"marker\":{\"colorbar\":{\"outlinewidth\":0,\"ticks\":\"\"}},\"type\":\"scatter3d\"}],\"scattercarpet\":[{\"marker\":{\"colorbar\":{\"outlinewidth\":0,\"ticks\":\"\"}},\"type\":\"scattercarpet\"}],\"scattergeo\":[{\"marker\":{\"colorbar\":{\"outlinewidth\":0,\"ticks\":\"\"}},\"type\":\"scattergeo\"}],\"scattergl\":[{\"marker\":{\"colorbar\":{\"outlinewidth\":0,\"ticks\":\"\"}},\"type\":\"scattergl\"}],\"scattermapbox\":[{\"marker\":{\"colorbar\":{\"outlinewidth\":0,\"ticks\":\"\"}},\"type\":\"scattermapbox\"}],\"scatterpolar\":[{\"marker\":{\"colorbar\":{\"outlinewidth\":0,\"ticks\":\"\"}},\"type\":\"scatterpolar\"}],\"scatterpolargl\":[{\"marker\":{\"colorbar\":{\"outlinewidth\":0,\"ticks\":\"\"}},\"type\":\"scatterpolargl\"}],\"scatterternary\":[{\"marker\":{\"colorbar\":{\"outlinewidth\":0,\"ticks\":\"\"}},\"type\":\"scatterternary\"}],\"surface\":[{\"colorbar\":{\"outlinewidth\":0,\"ticks\":\"\"},\"colorscale\":[[0.0,\"#0d0887\"],[0.1111111111111111,\"#46039f\"],[0.2222222222222222,\"#7201a8\"],[0.3333333333333333,\"#9c179e\"],[0.4444444444444444,\"#bd3786\"],[0.5555555555555556,\"#d8576b\"],[0.6666666666666666,\"#ed7953\"],[0.7777777777777778,\"#fb9f3a\"],[0.8888888888888888,\"#fdca26\"],[1.0,\"#f0f921\"]],\"type\":\"surface\"}],\"table\":[{\"cells\":{\"fill\":{\"color\":\"#EBF0F8\"},\"line\":{\"color\":\"white\"}},\"header\":{\"fill\":{\"color\":\"#C8D4E3\"},\"line\":{\"color\":\"white\"}},\"type\":\"table\"}]},\"layout\":{\"annotationdefaults\":{\"arrowcolor\":\"#2a3f5f\",\"arrowhead\":0,\"arrowwidth\":1},\"autotypenumbers\":\"strict\",\"coloraxis\":{\"colorbar\":{\"outlinewidth\":0,\"ticks\":\"\"}},\"colorscale\":{\"diverging\":[[0,\"#8e0152\"],[0.1,\"#c51b7d\"],[0.2,\"#de77ae\"],[0.3,\"#f1b6da\"],[0.4,\"#fde0ef\"],[0.5,\"#f7f7f7\"],[0.6,\"#e6f5d0\"],[0.7,\"#b8e186\"],[0.8,\"#7fbc41\"],[0.9,\"#4d9221\"],[1,\"#276419\"]],\"sequential\":[[0.0,\"#0d0887\"],[0.1111111111111111,\"#46039f\"],[0.2222222222222222,\"#7201a8\"],[0.3333333333333333,\"#9c179e\"],[0.4444444444444444,\"#bd3786\"],[0.5555555555555556,\"#d8576b\"],[0.6666666666666666,\"#ed7953\"],[0.7777777777777778,\"#fb9f3a\"],[0.8888888888888888,\"#fdca26\"],[1.0,\"#f0f921\"]],\"sequentialminus\":[[0.0,\"#0d0887\"],[0.1111111111111111,\"#46039f\"],[0.2222222222222222,\"#7201a8\"],[0.3333333333333333,\"#9c179e\"],[0.4444444444444444,\"#bd3786\"],[0.5555555555555556,\"#d8576b\"],[0.6666666666666666,\"#ed7953\"],[0.7777777777777778,\"#fb9f3a\"],[0.8888888888888888,\"#fdca26\"],[1.0,\"#f0f921\"]]},\"colorway\":[\"#636efa\",\"#EF553B\",\"#00cc96\",\"#ab63fa\",\"#FFA15A\",\"#19d3f3\",\"#FF6692\",\"#B6E880\",\"#FF97FF\",\"#FECB52\"],\"font\":{\"color\":\"#2a3f5f\"},\"geo\":{\"bgcolor\":\"white\",\"lakecolor\":\"white\",\"landcolor\":\"#E5ECF6\",\"showlakes\":true,\"showland\":true,\"subunitcolor\":\"white\"},\"hoverlabel\":{\"align\":\"left\"},\"hovermode\":\"closest\",\"mapbox\":{\"style\":\"light\"},\"paper_bgcolor\":\"white\",\"plot_bgcolor\":\"#E5ECF6\",\"polar\":{\"angularaxis\":{\"gridcolor\":\"white\",\"linecolor\":\"white\",\"ticks\":\"\"},\"bgcolor\":\"#E5ECF6\",\"radialaxis\":{\"gridcolor\":\"white\",\"linecolor\":\"white\",\"ticks\":\"\"}},\"scene\":{\"xaxis\":{\"backgroundcolor\":\"#E5ECF6\",\"gridcolor\":\"white\",\"gridwidth\":2,\"linecolor\":\"white\",\"showbackground\":true,\"ticks\":\"\",\"zerolinecolor\":\"white\"},\"yaxis\":{\"backgroundcolor\":\"#E5ECF6\",\"gridcolor\":\"white\",\"gridwidth\":2,\"linecolor\":\"white\",\"showbackground\":true,\"ticks\":\"\",\"zerolinecolor\":\"white\"},\"zaxis\":{\"backgroundcolor\":\"#E5ECF6\",\"gridcolor\":\"white\",\"gridwidth\":2,\"linecolor\":\"white\",\"showbackground\":true,\"ticks\":\"\",\"zerolinecolor\":\"white\"}},\"shapedefaults\":{\"line\":{\"color\":\"#2a3f5f\"}},\"ternary\":{\"aaxis\":{\"gridcolor\":\"white\",\"linecolor\":\"white\",\"ticks\":\"\"},\"baxis\":{\"gridcolor\":\"white\",\"linecolor\":\"white\",\"ticks\":\"\"},\"bgcolor\":\"#E5ECF6\",\"caxis\":{\"gridcolor\":\"white\",\"linecolor\":\"white\",\"ticks\":\"\"}},\"title\":{\"x\":0.05},\"xaxis\":{\"automargin\":true,\"gridcolor\":\"white\",\"linecolor\":\"white\",\"ticks\":\"\",\"title\":{\"standoff\":15},\"zerolinecolor\":\"white\",\"zerolinewidth\":2},\"yaxis\":{\"automargin\":true,\"gridcolor\":\"white\",\"linecolor\":\"white\",\"ticks\":\"\",\"title\":{\"standoff\":15},\"zerolinecolor\":\"white\",\"zerolinewidth\":2}}},\"title\":{\"text\":\"Spending per Student by State\"},\"width\":700},                        {\"responsive\": true}                    ).then(function(){\n",
       "                            \n",
       "var gd = document.getElementById('c2be0097-c1ff-4940-8b68-af8ede8e8568');\n",
       "var x = new MutationObserver(function (mutations, observer) {{\n",
       "        var display = window.getComputedStyle(gd).display;\n",
       "        if (!display || display === 'none') {{\n",
       "            console.log([gd, 'removed!']);\n",
       "            Plotly.purge(gd);\n",
       "            observer.disconnect();\n",
       "        }}\n",
       "}});\n",
       "\n",
       "// Listen for the removal of the full notebook cells\n",
       "var notebookContainer = gd.closest('#notebook-container');\n",
       "if (notebookContainer) {{\n",
       "    x.observe(notebookContainer, {childList: true});\n",
       "}}\n",
       "\n",
       "// Listen for the clearing of the current output cell\n",
       "var outputEl = gd.closest('.output');\n",
       "if (outputEl) {{\n",
       "    x.observe(outputEl, {childList: true});\n",
       "}}\n",
       "\n",
       "                        })                };                });            </script>        </div>"
      ]
     },
     "metadata": {},
     "output_type": "display_data"
    }
   ],
   "source": [
    "#creates a heat map of \"Spending per Pupil\" in each state\n",
    "#used in powerpoint & it helps to get a base understanding of the data\n",
    "\n",
    "school_df['Code'] = school_df['State'].map(code)\n",
    "fig = px.choropleth(school_df,\n",
    "                    locations='Code',\n",
    "                    color= school_df['Spending per pupil'].astype(float),\n",
    "                    color_continuous_scale='spectral_r',\n",
    "                    range_color=[7500,21000],\n",
    "                    hover_name='State',\n",
    "                    locationmode='USA-states',\n",
    "                    title=\"Spending per Student by State\",\n",
    "                    scope='usa',\n",
    "                    width=700,\n",
    "                    height=500,\n",
    "                   )\n",
    "fig.update_layout(coloraxis_colorbar=dict(\n",
    "    title=\"USD\"))\n",
    "fig= fig.update_layout(margin_l=5)\n",
    "fig=fig.update_layout(margin_r=10)\n",
    "fig"
   ]
  },
  {
   "cell_type": "code",
   "execution_count": 417,
   "id": "6243e6cb-2df7-4b87-8560-4b7bd55ea0a6",
   "metadata": {},
   "outputs": [],
   "source": [
    "#sorts the values by Spending per Pupil from greatest to least\n",
    "top_10_spending = school_df.sort_values('Spending per pupil', ascending=False)\n",
    "top_10_spending.head(10)"
   ]
  },
  {
   "cell_type": "code",
   "execution_count": 418,
   "id": "4db5c719-878f-41ce-aa61-8f81ae684f52",
   "metadata": {},
   "outputs": [
    {
     "data": {
      "text/html": [
       "<div>\n",
       "<style scoped>\n",
       "    .dataframe tbody tr th:only-of-type {\n",
       "        vertical-align: middle;\n",
       "    }\n",
       "\n",
       "    .dataframe tbody tr th {\n",
       "        vertical-align: top;\n",
       "    }\n",
       "\n",
       "    .dataframe thead th {\n",
       "        text-align: right;\n",
       "    }\n",
       "</style>\n",
       "<table border=\"1\" class=\"dataframe\">\n",
       "  <thead>\n",
       "    <tr style=\"text-align: right;\">\n",
       "      <th></th>\n",
       "      <th>State</th>\n",
       "      <th>Rank in Spending</th>\n",
       "      <th>Spending per pupil</th>\n",
       "      <th>Total Funding</th>\n",
       "      <th>Funding State Sources</th>\n",
       "      <th>Funding Local Sources</th>\n",
       "      <th>Total Expenditures</th>\n",
       "      <th>Current Spending</th>\n",
       "      <th>Rank</th>\n",
       "      <th>College Readiness</th>\n",
       "      <th>High School Graduation Rate</th>\n",
       "      <th>NAEP Math Scores</th>\n",
       "      <th>NAEP Reading Scores</th>\n",
       "      <th>Preschool Enrollment</th>\n",
       "    </tr>\n",
       "  </thead>\n",
       "  <tbody>\n",
       "    <tr>\n",
       "      <th>43</th>\n",
       "      <td>Utah</td>\n",
       "      <td>51</td>\n",
       "      <td>7954</td>\n",
       "      <td>394060000</td>\n",
       "      <td>2533573000</td>\n",
       "      <td>2018775000</td>\n",
       "      <td>4919361000</td>\n",
       "      <td>4.095444e+09</td>\n",
       "      <td>21</td>\n",
       "      <td>36</td>\n",
       "      <td>20</td>\n",
       "      <td>16</td>\n",
       "      <td>6</td>\n",
       "      <td>31</td>\n",
       "    </tr>\n",
       "    <tr>\n",
       "      <th>11</th>\n",
       "      <td>Idaho</td>\n",
       "      <td>50</td>\n",
       "      <td>8141</td>\n",
       "      <td>240322000</td>\n",
       "      <td>1454830000</td>\n",
       "      <td>570661000</td>\n",
       "      <td>2100980000</td>\n",
       "      <td>1.971800e+09</td>\n",
       "      <td>23</td>\n",
       "      <td>5</td>\n",
       "      <td>45</td>\n",
       "      <td>9</td>\n",
       "      <td>10</td>\n",
       "      <td>48</td>\n",
       "    </tr>\n",
       "    <tr>\n",
       "      <th>41</th>\n",
       "      <td>Tennessee</td>\n",
       "      <td>49</td>\n",
       "      <td>8324</td>\n",
       "      <td>1096182000</td>\n",
       "      <td>4395757000</td>\n",
       "      <td>4067783000</td>\n",
       "      <td>9665661000</td>\n",
       "      <td>8.886616e+09</td>\n",
       "      <td>31</td>\n",
       "      <td>34</td>\n",
       "      <td>5</td>\n",
       "      <td>27</td>\n",
       "      <td>30</td>\n",
       "      <td>41</td>\n",
       "    </tr>\n",
       "    <tr>\n",
       "      <th>2</th>\n",
       "      <td>Arizona</td>\n",
       "      <td>48</td>\n",
       "      <td>8882</td>\n",
       "      <td>1160908000</td>\n",
       "      <td>3440726000</td>\n",
       "      <td>3828455000</td>\n",
       "      <td>7984562000</td>\n",
       "      <td>7.276067e+09</td>\n",
       "      <td>47</td>\n",
       "      <td>47</td>\n",
       "      <td>47</td>\n",
       "      <td>27</td>\n",
       "      <td>37</td>\n",
       "      <td>42</td>\n",
       "    </tr>\n",
       "    <tr>\n",
       "      <th>23</th>\n",
       "      <td>Mississippi</td>\n",
       "      <td>47</td>\n",
       "      <td>8919</td>\n",
       "      <td>690724000</td>\n",
       "      <td>2411621000</td>\n",
       "      <td>1641653000</td>\n",
       "      <td>4631356000</td>\n",
       "      <td>4.246156e+09</td>\n",
       "      <td>43</td>\n",
       "      <td>49</td>\n",
       "      <td>32</td>\n",
       "      <td>43</td>\n",
       "      <td>45</td>\n",
       "      <td>4</td>\n",
       "    </tr>\n",
       "    <tr>\n",
       "      <th>35</th>\n",
       "      <td>Oklahoma</td>\n",
       "      <td>46</td>\n",
       "      <td>9353</td>\n",
       "      <td>689756000</td>\n",
       "      <td>2909651000</td>\n",
       "      <td>2502643000</td>\n",
       "      <td>6169069000</td>\n",
       "      <td>5.474468e+09</td>\n",
       "      <td>44</td>\n",
       "      <td>41</td>\n",
       "      <td>39</td>\n",
       "      <td>38</td>\n",
       "      <td>41</td>\n",
       "      <td>37</td>\n",
       "    </tr>\n",
       "    <tr>\n",
       "      <th>0</th>\n",
       "      <td>Alabama</td>\n",
       "      <td>45</td>\n",
       "      <td>9636</td>\n",
       "      <td>803907000</td>\n",
       "      <td>4148764000</td>\n",
       "      <td>2652925000</td>\n",
       "      <td>7854516000</td>\n",
       "      <td>7.000000e+09</td>\n",
       "      <td>45</td>\n",
       "      <td>44</td>\n",
       "      <td>5</td>\n",
       "      <td>49</td>\n",
       "      <td>48</td>\n",
       "      <td>38</td>\n",
       "    </tr>\n",
       "    <tr>\n",
       "      <th>40</th>\n",
       "      <td>South Dakota</td>\n",
       "      <td>44</td>\n",
       "      <td>9913</td>\n",
       "      <td>196644000</td>\n",
       "      <td>438629000</td>\n",
       "      <td>817151000</td>\n",
       "      <td>1473360000</td>\n",
       "      <td>1.248905e+09</td>\n",
       "      <td>29</td>\n",
       "      <td>35</td>\n",
       "      <td>31</td>\n",
       "      <td>5</td>\n",
       "      <td>22</td>\n",
       "      <td>40</td>\n",
       "    </tr>\n",
       "    <tr>\n",
       "      <th>3</th>\n",
       "      <td>Arkansas</td>\n",
       "      <td>43</td>\n",
       "      <td>9976</td>\n",
       "      <td>593656000</td>\n",
       "      <td>4122377000</td>\n",
       "      <td>668082000</td>\n",
       "      <td>5407470000</td>\n",
       "      <td>4.750938e+09</td>\n",
       "      <td>38</td>\n",
       "      <td>45</td>\n",
       "      <td>9</td>\n",
       "      <td>43</td>\n",
       "      <td>37</td>\n",
       "      <td>19</td>\n",
       "    </tr>\n",
       "    <tr>\n",
       "      <th>16</th>\n",
       "      <td>Kentucky</td>\n",
       "      <td>42</td>\n",
       "      <td>10010</td>\n",
       "      <td>880296000</td>\n",
       "      <td>4269100000</td>\n",
       "      <td>2595416000</td>\n",
       "      <td>7784548000</td>\n",
       "      <td>6.834081e+09</td>\n",
       "      <td>33</td>\n",
       "      <td>31</td>\n",
       "      <td>3</td>\n",
       "      <td>36</td>\n",
       "      <td>22</td>\n",
       "      <td>45</td>\n",
       "    </tr>\n",
       "  </tbody>\n",
       "</table>\n",
       "</div>"
      ],
      "text/plain": [
       "           State  Rank in Spending  Spending per pupil  Total Funding  \\\n",
       "43          Utah                51                7954      394060000   \n",
       "11         Idaho                50                8141      240322000   \n",
       "41     Tennessee                49                8324     1096182000   \n",
       "2        Arizona                48                8882     1160908000   \n",
       "23   Mississippi                47                8919      690724000   \n",
       "35      Oklahoma                46                9353      689756000   \n",
       "0        Alabama                45                9636      803907000   \n",
       "40  South Dakota                44                9913      196644000   \n",
       "3       Arkansas                43                9976      593656000   \n",
       "16      Kentucky                42               10010      880296000   \n",
       "\n",
       "    Funding State Sources  Funding Local Sources  Total Expenditures  \\\n",
       "43             2533573000             2018775000          4919361000   \n",
       "11             1454830000              570661000          2100980000   \n",
       "41             4395757000             4067783000          9665661000   \n",
       "2              3440726000             3828455000          7984562000   \n",
       "23             2411621000             1641653000          4631356000   \n",
       "35             2909651000             2502643000          6169069000   \n",
       "0              4148764000             2652925000          7854516000   \n",
       "40              438629000              817151000          1473360000   \n",
       "3              4122377000              668082000          5407470000   \n",
       "16             4269100000             2595416000          7784548000   \n",
       "\n",
       "    Current Spending  Rank  College Readiness  High School Graduation Rate  \\\n",
       "43      4.095444e+09    21                 36                           20   \n",
       "11      1.971800e+09    23                  5                           45   \n",
       "41      8.886616e+09    31                 34                            5   \n",
       "2       7.276067e+09    47                 47                           47   \n",
       "23      4.246156e+09    43                 49                           32   \n",
       "35      5.474468e+09    44                 41                           39   \n",
       "0       7.000000e+09    45                 44                            5   \n",
       "40      1.248905e+09    29                 35                           31   \n",
       "3       4.750938e+09    38                 45                            9   \n",
       "16      6.834081e+09    33                 31                            3   \n",
       "\n",
       "    NAEP Math Scores  NAEP Reading Scores  Preschool Enrollment  \n",
       "43                16                    6                    31  \n",
       "11                 9                   10                    48  \n",
       "41                27                   30                    41  \n",
       "2                 27                   37                    42  \n",
       "23                43                   45                     4  \n",
       "35                38                   41                    37  \n",
       "0                 49                   48                    38  \n",
       "40                 5                   22                    40  \n",
       "3                 43                   37                    19  \n",
       "16                36                   22                    45  "
      ]
     },
     "execution_count": 418,
     "metadata": {},
     "output_type": "execute_result"
    }
   ],
   "source": [
    "#sorts the values by Spending per Pupil from least to greatest\n",
    "top_10_spending = school_df.sort_values('Spending per pupil', ascending=True)\n",
    "top_10_spending.head(10)"
   ]
  },
  {
   "cell_type": "code",
   "execution_count": 420,
   "id": "e9a4d822-8c1b-406b-b6e9-5ded472753f4",
   "metadata": {},
   "outputs": [
    {
     "data": {
      "text/html": [
       "<div>\n",
       "<style scoped>\n",
       "    .dataframe tbody tr th:only-of-type {\n",
       "        vertical-align: middle;\n",
       "    }\n",
       "\n",
       "    .dataframe tbody tr th {\n",
       "        vertical-align: top;\n",
       "    }\n",
       "\n",
       "    .dataframe thead th {\n",
       "        text-align: right;\n",
       "    }\n",
       "</style>\n",
       "<table border=\"1\" class=\"dataframe\">\n",
       "  <thead>\n",
       "    <tr style=\"text-align: right;\">\n",
       "      <th></th>\n",
       "      <th>State</th>\n",
       "      <th>18 or Older Estimate</th>\n",
       "      <th>18 or Older 95% CI (Lower)</th>\n",
       "      <th>18 or Older 95% CI (Upper)</th>\n",
       "      <th>12-17 Estimate</th>\n",
       "      <th>12-17 95% CI (Lower)</th>\n",
       "      <th>12-17 95% CI (Upper)</th>\n",
       "      <th>18-25 Estimate</th>\n",
       "      <th>18-25 95% CI (Lower)</th>\n",
       "      <th>18-25 95% CI (Upper)</th>\n",
       "      <th>26 or Older Estimate</th>\n",
       "      <th>26 or Older 95% CI (Lower)</th>\n",
       "      <th>26 or Older 95% CI (Upper)</th>\n",
       "    </tr>\n",
       "  </thead>\n",
       "  <tbody>\n",
       "    <tr>\n",
       "      <th>0</th>\n",
       "      <td>Total U.S.</td>\n",
       "      <td>6.70%</td>\n",
       "      <td>6.49%</td>\n",
       "      <td>6.91%</td>\n",
       "      <td>12.63%</td>\n",
       "      <td>12.19%</td>\n",
       "      <td>13.08%</td>\n",
       "      <td>10.59%</td>\n",
       "      <td>10.17%</td>\n",
       "      <td>11.01%</td>\n",
       "      <td>6.06%</td>\n",
       "      <td>5.83%</td>\n",
       "      <td>6.30%</td>\n",
       "    </tr>\n",
       "    <tr>\n",
       "      <th>1</th>\n",
       "      <td>Northeast</td>\n",
       "      <td>6.80%</td>\n",
       "      <td>6.40%</td>\n",
       "      <td>7.23%</td>\n",
       "      <td>12.13%</td>\n",
       "      <td>11.35%</td>\n",
       "      <td>12.96%</td>\n",
       "      <td>11.08%</td>\n",
       "      <td>10.31%</td>\n",
       "      <td>11.91%</td>\n",
       "      <td>6.11%</td>\n",
       "      <td>5.66%</td>\n",
       "      <td>6.59%</td>\n",
       "    </tr>\n",
       "    <tr>\n",
       "      <th>2</th>\n",
       "      <td>Midwest</td>\n",
       "      <td>6.89%</td>\n",
       "      <td>6.55%</td>\n",
       "      <td>7.26%</td>\n",
       "      <td>13.53%</td>\n",
       "      <td>12.80%</td>\n",
       "      <td>14.30%</td>\n",
       "      <td>11.01%</td>\n",
       "      <td>10.36%</td>\n",
       "      <td>11.70%</td>\n",
       "      <td>6.20%</td>\n",
       "      <td>5.82%</td>\n",
       "      <td>6.62%</td>\n",
       "    </tr>\n",
       "    <tr>\n",
       "      <th>3</th>\n",
       "      <td>South</td>\n",
       "      <td>6.60%</td>\n",
       "      <td>6.30%</td>\n",
       "      <td>6.91%</td>\n",
       "      <td>11.90%</td>\n",
       "      <td>11.30%</td>\n",
       "      <td>12.53%</td>\n",
       "      <td>9.91%</td>\n",
       "      <td>9.38%</td>\n",
       "      <td>10.47%</td>\n",
       "      <td>6.05%</td>\n",
       "      <td>5.72%</td>\n",
       "      <td>6.40%</td>\n",
       "    </tr>\n",
       "    <tr>\n",
       "      <th>4</th>\n",
       "      <td>West</td>\n",
       "      <td>6.61%</td>\n",
       "      <td>6.24%</td>\n",
       "      <td>7.00%</td>\n",
       "      <td>13.32%</td>\n",
       "      <td>12.50%</td>\n",
       "      <td>14.19%</td>\n",
       "      <td>10.89%</td>\n",
       "      <td>10.15%</td>\n",
       "      <td>11.68%</td>\n",
       "      <td>5.88%</td>\n",
       "      <td>5.47%</td>\n",
       "      <td>6.32%</td>\n",
       "    </tr>\n",
       "  </tbody>\n",
       "</table>\n",
       "</div>"
      ],
      "text/plain": [
       "        State 18 or Older Estimate 18 or Older 95% CI (Lower)  \\\n",
       "0  Total U.S.                6.70%                      6.49%   \n",
       "1   Northeast                6.80%                      6.40%   \n",
       "2     Midwest                6.89%                      6.55%   \n",
       "3       South                6.60%                      6.30%   \n",
       "4        West                6.61%                      6.24%   \n",
       "\n",
       "  18 or Older 95% CI (Upper) 12-17 Estimate 12-17 95% CI (Lower)  \\\n",
       "0                      6.91%         12.63%               12.19%   \n",
       "1                      7.23%         12.13%               11.35%   \n",
       "2                      7.26%         13.53%               12.80%   \n",
       "3                      6.91%         11.90%               11.30%   \n",
       "4                      7.00%         13.32%               12.50%   \n",
       "\n",
       "  12-17 95% CI (Upper) 18-25 Estimate 18-25 95% CI (Lower)  \\\n",
       "0               13.08%         10.59%               10.17%   \n",
       "1               12.96%         11.08%               10.31%   \n",
       "2               14.30%         11.01%               10.36%   \n",
       "3               12.53%          9.91%                9.38%   \n",
       "4               14.19%         10.89%               10.15%   \n",
       "\n",
       "  18-25 95% CI (Upper) 26 or Older Estimate 26 or Older 95% CI (Lower)  \\\n",
       "0               11.01%                6.06%                      5.83%   \n",
       "1               11.91%                6.11%                      5.66%   \n",
       "2               11.70%                6.20%                      5.82%   \n",
       "3               10.47%                6.05%                      5.72%   \n",
       "4               11.68%                5.88%                      5.47%   \n",
       "\n",
       "  26 or Older 95% CI (Upper)  \n",
       "0                      6.30%  \n",
       "1                      6.59%  \n",
       "2                      6.62%  \n",
       "3                      6.40%  \n",
       "4                      6.32%  "
      ]
     },
     "execution_count": 420,
     "metadata": {},
     "output_type": "execute_result"
    }
   ],
   "source": [
    "#Major Depressive Episodes\n",
    "#imports data on students who had at least 1 major depressive episode in 2016\n",
    "depressive_2016 = pd.read_csv(\n",
    "    Path(\"../uncc_project1/other_datasets/drug_abuse_data/major_depressive_episode_2016.csv\"))\n",
    "\n",
    "#check to make sure import worked\n",
    "depressive_2016.head()"
   ]
  },
  {
   "cell_type": "code",
   "execution_count": 319,
   "id": "c9e9e8c5-f0b4-447b-8f40-78a1ec9eda0f",
   "metadata": {},
   "outputs": [],
   "source": [
    "#drops the first 5 rows of the data\n",
    "#these are total US and regional data that I won't be using\n",
    "depressive_2016 = depressive_2016.drop([0,1,2,3,4])\n",
    "\n",
    "#resets the index so the first state starts at 0\n",
    "depressive_2016 = depressive_2016.reset_index(drop=True)"
   ]
  },
  {
   "cell_type": "code",
   "execution_count": 320,
   "id": "b0bdf09a-5359-4ba5-86eb-9422903bd0bd",
   "metadata": {},
   "outputs": [
    {
     "data": {
      "text/html": [
       "<div>\n",
       "<style scoped>\n",
       "    .dataframe tbody tr th:only-of-type {\n",
       "        vertical-align: middle;\n",
       "    }\n",
       "\n",
       "    .dataframe tbody tr th {\n",
       "        vertical-align: top;\n",
       "    }\n",
       "\n",
       "    .dataframe thead th {\n",
       "        text-align: right;\n",
       "    }\n",
       "</style>\n",
       "<table border=\"1\" class=\"dataframe\">\n",
       "  <thead>\n",
       "    <tr style=\"text-align: right;\">\n",
       "      <th></th>\n",
       "      <th>State</th>\n",
       "      <th>18 or Older Estimate</th>\n",
       "      <th>18 or Older 95% CI (Lower)</th>\n",
       "      <th>18 or Older 95% CI (Upper)</th>\n",
       "      <th>12-17 Estimate</th>\n",
       "      <th>12-17 95% CI (Lower)</th>\n",
       "      <th>12-17 95% CI (Upper)</th>\n",
       "      <th>18-25 Estimate</th>\n",
       "      <th>18-25 95% CI (Lower)</th>\n",
       "      <th>18-25 95% CI (Upper)</th>\n",
       "      <th>26 or Older Estimate</th>\n",
       "      <th>26 or Older 95% CI (Lower)</th>\n",
       "      <th>26 or Older 95% CI (Upper)</th>\n",
       "    </tr>\n",
       "  </thead>\n",
       "  <tbody>\n",
       "    <tr>\n",
       "      <th>46</th>\n",
       "      <td>Virginia</td>\n",
       "      <td>7.94%</td>\n",
       "      <td>6.94%</td>\n",
       "      <td>9.06%</td>\n",
       "      <td>12.56</td>\n",
       "      <td>10.72%</td>\n",
       "      <td>14.67%</td>\n",
       "      <td>11.88%</td>\n",
       "      <td>10.10%</td>\n",
       "      <td>13.91%</td>\n",
       "      <td>7.29%</td>\n",
       "      <td>6.20%</td>\n",
       "      <td>8.57%</td>\n",
       "    </tr>\n",
       "    <tr>\n",
       "      <th>47</th>\n",
       "      <td>Washington</td>\n",
       "      <td>7.68%</td>\n",
       "      <td>6.50%</td>\n",
       "      <td>9.06%</td>\n",
       "      <td>13.23</td>\n",
       "      <td>11.04%</td>\n",
       "      <td>15.79%</td>\n",
       "      <td>12.10%</td>\n",
       "      <td>9.99%</td>\n",
       "      <td>14.59%</td>\n",
       "      <td>6.98%</td>\n",
       "      <td>5.68%</td>\n",
       "      <td>8.55%</td>\n",
       "    </tr>\n",
       "    <tr>\n",
       "      <th>48</th>\n",
       "      <td>West Virginia</td>\n",
       "      <td>8.26%</td>\n",
       "      <td>7.01%</td>\n",
       "      <td>9.72%</td>\n",
       "      <td>13.90</td>\n",
       "      <td>11.67%</td>\n",
       "      <td>16.48%</td>\n",
       "      <td>11.76%</td>\n",
       "      <td>9.71%</td>\n",
       "      <td>14.16%</td>\n",
       "      <td>7.75%</td>\n",
       "      <td>6.37%</td>\n",
       "      <td>9.40%</td>\n",
       "    </tr>\n",
       "    <tr>\n",
       "      <th>49</th>\n",
       "      <td>Wisconsin</td>\n",
       "      <td>6.74%</td>\n",
       "      <td>5.71%</td>\n",
       "      <td>7.94%</td>\n",
       "      <td>14.45</td>\n",
       "      <td>12.12%</td>\n",
       "      <td>17.14%</td>\n",
       "      <td>11.97%</td>\n",
       "      <td>9.93%</td>\n",
       "      <td>14.38%</td>\n",
       "      <td>5.88%</td>\n",
       "      <td>4.76%</td>\n",
       "      <td>7.24%</td>\n",
       "    </tr>\n",
       "    <tr>\n",
       "      <th>50</th>\n",
       "      <td>Wyoming</td>\n",
       "      <td>7.54%</td>\n",
       "      <td>6.41%</td>\n",
       "      <td>8.86%</td>\n",
       "      <td>15.00</td>\n",
       "      <td>12.54%</td>\n",
       "      <td>17.85%</td>\n",
       "      <td>12.71%</td>\n",
       "      <td>10.62%</td>\n",
       "      <td>15.15%</td>\n",
       "      <td>6.69%</td>\n",
       "      <td>5.45%</td>\n",
       "      <td>8.18%</td>\n",
       "    </tr>\n",
       "  </tbody>\n",
       "</table>\n",
       "</div>"
      ],
      "text/plain": [
       "            State 18 or Older Estimate 18 or Older 95% CI (Lower)  \\\n",
       "46       Virginia                7.94%                      6.94%   \n",
       "47     Washington                7.68%                      6.50%   \n",
       "48  West Virginia                8.26%                      7.01%   \n",
       "49      Wisconsin                6.74%                      5.71%   \n",
       "50        Wyoming                7.54%                      6.41%   \n",
       "\n",
       "   18 or Older 95% CI (Upper)  12-17 Estimate 12-17 95% CI (Lower)  \\\n",
       "46                      9.06%           12.56               10.72%   \n",
       "47                      9.06%           13.23               11.04%   \n",
       "48                      9.72%           13.90               11.67%   \n",
       "49                      7.94%           14.45               12.12%   \n",
       "50                      8.86%           15.00               12.54%   \n",
       "\n",
       "   12-17 95% CI (Upper) 18-25 Estimate 18-25 95% CI (Lower)  \\\n",
       "46               14.67%         11.88%               10.10%   \n",
       "47               15.79%         12.10%                9.99%   \n",
       "48               16.48%         11.76%                9.71%   \n",
       "49               17.14%         11.97%                9.93%   \n",
       "50               17.85%         12.71%               10.62%   \n",
       "\n",
       "   18-25 95% CI (Upper) 26 or Older Estimate 26 or Older 95% CI (Lower)  \\\n",
       "46               13.91%                7.29%                      6.20%   \n",
       "47               14.59%                6.98%                      5.68%   \n",
       "48               14.16%                7.75%                      6.37%   \n",
       "49               14.38%                5.88%                      4.76%   \n",
       "50               15.15%                6.69%                      5.45%   \n",
       "\n",
       "   26 or Older 95% CI (Upper)  \n",
       "46                      8.57%  \n",
       "47                      8.55%  \n",
       "48                      9.40%  \n",
       "49                      7.24%  \n",
       "50                      8.18%  "
      ]
     },
     "execution_count": 320,
     "metadata": {},
     "output_type": "execute_result"
    }
   ],
   "source": [
    "#drops the percentage sign from the 12-17 Estimate column\n",
    "#which will be the column I use\n",
    "\n",
    "depressive_2016.loc[:,\"12-17 Estimate\"] = depressive_2016.loc[:,\"12-17 Estimate\"].str.replace(\"%\", \"\")\n",
    "depressive_2016['12-17 Estimate']= depressive_2016['12-17 Estimate'].astype(float)\n",
    "depressive_2016.tail()"
   ]
  },
  {
   "cell_type": "code",
   "execution_count": 421,
   "id": "918523bc-34cf-4354-9e26-586759df9341",
   "metadata": {},
   "outputs": [],
   "source": [
    "#creates a dataframe that contains the school data\n",
    "#adds the depressive episode estimate to that dataset \n",
    "fin_depressed = school_df\n",
    "fin_depressed['12-17 Estimate']= depressive_2016['12-17 Estimate']"
   ]
  },
  {
   "cell_type": "code",
   "execution_count": 424,
   "id": "6d4a28b9-f4bc-4dae-a7ee-a7edeccb5eae",
   "metadata": {},
   "outputs": [
    {
     "name": "stderr",
     "output_type": "stream",
     "text": [
      "WARNING:param.main: hover_data option not found for scatter plot; similar options include: ['hover_alpha', 'sort_date', 'hover_line_alpha']\n"
     ]
    },
    {
     "data": {},
     "metadata": {},
     "output_type": "display_data"
    },
    {
     "data": {
      "application/vnd.holoviews_exec.v0+json": "",
      "text/html": [
       "<div id='22889'>\n",
       "\n",
       "\n",
       "\n",
       "\n",
       "\n",
       "  <div class=\"bk-root\" id=\"10a9b0ca-2400-4b12-9819-72255b9625d4\" data-root-id=\"22889\"></div>\n",
       "</div>\n",
       "<script type=\"application/javascript\">(function(root) {\n",
       "  function embed_document(root) {\n",
       "    var docs_json = {\"5105547e-86c3-466e-a1bb-8a99ad7ee1c0\":{\"defs\":[{\"extends\":null,\"module\":null,\"name\":\"ReactiveHTML1\",\"overrides\":[],\"properties\":[]},{\"extends\":null,\"module\":null,\"name\":\"FlexBox1\",\"overrides\":[],\"properties\":[{\"default\":\"flex-start\",\"kind\":null,\"name\":\"align_content\"},{\"default\":\"flex-start\",\"kind\":null,\"name\":\"align_items\"},{\"default\":\"row\",\"kind\":null,\"name\":\"flex_direction\"},{\"default\":\"wrap\",\"kind\":null,\"name\":\"flex_wrap\"},{\"default\":\"flex-start\",\"kind\":null,\"name\":\"justify_content\"}]},{\"extends\":null,\"module\":null,\"name\":\"TemplateActions1\",\"overrides\":[],\"properties\":[{\"default\":0,\"kind\":null,\"name\":\"open_modal\"},{\"default\":0,\"kind\":null,\"name\":\"close_modal\"}]},{\"extends\":null,\"module\":null,\"name\":\"MaterialTemplateActions1\",\"overrides\":[],\"properties\":[{\"default\":0,\"kind\":null,\"name\":\"open_modal\"},{\"default\":0,\"kind\":null,\"name\":\"close_modal\"}]}],\"roots\":{\"references\":[{\"attributes\":{\"margin\":[5,5,5,5],\"name\":\"HSpacer44453\",\"sizing_mode\":\"stretch_width\"},\"id\":\"22890\",\"type\":\"Spacer\"},{\"attributes\":{\"active_multi\":null,\"tools\":[{\"id\":\"22893\"},{\"id\":\"22910\"},{\"id\":\"22911\"},{\"id\":\"22912\"},{\"id\":\"22913\"},{\"id\":\"22914\"}]},\"id\":\"22916\",\"type\":\"Toolbar\"},{\"attributes\":{\"format\":\"%0f\"},\"id\":\"22932\",\"type\":\"PrintfTickFormatter\"},{\"attributes\":{\"end\":21551.5,\"reset_end\":21551.5,\"reset_start\":7047.5,\"start\":7047.5,\"tags\":[[[\"Spending per pupil\",\"Spending per pupil\",null]]]},\"id\":\"22891\",\"type\":\"Range1d\"},{\"attributes\":{\"factors\":[\"12.63%\",\"12.13%\",\"13.53%\",\"11.90%\",\"13.32%\",\"11.18%\",\"15.22%\",\"11.68%\",\"13.05%\",\"12.93%\",\"14.59%\",\"12.52%\",\"11.94%\",\"9.91%\",\"12.84%\",\"10.14%\",\"10.99%\",\"15.93%\",\"12.46%\",\"14.70%\",\"14.09%\",\"12.53%\",\"11.72%\",\"10.15%\",\"14.25%\",\"12.69%\",\"13.72%\",\"13.27%\",\"13.39%\",\"10.78%\",\"14.28%\",\"13.56%\",\"12.97%\",\"15.66%\",\"13.40%\",\"10.39%\",\"12.61%\",\"11.91%\",\"11.70%\",\"11.25%\",\"13.98%\",\"12.33%\",\"10.83%\",\"11.79%\",\"11.95%\",\"13.81%\"],\"tags\":[[[\"12-17 Estimate\",\"12-17 Estimate\",null]]]},\"id\":\"22892\",\"type\":\"FactorRange\"},{\"attributes\":{\"overlay\":{\"id\":\"22915\"}},\"id\":\"22913\",\"type\":\"BoxZoomTool\"},{\"attributes\":{},\"id\":\"22934\",\"type\":\"AllLabels\"},{\"attributes\":{},\"id\":\"22912\",\"type\":\"WheelZoomTool\"},{\"attributes\":{},\"id\":\"22914\",\"type\":\"ResetTool\"},{\"attributes\":{\"fill_color\":{\"value\":\"#30a2da\"},\"line_color\":{\"value\":\"#30a2da\"},\"size\":{\"value\":5.477225575051661},\"x\":{\"field\":\"Spending per pupil\"},\"y\":{\"field\":\"12-17 Estimate\"}},\"id\":\"22926\",\"type\":\"Scatter\"},{\"attributes\":{},\"id\":\"22910\",\"type\":\"SaveTool\"},{\"attributes\":{\"below\":[{\"id\":\"22903\"}],\"center\":[{\"id\":\"22906\"},{\"id\":\"22909\"}],\"height\":500,\"left\":[{\"id\":\"22907\"}],\"margin\":[5,5,5,5],\"min_border_bottom\":10,\"min_border_left\":10,\"min_border_right\":10,\"min_border_top\":10,\"renderers\":[{\"id\":\"22929\"}],\"sizing_mode\":\"fixed\",\"title\":{\"id\":\"22895\"},\"toolbar\":{\"id\":\"22916\"},\"width\":700,\"x_range\":{\"id\":\"22891\"},\"x_scale\":{\"id\":\"22899\"},\"y_range\":{\"id\":\"22892\"},\"y_scale\":{\"id\":\"22901\"}},\"id\":\"22894\",\"subtype\":\"Figure\",\"type\":\"Plot\"},{\"attributes\":{\"source\":{\"id\":\"22923\"}},\"id\":\"22930\",\"type\":\"CDSView\"},{\"attributes\":{},\"id\":\"22911\",\"type\":\"PanTool\"},{\"attributes\":{\"data_source\":{\"id\":\"22923\"},\"glyph\":{\"id\":\"22926\"},\"hover_glyph\":null,\"muted_glyph\":{\"id\":\"22928\"},\"nonselection_glyph\":{\"id\":\"22927\"},\"selection_glyph\":{\"id\":\"22931\"},\"view\":{\"id\":\"22930\"}},\"id\":\"22929\",\"type\":\"GlyphRenderer\"},{\"attributes\":{\"callback\":null,\"renderers\":[{\"id\":\"22929\"}],\"tags\":[\"hv_created\"],\"tooltips\":[[\"Spending per pupil\",\"@{Spending_per_pupil}\"],[\"12-17 Estimate\",\"@{A_12_hyphen_minus_17_Estimate}\"],[\"State\",\"@{State}\"]]},\"id\":\"22893\",\"type\":\"HoverTool\"},{\"attributes\":{},\"id\":\"22948\",\"type\":\"UnionRenderers\"},{\"attributes\":{\"fill_alpha\":{\"value\":0.2},\"fill_color\":{\"value\":\"#30a2da\"},\"line_alpha\":{\"value\":0.2},\"line_color\":{\"value\":\"#30a2da\"},\"size\":{\"value\":5.477225575051661},\"x\":{\"field\":\"Spending per pupil\"},\"y\":{\"field\":\"12-17 Estimate\"}},\"id\":\"22928\",\"type\":\"Scatter\"},{\"attributes\":{\"angle\":{\"value\":0.0},\"fill_alpha\":{\"value\":1.0},\"fill_color\":{\"value\":\"#30a2da\"},\"hatch_alpha\":{\"value\":1.0},\"hatch_color\":{\"value\":\"black\"},\"hatch_scale\":{\"value\":12.0},\"hatch_weight\":{\"value\":1.0},\"line_alpha\":{\"value\":1.0},\"line_cap\":{\"value\":\"butt\"},\"line_color\":{\"value\":\"#30a2da\"},\"line_dash\":{\"value\":[]},\"line_dash_offset\":{\"value\":0},\"line_join\":{\"value\":\"bevel\"},\"line_width\":{\"value\":1},\"marker\":{\"value\":\"circle\"},\"size\":{\"value\":5.477225575051661},\"x\":{\"field\":\"Spending per pupil\"},\"y\":{\"field\":\"12-17 Estimate\"}},\"id\":\"22931\",\"type\":\"Scatter\"},{\"attributes\":{\"text\":\"Spending per Pupil vs. % Children who had Major Depressive Episode, 2016\",\"text_color\":\"black\",\"text_font_size\":\"12pt\"},\"id\":\"22895\",\"type\":\"Title\"},{\"attributes\":{},\"id\":\"22937\",\"type\":\"AllLabels\"},{\"attributes\":{},\"id\":\"22899\",\"type\":\"LinearScale\"},{\"attributes\":{\"axis\":{\"id\":\"22903\"},\"grid_line_color\":null,\"ticker\":null},\"id\":\"22906\",\"type\":\"Grid\"},{\"attributes\":{},\"id\":\"22935\",\"type\":\"BasicTickFormatter\"},{\"attributes\":{},\"id\":\"22904\",\"type\":\"BasicTicker\"},{\"attributes\":{},\"id\":\"22908\",\"type\":\"CategoricalTicker\"},{\"attributes\":{\"axis\":{\"id\":\"22907\"},\"dimension\":1,\"grid_line_color\":null,\"ticker\":null},\"id\":\"22909\",\"type\":\"Grid\"},{\"attributes\":{\"fill_alpha\":{\"value\":0.1},\"fill_color\":{\"value\":\"#30a2da\"},\"line_alpha\":{\"value\":0.1},\"line_color\":{\"value\":\"#30a2da\"},\"size\":{\"value\":5.477225575051661},\"x\":{\"field\":\"Spending per pupil\"},\"y\":{\"field\":\"12-17 Estimate\"}},\"id\":\"22927\",\"type\":\"Scatter\"},{\"attributes\":{\"children\":[{\"id\":\"22890\"},{\"id\":\"22894\"},{\"id\":\"22959\"}],\"margin\":[0,0,0,0],\"name\":\"Row44449\",\"tags\":[\"embedded\"]},\"id\":\"22889\",\"type\":\"Row\"},{\"attributes\":{\"data\":{\"12-17 Estimate\":[\"12.63%\",\"12.13%\",\"13.53%\",\"11.90%\",\"13.32%\",\"11.18%\",\"15.22%\",\"11.68%\",\"13.05%\",\"12.93%\",\"14.59%\",\"12.52%\",\"11.94%\",\"9.91%\",\"12.84%\",\"10.14%\",\"10.99%\",\"15.93%\",\"12.46%\",\"14.70%\",\"14.09%\",\"12.53%\",\"11.72%\",\"10.15%\",\"14.25%\",\"12.69%\",\"13.72%\",\"13.27%\",\"13.39%\",\"10.78%\",\"14.28%\",\"13.56%\",\"12.97%\",\"15.66%\",\"13.40%\",\"10.39%\",\"12.61%\",\"11.91%\",\"11.70%\",\"11.25%\",\"13.98%\",\"13.53%\",\"15.66%\",\"12.33%\",\"13.72%\",\"10.83%\",\"11.79%\",\"12.13%\",\"11.95%\",\"13.81%\"],\"A_12_hyphen_minus_17_Estimate\":[\"12.63%\",\"12.13%\",\"13.53%\",\"11.90%\",\"13.32%\",\"11.18%\",\"15.22%\",\"11.68%\",\"13.05%\",\"12.93%\",\"14.59%\",\"12.52%\",\"11.94%\",\"9.91%\",\"12.84%\",\"10.14%\",\"10.99%\",\"15.93%\",\"12.46%\",\"14.70%\",\"14.09%\",\"12.53%\",\"11.72%\",\"10.15%\",\"14.25%\",\"12.69%\",\"13.72%\",\"13.27%\",\"13.39%\",\"10.78%\",\"14.28%\",\"13.56%\",\"12.97%\",\"15.66%\",\"13.40%\",\"10.39%\",\"12.61%\",\"11.91%\",\"11.70%\",\"11.25%\",\"13.98%\",\"13.53%\",\"15.66%\",\"12.33%\",\"13.72%\",\"10.83%\",\"11.79%\",\"12.13%\",\"11.95%\",\"13.81%\"],\"Spending per pupil\":[9636,16576,8882,9976,11588,10171,17373,14335,10098,10893,14987,8141,12457,12360,11337,11939,10010,11967,13666,15574,16270,11987,12664,8919,10457,11266,11796,10305,13725,18874,11266,20645,10613,11664,12811,9353,10862,15023,15312,10719,9913,8324,10314,7954,17108,12146,11510,10984,12435,19238],\"Spending_per_pupil\":[9636,16576,8882,9976,11588,10171,17373,14335,10098,10893,14987,8141,12457,12360,11337,11939,10010,11967,13666,15574,16270,11987,12664,8919,10457,11266,11796,10305,13725,18874,11266,20645,10613,11664,12811,9353,10862,15023,15312,10719,9913,8324,10314,7954,17108,12146,11510,10984,12435,19238],\"State\":[\"Alabama\",\"Alaska\",\"Arizona\",\"Arkansas\",\"California\",\"Colorado\",\"Connecticut\",\"Delaware\",\"Florida\",\"Georgia\",\"Hawaii\",\"Idaho\",\"Illinois\",\"Indiana\",\"Iowa\",\"Kansas\",\"Kentucky\",\"Louisiana\",\"Maine\",\"Maryland\",\"Massachusetts\",\"Michigan\",\"Minnesota\",\"Mississippi\",\"Missouri\",\"Montana\",\"Nebraska\",\"Nevada\",\"New Hampshire\",\"New Jersey\",\"New Mexico\",\"New York\",\"North Carolina\",\"North Dakota\",\"Ohio\",\"Oklahoma\",\"Oregon\",\"Pennsylvania\",\"Rhode Island\",\"South Carolina\",\"South Dakota\",\"Tennessee\",\"Texas\",\"Utah\",\"Vermont\",\"Virginia\",\"Washington\",\"West Virginia\",\"Wisconsin\",\"Wyoming\"]},\"selected\":{\"id\":\"22924\"},\"selection_policy\":{\"id\":\"22948\"}},\"id\":\"22923\",\"type\":\"ColumnDataSource\"},{\"attributes\":{\"margin\":[5,5,5,5],\"name\":\"HSpacer44454\",\"sizing_mode\":\"stretch_width\"},\"id\":\"22959\",\"type\":\"Spacer\"},{\"attributes\":{},\"id\":\"22924\",\"type\":\"Selection\"},{\"attributes\":{\"bottom_units\":\"screen\",\"fill_alpha\":0.5,\"fill_color\":\"lightgrey\",\"left_units\":\"screen\",\"level\":\"overlay\",\"line_alpha\":1.0,\"line_color\":\"black\",\"line_dash\":[4,4],\"line_width\":2,\"right_units\":\"screen\",\"syncable\":false,\"top_units\":\"screen\"},\"id\":\"22915\",\"type\":\"BoxAnnotation\"},{\"attributes\":{},\"id\":\"22901\",\"type\":\"CategoricalScale\"},{\"attributes\":{\"axis_label\":\"% of Children Age 12-17\",\"formatter\":{\"id\":\"22932\"},\"major_label_policy\":{\"id\":\"22937\"},\"ticker\":{\"id\":\"22908\"}},\"id\":\"22907\",\"type\":\"CategoricalAxis\"},{\"attributes\":{\"axis_label\":\"Spending per Pupil, USD\",\"formatter\":{\"id\":\"22935\"},\"major_label_orientation\":0.7853981633974483,\"major_label_policy\":{\"id\":\"22934\"},\"ticker\":{\"id\":\"22904\"}},\"id\":\"22903\",\"type\":\"LinearAxis\"}],\"root_ids\":[\"22889\"]},\"title\":\"Bokeh Application\",\"version\":\"2.3.2\"}};\n",
       "    var render_items = [{\"docid\":\"5105547e-86c3-466e-a1bb-8a99ad7ee1c0\",\"root_ids\":[\"22889\"],\"roots\":{\"22889\":\"10a9b0ca-2400-4b12-9819-72255b9625d4\"}}];\n",
       "    root.Bokeh.embed.embed_items_notebook(docs_json, render_items);\n",
       "  }\n",
       "  if (root.Bokeh !== undefined && root.Bokeh.Panel !== undefined) {\n",
       "    embed_document(root);\n",
       "  } else {\n",
       "    var attempts = 0;\n",
       "    var timer = setInterval(function(root) {\n",
       "      if (root.Bokeh !== undefined && root.Bokeh.Panel !== undefined) {\n",
       "        clearInterval(timer);\n",
       "        embed_document(root);\n",
       "      } else if (document.readyState == \"complete\") {\n",
       "        attempts++;\n",
       "        if (attempts > 200) {\n",
       "          clearInterval(timer);\n",
       "          console.log(\"Bokeh: ERROR: Unable to run BokehJS code because BokehJS library is missing\");\n",
       "        }\n",
       "      }\n",
       "    }, 25, root)\n",
       "  }\n",
       "})(window);</script>"
      ],
      "text/plain": [
       ":Scatter   [Spending per pupil]   (12-17 Estimate,State)"
      ]
     },
     "execution_count": 424,
     "metadata": {
      "application/vnd.holoviews_exec.v0+json": {
       "id": "22889"
      }
     },
     "output_type": "execute_result"
    }
   ],
   "source": [
    "#creates a scatter plot comparing the spending per pupil\n",
    "#to the % of kids who had a depressive episode in 2016\n",
    "\n",
    "fig= fin_depressed.hvplot.scatter(\n",
    "    x=\"Spending per pupil\",\n",
    "    y=\"12-17 Estimate\",\n",
    "    yformatter=\"%0f\",\n",
    "    rot=45,\n",
    "    height=500,\n",
    "    width=700,\n",
    "    ylabel= '% of Children Age 12-17',\n",
    "    xlabel='Spending per Pupil, USD',\n",
    "    hover_data={'State'},\n",
    "    hover_cols=\"State\",\n",
    "    title=\"Spending per Pupil vs. % Children who had Major Depressive Episode, 2016\")\n",
    "fig"
   ]
  },
  {
   "cell_type": "code",
   "execution_count": 323,
   "id": "043ed0ef-a7c1-4bf9-bb5d-0eb8ed7a1b2d",
   "metadata": {},
   "outputs": [
    {
     "data": {
      "text/plain": [
       "0.26592436012319876"
      ]
     },
     "execution_count": 323,
     "metadata": {},
     "output_type": "execute_result"
    }
   ],
   "source": [
    "#calculates the correlation between spending per pupil and % of depressive episodes\n",
    "depressive_cor = fin_depressed[\"Spending per pupil\"].astype(float).corr(fin_depressed[\"12-17 Estimate\"].astype(float), method='pearson') \n",
    "depressive_cor"
   ]
  },
  {
   "cell_type": "code",
   "execution_count": 324,
   "id": "60fecb7b-1695-4483-a6b0-b1a783b5a4ce",
   "metadata": {},
   "outputs": [],
   "source": [
    "#reads in alcoholism dataset \n",
    "#cleans up the data in the same way as the depressive episode data\n",
    "\n",
    "alcoholism_2016 = pd.read_csv(\n",
    "    Path(\"../uncc_project1/other_datasets/drug_abuse_data/alcoholism_2016.csv\"))\n",
    "alcoholism_2016.loc[:, \"12-17 Estimate\"] = alcoholism_2016.loc[:, \"12-17 Estimate\"].str.replace(\"%\", \"\")\n",
    "alcoholism_2016=alcoholism_2016.drop([0,1,2,3,4,13])\n",
    "alcoholism_2016=alcoholism_2016.reset_index(drop=True)"
   ]
  },
  {
   "cell_type": "code",
   "execution_count": 425,
   "id": "c41c2211-3c97-434e-976e-b06a7e6e4900",
   "metadata": {},
   "outputs": [
    {
     "data": {
      "text/html": [
       "<div>\n",
       "<style scoped>\n",
       "    .dataframe tbody tr th:only-of-type {\n",
       "        vertical-align: middle;\n",
       "    }\n",
       "\n",
       "    .dataframe tbody tr th {\n",
       "        vertical-align: top;\n",
       "    }\n",
       "\n",
       "    .dataframe thead th {\n",
       "        text-align: right;\n",
       "    }\n",
       "</style>\n",
       "<table border=\"1\" class=\"dataframe\">\n",
       "  <thead>\n",
       "    <tr style=\"text-align: right;\">\n",
       "      <th></th>\n",
       "      <th>State</th>\n",
       "      <th>12 or Older Estimate</th>\n",
       "      <th>12 or Older 95% CI (Lower)</th>\n",
       "      <th>12 or Older 95% CI (Upper)</th>\n",
       "      <th>12-17 Estimate</th>\n",
       "      <th>12-17 95% CI (Lower)</th>\n",
       "      <th>12-17 95% CI (Upper)</th>\n",
       "      <th>18-25 Estimate</th>\n",
       "      <th>18-25 95% CI (Lower)</th>\n",
       "      <th>18-25 95% CI (Upper)</th>\n",
       "      <th>26 or Older Estimate</th>\n",
       "      <th>26 or Older 95% CI (Lower)</th>\n",
       "      <th>26 or Older 95% CI (Upper)</th>\n",
       "      <th>18 or Older Estimate</th>\n",
       "      <th>18 or Older 95% CI (Lower)</th>\n",
       "      <th>18 or Older 95% CI (Upper)</th>\n",
       "      <th>Spending per pupil</th>\n",
       "      <th>Code</th>\n",
       "    </tr>\n",
       "  </thead>\n",
       "  <tbody>\n",
       "    <tr>\n",
       "      <th>0</th>\n",
       "      <td>Alabama</td>\n",
       "      <td>4.16%</td>\n",
       "      <td>3.33%</td>\n",
       "      <td>5.18%</td>\n",
       "      <td>1.67</td>\n",
       "      <td>1.14%</td>\n",
       "      <td>2.45%</td>\n",
       "      <td>9.08%</td>\n",
       "      <td>7.38%</td>\n",
       "      <td>11.12%</td>\n",
       "      <td>3.64%</td>\n",
       "      <td>2.73%</td>\n",
       "      <td>4.86%</td>\n",
       "      <td>4.42%</td>\n",
       "      <td>3.52%</td>\n",
       "      <td>5.52%</td>\n",
       "      <td>9636</td>\n",
       "      <td>AL</td>\n",
       "    </tr>\n",
       "    <tr>\n",
       "      <th>1</th>\n",
       "      <td>Alaska</td>\n",
       "      <td>6.82%</td>\n",
       "      <td>5.66%</td>\n",
       "      <td>8.21%</td>\n",
       "      <td>2.59</td>\n",
       "      <td>1.86%</td>\n",
       "      <td>3.60%</td>\n",
       "      <td>10.45%</td>\n",
       "      <td>8.63%</td>\n",
       "      <td>12.61%</td>\n",
       "      <td>6.72%</td>\n",
       "      <td>5.33%</td>\n",
       "      <td>8.43%</td>\n",
       "      <td>7.30%</td>\n",
       "      <td>6.03%</td>\n",
       "      <td>8.81%</td>\n",
       "      <td>16576</td>\n",
       "      <td>AK</td>\n",
       "    </tr>\n",
       "    <tr>\n",
       "      <th>2</th>\n",
       "      <td>Arizona</td>\n",
       "      <td>5.34%</td>\n",
       "      <td>4.41%</td>\n",
       "      <td>6.45%</td>\n",
       "      <td>2.28</td>\n",
       "      <td>1.66%</td>\n",
       "      <td>3.14%</td>\n",
       "      <td>11.46%</td>\n",
       "      <td>9.53%</td>\n",
       "      <td>13.72%</td>\n",
       "      <td>4.68%</td>\n",
       "      <td>3.64%</td>\n",
       "      <td>6.00%</td>\n",
       "      <td>5.66%</td>\n",
       "      <td>4.67%</td>\n",
       "      <td>6.86%</td>\n",
       "      <td>8882</td>\n",
       "      <td>AZ</td>\n",
       "    </tr>\n",
       "    <tr>\n",
       "      <th>3</th>\n",
       "      <td>Arkansas</td>\n",
       "      <td>4.98%</td>\n",
       "      <td>4.09%</td>\n",
       "      <td>6.05%</td>\n",
       "      <td>2.14</td>\n",
       "      <td>1.55%</td>\n",
       "      <td>2.95%</td>\n",
       "      <td>9.82%</td>\n",
       "      <td>8.09%</td>\n",
       "      <td>11.88%</td>\n",
       "      <td>4.52%</td>\n",
       "      <td>3.51%</td>\n",
       "      <td>5.81%</td>\n",
       "      <td>5.28%</td>\n",
       "      <td>4.31%</td>\n",
       "      <td>6.44%</td>\n",
       "      <td>9976</td>\n",
       "      <td>AR</td>\n",
       "    </tr>\n",
       "    <tr>\n",
       "      <th>4</th>\n",
       "      <td>California</td>\n",
       "      <td>6.40%</td>\n",
       "      <td>5.81%</td>\n",
       "      <td>7.04%</td>\n",
       "      <td>2.33</td>\n",
       "      <td>1.85%</td>\n",
       "      <td>2.92%</td>\n",
       "      <td>10.64%</td>\n",
       "      <td>9.45%</td>\n",
       "      <td>11.97%</td>\n",
       "      <td>6.15%</td>\n",
       "      <td>5.46%</td>\n",
       "      <td>6.92%</td>\n",
       "      <td>6.82%</td>\n",
       "      <td>6.18%</td>\n",
       "      <td>7.52%</td>\n",
       "      <td>11588</td>\n",
       "      <td>CA</td>\n",
       "    </tr>\n",
       "  </tbody>\n",
       "</table>\n",
       "</div>"
      ],
      "text/plain": [
       "        State 12 or Older Estimate 12 or Older 95% CI (Lower)  \\\n",
       "0     Alabama                4.16%                      3.33%   \n",
       "1      Alaska                6.82%                      5.66%   \n",
       "2     Arizona                5.34%                      4.41%   \n",
       "3    Arkansas                4.98%                      4.09%   \n",
       "4  California                6.40%                      5.81%   \n",
       "\n",
       "  12 or Older 95% CI (Upper)  12-17 Estimate 12-17 95% CI (Lower)  \\\n",
       "0                      5.18%            1.67                1.14%   \n",
       "1                      8.21%            2.59                1.86%   \n",
       "2                      6.45%            2.28                1.66%   \n",
       "3                      6.05%            2.14                1.55%   \n",
       "4                      7.04%            2.33                1.85%   \n",
       "\n",
       "  12-17 95% CI (Upper) 18-25 Estimate 18-25 95% CI (Lower)  \\\n",
       "0                2.45%          9.08%                7.38%   \n",
       "1                3.60%         10.45%                8.63%   \n",
       "2                3.14%         11.46%                9.53%   \n",
       "3                2.95%          9.82%                8.09%   \n",
       "4                2.92%         10.64%                9.45%   \n",
       "\n",
       "  18-25 95% CI (Upper) 26 or Older Estimate 26 or Older 95% CI (Lower)  \\\n",
       "0               11.12%                3.64%                      2.73%   \n",
       "1               12.61%                6.72%                      5.33%   \n",
       "2               13.72%                4.68%                      3.64%   \n",
       "3               11.88%                4.52%                      3.51%   \n",
       "4               11.97%                6.15%                      5.46%   \n",
       "\n",
       "  26 or Older 95% CI (Upper) 18 or Older Estimate 18 or Older 95% CI (Lower)  \\\n",
       "0                      4.86%                4.42%                      3.52%   \n",
       "1                      8.43%                7.30%                      6.03%   \n",
       "2                      6.00%                5.66%                      4.67%   \n",
       "3                      5.81%                5.28%                      4.31%   \n",
       "4                      6.92%                6.82%                      6.18%   \n",
       "\n",
       "  18 or Older 95% CI (Upper)  Spending per pupil Code  \n",
       "0                      5.52%                9636   AL  \n",
       "1                      8.81%               16576   AK  \n",
       "2                      6.86%                8882   AZ  \n",
       "3                      6.44%                9976   AR  \n",
       "4                      7.52%               11588   CA  "
      ]
     },
     "execution_count": 425,
     "metadata": {},
     "output_type": "execute_result"
    }
   ],
   "source": [
    "#combines the alcohol data and necessary school data into 1 dataframe\n",
    "fin_alc = alcoholism_2016\n",
    "fin_alc['Spending per pupil'] = school_df['Spending per pupil']\n",
    "fin_alc.head()"
   ]
  },
  {
   "cell_type": "code",
   "execution_count": 326,
   "id": "952990ca-13c0-4b8f-8a27-f33bba1d3b99",
   "metadata": {},
   "outputs": [],
   "source": [
    "#converts the percentages in the Estimate column to float type\n",
    "fin_alc['12-17 Estimate']=fin_alc['12-17 Estimate'].astype(float)"
   ]
  },
  {
   "cell_type": "code",
   "execution_count": 426,
   "id": "c2631226-6656-44b3-ac0d-029b645ff1b5",
   "metadata": {},
   "outputs": [
    {
     "name": "stderr",
     "output_type": "stream",
     "text": [
      "WARNING:param.main: hover_data option not found for scatter plot; similar options include: ['hover_alpha', 'sort_date', 'hover_line_alpha']\n"
     ]
    },
    {
     "data": {},
     "metadata": {},
     "output_type": "display_data"
    },
    {
     "data": {
      "application/vnd.holoviews_exec.v0+json": "",
      "text/html": [
       "<div id='23006'>\n",
       "\n",
       "\n",
       "\n",
       "\n",
       "\n",
       "  <div class=\"bk-root\" id=\"efb15bbb-bfef-43b1-98b3-bd9bdb01bf96\" data-root-id=\"23006\"></div>\n",
       "</div>\n",
       "<script type=\"application/javascript\">(function(root) {\n",
       "  function embed_document(root) {\n",
       "    var docs_json = {\"e3341eef-b1ca-4cc7-bf38-9bea02b3acd2\":{\"defs\":[{\"extends\":null,\"module\":null,\"name\":\"ReactiveHTML1\",\"overrides\":[],\"properties\":[]},{\"extends\":null,\"module\":null,\"name\":\"FlexBox1\",\"overrides\":[],\"properties\":[{\"default\":\"flex-start\",\"kind\":null,\"name\":\"align_content\"},{\"default\":\"flex-start\",\"kind\":null,\"name\":\"align_items\"},{\"default\":\"row\",\"kind\":null,\"name\":\"flex_direction\"},{\"default\":\"wrap\",\"kind\":null,\"name\":\"flex_wrap\"},{\"default\":\"flex-start\",\"kind\":null,\"name\":\"justify_content\"}]},{\"extends\":null,\"module\":null,\"name\":\"TemplateActions1\",\"overrides\":[],\"properties\":[{\"default\":0,\"kind\":null,\"name\":\"open_modal\"},{\"default\":0,\"kind\":null,\"name\":\"close_modal\"}]},{\"extends\":null,\"module\":null,\"name\":\"MaterialTemplateActions1\",\"overrides\":[],\"properties\":[{\"default\":0,\"kind\":null,\"name\":\"open_modal\"},{\"default\":0,\"kind\":null,\"name\":\"close_modal\"}]}],\"roots\":{\"references\":[{\"attributes\":{\"axis_label\":\"Spending per Pupil, USD\",\"formatter\":{\"id\":\"23053\"},\"major_label_orientation\":0.7853981633974483,\"major_label_policy\":{\"id\":\"23052\"},\"ticker\":{\"id\":\"23021\"}},\"id\":\"23020\",\"type\":\"LinearAxis\"},{\"attributes\":{},\"id\":\"23053\",\"type\":\"BasicTickFormatter\"},{\"attributes\":{},\"id\":\"23021\",\"type\":\"BasicTicker\"},{\"attributes\":{},\"id\":\"23030\",\"type\":\"WheelZoomTool\"},{\"attributes\":{\"overlay\":{\"id\":\"23033\"}},\"id\":\"23031\",\"type\":\"BoxZoomTool\"},{\"attributes\":{},\"id\":\"23042\",\"type\":\"Selection\"},{\"attributes\":{\"below\":[{\"id\":\"23020\"}],\"center\":[{\"id\":\"23023\"},{\"id\":\"23027\"}],\"height\":500,\"left\":[{\"id\":\"23024\"}],\"margin\":[5,5,5,5],\"min_border_bottom\":10,\"min_border_left\":10,\"min_border_right\":10,\"min_border_top\":10,\"renderers\":[{\"id\":\"23047\"}],\"sizing_mode\":\"fixed\",\"title\":{\"id\":\"23012\"},\"toolbar\":{\"id\":\"23034\"},\"width\":700,\"x_range\":{\"id\":\"23008\"},\"x_scale\":{\"id\":\"23016\"},\"y_range\":{\"id\":\"23009\"},\"y_scale\":{\"id\":\"23018\"}},\"id\":\"23011\",\"subtype\":\"Figure\",\"type\":\"Plot\"},{\"attributes\":{\"text\":\"Spending per Pupil vs. % of Children with Alcohol Use Disorder 2016\",\"text_color\":\"black\",\"text_font_size\":\"12pt\"},\"id\":\"23012\",\"type\":\"Title\"},{\"attributes\":{},\"id\":\"23029\",\"type\":\"PanTool\"},{\"attributes\":{\"end\":21551.5,\"reset_end\":21551.5,\"reset_start\":7047.5,\"start\":7047.5,\"tags\":[[[\"Spending per pupil\",\"Spending per pupil\",null]]]},\"id\":\"23008\",\"type\":\"Range1d\"},{\"attributes\":{\"axis\":{\"id\":\"23020\"},\"grid_line_color\":null,\"ticker\":null},\"id\":\"23023\",\"type\":\"Grid\"},{\"attributes\":{},\"id\":\"23016\",\"type\":\"LinearScale\"},{\"attributes\":{\"data\":{\"12-17 Estimate\":{\"__ndarray__\":\"uB6F61G4+j+4HoXrUbgEQD0K16NwPQJAH4XrUbgeAUCkcD0K16MCQM3MzMzMzARAj8L1KFyPBkCkcD0K16MAQJqZmZmZmQFArkfhehSu+z/NzMzMzMwCQHsUrkfhegRAAAAAAAAAAkCPwvUoXI8AQK5H4XoUrgNA4XoUrkfhAkCkcD0K16MAQM3MzMzMzARAXI/C9ShcA0DXo3A9Ctf/P3sUrkfhegRA4XoUrkfhAkBI4XoUrkcBQOF6FK5H4fo/rkfhehSuAUBI4XoUrkcHQHE9CtejcANAuB6F61G4BEA9CtejcD0CQIXrUbgehQFAFK5H4XoUBkCuR+F6FK4BQOxRuB6F6/k/j8L1KFyPBkBI4XoUrkcBQLgehetRuABAUrgehetRBkD2KFyPwvUAQI/C9ShcjwJA4XoUrkfhAED2KFyPwvUGQJqZmZmZmf0/CtejcD0KA0DsUbgehev9P83MzMzMzARApHA9CtejAEBmZmZmZmYCQB+F61G4HgFACtejcD0KBUDhehSuR+EGQA==\",\"dtype\":\"float64\",\"order\":\"little\",\"shape\":[50]},\"A_12_hyphen_minus_17_Estimate\":{\"__ndarray__\":\"uB6F61G4+j+4HoXrUbgEQD0K16NwPQJAH4XrUbgeAUCkcD0K16MCQM3MzMzMzARAj8L1KFyPBkCkcD0K16MAQJqZmZmZmQFArkfhehSu+z/NzMzMzMwCQHsUrkfhegRAAAAAAAAAAkCPwvUoXI8AQK5H4XoUrgNA4XoUrkfhAkCkcD0K16MAQM3MzMzMzARAXI/C9ShcA0DXo3A9Ctf/P3sUrkfhegRA4XoUrkfhAkBI4XoUrkcBQOF6FK5H4fo/rkfhehSuAUBI4XoUrkcHQHE9CtejcANAuB6F61G4BEA9CtejcD0CQIXrUbgehQFAFK5H4XoUBkCuR+F6FK4BQOxRuB6F6/k/j8L1KFyPBkBI4XoUrkcBQLgehetRuABAUrgehetRBkD2KFyPwvUAQI/C9ShcjwJA4XoUrkfhAED2KFyPwvUGQJqZmZmZmf0/CtejcD0KA0DsUbgehev9P83MzMzMzARApHA9CtejAEBmZmZmZmYCQB+F61G4HgFACtejcD0KBUDhehSuR+EGQA==\",\"dtype\":\"float64\",\"order\":\"little\",\"shape\":[50]},\"Spending per pupil\":[9636,16576,8882,9976,11588,10171,17373,14335,10098,10893,14987,8141,12457,12360,11337,11939,10010,11967,13666,15574,16270,11987,12664,8919,10457,11266,11796,10305,13725,18874,11266,20645,10613,11664,12811,9353,10862,15023,15312,10719,9913,8324,10314,7954,17108,12146,11510,10984,12435,19238],\"Spending_per_pupil\":[9636,16576,8882,9976,11588,10171,17373,14335,10098,10893,14987,8141,12457,12360,11337,11939,10010,11967,13666,15574,16270,11987,12664,8919,10457,11266,11796,10305,13725,18874,11266,20645,10613,11664,12811,9353,10862,15023,15312,10719,9913,8324,10314,7954,17108,12146,11510,10984,12435,19238],\"State\":[\"Alabama\",\"Alaska\",\"Arizona\",\"Arkansas\",\"California\",\"Colorado\",\"Connecticut\",\"Delaware\",\"Florida\",\"Georgia\",\"Hawaii\",\"Idaho\",\"Illinois\",\"Indiana\",\"Iowa\",\"Kansas\",\"Kentucky\",\"Louisiana\",\"Maine\",\"Maryland\",\"Massachusetts\",\"Michigan\",\"Minnesota\",\"Mississippi\",\"Missouri\",\"Montana\",\"Nebraska\",\"Nevada\",\"New Hampshire\",\"New Jersey\",\"New Mexico\",\"New York\",\"North Carolina\",\"North Dakota\",\"Ohio\",\"Oklahoma\",\"Oregon\",\"Pennsylvania\",\"Rhode Island\",\"South Carolina\",\"South Dakota\",\"Tennessee\",\"Texas\",\"Utah\",\"Vermont\",\"Virginia\",\"Washington\",\"West Virginia\",\"Wisconsin\",\"Wyoming\"]},\"selected\":{\"id\":\"23042\"},\"selection_policy\":{\"id\":\"23066\"}},\"id\":\"23041\",\"type\":\"ColumnDataSource\"},{\"attributes\":{},\"id\":\"23028\",\"type\":\"SaveTool\"},{\"attributes\":{\"children\":[{\"id\":\"23007\"},{\"id\":\"23011\"},{\"id\":\"23077\"}],\"margin\":[0,0,0,0],\"name\":\"Row44651\",\"tags\":[\"embedded\"]},\"id\":\"23006\",\"type\":\"Row\"},{\"attributes\":{},\"id\":\"23018\",\"type\":\"LinearScale\"},{\"attributes\":{\"active_multi\":null,\"tools\":[{\"id\":\"23010\"},{\"id\":\"23028\"},{\"id\":\"23029\"},{\"id\":\"23030\"},{\"id\":\"23031\"},{\"id\":\"23032\"}]},\"id\":\"23034\",\"type\":\"Toolbar\"},{\"attributes\":{\"fill_alpha\":{\"value\":0.2},\"fill_color\":{\"value\":\"#30a2da\"},\"line_alpha\":{\"value\":0.2},\"line_color\":{\"value\":\"#30a2da\"},\"size\":{\"value\":5.477225575051661},\"x\":{\"field\":\"Spending per pupil\"},\"y\":{\"field\":\"12-17 Estimate\"}},\"id\":\"23046\",\"type\":\"Scatter\"},{\"attributes\":{\"angle\":{\"value\":0.0},\"fill_alpha\":{\"value\":1.0},\"fill_color\":{\"value\":\"#30a2da\"},\"hatch_alpha\":{\"value\":1.0},\"hatch_color\":{\"value\":\"black\"},\"hatch_scale\":{\"value\":12.0},\"hatch_weight\":{\"value\":1.0},\"line_alpha\":{\"value\":1.0},\"line_cap\":{\"value\":\"butt\"},\"line_color\":{\"value\":\"#30a2da\"},\"line_dash\":{\"value\":[]},\"line_dash_offset\":{\"value\":0},\"line_join\":{\"value\":\"bevel\"},\"line_width\":{\"value\":1},\"marker\":{\"value\":\"circle\"},\"size\":{\"value\":5.477225575051661},\"x\":{\"field\":\"Spending per pupil\"},\"y\":{\"field\":\"12-17 Estimate\"}},\"id\":\"23049\",\"type\":\"Scatter\"},{\"attributes\":{\"format\":\"%.2f\"},\"id\":\"23050\",\"type\":\"PrintfTickFormatter\"},{\"attributes\":{\"margin\":[5,5,5,5],\"name\":\"HSpacer44656\",\"sizing_mode\":\"stretch_width\"},\"id\":\"23077\",\"type\":\"Spacer\"},{\"attributes\":{},\"id\":\"23032\",\"type\":\"ResetTool\"},{\"attributes\":{},\"id\":\"23025\",\"type\":\"BasicTicker\"},{\"attributes\":{},\"id\":\"23066\",\"type\":\"UnionRenderers\"},{\"attributes\":{\"bottom_units\":\"screen\",\"fill_alpha\":0.5,\"fill_color\":\"lightgrey\",\"left_units\":\"screen\",\"level\":\"overlay\",\"line_alpha\":1.0,\"line_color\":\"black\",\"line_dash\":[4,4],\"line_width\":2,\"right_units\":\"screen\",\"syncable\":false,\"top_units\":\"screen\"},\"id\":\"23033\",\"type\":\"BoxAnnotation\"},{\"attributes\":{\"source\":{\"id\":\"23041\"}},\"id\":\"23048\",\"type\":\"CDSView\"},{\"attributes\":{\"axis_label\":\"% of Children Age 12-17\",\"formatter\":{\"id\":\"23050\"},\"major_label_policy\":{\"id\":\"23055\"},\"ticker\":{\"id\":\"23025\"}},\"id\":\"23024\",\"type\":\"LinearAxis\"},{\"attributes\":{\"fill_color\":{\"value\":\"#30a2da\"},\"line_color\":{\"value\":\"#30a2da\"},\"size\":{\"value\":5.477225575051661},\"x\":{\"field\":\"Spending per pupil\"},\"y\":{\"field\":\"12-17 Estimate\"}},\"id\":\"23044\",\"type\":\"Scatter\"},{\"attributes\":{},\"id\":\"23055\",\"type\":\"AllLabels\"},{\"attributes\":{\"axis\":{\"id\":\"23024\"},\"dimension\":1,\"grid_line_color\":null,\"ticker\":null},\"id\":\"23027\",\"type\":\"Grid\"},{\"attributes\":{\"end\":3.039,\"reset_end\":3.039,\"reset_start\":1.491,\"start\":1.491,\"tags\":[[[\"12-17 Estimate\",\"12-17 Estimate\",null]]]},\"id\":\"23009\",\"type\":\"Range1d\"},{\"attributes\":{},\"id\":\"23052\",\"type\":\"AllLabels\"},{\"attributes\":{\"fill_alpha\":{\"value\":0.1},\"fill_color\":{\"value\":\"#30a2da\"},\"line_alpha\":{\"value\":0.1},\"line_color\":{\"value\":\"#30a2da\"},\"size\":{\"value\":5.477225575051661},\"x\":{\"field\":\"Spending per pupil\"},\"y\":{\"field\":\"12-17 Estimate\"}},\"id\":\"23045\",\"type\":\"Scatter\"},{\"attributes\":{\"data_source\":{\"id\":\"23041\"},\"glyph\":{\"id\":\"23044\"},\"hover_glyph\":null,\"muted_glyph\":{\"id\":\"23046\"},\"nonselection_glyph\":{\"id\":\"23045\"},\"selection_glyph\":{\"id\":\"23049\"},\"view\":{\"id\":\"23048\"}},\"id\":\"23047\",\"type\":\"GlyphRenderer\"},{\"attributes\":{\"margin\":[5,5,5,5],\"name\":\"HSpacer44655\",\"sizing_mode\":\"stretch_width\"},\"id\":\"23007\",\"type\":\"Spacer\"},{\"attributes\":{\"callback\":null,\"renderers\":[{\"id\":\"23047\"}],\"tags\":[\"hv_created\"],\"tooltips\":[[\"Spending per pupil\",\"@{Spending_per_pupil}\"],[\"12-17 Estimate\",\"@{A_12_hyphen_minus_17_Estimate}\"],[\"State\",\"@{State}\"]]},\"id\":\"23010\",\"type\":\"HoverTool\"}],\"root_ids\":[\"23006\"]},\"title\":\"Bokeh Application\",\"version\":\"2.3.2\"}};\n",
       "    var render_items = [{\"docid\":\"e3341eef-b1ca-4cc7-bf38-9bea02b3acd2\",\"root_ids\":[\"23006\"],\"roots\":{\"23006\":\"efb15bbb-bfef-43b1-98b3-bd9bdb01bf96\"}}];\n",
       "    root.Bokeh.embed.embed_items_notebook(docs_json, render_items);\n",
       "  }\n",
       "  if (root.Bokeh !== undefined && root.Bokeh.Panel !== undefined) {\n",
       "    embed_document(root);\n",
       "  } else {\n",
       "    var attempts = 0;\n",
       "    var timer = setInterval(function(root) {\n",
       "      if (root.Bokeh !== undefined && root.Bokeh.Panel !== undefined) {\n",
       "        clearInterval(timer);\n",
       "        embed_document(root);\n",
       "      } else if (document.readyState == \"complete\") {\n",
       "        attempts++;\n",
       "        if (attempts > 200) {\n",
       "          clearInterval(timer);\n",
       "          console.log(\"Bokeh: ERROR: Unable to run BokehJS code because BokehJS library is missing\");\n",
       "        }\n",
       "      }\n",
       "    }, 25, root)\n",
       "  }\n",
       "})(window);</script>"
      ],
      "text/plain": [
       ":Scatter   [Spending per pupil]   (12-17 Estimate,State)"
      ]
     },
     "execution_count": 426,
     "metadata": {
      "application/vnd.holoviews_exec.v0+json": {
       "id": "23006"
      }
     },
     "output_type": "execute_result"
    }
   ],
   "source": [
    "#creates a scatter plot comparing spending per pupil to \n",
    "#% of students with alcohol use disorder\n",
    "scatter_fin_alc= fin_alc.hvplot.scatter(\n",
    "    x=\"Spending per pupil\",\n",
    "    y=\"12-17 Estimate\",\n",
    "    yformatter=\"%.2f\",\n",
    "    rot=45,\n",
    "    height=500,\n",
    "    width=700,\n",
    "    ylabel= '% of Children Age 12-17',\n",
    "    xlabel='Spending per Pupil, USD',\n",
    "    hover_data={'State'},\n",
    "    hover_cols=\"State\",\n",
    "    title=\"Spending per Pupil vs. % of Children with Alcohol Use Disorder 2016\")\n",
    "scatter_fin_alc"
   ]
  },
  {
   "cell_type": "code",
   "execution_count": 328,
   "id": "8f6209ec-b2de-493c-a7c2-6d828a507ac6",
   "metadata": {},
   "outputs": [
    {
     "data": {
      "application/vnd.plotly.v1+json": {
       "config": {
        "plotlyServerURL": "https://plot.ly"
       },
       "data": [
        {
         "coloraxis": "coloraxis",
         "geo": "geo",
         "hovertemplate": "<b>%{hovertext}</b><br><br>Code=%{location}<br>color=%{z}<extra></extra>",
         "hovertext": [
          "Alabama",
          "Alaska",
          "Arizona",
          "Arkansas",
          "California",
          "Colorado",
          "Connecticut",
          "Delaware",
          "Florida",
          "Georgia",
          "Hawaii",
          "Idaho",
          "Illinois",
          "Indiana",
          "Iowa",
          "Kansas",
          "Kentucky",
          "Louisiana",
          "Maine",
          "Maryland",
          "Massachusetts",
          "Michigan",
          "Minnesota",
          "Mississippi",
          "Missouri",
          "Montana",
          "Nebraska",
          "Nevada",
          "New Hampshire",
          "New Jersey",
          "New Mexico",
          "New York",
          "North Carolina",
          "North Dakota",
          "Ohio",
          "Oklahoma",
          "Oregon",
          "Pennsylvania",
          "Rhode Island",
          "South Carolina",
          "South Dakota",
          "Tennessee",
          "Texas",
          "Utah",
          "Vermont",
          "Virginia",
          "Washington",
          "West Virginia",
          "Wisconsin",
          "Wyoming"
         ],
         "locationmode": "USA-states",
         "locations": [
          "AL",
          "AK",
          "AZ",
          "AR",
          "CA",
          "CO",
          "CT",
          "DE",
          "FL",
          "GA",
          "HI",
          "ID",
          "IL",
          "IN",
          "IA",
          "KS",
          "KY",
          "LA",
          "ME",
          "MD",
          "MA",
          "MI",
          "MN",
          "MS",
          "MO",
          "MT",
          "NE",
          "NV",
          "NH",
          "NJ",
          "NM",
          "NY",
          "NC",
          "ND",
          "OH",
          "OK",
          "OR",
          "PA",
          "RI",
          "SC",
          "SD",
          "TN",
          "TX",
          "UT",
          "VT",
          "VA",
          "WA",
          "WV",
          "WI",
          "WY"
         ],
         "name": "",
         "type": "choropleth",
         "z": [
          1.67,
          2.59,
          2.28,
          2.14,
          2.33,
          2.6,
          2.82,
          2.08,
          2.2,
          1.73,
          2.35,
          2.56,
          2.25,
          2.07,
          2.46,
          2.36,
          2.08,
          2.6,
          2.42,
          1.99,
          2.56,
          2.36,
          2.16,
          1.68,
          2.21,
          2.91,
          2.43,
          2.59,
          2.28,
          2.19,
          2.76,
          2.21,
          1.62,
          2.82,
          2.16,
          2.09,
          2.79,
          2.12,
          2.32,
          2.11,
          2.87,
          1.85,
          2.38,
          1.87,
          2.6,
          2.08,
          2.3,
          2.14,
          2.63,
          2.86
         ]
        }
       ],
       "layout": {
        "coloraxis": {
         "cmax": 3,
         "cmin": 1,
         "colorbar": {
          "title": {
           "text": "% of Children"
          }
         },
         "colorscale": [
          [
           0,
           "rgb(94,79,162)"
          ],
          [
           0.1,
           "rgb(50,136,189)"
          ],
          [
           0.2,
           "rgb(102,194,165)"
          ],
          [
           0.3,
           "rgb(171,221,164)"
          ],
          [
           0.4,
           "rgb(230,245,152)"
          ],
          [
           0.5,
           "rgb(255,255,191)"
          ],
          [
           0.6,
           "rgb(254,224,139)"
          ],
          [
           0.7,
           "rgb(253,174,97)"
          ],
          [
           0.8,
           "rgb(244,109,67)"
          ],
          [
           0.9,
           "rgb(213,62,79)"
          ],
          [
           1,
           "rgb(158,1,66)"
          ]
         ]
        },
        "geo": {
         "center": {
          "lat": 38.7,
          "lon": -96.6
         },
         "domain": {
          "x": [
           0,
           1
          ],
          "y": [
           0,
           1
          ]
         },
         "fitbounds": false,
         "projection": {
          "scale": 1
         },
         "scope": "usa"
        },
        "height": 500,
        "legend": {
         "tracegroupgap": 0
        },
        "margin": {
         "l": 5,
         "r": 10
        },
        "template": {
         "data": {
          "bar": [
           {
            "error_x": {
             "color": "#2a3f5f"
            },
            "error_y": {
             "color": "#2a3f5f"
            },
            "marker": {
             "line": {
              "color": "#E5ECF6",
              "width": 0.5
             },
             "pattern": {
              "fillmode": "overlay",
              "size": 10,
              "solidity": 0.2
             }
            },
            "type": "bar"
           }
          ],
          "barpolar": [
           {
            "marker": {
             "line": {
              "color": "#E5ECF6",
              "width": 0.5
             },
             "pattern": {
              "fillmode": "overlay",
              "size": 10,
              "solidity": 0.2
             }
            },
            "type": "barpolar"
           }
          ],
          "carpet": [
           {
            "aaxis": {
             "endlinecolor": "#2a3f5f",
             "gridcolor": "white",
             "linecolor": "white",
             "minorgridcolor": "white",
             "startlinecolor": "#2a3f5f"
            },
            "baxis": {
             "endlinecolor": "#2a3f5f",
             "gridcolor": "white",
             "linecolor": "white",
             "minorgridcolor": "white",
             "startlinecolor": "#2a3f5f"
            },
            "type": "carpet"
           }
          ],
          "choropleth": [
           {
            "colorbar": {
             "outlinewidth": 0,
             "ticks": ""
            },
            "type": "choropleth"
           }
          ],
          "contour": [
           {
            "colorbar": {
             "outlinewidth": 0,
             "ticks": ""
            },
            "colorscale": [
             [
              0,
              "#0d0887"
             ],
             [
              0.1111111111111111,
              "#46039f"
             ],
             [
              0.2222222222222222,
              "#7201a8"
             ],
             [
              0.3333333333333333,
              "#9c179e"
             ],
             [
              0.4444444444444444,
              "#bd3786"
             ],
             [
              0.5555555555555556,
              "#d8576b"
             ],
             [
              0.6666666666666666,
              "#ed7953"
             ],
             [
              0.7777777777777778,
              "#fb9f3a"
             ],
             [
              0.8888888888888888,
              "#fdca26"
             ],
             [
              1,
              "#f0f921"
             ]
            ],
            "type": "contour"
           }
          ],
          "contourcarpet": [
           {
            "colorbar": {
             "outlinewidth": 0,
             "ticks": ""
            },
            "type": "contourcarpet"
           }
          ],
          "heatmap": [
           {
            "colorbar": {
             "outlinewidth": 0,
             "ticks": ""
            },
            "colorscale": [
             [
              0,
              "#0d0887"
             ],
             [
              0.1111111111111111,
              "#46039f"
             ],
             [
              0.2222222222222222,
              "#7201a8"
             ],
             [
              0.3333333333333333,
              "#9c179e"
             ],
             [
              0.4444444444444444,
              "#bd3786"
             ],
             [
              0.5555555555555556,
              "#d8576b"
             ],
             [
              0.6666666666666666,
              "#ed7953"
             ],
             [
              0.7777777777777778,
              "#fb9f3a"
             ],
             [
              0.8888888888888888,
              "#fdca26"
             ],
             [
              1,
              "#f0f921"
             ]
            ],
            "type": "heatmap"
           }
          ],
          "heatmapgl": [
           {
            "colorbar": {
             "outlinewidth": 0,
             "ticks": ""
            },
            "colorscale": [
             [
              0,
              "#0d0887"
             ],
             [
              0.1111111111111111,
              "#46039f"
             ],
             [
              0.2222222222222222,
              "#7201a8"
             ],
             [
              0.3333333333333333,
              "#9c179e"
             ],
             [
              0.4444444444444444,
              "#bd3786"
             ],
             [
              0.5555555555555556,
              "#d8576b"
             ],
             [
              0.6666666666666666,
              "#ed7953"
             ],
             [
              0.7777777777777778,
              "#fb9f3a"
             ],
             [
              0.8888888888888888,
              "#fdca26"
             ],
             [
              1,
              "#f0f921"
             ]
            ],
            "type": "heatmapgl"
           }
          ],
          "histogram": [
           {
            "marker": {
             "pattern": {
              "fillmode": "overlay",
              "size": 10,
              "solidity": 0.2
             }
            },
            "type": "histogram"
           }
          ],
          "histogram2d": [
           {
            "colorbar": {
             "outlinewidth": 0,
             "ticks": ""
            },
            "colorscale": [
             [
              0,
              "#0d0887"
             ],
             [
              0.1111111111111111,
              "#46039f"
             ],
             [
              0.2222222222222222,
              "#7201a8"
             ],
             [
              0.3333333333333333,
              "#9c179e"
             ],
             [
              0.4444444444444444,
              "#bd3786"
             ],
             [
              0.5555555555555556,
              "#d8576b"
             ],
             [
              0.6666666666666666,
              "#ed7953"
             ],
             [
              0.7777777777777778,
              "#fb9f3a"
             ],
             [
              0.8888888888888888,
              "#fdca26"
             ],
             [
              1,
              "#f0f921"
             ]
            ],
            "type": "histogram2d"
           }
          ],
          "histogram2dcontour": [
           {
            "colorbar": {
             "outlinewidth": 0,
             "ticks": ""
            },
            "colorscale": [
             [
              0,
              "#0d0887"
             ],
             [
              0.1111111111111111,
              "#46039f"
             ],
             [
              0.2222222222222222,
              "#7201a8"
             ],
             [
              0.3333333333333333,
              "#9c179e"
             ],
             [
              0.4444444444444444,
              "#bd3786"
             ],
             [
              0.5555555555555556,
              "#d8576b"
             ],
             [
              0.6666666666666666,
              "#ed7953"
             ],
             [
              0.7777777777777778,
              "#fb9f3a"
             ],
             [
              0.8888888888888888,
              "#fdca26"
             ],
             [
              1,
              "#f0f921"
             ]
            ],
            "type": "histogram2dcontour"
           }
          ],
          "mesh3d": [
           {
            "colorbar": {
             "outlinewidth": 0,
             "ticks": ""
            },
            "type": "mesh3d"
           }
          ],
          "parcoords": [
           {
            "line": {
             "colorbar": {
              "outlinewidth": 0,
              "ticks": ""
             }
            },
            "type": "parcoords"
           }
          ],
          "pie": [
           {
            "automargin": true,
            "type": "pie"
           }
          ],
          "scatter": [
           {
            "marker": {
             "colorbar": {
              "outlinewidth": 0,
              "ticks": ""
             }
            },
            "type": "scatter"
           }
          ],
          "scatter3d": [
           {
            "line": {
             "colorbar": {
              "outlinewidth": 0,
              "ticks": ""
             }
            },
            "marker": {
             "colorbar": {
              "outlinewidth": 0,
              "ticks": ""
             }
            },
            "type": "scatter3d"
           }
          ],
          "scattercarpet": [
           {
            "marker": {
             "colorbar": {
              "outlinewidth": 0,
              "ticks": ""
             }
            },
            "type": "scattercarpet"
           }
          ],
          "scattergeo": [
           {
            "marker": {
             "colorbar": {
              "outlinewidth": 0,
              "ticks": ""
             }
            },
            "type": "scattergeo"
           }
          ],
          "scattergl": [
           {
            "marker": {
             "colorbar": {
              "outlinewidth": 0,
              "ticks": ""
             }
            },
            "type": "scattergl"
           }
          ],
          "scattermapbox": [
           {
            "marker": {
             "colorbar": {
              "outlinewidth": 0,
              "ticks": ""
             }
            },
            "type": "scattermapbox"
           }
          ],
          "scatterpolar": [
           {
            "marker": {
             "colorbar": {
              "outlinewidth": 0,
              "ticks": ""
             }
            },
            "type": "scatterpolar"
           }
          ],
          "scatterpolargl": [
           {
            "marker": {
             "colorbar": {
              "outlinewidth": 0,
              "ticks": ""
             }
            },
            "type": "scatterpolargl"
           }
          ],
          "scatterternary": [
           {
            "marker": {
             "colorbar": {
              "outlinewidth": 0,
              "ticks": ""
             }
            },
            "type": "scatterternary"
           }
          ],
          "surface": [
           {
            "colorbar": {
             "outlinewidth": 0,
             "ticks": ""
            },
            "colorscale": [
             [
              0,
              "#0d0887"
             ],
             [
              0.1111111111111111,
              "#46039f"
             ],
             [
              0.2222222222222222,
              "#7201a8"
             ],
             [
              0.3333333333333333,
              "#9c179e"
             ],
             [
              0.4444444444444444,
              "#bd3786"
             ],
             [
              0.5555555555555556,
              "#d8576b"
             ],
             [
              0.6666666666666666,
              "#ed7953"
             ],
             [
              0.7777777777777778,
              "#fb9f3a"
             ],
             [
              0.8888888888888888,
              "#fdca26"
             ],
             [
              1,
              "#f0f921"
             ]
            ],
            "type": "surface"
           }
          ],
          "table": [
           {
            "cells": {
             "fill": {
              "color": "#EBF0F8"
             },
             "line": {
              "color": "white"
             }
            },
            "header": {
             "fill": {
              "color": "#C8D4E3"
             },
             "line": {
              "color": "white"
             }
            },
            "type": "table"
           }
          ]
         },
         "layout": {
          "annotationdefaults": {
           "arrowcolor": "#2a3f5f",
           "arrowhead": 0,
           "arrowwidth": 1
          },
          "autotypenumbers": "strict",
          "coloraxis": {
           "colorbar": {
            "outlinewidth": 0,
            "ticks": ""
           }
          },
          "colorscale": {
           "diverging": [
            [
             0,
             "#8e0152"
            ],
            [
             0.1,
             "#c51b7d"
            ],
            [
             0.2,
             "#de77ae"
            ],
            [
             0.3,
             "#f1b6da"
            ],
            [
             0.4,
             "#fde0ef"
            ],
            [
             0.5,
             "#f7f7f7"
            ],
            [
             0.6,
             "#e6f5d0"
            ],
            [
             0.7,
             "#b8e186"
            ],
            [
             0.8,
             "#7fbc41"
            ],
            [
             0.9,
             "#4d9221"
            ],
            [
             1,
             "#276419"
            ]
           ],
           "sequential": [
            [
             0,
             "#0d0887"
            ],
            [
             0.1111111111111111,
             "#46039f"
            ],
            [
             0.2222222222222222,
             "#7201a8"
            ],
            [
             0.3333333333333333,
             "#9c179e"
            ],
            [
             0.4444444444444444,
             "#bd3786"
            ],
            [
             0.5555555555555556,
             "#d8576b"
            ],
            [
             0.6666666666666666,
             "#ed7953"
            ],
            [
             0.7777777777777778,
             "#fb9f3a"
            ],
            [
             0.8888888888888888,
             "#fdca26"
            ],
            [
             1,
             "#f0f921"
            ]
           ],
           "sequentialminus": [
            [
             0,
             "#0d0887"
            ],
            [
             0.1111111111111111,
             "#46039f"
            ],
            [
             0.2222222222222222,
             "#7201a8"
            ],
            [
             0.3333333333333333,
             "#9c179e"
            ],
            [
             0.4444444444444444,
             "#bd3786"
            ],
            [
             0.5555555555555556,
             "#d8576b"
            ],
            [
             0.6666666666666666,
             "#ed7953"
            ],
            [
             0.7777777777777778,
             "#fb9f3a"
            ],
            [
             0.8888888888888888,
             "#fdca26"
            ],
            [
             1,
             "#f0f921"
            ]
           ]
          },
          "colorway": [
           "#636efa",
           "#EF553B",
           "#00cc96",
           "#ab63fa",
           "#FFA15A",
           "#19d3f3",
           "#FF6692",
           "#B6E880",
           "#FF97FF",
           "#FECB52"
          ],
          "font": {
           "color": "#2a3f5f"
          },
          "geo": {
           "bgcolor": "white",
           "lakecolor": "white",
           "landcolor": "#E5ECF6",
           "showlakes": true,
           "showland": true,
           "subunitcolor": "white"
          },
          "hoverlabel": {
           "align": "left"
          },
          "hovermode": "closest",
          "mapbox": {
           "style": "light"
          },
          "paper_bgcolor": "white",
          "plot_bgcolor": "#E5ECF6",
          "polar": {
           "angularaxis": {
            "gridcolor": "white",
            "linecolor": "white",
            "ticks": ""
           },
           "bgcolor": "#E5ECF6",
           "radialaxis": {
            "gridcolor": "white",
            "linecolor": "white",
            "ticks": ""
           }
          },
          "scene": {
           "xaxis": {
            "backgroundcolor": "#E5ECF6",
            "gridcolor": "white",
            "gridwidth": 2,
            "linecolor": "white",
            "showbackground": true,
            "ticks": "",
            "zerolinecolor": "white"
           },
           "yaxis": {
            "backgroundcolor": "#E5ECF6",
            "gridcolor": "white",
            "gridwidth": 2,
            "linecolor": "white",
            "showbackground": true,
            "ticks": "",
            "zerolinecolor": "white"
           },
           "zaxis": {
            "backgroundcolor": "#E5ECF6",
            "gridcolor": "white",
            "gridwidth": 2,
            "linecolor": "white",
            "showbackground": true,
            "ticks": "",
            "zerolinecolor": "white"
           }
          },
          "shapedefaults": {
           "line": {
            "color": "#2a3f5f"
           }
          },
          "ternary": {
           "aaxis": {
            "gridcolor": "white",
            "linecolor": "white",
            "ticks": ""
           },
           "baxis": {
            "gridcolor": "white",
            "linecolor": "white",
            "ticks": ""
           },
           "bgcolor": "#E5ECF6",
           "caxis": {
            "gridcolor": "white",
            "linecolor": "white",
            "ticks": ""
           }
          },
          "title": {
           "x": 0.05
          },
          "xaxis": {
           "automargin": true,
           "gridcolor": "white",
           "linecolor": "white",
           "ticks": "",
           "title": {
            "standoff": 15
           },
           "zerolinecolor": "white",
           "zerolinewidth": 2
          },
          "yaxis": {
           "automargin": true,
           "gridcolor": "white",
           "linecolor": "white",
           "ticks": "",
           "title": {
            "standoff": 15
           },
           "zerolinecolor": "white",
           "zerolinewidth": 2
          }
         }
        },
        "title": {
         "text": "Alcoholism Among Children Age 12-17"
        },
        "width": 700
       }
      },
      "text/html": [
       "<div>                            <div id=\"c198da9a-aede-4827-9627-0f9014801c78\" class=\"plotly-graph-div\" style=\"height:500px; width:700px;\"></div>            <script type=\"text/javascript\">                require([\"plotly\"], function(Plotly) {                    window.PLOTLYENV=window.PLOTLYENV || {};                                    if (document.getElementById(\"c198da9a-aede-4827-9627-0f9014801c78\")) {                    Plotly.newPlot(                        \"c198da9a-aede-4827-9627-0f9014801c78\",                        [{\"coloraxis\":\"coloraxis\",\"geo\":\"geo\",\"hovertemplate\":\"<b>%{hovertext}</b><br><br>Code=%{location}<br>color=%{z}<extra></extra>\",\"hovertext\":[\"Alabama\",\"Alaska\",\"Arizona\",\"Arkansas\",\"California\",\"Colorado\",\"Connecticut\",\"Delaware\",\"Florida\",\"Georgia\",\"Hawaii\",\"Idaho\",\"Illinois\",\"Indiana\",\"Iowa\",\"Kansas\",\"Kentucky\",\"Louisiana\",\"Maine\",\"Maryland\",\"Massachusetts\",\"Michigan\",\"Minnesota\",\"Mississippi\",\"Missouri\",\"Montana\",\"Nebraska\",\"Nevada\",\"New Hampshire\",\"New Jersey\",\"New Mexico\",\"New York\",\"North Carolina\",\"North Dakota\",\"Ohio\",\"Oklahoma\",\"Oregon\",\"Pennsylvania\",\"Rhode Island\",\"South Carolina\",\"South Dakota\",\"Tennessee\",\"Texas\",\"Utah\",\"Vermont\",\"Virginia\",\"Washington\",\"West Virginia\",\"Wisconsin\",\"Wyoming\"],\"locationmode\":\"USA-states\",\"locations\":[\"AL\",\"AK\",\"AZ\",\"AR\",\"CA\",\"CO\",\"CT\",\"DE\",\"FL\",\"GA\",\"HI\",\"ID\",\"IL\",\"IN\",\"IA\",\"KS\",\"KY\",\"LA\",\"ME\",\"MD\",\"MA\",\"MI\",\"MN\",\"MS\",\"MO\",\"MT\",\"NE\",\"NV\",\"NH\",\"NJ\",\"NM\",\"NY\",\"NC\",\"ND\",\"OH\",\"OK\",\"OR\",\"PA\",\"RI\",\"SC\",\"SD\",\"TN\",\"TX\",\"UT\",\"VT\",\"VA\",\"WA\",\"WV\",\"WI\",\"WY\"],\"name\":\"\",\"type\":\"choropleth\",\"z\":[1.67,2.59,2.28,2.14,2.33,2.6,2.82,2.08,2.2,1.73,2.35,2.56,2.25,2.07,2.46,2.36,2.08,2.6,2.42,1.99,2.56,2.36,2.16,1.68,2.21,2.91,2.43,2.59,2.28,2.19,2.76,2.21,1.62,2.82,2.16,2.09,2.79,2.12,2.32,2.11,2.87,1.85,2.38,1.87,2.6,2.08,2.3,2.14,2.63,2.86]}],                        {\"coloraxis\":{\"cmax\":3,\"cmin\":1,\"colorbar\":{\"title\":{\"text\":\"% of Children\"}},\"colorscale\":[[0.0,\"rgb(94,79,162)\"],[0.1,\"rgb(50,136,189)\"],[0.2,\"rgb(102,194,165)\"],[0.3,\"rgb(171,221,164)\"],[0.4,\"rgb(230,245,152)\"],[0.5,\"rgb(255,255,191)\"],[0.6,\"rgb(254,224,139)\"],[0.7,\"rgb(253,174,97)\"],[0.8,\"rgb(244,109,67)\"],[0.9,\"rgb(213,62,79)\"],[1.0,\"rgb(158,1,66)\"]]},\"geo\":{\"center\":{},\"domain\":{\"x\":[0.0,1.0],\"y\":[0.0,1.0]},\"scope\":\"usa\"},\"height\":500,\"legend\":{\"tracegroupgap\":0},\"margin\":{\"l\":5,\"r\":10},\"template\":{\"data\":{\"bar\":[{\"error_x\":{\"color\":\"#2a3f5f\"},\"error_y\":{\"color\":\"#2a3f5f\"},\"marker\":{\"line\":{\"color\":\"#E5ECF6\",\"width\":0.5},\"pattern\":{\"fillmode\":\"overlay\",\"size\":10,\"solidity\":0.2}},\"type\":\"bar\"}],\"barpolar\":[{\"marker\":{\"line\":{\"color\":\"#E5ECF6\",\"width\":0.5},\"pattern\":{\"fillmode\":\"overlay\",\"size\":10,\"solidity\":0.2}},\"type\":\"barpolar\"}],\"carpet\":[{\"aaxis\":{\"endlinecolor\":\"#2a3f5f\",\"gridcolor\":\"white\",\"linecolor\":\"white\",\"minorgridcolor\":\"white\",\"startlinecolor\":\"#2a3f5f\"},\"baxis\":{\"endlinecolor\":\"#2a3f5f\",\"gridcolor\":\"white\",\"linecolor\":\"white\",\"minorgridcolor\":\"white\",\"startlinecolor\":\"#2a3f5f\"},\"type\":\"carpet\"}],\"choropleth\":[{\"colorbar\":{\"outlinewidth\":0,\"ticks\":\"\"},\"type\":\"choropleth\"}],\"contour\":[{\"colorbar\":{\"outlinewidth\":0,\"ticks\":\"\"},\"colorscale\":[[0.0,\"#0d0887\"],[0.1111111111111111,\"#46039f\"],[0.2222222222222222,\"#7201a8\"],[0.3333333333333333,\"#9c179e\"],[0.4444444444444444,\"#bd3786\"],[0.5555555555555556,\"#d8576b\"],[0.6666666666666666,\"#ed7953\"],[0.7777777777777778,\"#fb9f3a\"],[0.8888888888888888,\"#fdca26\"],[1.0,\"#f0f921\"]],\"type\":\"contour\"}],\"contourcarpet\":[{\"colorbar\":{\"outlinewidth\":0,\"ticks\":\"\"},\"type\":\"contourcarpet\"}],\"heatmap\":[{\"colorbar\":{\"outlinewidth\":0,\"ticks\":\"\"},\"colorscale\":[[0.0,\"#0d0887\"],[0.1111111111111111,\"#46039f\"],[0.2222222222222222,\"#7201a8\"],[0.3333333333333333,\"#9c179e\"],[0.4444444444444444,\"#bd3786\"],[0.5555555555555556,\"#d8576b\"],[0.6666666666666666,\"#ed7953\"],[0.7777777777777778,\"#fb9f3a\"],[0.8888888888888888,\"#fdca26\"],[1.0,\"#f0f921\"]],\"type\":\"heatmap\"}],\"heatmapgl\":[{\"colorbar\":{\"outlinewidth\":0,\"ticks\":\"\"},\"colorscale\":[[0.0,\"#0d0887\"],[0.1111111111111111,\"#46039f\"],[0.2222222222222222,\"#7201a8\"],[0.3333333333333333,\"#9c179e\"],[0.4444444444444444,\"#bd3786\"],[0.5555555555555556,\"#d8576b\"],[0.6666666666666666,\"#ed7953\"],[0.7777777777777778,\"#fb9f3a\"],[0.8888888888888888,\"#fdca26\"],[1.0,\"#f0f921\"]],\"type\":\"heatmapgl\"}],\"histogram\":[{\"marker\":{\"pattern\":{\"fillmode\":\"overlay\",\"size\":10,\"solidity\":0.2}},\"type\":\"histogram\"}],\"histogram2d\":[{\"colorbar\":{\"outlinewidth\":0,\"ticks\":\"\"},\"colorscale\":[[0.0,\"#0d0887\"],[0.1111111111111111,\"#46039f\"],[0.2222222222222222,\"#7201a8\"],[0.3333333333333333,\"#9c179e\"],[0.4444444444444444,\"#bd3786\"],[0.5555555555555556,\"#d8576b\"],[0.6666666666666666,\"#ed7953\"],[0.7777777777777778,\"#fb9f3a\"],[0.8888888888888888,\"#fdca26\"],[1.0,\"#f0f921\"]],\"type\":\"histogram2d\"}],\"histogram2dcontour\":[{\"colorbar\":{\"outlinewidth\":0,\"ticks\":\"\"},\"colorscale\":[[0.0,\"#0d0887\"],[0.1111111111111111,\"#46039f\"],[0.2222222222222222,\"#7201a8\"],[0.3333333333333333,\"#9c179e\"],[0.4444444444444444,\"#bd3786\"],[0.5555555555555556,\"#d8576b\"],[0.6666666666666666,\"#ed7953\"],[0.7777777777777778,\"#fb9f3a\"],[0.8888888888888888,\"#fdca26\"],[1.0,\"#f0f921\"]],\"type\":\"histogram2dcontour\"}],\"mesh3d\":[{\"colorbar\":{\"outlinewidth\":0,\"ticks\":\"\"},\"type\":\"mesh3d\"}],\"parcoords\":[{\"line\":{\"colorbar\":{\"outlinewidth\":0,\"ticks\":\"\"}},\"type\":\"parcoords\"}],\"pie\":[{\"automargin\":true,\"type\":\"pie\"}],\"scatter\":[{\"marker\":{\"colorbar\":{\"outlinewidth\":0,\"ticks\":\"\"}},\"type\":\"scatter\"}],\"scatter3d\":[{\"line\":{\"colorbar\":{\"outlinewidth\":0,\"ticks\":\"\"}},\"marker\":{\"colorbar\":{\"outlinewidth\":0,\"ticks\":\"\"}},\"type\":\"scatter3d\"}],\"scattercarpet\":[{\"marker\":{\"colorbar\":{\"outlinewidth\":0,\"ticks\":\"\"}},\"type\":\"scattercarpet\"}],\"scattergeo\":[{\"marker\":{\"colorbar\":{\"outlinewidth\":0,\"ticks\":\"\"}},\"type\":\"scattergeo\"}],\"scattergl\":[{\"marker\":{\"colorbar\":{\"outlinewidth\":0,\"ticks\":\"\"}},\"type\":\"scattergl\"}],\"scattermapbox\":[{\"marker\":{\"colorbar\":{\"outlinewidth\":0,\"ticks\":\"\"}},\"type\":\"scattermapbox\"}],\"scatterpolar\":[{\"marker\":{\"colorbar\":{\"outlinewidth\":0,\"ticks\":\"\"}},\"type\":\"scatterpolar\"}],\"scatterpolargl\":[{\"marker\":{\"colorbar\":{\"outlinewidth\":0,\"ticks\":\"\"}},\"type\":\"scatterpolargl\"}],\"scatterternary\":[{\"marker\":{\"colorbar\":{\"outlinewidth\":0,\"ticks\":\"\"}},\"type\":\"scatterternary\"}],\"surface\":[{\"colorbar\":{\"outlinewidth\":0,\"ticks\":\"\"},\"colorscale\":[[0.0,\"#0d0887\"],[0.1111111111111111,\"#46039f\"],[0.2222222222222222,\"#7201a8\"],[0.3333333333333333,\"#9c179e\"],[0.4444444444444444,\"#bd3786\"],[0.5555555555555556,\"#d8576b\"],[0.6666666666666666,\"#ed7953\"],[0.7777777777777778,\"#fb9f3a\"],[0.8888888888888888,\"#fdca26\"],[1.0,\"#f0f921\"]],\"type\":\"surface\"}],\"table\":[{\"cells\":{\"fill\":{\"color\":\"#EBF0F8\"},\"line\":{\"color\":\"white\"}},\"header\":{\"fill\":{\"color\":\"#C8D4E3\"},\"line\":{\"color\":\"white\"}},\"type\":\"table\"}]},\"layout\":{\"annotationdefaults\":{\"arrowcolor\":\"#2a3f5f\",\"arrowhead\":0,\"arrowwidth\":1},\"autotypenumbers\":\"strict\",\"coloraxis\":{\"colorbar\":{\"outlinewidth\":0,\"ticks\":\"\"}},\"colorscale\":{\"diverging\":[[0,\"#8e0152\"],[0.1,\"#c51b7d\"],[0.2,\"#de77ae\"],[0.3,\"#f1b6da\"],[0.4,\"#fde0ef\"],[0.5,\"#f7f7f7\"],[0.6,\"#e6f5d0\"],[0.7,\"#b8e186\"],[0.8,\"#7fbc41\"],[0.9,\"#4d9221\"],[1,\"#276419\"]],\"sequential\":[[0.0,\"#0d0887\"],[0.1111111111111111,\"#46039f\"],[0.2222222222222222,\"#7201a8\"],[0.3333333333333333,\"#9c179e\"],[0.4444444444444444,\"#bd3786\"],[0.5555555555555556,\"#d8576b\"],[0.6666666666666666,\"#ed7953\"],[0.7777777777777778,\"#fb9f3a\"],[0.8888888888888888,\"#fdca26\"],[1.0,\"#f0f921\"]],\"sequentialminus\":[[0.0,\"#0d0887\"],[0.1111111111111111,\"#46039f\"],[0.2222222222222222,\"#7201a8\"],[0.3333333333333333,\"#9c179e\"],[0.4444444444444444,\"#bd3786\"],[0.5555555555555556,\"#d8576b\"],[0.6666666666666666,\"#ed7953\"],[0.7777777777777778,\"#fb9f3a\"],[0.8888888888888888,\"#fdca26\"],[1.0,\"#f0f921\"]]},\"colorway\":[\"#636efa\",\"#EF553B\",\"#00cc96\",\"#ab63fa\",\"#FFA15A\",\"#19d3f3\",\"#FF6692\",\"#B6E880\",\"#FF97FF\",\"#FECB52\"],\"font\":{\"color\":\"#2a3f5f\"},\"geo\":{\"bgcolor\":\"white\",\"lakecolor\":\"white\",\"landcolor\":\"#E5ECF6\",\"showlakes\":true,\"showland\":true,\"subunitcolor\":\"white\"},\"hoverlabel\":{\"align\":\"left\"},\"hovermode\":\"closest\",\"mapbox\":{\"style\":\"light\"},\"paper_bgcolor\":\"white\",\"plot_bgcolor\":\"#E5ECF6\",\"polar\":{\"angularaxis\":{\"gridcolor\":\"white\",\"linecolor\":\"white\",\"ticks\":\"\"},\"bgcolor\":\"#E5ECF6\",\"radialaxis\":{\"gridcolor\":\"white\",\"linecolor\":\"white\",\"ticks\":\"\"}},\"scene\":{\"xaxis\":{\"backgroundcolor\":\"#E5ECF6\",\"gridcolor\":\"white\",\"gridwidth\":2,\"linecolor\":\"white\",\"showbackground\":true,\"ticks\":\"\",\"zerolinecolor\":\"white\"},\"yaxis\":{\"backgroundcolor\":\"#E5ECF6\",\"gridcolor\":\"white\",\"gridwidth\":2,\"linecolor\":\"white\",\"showbackground\":true,\"ticks\":\"\",\"zerolinecolor\":\"white\"},\"zaxis\":{\"backgroundcolor\":\"#E5ECF6\",\"gridcolor\":\"white\",\"gridwidth\":2,\"linecolor\":\"white\",\"showbackground\":true,\"ticks\":\"\",\"zerolinecolor\":\"white\"}},\"shapedefaults\":{\"line\":{\"color\":\"#2a3f5f\"}},\"ternary\":{\"aaxis\":{\"gridcolor\":\"white\",\"linecolor\":\"white\",\"ticks\":\"\"},\"baxis\":{\"gridcolor\":\"white\",\"linecolor\":\"white\",\"ticks\":\"\"},\"bgcolor\":\"#E5ECF6\",\"caxis\":{\"gridcolor\":\"white\",\"linecolor\":\"white\",\"ticks\":\"\"}},\"title\":{\"x\":0.05},\"xaxis\":{\"automargin\":true,\"gridcolor\":\"white\",\"linecolor\":\"white\",\"ticks\":\"\",\"title\":{\"standoff\":15},\"zerolinecolor\":\"white\",\"zerolinewidth\":2},\"yaxis\":{\"automargin\":true,\"gridcolor\":\"white\",\"linecolor\":\"white\",\"ticks\":\"\",\"title\":{\"standoff\":15},\"zerolinecolor\":\"white\",\"zerolinewidth\":2}}},\"title\":{\"text\":\"Alcoholism Among Children Age 12-17\"},\"width\":700},                        {\"responsive\": true}                    ).then(function(){\n",
       "                            \n",
       "var gd = document.getElementById('c198da9a-aede-4827-9627-0f9014801c78');\n",
       "var x = new MutationObserver(function (mutations, observer) {{\n",
       "        var display = window.getComputedStyle(gd).display;\n",
       "        if (!display || display === 'none') {{\n",
       "            console.log([gd, 'removed!']);\n",
       "            Plotly.purge(gd);\n",
       "            observer.disconnect();\n",
       "        }}\n",
       "}});\n",
       "\n",
       "// Listen for the removal of the full notebook cells\n",
       "var notebookContainer = gd.closest('#notebook-container');\n",
       "if (notebookContainer) {{\n",
       "    x.observe(notebookContainer, {childList: true});\n",
       "}}\n",
       "\n",
       "// Listen for the clearing of the current output cell\n",
       "var outputEl = gd.closest('.output');\n",
       "if (outputEl) {{\n",
       "    x.observe(outputEl, {childList: true});\n",
       "}}\n",
       "\n",
       "                        })                };                });            </script>        </div>"
      ]
     },
     "metadata": {},
     "output_type": "display_data"
    }
   ],
   "source": [
    "#creates a heat map of alcoholism data\n",
    "#in case I wanted to use it in my ppt\n",
    "fin_alc['Code'] = fin_alc['State'].map(code)\n",
    "fig = px.choropleth(fin_alc,\n",
    "                    locations='Code',\n",
    "                    color= fin_alc['12-17 Estimate'].astype(float),\n",
    "                    range_color=[1,3],\n",
    "                    color_continuous_scale='spectral_r',\n",
    "                    hover_name='State',\n",
    "                    locationmode='USA-states',\n",
    "                    title=\"Alcoholism Among Children Age 12-17\",\n",
    "                    scope='usa',\n",
    "                    width=700,\n",
    "                    height=500,\n",
    "                   )\n",
    "fig.update_layout(coloraxis_colorbar=dict(\n",
    "    title=\"% of Children\"))\n",
    "fig= fig.update_layout(margin_l=5)\n",
    "fig=fig.update_layout(margin_r=10)\n",
    "fig"
   ]
  },
  {
   "cell_type": "code",
   "execution_count": 329,
   "id": "d2cbfded-92ac-4c3a-87ce-cdeb0ead0da8",
   "metadata": {},
   "outputs": [
    {
     "data": {
      "text/plain": [
       "0.3517611370106252"
      ]
     },
     "execution_count": 329,
     "metadata": {},
     "output_type": "execute_result"
    }
   ],
   "source": [
    "#drops outliers\n",
    "fin_alc2=fin_alc.drop([29,31])\n",
    "#calculates correlation between spending per pupil and AUD in students\n",
    "alc_cor = fin_alc2[\"Spending per pupil\"].astype(float).corr(fin_alc2[\"12-17 Estimate\"].astype(float), method='pearson') \n",
    "alc_cor\n"
   ]
  },
  {
   "cell_type": "code",
   "execution_count": 330,
   "id": "e5a97229-ce38-477b-8d22-68d53b642e71",
   "metadata": {},
   "outputs": [
    {
     "data": {
      "text/html": [
       "<div>\n",
       "<style scoped>\n",
       "    .dataframe tbody tr th:only-of-type {\n",
       "        vertical-align: middle;\n",
       "    }\n",
       "\n",
       "    .dataframe tbody tr th {\n",
       "        vertical-align: top;\n",
       "    }\n",
       "\n",
       "    .dataframe thead th {\n",
       "        text-align: right;\n",
       "    }\n",
       "</style>\n",
       "<table border=\"1\" class=\"dataframe\">\n",
       "  <thead>\n",
       "    <tr style=\"text-align: right;\">\n",
       "      <th></th>\n",
       "      <th>Order</th>\n",
       "      <th>State</th>\n",
       "      <th>12 or Older Estimate</th>\n",
       "      <th>12 or Older 95% CI (Lower)</th>\n",
       "      <th>12 or Older 95% CI (Upper)</th>\n",
       "      <th>12-17 Estimate</th>\n",
       "      <th>12-17 95% CI (Lower)</th>\n",
       "      <th>12-17 95% CI (Upper)</th>\n",
       "      <th>18-25 Estimate</th>\n",
       "      <th>18-25 95% CI (Lower)</th>\n",
       "      <th>18-25 95% CI (Upper)</th>\n",
       "      <th>26 or Older Estimate</th>\n",
       "      <th>26 or Older 95% CI (Lower)</th>\n",
       "      <th>26 or Older 95% CI (Upper)</th>\n",
       "      <th>18 or Older Estimate</th>\n",
       "      <th>18 or Older 95% CI (Lower)</th>\n",
       "      <th>18 or Older 95% CI (Upper)</th>\n",
       "    </tr>\n",
       "  </thead>\n",
       "  <tbody>\n",
       "    <tr>\n",
       "      <th>0</th>\n",
       "      <td>6</td>\n",
       "      <td>Alabama</td>\n",
       "      <td>3.35%</td>\n",
       "      <td>2.75%</td>\n",
       "      <td>4.06%</td>\n",
       "      <td>2.10</td>\n",
       "      <td>1.43%</td>\n",
       "      <td>3.08%</td>\n",
       "      <td>8.14%</td>\n",
       "      <td>6.31%</td>\n",
       "      <td>10.44%</td>\n",
       "      <td>2.70%</td>\n",
       "      <td>2.08%</td>\n",
       "      <td>3.49%</td>\n",
       "      <td>3.47%</td>\n",
       "      <td>2.82%</td>\n",
       "      <td>4.27%</td>\n",
       "    </tr>\n",
       "    <tr>\n",
       "      <th>1</th>\n",
       "      <td>7</td>\n",
       "      <td>Alaska</td>\n",
       "      <td>3.84%</td>\n",
       "      <td>3.17%</td>\n",
       "      <td>4.63%</td>\n",
       "      <td>3.62</td>\n",
       "      <td>2.54%</td>\n",
       "      <td>5.14%</td>\n",
       "      <td>7.97%</td>\n",
       "      <td>6.18%</td>\n",
       "      <td>10.22%</td>\n",
       "      <td>3.11%</td>\n",
       "      <td>2.39%</td>\n",
       "      <td>4.03%</td>\n",
       "      <td>3.86%</td>\n",
       "      <td>3.13%</td>\n",
       "      <td>4.75%</td>\n",
       "    </tr>\n",
       "    <tr>\n",
       "      <th>2</th>\n",
       "      <td>8</td>\n",
       "      <td>Arizona</td>\n",
       "      <td>3.92%</td>\n",
       "      <td>3.21%</td>\n",
       "      <td>4.77%</td>\n",
       "      <td>2.72</td>\n",
       "      <td>1.89%</td>\n",
       "      <td>3.91%</td>\n",
       "      <td>7.62%</td>\n",
       "      <td>5.82%</td>\n",
       "      <td>9.91%</td>\n",
       "      <td>3.44%</td>\n",
       "      <td>2.68%</td>\n",
       "      <td>4.40%</td>\n",
       "      <td>4.05%</td>\n",
       "      <td>3.27%</td>\n",
       "      <td>4.99%</td>\n",
       "    </tr>\n",
       "    <tr>\n",
       "      <th>3</th>\n",
       "      <td>9</td>\n",
       "      <td>Arkansas</td>\n",
       "      <td>3.30%</td>\n",
       "      <td>2.71%</td>\n",
       "      <td>4.02%</td>\n",
       "      <td>3.22</td>\n",
       "      <td>2.29%</td>\n",
       "      <td>4.52%</td>\n",
       "      <td>6.47%</td>\n",
       "      <td>4.96%</td>\n",
       "      <td>8.41%</td>\n",
       "      <td>2.78%</td>\n",
       "      <td>2.13%</td>\n",
       "      <td>3.62%</td>\n",
       "      <td>3.31%</td>\n",
       "      <td>2.67%</td>\n",
       "      <td>4.10%</td>\n",
       "    </tr>\n",
       "    <tr>\n",
       "      <th>4</th>\n",
       "      <td>10</td>\n",
       "      <td>California</td>\n",
       "      <td>3.99%</td>\n",
       "      <td>3.57%</td>\n",
       "      <td>4.45%</td>\n",
       "      <td>2.67</td>\n",
       "      <td>2.13%</td>\n",
       "      <td>3.34%</td>\n",
       "      <td>8.21%</td>\n",
       "      <td>7.10%</td>\n",
       "      <td>9.47%</td>\n",
       "      <td>3.41%</td>\n",
       "      <td>2.94%</td>\n",
       "      <td>3.96%</td>\n",
       "      <td>4.12%</td>\n",
       "      <td>3.67%</td>\n",
       "      <td>4.64%</td>\n",
       "    </tr>\n",
       "  </tbody>\n",
       "</table>\n",
       "</div>"
      ],
      "text/plain": [
       "   Order       State 12 or Older Estimate 12 or Older 95% CI (Lower)  \\\n",
       "0      6     Alabama                3.35%                      2.75%   \n",
       "1      7      Alaska                3.84%                      3.17%   \n",
       "2      8     Arizona                3.92%                      3.21%   \n",
       "3      9    Arkansas                3.30%                      2.71%   \n",
       "4     10  California                3.99%                      3.57%   \n",
       "\n",
       "  12 or Older 95% CI (Upper)  12-17 Estimate 12-17 95% CI (Lower)  \\\n",
       "0                      4.06%            2.10                1.43%   \n",
       "1                      4.63%            3.62                2.54%   \n",
       "2                      4.77%            2.72                1.89%   \n",
       "3                      4.02%            3.22                2.29%   \n",
       "4                      4.45%            2.67                2.13%   \n",
       "\n",
       "  12-17 95% CI (Upper) 18-25 Estimate 18-25 95% CI (Lower)  \\\n",
       "0                3.08%          8.14%                6.31%   \n",
       "1                5.14%          7.97%                6.18%   \n",
       "2                3.91%          7.62%                5.82%   \n",
       "3                4.52%          6.47%                4.96%   \n",
       "4                3.34%          8.21%                7.10%   \n",
       "\n",
       "  18-25 95% CI (Upper) 26 or Older Estimate 26 or Older 95% CI (Lower)  \\\n",
       "0               10.44%                2.70%                      2.08%   \n",
       "1               10.22%                3.11%                      2.39%   \n",
       "2                9.91%                3.44%                      2.68%   \n",
       "3                8.41%                2.78%                      2.13%   \n",
       "4                9.47%                3.41%                      2.94%   \n",
       "\n",
       "  26 or Older 95% CI (Upper) 18 or Older Estimate 18 or Older 95% CI (Lower)  \\\n",
       "0                      3.49%                3.47%                      2.82%   \n",
       "1                      4.03%                3.86%                      3.13%   \n",
       "2                      4.40%                4.05%                      3.27%   \n",
       "3                      3.62%                3.31%                      2.67%   \n",
       "4                      3.96%                4.12%                      3.67%   \n",
       "\n",
       "  18 or Older 95% CI (Upper)  \n",
       "0                      4.27%  \n",
       "1                      4.75%  \n",
       "2                      4.99%  \n",
       "3                      4.10%  \n",
       "4                      4.64%  "
      ]
     },
     "execution_count": 330,
     "metadata": {},
     "output_type": "execute_result"
    }
   ],
   "source": [
    "#imports data on illicit drug use (not including weed use)\n",
    "#cleans up data in the same way as the other datasets\n",
    "\n",
    "illicit_drugs = pd.read_csv(\n",
    "    Path(\"../uncc_project1/other_datasets/drug_abuse_data/illicit_drug_no_weed_past_month_2016.csv\"))\n",
    "\n",
    "\n",
    "illicit_drugs.loc[:,\"12-17 Estimate\"] = illicit_drugs.loc[:,\"12-17 Estimate\"].str.replace(\"%\", \"\")\n",
    "illicit_drugs['12-17 Estimate']= illicit_drugs['12-17 Estimate'].astype(float)\n",
    "\n",
    "illicit_drugs = illicit_drugs.drop([0,1,2,3,4,13])\n",
    "illicit_drugs = illicit_drugs.reset_index(drop=True)\n",
    "\n",
    "illicit_drugs.head()"
   ]
  },
  {
   "cell_type": "code",
   "execution_count": 427,
   "id": "d68df4c9-193e-48fa-b22d-2a66061dc602",
   "metadata": {},
   "outputs": [
    {
     "data": {
      "text/html": [
       "<div>\n",
       "<style scoped>\n",
       "    .dataframe tbody tr th:only-of-type {\n",
       "        vertical-align: middle;\n",
       "    }\n",
       "\n",
       "    .dataframe tbody tr th {\n",
       "        vertical-align: top;\n",
       "    }\n",
       "\n",
       "    .dataframe thead th {\n",
       "        text-align: right;\n",
       "    }\n",
       "</style>\n",
       "<table border=\"1\" class=\"dataframe\">\n",
       "  <thead>\n",
       "    <tr style=\"text-align: right;\">\n",
       "      <th></th>\n",
       "      <th>State</th>\n",
       "      <th>Rank in Spending</th>\n",
       "      <th>Spending per pupil</th>\n",
       "      <th>Total Funding</th>\n",
       "      <th>Funding State Sources</th>\n",
       "      <th>Funding Local Sources</th>\n",
       "      <th>Total Expenditures</th>\n",
       "      <th>Current Spending</th>\n",
       "      <th>Rank</th>\n",
       "      <th>College Readiness</th>\n",
       "      <th>High School Graduation Rate</th>\n",
       "      <th>NAEP Math Scores</th>\n",
       "      <th>NAEP Reading Scores</th>\n",
       "      <th>Preschool Enrollment</th>\n",
       "      <th>12-17 Estimate</th>\n",
       "    </tr>\n",
       "  </thead>\n",
       "  <tbody>\n",
       "    <tr>\n",
       "      <th>0</th>\n",
       "      <td>Alabama</td>\n",
       "      <td>45</td>\n",
       "      <td>9636</td>\n",
       "      <td>803907000</td>\n",
       "      <td>4148764000</td>\n",
       "      <td>2652925000</td>\n",
       "      <td>7854516000</td>\n",
       "      <td>7.000000e+09</td>\n",
       "      <td>45</td>\n",
       "      <td>44</td>\n",
       "      <td>5</td>\n",
       "      <td>49</td>\n",
       "      <td>48</td>\n",
       "      <td>38</td>\n",
       "      <td>2.10</td>\n",
       "    </tr>\n",
       "    <tr>\n",
       "      <th>1</th>\n",
       "      <td>Alaska</td>\n",
       "      <td>7</td>\n",
       "      <td>16576</td>\n",
       "      <td>307320000</td>\n",
       "      <td>1613675000</td>\n",
       "      <td>573685000</td>\n",
       "      <td>2623014000</td>\n",
       "      <td>2.327151e+09</td>\n",
       "      <td>49</td>\n",
       "      <td>37</td>\n",
       "      <td>49</td>\n",
       "      <td>43</td>\n",
       "      <td>49</td>\n",
       "      <td>33</td>\n",
       "      <td>3.62</td>\n",
       "    </tr>\n",
       "    <tr>\n",
       "      <th>2</th>\n",
       "      <td>Arizona</td>\n",
       "      <td>48</td>\n",
       "      <td>8882</td>\n",
       "      <td>1160908000</td>\n",
       "      <td>3440726000</td>\n",
       "      <td>3828455000</td>\n",
       "      <td>7984562000</td>\n",
       "      <td>7.276067e+09</td>\n",
       "      <td>47</td>\n",
       "      <td>47</td>\n",
       "      <td>47</td>\n",
       "      <td>27</td>\n",
       "      <td>37</td>\n",
       "      <td>42</td>\n",
       "      <td>2.72</td>\n",
       "    </tr>\n",
       "    <tr>\n",
       "      <th>3</th>\n",
       "      <td>Arkansas</td>\n",
       "      <td>43</td>\n",
       "      <td>9976</td>\n",
       "      <td>593656000</td>\n",
       "      <td>4122377000</td>\n",
       "      <td>668082000</td>\n",
       "      <td>5407470000</td>\n",
       "      <td>4.750938e+09</td>\n",
       "      <td>38</td>\n",
       "      <td>45</td>\n",
       "      <td>9</td>\n",
       "      <td>43</td>\n",
       "      <td>37</td>\n",
       "      <td>19</td>\n",
       "      <td>3.22</td>\n",
       "    </tr>\n",
       "    <tr>\n",
       "      <th>4</th>\n",
       "      <td>California</td>\n",
       "      <td>27</td>\n",
       "      <td>11588</td>\n",
       "      <td>7709079000</td>\n",
       "      <td>50904567000</td>\n",
       "      <td>27943521000</td>\n",
       "      <td>82146317000</td>\n",
       "      <td>7.264124e+10</td>\n",
       "      <td>40</td>\n",
       "      <td>33</td>\n",
       "      <td>36</td>\n",
       "      <td>38</td>\n",
       "      <td>37</td>\n",
       "      <td>16</td>\n",
       "      <td>2.67</td>\n",
       "    </tr>\n",
       "  </tbody>\n",
       "</table>\n",
       "</div>"
      ],
      "text/plain": [
       "        State  Rank in Spending  Spending per pupil  Total Funding  \\\n",
       "0     Alabama                45                9636      803907000   \n",
       "1      Alaska                 7               16576      307320000   \n",
       "2     Arizona                48                8882     1160908000   \n",
       "3    Arkansas                43                9976      593656000   \n",
       "4  California                27               11588     7709079000   \n",
       "\n",
       "   Funding State Sources  Funding Local Sources  Total Expenditures  \\\n",
       "0             4148764000             2652925000          7854516000   \n",
       "1             1613675000              573685000          2623014000   \n",
       "2             3440726000             3828455000          7984562000   \n",
       "3             4122377000              668082000          5407470000   \n",
       "4            50904567000            27943521000         82146317000   \n",
       "\n",
       "   Current Spending  Rank  College Readiness  High School Graduation Rate  \\\n",
       "0      7.000000e+09    45                 44                            5   \n",
       "1      2.327151e+09    49                 37                           49   \n",
       "2      7.276067e+09    47                 47                           47   \n",
       "3      4.750938e+09    38                 45                            9   \n",
       "4      7.264124e+10    40                 33                           36   \n",
       "\n",
       "   NAEP Math Scores  NAEP Reading Scores  Preschool Enrollment  12-17 Estimate  \n",
       "0                49                   48                    38            2.10  \n",
       "1                43                   49                    33            3.62  \n",
       "2                27                   37                    42            2.72  \n",
       "3                43                   37                    19            3.22  \n",
       "4                38                   37                    16            2.67  "
      ]
     },
     "execution_count": 427,
     "metadata": {},
     "output_type": "execute_result"
    }
   ],
   "source": [
    "#same as before, combines relevant data into 1 dataset \n",
    "fin_drugs = school_df\n",
    "fin_drugs['12-17 Estimate'] = illicit_drugs['12-17 Estimate']\n",
    "fin_drugs.head()"
   ]
  },
  {
   "cell_type": "code",
   "execution_count": 332,
   "id": "76e44a60-a140-4ae7-a922-0b88feb13787",
   "metadata": {},
   "outputs": [
    {
     "name": "stderr",
     "output_type": "stream",
     "text": [
      "WARNING:param.main: hover_data option not found for scatter plot; similar options include: ['hover_alpha', 'sort_date', 'hover_line_alpha']\n"
     ]
    },
    {
     "data": {},
     "metadata": {},
     "output_type": "display_data"
    },
    {
     "data": {
      "application/vnd.holoviews_exec.v0+json": "",
      "text/html": [
       "<div id='18618'>\n",
       "\n",
       "\n",
       "\n",
       "\n",
       "\n",
       "  <div class=\"bk-root\" id=\"2fffc3b0-15d0-4934-a71d-ec3126894ff8\" data-root-id=\"18618\"></div>\n",
       "</div>\n",
       "<script type=\"application/javascript\">(function(root) {\n",
       "  function embed_document(root) {\n",
       "    var docs_json = {\"283a3584-3aac-46d9-90a8-1458a093aedb\":{\"defs\":[{\"extends\":null,\"module\":null,\"name\":\"ReactiveHTML1\",\"overrides\":[],\"properties\":[]},{\"extends\":null,\"module\":null,\"name\":\"FlexBox1\",\"overrides\":[],\"properties\":[{\"default\":\"flex-start\",\"kind\":null,\"name\":\"align_content\"},{\"default\":\"flex-start\",\"kind\":null,\"name\":\"align_items\"},{\"default\":\"row\",\"kind\":null,\"name\":\"flex_direction\"},{\"default\":\"wrap\",\"kind\":null,\"name\":\"flex_wrap\"},{\"default\":\"flex-start\",\"kind\":null,\"name\":\"justify_content\"}]},{\"extends\":null,\"module\":null,\"name\":\"TemplateActions1\",\"overrides\":[],\"properties\":[{\"default\":0,\"kind\":null,\"name\":\"open_modal\"},{\"default\":0,\"kind\":null,\"name\":\"close_modal\"}]},{\"extends\":null,\"module\":null,\"name\":\"MaterialTemplateActions1\",\"overrides\":[],\"properties\":[{\"default\":0,\"kind\":null,\"name\":\"open_modal\"},{\"default\":0,\"kind\":null,\"name\":\"close_modal\"}]}],\"roots\":{\"references\":[{\"attributes\":{\"margin\":[5,5,5,5],\"name\":\"HSpacer36141\",\"sizing_mode\":\"stretch_width\"},\"id\":\"18619\",\"type\":\"Spacer\"},{\"attributes\":{},\"id\":\"18642\",\"type\":\"WheelZoomTool\"},{\"attributes\":{\"children\":[{\"id\":\"18619\"},{\"id\":\"18623\"},{\"id\":\"18689\"}],\"margin\":[0,0,0,0],\"name\":\"Row36137\",\"tags\":[\"embedded\"]},\"id\":\"18618\",\"type\":\"Row\"},{\"attributes\":{\"active_multi\":null,\"tools\":[{\"id\":\"18622\"},{\"id\":\"18640\"},{\"id\":\"18641\"},{\"id\":\"18642\"},{\"id\":\"18643\"},{\"id\":\"18644\"}]},\"id\":\"18646\",\"type\":\"Toolbar\"},{\"attributes\":{},\"id\":\"18633\",\"type\":\"BasicTicker\"},{\"attributes\":{},\"id\":\"18644\",\"type\":\"ResetTool\"},{\"attributes\":{},\"id\":\"18654\",\"type\":\"Selection\"},{\"attributes\":{\"end\":21551.5,\"reset_end\":21551.5,\"reset_start\":7047.5,\"start\":7047.5,\"tags\":[[[\"Spending per pupil\",\"Spending per pupil\",null]]]},\"id\":\"18620\",\"type\":\"Range1d\"},{\"attributes\":{\"axis\":{\"id\":\"18636\"},\"dimension\":1,\"grid_line_color\":null,\"ticker\":null},\"id\":\"18639\",\"type\":\"Grid\"},{\"attributes\":{},\"id\":\"18641\",\"type\":\"PanTool\"},{\"attributes\":{\"axis_label\":\"% of Children Age 12-17\",\"formatter\":{\"id\":\"18662\"},\"major_label_policy\":{\"id\":\"18667\"},\"ticker\":{\"id\":\"18637\"}},\"id\":\"18636\",\"type\":\"LinearAxis\"},{\"attributes\":{\"bottom_units\":\"screen\",\"fill_alpha\":0.5,\"fill_color\":\"lightgrey\",\"left_units\":\"screen\",\"level\":\"overlay\",\"line_alpha\":1.0,\"line_color\":\"black\",\"line_dash\":[4,4],\"line_width\":2,\"right_units\":\"screen\",\"syncable\":false,\"top_units\":\"screen\"},\"id\":\"18645\",\"type\":\"BoxAnnotation\"},{\"attributes\":{\"overlay\":{\"id\":\"18645\"}},\"id\":\"18643\",\"type\":\"BoxZoomTool\"},{\"attributes\":{},\"id\":\"18630\",\"type\":\"LinearScale\"},{\"attributes\":{},\"id\":\"18640\",\"type\":\"SaveTool\"},{\"attributes\":{\"end\":4.479,\"reset_end\":4.479,\"reset_start\":1.8509999999999998,\"start\":1.8509999999999998,\"tags\":[[[\"12-17 Estimate\",\"12-17 Estimate\",null]]]},\"id\":\"18621\",\"type\":\"Range1d\"},{\"attributes\":{\"callback\":null,\"renderers\":[{\"id\":\"18659\"}],\"tags\":[\"hv_created\"],\"tooltips\":[[\"Spending per pupil\",\"@{Spending_per_pupil}\"],[\"12-17 Estimate\",\"@{A_12_hyphen_minus_17_Estimate}\"],[\"State\",\"@{State}\"]]},\"id\":\"18622\",\"type\":\"HoverTool\"},{\"attributes\":{},\"id\":\"18637\",\"type\":\"BasicTicker\"},{\"attributes\":{},\"id\":\"18664\",\"type\":\"AllLabels\"},{\"attributes\":{\"angle\":{\"value\":0.0},\"fill_alpha\":{\"value\":1.0},\"fill_color\":{\"value\":\"#30a2da\"},\"hatch_alpha\":{\"value\":1.0},\"hatch_color\":{\"value\":\"black\"},\"hatch_scale\":{\"value\":12.0},\"hatch_weight\":{\"value\":1.0},\"line_alpha\":{\"value\":1.0},\"line_cap\":{\"value\":\"butt\"},\"line_color\":{\"value\":\"#30a2da\"},\"line_dash\":{\"value\":[]},\"line_dash_offset\":{\"value\":0},\"line_join\":{\"value\":\"bevel\"},\"line_width\":{\"value\":1},\"marker\":{\"value\":\"circle\"},\"size\":{\"value\":5.477225575051661},\"x\":{\"field\":\"Spending per pupil\"},\"y\":{\"field\":\"12-17 Estimate\"}},\"id\":\"18661\",\"type\":\"Scatter\"},{\"attributes\":{},\"id\":\"18665\",\"type\":\"BasicTickFormatter\"},{\"attributes\":{\"below\":[{\"id\":\"18632\"}],\"center\":[{\"id\":\"18635\"},{\"id\":\"18639\"}],\"height\":500,\"left\":[{\"id\":\"18636\"}],\"margin\":[5,5,5,5],\"min_border_bottom\":10,\"min_border_left\":10,\"min_border_right\":10,\"min_border_top\":10,\"renderers\":[{\"id\":\"18659\"}],\"sizing_mode\":\"fixed\",\"title\":{\"id\":\"18624\"},\"toolbar\":{\"id\":\"18646\"},\"width\":700,\"x_range\":{\"id\":\"18620\"},\"x_scale\":{\"id\":\"18628\"},\"y_range\":{\"id\":\"18621\"},\"y_scale\":{\"id\":\"18630\"}},\"id\":\"18623\",\"subtype\":\"Figure\",\"type\":\"Plot\"},{\"attributes\":{\"format\":\"%0f\"},\"id\":\"18662\",\"type\":\"PrintfTickFormatter\"},{\"attributes\":{\"source\":{\"id\":\"18653\"}},\"id\":\"18660\",\"type\":\"CDSView\"},{\"attributes\":{\"margin\":[5,5,5,5],\"name\":\"HSpacer36142\",\"sizing_mode\":\"stretch_width\"},\"id\":\"18689\",\"type\":\"Spacer\"},{\"attributes\":{\"axis\":{\"id\":\"18632\"},\"grid_line_color\":null,\"ticker\":null},\"id\":\"18635\",\"type\":\"Grid\"},{\"attributes\":{},\"id\":\"18667\",\"type\":\"AllLabels\"},{\"attributes\":{\"fill_alpha\":{\"value\":0.2},\"fill_color\":{\"value\":\"#30a2da\"},\"line_alpha\":{\"value\":0.2},\"line_color\":{\"value\":\"#30a2da\"},\"size\":{\"value\":5.477225575051661},\"x\":{\"field\":\"Spending per pupil\"},\"y\":{\"field\":\"12-17 Estimate\"}},\"id\":\"18658\",\"type\":\"Scatter\"},{\"attributes\":{\"data_source\":{\"id\":\"18653\"},\"glyph\":{\"id\":\"18656\"},\"hover_glyph\":null,\"muted_glyph\":{\"id\":\"18658\"},\"nonselection_glyph\":{\"id\":\"18657\"},\"selection_glyph\":{\"id\":\"18661\"},\"view\":{\"id\":\"18660\"}},\"id\":\"18659\",\"type\":\"GlyphRenderer\"},{\"attributes\":{\"fill_color\":{\"value\":\"#30a2da\"},\"line_color\":{\"value\":\"#30a2da\"},\"size\":{\"value\":5.477225575051661},\"x\":{\"field\":\"Spending per pupil\"},\"y\":{\"field\":\"12-17 Estimate\"}},\"id\":\"18656\",\"type\":\"Scatter\"},{\"attributes\":{\"data\":{\"12-17 Estimate\":{\"__ndarray__\":\"zczMzMzMAED2KFyPwvUMQMP1KFyPwgVAw/UoXI/CCUBcj8L1KFwFQOxRuB6F6wVAMzMzMzMzBUDXo3A9CtcDQOF6FK5H4QZAZmZmZmZmBEDhehSuR+EIQJqZmZmZmQdAUrgehetRBEAzMzMzMzMHQD0K16NwPQZACtejcD0KB0BI4XoUrkcDQClcj8L1KAhA4XoUrkfhBEBcj8L1KFwHQAAAAAAAAAJAH4XrUbgeBUCPwvUoXI8IQFK4HoXrUQZACtejcD0KEUC4HoXrUbgIQM3MzMzMzARASOF6FK5HEEA9CtejcD0CQB+F61G4HgFAAAAAAAAACkDD9Shcj8IBQOxRuB6F6wdApHA9CtejCECkcD0K16MAQLgehetRuARArkfhehSuBUCamZmZmZkBQB+F61G4HgVAuB6F61G4DkBSuB6F61EKQBSuR+F6FARA7FG4HoXrCUCPwvUoXI8AQDMzMzMzMwFArkfhehSuA0CPwvUoXI8EQHE9CtejcANACtejcD0KA0ApXI/C9SgEQA==\",\"dtype\":\"float64\",\"order\":\"little\",\"shape\":[50]},\"A_12_hyphen_minus_17_Estimate\":{\"__ndarray__\":\"zczMzMzMAED2KFyPwvUMQMP1KFyPwgVAw/UoXI/CCUBcj8L1KFwFQOxRuB6F6wVAMzMzMzMzBUDXo3A9CtcDQOF6FK5H4QZAZmZmZmZmBEDhehSuR+EIQJqZmZmZmQdAUrgehetRBEAzMzMzMzMHQD0K16NwPQZACtejcD0KB0BI4XoUrkcDQClcj8L1KAhA4XoUrkfhBEBcj8L1KFwHQAAAAAAAAAJAH4XrUbgeBUCPwvUoXI8IQFK4HoXrUQZACtejcD0KEUC4HoXrUbgIQM3MzMzMzARASOF6FK5HEEA9CtejcD0CQB+F61G4HgFAAAAAAAAACkDD9Shcj8IBQOxRuB6F6wdApHA9CtejCECkcD0K16MAQLgehetRuARArkfhehSuBUCamZmZmZkBQB+F61G4HgVAuB6F61G4DkBSuB6F61EKQBSuR+F6FARA7FG4HoXrCUCPwvUoXI8AQDMzMzMzMwFArkfhehSuA0CPwvUoXI8EQHE9CtejcANACtejcD0KA0ApXI/C9SgEQA==\",\"dtype\":\"float64\",\"order\":\"little\",\"shape\":[50]},\"Spending per pupil\":[9636,16576,8882,9976,11588,10171,17373,14335,10098,10893,14987,8141,12457,12360,11337,11939,10010,11967,13666,15574,16270,11987,12664,8919,10457,11266,11796,10305,13725,18874,11266,20645,10613,11664,12811,9353,10862,15023,15312,10719,9913,8324,10314,7954,17108,12146,11510,10984,12435,19238],\"Spending_per_pupil\":[9636,16576,8882,9976,11588,10171,17373,14335,10098,10893,14987,8141,12457,12360,11337,11939,10010,11967,13666,15574,16270,11987,12664,8919,10457,11266,11796,10305,13725,18874,11266,20645,10613,11664,12811,9353,10862,15023,15312,10719,9913,8324,10314,7954,17108,12146,11510,10984,12435,19238],\"State\":[\"Alabama\",\"Alaska\",\"Arizona\",\"Arkansas\",\"California\",\"Colorado\",\"Connecticut\",\"Delaware\",\"Florida\",\"Georgia\",\"Hawaii\",\"Idaho\",\"Illinois\",\"Indiana\",\"Iowa\",\"Kansas\",\"Kentucky\",\"Louisiana\",\"Maine\",\"Maryland\",\"Massachusetts\",\"Michigan\",\"Minnesota\",\"Mississippi\",\"Missouri\",\"Montana\",\"Nebraska\",\"Nevada\",\"New Hampshire\",\"New Jersey\",\"New Mexico\",\"New York\",\"North Carolina\",\"North Dakota\",\"Ohio\",\"Oklahoma\",\"Oregon\",\"Pennsylvania\",\"Rhode Island\",\"South Carolina\",\"South Dakota\",\"Tennessee\",\"Texas\",\"Utah\",\"Vermont\",\"Virginia\",\"Washington\",\"West Virginia\",\"Wisconsin\",\"Wyoming\"]},\"selected\":{\"id\":\"18654\"},\"selection_policy\":{\"id\":\"18678\"}},\"id\":\"18653\",\"type\":\"ColumnDataSource\"},{\"attributes\":{\"axis_label\":\"Spending per Pupil, USD\",\"formatter\":{\"id\":\"18665\"},\"major_label_orientation\":0.7853981633974483,\"major_label_policy\":{\"id\":\"18664\"},\"ticker\":{\"id\":\"18633\"}},\"id\":\"18632\",\"type\":\"LinearAxis\"},{\"attributes\":{\"fill_alpha\":{\"value\":0.1},\"fill_color\":{\"value\":\"#30a2da\"},\"line_alpha\":{\"value\":0.1},\"line_color\":{\"value\":\"#30a2da\"},\"size\":{\"value\":5.477225575051661},\"x\":{\"field\":\"Spending per pupil\"},\"y\":{\"field\":\"12-17 Estimate\"}},\"id\":\"18657\",\"type\":\"Scatter\"},{\"attributes\":{},\"id\":\"18678\",\"type\":\"UnionRenderers\"},{\"attributes\":{\"text\":\"Spending per Pupil vs. % of Children Who Used an Illicit Drug in 2016 (not Weed)\",\"text_color\":\"black\",\"text_font_size\":\"12pt\"},\"id\":\"18624\",\"type\":\"Title\"},{\"attributes\":{},\"id\":\"18628\",\"type\":\"LinearScale\"}],\"root_ids\":[\"18618\"]},\"title\":\"Bokeh Application\",\"version\":\"2.3.2\"}};\n",
       "    var render_items = [{\"docid\":\"283a3584-3aac-46d9-90a8-1458a093aedb\",\"root_ids\":[\"18618\"],\"roots\":{\"18618\":\"2fffc3b0-15d0-4934-a71d-ec3126894ff8\"}}];\n",
       "    root.Bokeh.embed.embed_items_notebook(docs_json, render_items);\n",
       "  }\n",
       "  if (root.Bokeh !== undefined && root.Bokeh.Panel !== undefined) {\n",
       "    embed_document(root);\n",
       "  } else {\n",
       "    var attempts = 0;\n",
       "    var timer = setInterval(function(root) {\n",
       "      if (root.Bokeh !== undefined && root.Bokeh.Panel !== undefined) {\n",
       "        clearInterval(timer);\n",
       "        embed_document(root);\n",
       "      } else if (document.readyState == \"complete\") {\n",
       "        attempts++;\n",
       "        if (attempts > 200) {\n",
       "          clearInterval(timer);\n",
       "          console.log(\"Bokeh: ERROR: Unable to run BokehJS code because BokehJS library is missing\");\n",
       "        }\n",
       "      }\n",
       "    }, 25, root)\n",
       "  }\n",
       "})(window);</script>"
      ],
      "text/plain": [
       ":Scatter   [Spending per pupil]   (12-17 Estimate,State)"
      ]
     },
     "execution_count": 332,
     "metadata": {
      "application/vnd.holoviews_exec.v0+json": {
       "id": "18618"
      }
     },
     "output_type": "execute_result"
    }
   ],
   "source": [
    "#creates a scatter plot comparing spending per pupil to \n",
    "#% of students using illicit drugs\n",
    "scatter_fin_drugs = fin_drugs.hvplot.scatter(\n",
    "    x=\"Spending per pupil\",\n",
    "    y=\"12-17 Estimate\",\n",
    "    yformatter=\"%0f\",\n",
    "    rot=45,\n",
    "    height=500,\n",
    "    width=700,\n",
    "    ylabel= '% of Children Age 12-17',\n",
    "    xlabel='Spending per Pupil, USD',\n",
    "    hover_data={'State'},\n",
    "    hover_cols=\"State\",\n",
    "    title=\"Spending per Pupil vs. % of Children Who Used an Illicit Drug in 2016 (not Weed)\")\n",
    "scatter_fin_drugs"
   ]
  },
  {
   "cell_type": "code",
   "execution_count": 333,
   "id": "b54372b9-c8e8-4506-aaec-1e464681c0bf",
   "metadata": {},
   "outputs": [
    {
     "data": {
      "text/plain": [
       "-0.3303233491120976"
      ]
     },
     "execution_count": 333,
     "metadata": {},
     "output_type": "execute_result"
    }
   ],
   "source": [
    "#drops outlies and calculates correlation\n",
    "fin_drugs2=fin_drugs.drop([24,27,1,39])\n",
    "drug_cor = fin_drugs2[\"Spending per pupil\"].astype(float).corr(fin_drugs2[\"12-17 Estimate\"].astype(float), method='pearson') \n",
    "drug_cor"
   ]
  },
  {
   "cell_type": "code",
   "execution_count": 334,
   "id": "e61a1278-9b3f-4842-9327-0f98af98c1a3",
   "metadata": {},
   "outputs": [
    {
     "data": {
      "text/html": [
       "<div>\n",
       "<style scoped>\n",
       "    .dataframe tbody tr th:only-of-type {\n",
       "        vertical-align: middle;\n",
       "    }\n",
       "\n",
       "    .dataframe tbody tr th {\n",
       "        vertical-align: top;\n",
       "    }\n",
       "\n",
       "    .dataframe thead th {\n",
       "        text-align: right;\n",
       "    }\n",
       "</style>\n",
       "<table border=\"1\" class=\"dataframe\">\n",
       "  <thead>\n",
       "    <tr style=\"text-align: right;\">\n",
       "      <th></th>\n",
       "      <th>State</th>\n",
       "      <th>18 or Older Estimate</th>\n",
       "      <th>18 or Older 95% CI (Lower)</th>\n",
       "      <th>18 or Older 95% CI (Upper)</th>\n",
       "      <th>18-25 Estimate</th>\n",
       "      <th>18-25 95% CI (Lower)</th>\n",
       "      <th>18-25 95% CI (Upper)</th>\n",
       "      <th>26 or Older Estimate</th>\n",
       "      <th>26 or Older 95% CI (Lower)</th>\n",
       "      <th>26 or Older 95% CI (Upper)</th>\n",
       "    </tr>\n",
       "  </thead>\n",
       "  <tbody>\n",
       "    <tr>\n",
       "      <th>0</th>\n",
       "      <td>Alabama</td>\n",
       "      <td>3.57%</td>\n",
       "      <td>2.87%</td>\n",
       "      <td>4.43%</td>\n",
       "      <td>7.27</td>\n",
       "      <td>5.72%</td>\n",
       "      <td>9.19%</td>\n",
       "      <td>2.96%</td>\n",
       "      <td>2.26%</td>\n",
       "      <td>3.88%</td>\n",
       "    </tr>\n",
       "    <tr>\n",
       "      <th>1</th>\n",
       "      <td>Alaska</td>\n",
       "      <td>5.15%</td>\n",
       "      <td>4.25%</td>\n",
       "      <td>6.23%</td>\n",
       "      <td>11.76</td>\n",
       "      <td>9.62%</td>\n",
       "      <td>14.30%</td>\n",
       "      <td>3.94%</td>\n",
       "      <td>3.05%</td>\n",
       "      <td>5.09%</td>\n",
       "    </tr>\n",
       "    <tr>\n",
       "      <th>2</th>\n",
       "      <td>Arizona</td>\n",
       "      <td>4.01%</td>\n",
       "      <td>3.29%</td>\n",
       "      <td>4.88%</td>\n",
       "      <td>8.92</td>\n",
       "      <td>7.18%</td>\n",
       "      <td>11.03%</td>\n",
       "      <td>3.18%</td>\n",
       "      <td>2.47%</td>\n",
       "      <td>4.09%</td>\n",
       "    </tr>\n",
       "    <tr>\n",
       "      <th>3</th>\n",
       "      <td>Arkansas</td>\n",
       "      <td>4.47%</td>\n",
       "      <td>3.63%</td>\n",
       "      <td>5.49%</td>\n",
       "      <td>8.60</td>\n",
       "      <td>6.89%</td>\n",
       "      <td>10.68%</td>\n",
       "      <td>3.78%</td>\n",
       "      <td>2.93%</td>\n",
       "      <td>4.87%</td>\n",
       "    </tr>\n",
       "    <tr>\n",
       "      <th>4</th>\n",
       "      <td>California</td>\n",
       "      <td>3.96%</td>\n",
       "      <td>3.54%</td>\n",
       "      <td>4.43%</td>\n",
       "      <td>8.54</td>\n",
       "      <td>7.51%</td>\n",
       "      <td>9.70%</td>\n",
       "      <td>3.17%</td>\n",
       "      <td>2.73%</td>\n",
       "      <td>3.66%</td>\n",
       "    </tr>\n",
       "  </tbody>\n",
       "</table>\n",
       "</div>"
      ],
      "text/plain": [
       "        State 18 or Older Estimate 18 or Older 95% CI (Lower)  \\\n",
       "0     Alabama                3.57%                      2.87%   \n",
       "1      Alaska                5.15%                      4.25%   \n",
       "2     Arizona                4.01%                      3.29%   \n",
       "3    Arkansas                4.47%                      3.63%   \n",
       "4  California                3.96%                      3.54%   \n",
       "\n",
       "  18 or Older 95% CI (Upper)  18-25 Estimate 18-25 95% CI (Lower)  \\\n",
       "0                      4.43%            7.27                5.72%   \n",
       "1                      6.23%           11.76                9.62%   \n",
       "2                      4.88%            8.92                7.18%   \n",
       "3                      5.49%            8.60                6.89%   \n",
       "4                      4.43%            8.54                7.51%   \n",
       "\n",
       "  18-25 95% CI (Upper) 26 or Older Estimate 26 or Older 95% CI (Lower)  \\\n",
       "0                9.19%                2.96%                      2.26%   \n",
       "1               14.30%                3.94%                      3.05%   \n",
       "2               11.03%                3.18%                      2.47%   \n",
       "3               10.68%                3.78%                      2.93%   \n",
       "4                9.70%                3.17%                      2.73%   \n",
       "\n",
       "  26 or Older 95% CI (Upper)  \n",
       "0                      3.88%  \n",
       "1                      5.09%  \n",
       "2                      4.09%  \n",
       "3                      4.87%  \n",
       "4                      3.66%  "
      ]
     },
     "execution_count": 334,
     "metadata": {},
     "output_type": "execute_result"
    }
   ],
   "source": [
    "#reads in data on thoughts of suicide\n",
    "#cleans up the data\n",
    "suicidal_df = pd.read_csv(\n",
    "    Path(\"../uncc_project1/other_datasets/drug_abuse_data/suicidal_thoughts_2016.csv\"))\n",
    "suicidal_df.loc[:,\"18-25 Estimate\"] = suicidal_df.loc[:,\"18-25 Estimate\"].str.replace(\"%\",\"\")\n",
    "suicidal_df[\"18-25 Estimate\"]= suicidal_df[\"18-25 Estimate\"].astype(float)\n",
    "suicidal_df = suicidal_df.reset_index(drop=True)\n",
    "suicidal_df.head()"
   ]
  },
  {
   "cell_type": "code",
   "execution_count": 335,
   "id": "4a86f332-c5ae-4cbf-bdd6-a293c8e796e3",
   "metadata": {},
   "outputs": [
    {
     "data": {
      "text/html": [
       "<div>\n",
       "<style scoped>\n",
       "    .dataframe tbody tr th:only-of-type {\n",
       "        vertical-align: middle;\n",
       "    }\n",
       "\n",
       "    .dataframe tbody tr th {\n",
       "        vertical-align: top;\n",
       "    }\n",
       "\n",
       "    .dataframe thead th {\n",
       "        text-align: right;\n",
       "    }\n",
       "</style>\n",
       "<table border=\"1\" class=\"dataframe\">\n",
       "  <thead>\n",
       "    <tr style=\"text-align: right;\">\n",
       "      <th></th>\n",
       "      <th>State</th>\n",
       "      <th>18 or Older Estimate</th>\n",
       "      <th>18 or Older 95% CI (Lower)</th>\n",
       "      <th>18 or Older 95% CI (Upper)</th>\n",
       "      <th>18-25 Estimate</th>\n",
       "      <th>18-25 95% CI (Lower)</th>\n",
       "      <th>18-25 95% CI (Upper)</th>\n",
       "      <th>26 or Older Estimate</th>\n",
       "      <th>26 or Older 95% CI (Lower)</th>\n",
       "      <th>26 or Older 95% CI (Upper)</th>\n",
       "      <th>Spending per pupil</th>\n",
       "    </tr>\n",
       "  </thead>\n",
       "  <tbody>\n",
       "    <tr>\n",
       "      <th>0</th>\n",
       "      <td>Alabama</td>\n",
       "      <td>3.57%</td>\n",
       "      <td>2.87%</td>\n",
       "      <td>4.43%</td>\n",
       "      <td>7.27</td>\n",
       "      <td>5.72%</td>\n",
       "      <td>9.19%</td>\n",
       "      <td>2.96%</td>\n",
       "      <td>2.26%</td>\n",
       "      <td>3.88%</td>\n",
       "      <td>9636</td>\n",
       "    </tr>\n",
       "    <tr>\n",
       "      <th>1</th>\n",
       "      <td>Alaska</td>\n",
       "      <td>5.15%</td>\n",
       "      <td>4.25%</td>\n",
       "      <td>6.23%</td>\n",
       "      <td>11.76</td>\n",
       "      <td>9.62%</td>\n",
       "      <td>14.30%</td>\n",
       "      <td>3.94%</td>\n",
       "      <td>3.05%</td>\n",
       "      <td>5.09%</td>\n",
       "      <td>16576</td>\n",
       "    </tr>\n",
       "    <tr>\n",
       "      <th>2</th>\n",
       "      <td>Arizona</td>\n",
       "      <td>4.01%</td>\n",
       "      <td>3.29%</td>\n",
       "      <td>4.88%</td>\n",
       "      <td>8.92</td>\n",
       "      <td>7.18%</td>\n",
       "      <td>11.03%</td>\n",
       "      <td>3.18%</td>\n",
       "      <td>2.47%</td>\n",
       "      <td>4.09%</td>\n",
       "      <td>8882</td>\n",
       "    </tr>\n",
       "    <tr>\n",
       "      <th>3</th>\n",
       "      <td>Arkansas</td>\n",
       "      <td>4.47%</td>\n",
       "      <td>3.63%</td>\n",
       "      <td>5.49%</td>\n",
       "      <td>8.60</td>\n",
       "      <td>6.89%</td>\n",
       "      <td>10.68%</td>\n",
       "      <td>3.78%</td>\n",
       "      <td>2.93%</td>\n",
       "      <td>4.87%</td>\n",
       "      <td>9976</td>\n",
       "    </tr>\n",
       "    <tr>\n",
       "      <th>4</th>\n",
       "      <td>California</td>\n",
       "      <td>3.96%</td>\n",
       "      <td>3.54%</td>\n",
       "      <td>4.43%</td>\n",
       "      <td>8.54</td>\n",
       "      <td>7.51%</td>\n",
       "      <td>9.70%</td>\n",
       "      <td>3.17%</td>\n",
       "      <td>2.73%</td>\n",
       "      <td>3.66%</td>\n",
       "      <td>11588</td>\n",
       "    </tr>\n",
       "  </tbody>\n",
       "</table>\n",
       "</div>"
      ],
      "text/plain": [
       "        State 18 or Older Estimate 18 or Older 95% CI (Lower)  \\\n",
       "0     Alabama                3.57%                      2.87%   \n",
       "1      Alaska                5.15%                      4.25%   \n",
       "2     Arizona                4.01%                      3.29%   \n",
       "3    Arkansas                4.47%                      3.63%   \n",
       "4  California                3.96%                      3.54%   \n",
       "\n",
       "  18 or Older 95% CI (Upper)  18-25 Estimate 18-25 95% CI (Lower)  \\\n",
       "0                      4.43%            7.27                5.72%   \n",
       "1                      6.23%           11.76                9.62%   \n",
       "2                      4.88%            8.92                7.18%   \n",
       "3                      5.49%            8.60                6.89%   \n",
       "4                      4.43%            8.54                7.51%   \n",
       "\n",
       "  18-25 95% CI (Upper) 26 or Older Estimate 26 or Older 95% CI (Lower)  \\\n",
       "0                9.19%                2.96%                      2.26%   \n",
       "1               14.30%                3.94%                      3.05%   \n",
       "2               11.03%                3.18%                      2.47%   \n",
       "3               10.68%                3.78%                      2.93%   \n",
       "4                9.70%                3.17%                      2.73%   \n",
       "\n",
       "  26 or Older 95% CI (Upper)  Spending per pupil  \n",
       "0                      3.88%                9636  \n",
       "1                      5.09%               16576  \n",
       "2                      4.09%                8882  \n",
       "3                      4.87%                9976  \n",
       "4                      3.66%               11588  "
      ]
     },
     "execution_count": 335,
     "metadata": {},
     "output_type": "execute_result"
    }
   ],
   "source": [
    "#combines data into 1 dataset \n",
    "suicidal_df[\"Spending per pupil\"] = school_df[\"Spending per pupil\"]\n",
    "suicidal_df.head()"
   ]
  },
  {
   "cell_type": "code",
   "execution_count": 336,
   "id": "47bbbd62-aa88-4d38-9392-3e9a85edbec9",
   "metadata": {},
   "outputs": [
    {
     "data": {
      "application/vnd.plotly.v1+json": {
       "config": {
        "plotlyServerURL": "https://plot.ly"
       },
       "data": [
        {
         "coloraxis": "coloraxis",
         "geo": "geo",
         "hovertemplate": "<b>%{hovertext}</b><br><br>Code=%{location}<br>color=%{z}<extra></extra>",
         "hovertext": [
          "Alabama",
          "Alaska",
          "Arizona",
          "Arkansas",
          "California",
          "Colorado",
          "Connecticut",
          "Delaware",
          "Florida",
          "Georgia",
          "Hawaii",
          "Idaho",
          "Illinois",
          "Indiana",
          "Iowa",
          "Kansas",
          "Kentucky",
          "Louisiana",
          "Maine",
          "Maryland",
          "Massachusetts",
          "Michigan",
          "Minnesota",
          "Mississippi",
          "Missouri",
          "Montana",
          "Nebraska",
          "Nevada",
          "New Hampshire",
          "New Jersey",
          "New Mexico",
          "New York",
          "North Carolina",
          "North Dakota",
          "Ohio",
          "Oklahoma",
          "Oregon",
          "Pennsylvania",
          "Rhode Island",
          "South Carolina",
          "South Dakota",
          "Tennessee",
          "Texas",
          "Utah",
          "Vermont",
          "Virginia",
          "Washington",
          "West Virginia",
          "Wisconsin",
          "Wyoming"
         ],
         "locationmode": "USA-states",
         "locations": [
          "AL",
          "AK",
          "AZ",
          "AR",
          "CA",
          "CO",
          "CT",
          "DE",
          "FL",
          "GA",
          "HI",
          "ID",
          "IL",
          "IN",
          "IA",
          "KS",
          "KY",
          "LA",
          "ME",
          "MD",
          "MA",
          "MI",
          "MN",
          "MS",
          "MO",
          "MT",
          "NE",
          "NV",
          "NH",
          "NJ",
          "NM",
          "NY",
          "NC",
          "ND",
          "OH",
          "OK",
          "OR",
          "PA",
          "RI",
          "SC",
          "SD",
          "TN",
          "TX",
          "UT",
          "VT",
          "VA",
          "WA",
          "WV",
          "WI",
          "WY"
         ],
         "name": "",
         "type": "choropleth",
         "z": [
          7.27,
          11.76,
          8.92,
          8.6,
          8.54,
          9.56,
          8.56,
          9.13,
          8.12,
          7.02,
          8.99,
          9.36,
          8.45,
          9.12,
          8.74,
          9.34,
          9.36,
          7.78,
          7.68,
          8.23,
          8.49,
          8.35,
          8.79,
          7.72,
          7.18,
          10.47,
          8.12,
          8.9,
          10.26,
          8.47,
          8.88,
          8.82,
          7.71,
          8.47,
          9.27,
          7.54,
          11.52,
          9.05,
          9.55,
          7.25,
          7.47,
          8.33,
          8.38,
          10.49,
          10.34,
          8.57,
          9.67,
          8.72,
          9.41,
          8.66
         ]
        }
       ],
       "layout": {
        "coloraxis": {
         "colorbar": {
          "title": {
           "text": "% of Youths"
          }
         },
         "colorscale": [
          [
           0,
           "rgb(94,79,162)"
          ],
          [
           0.1,
           "rgb(50,136,189)"
          ],
          [
           0.2,
           "rgb(102,194,165)"
          ],
          [
           0.3,
           "rgb(171,221,164)"
          ],
          [
           0.4,
           "rgb(230,245,152)"
          ],
          [
           0.5,
           "rgb(255,255,191)"
          ],
          [
           0.6,
           "rgb(254,224,139)"
          ],
          [
           0.7,
           "rgb(253,174,97)"
          ],
          [
           0.8,
           "rgb(244,109,67)"
          ],
          [
           0.9,
           "rgb(213,62,79)"
          ],
          [
           1,
           "rgb(158,1,66)"
          ]
         ]
        },
        "geo": {
         "center": {
          "lat": 38.7,
          "lon": -96.6
         },
         "domain": {
          "x": [
           0,
           1
          ],
          "y": [
           0,
           1
          ]
         },
         "fitbounds": false,
         "projection": {
          "scale": 1
         },
         "scope": "usa"
        },
        "height": 500,
        "legend": {
         "tracegroupgap": 0
        },
        "margin": {
         "l": 5,
         "r": 10
        },
        "template": {
         "data": {
          "bar": [
           {
            "error_x": {
             "color": "#2a3f5f"
            },
            "error_y": {
             "color": "#2a3f5f"
            },
            "marker": {
             "line": {
              "color": "#E5ECF6",
              "width": 0.5
             },
             "pattern": {
              "fillmode": "overlay",
              "size": 10,
              "solidity": 0.2
             }
            },
            "type": "bar"
           }
          ],
          "barpolar": [
           {
            "marker": {
             "line": {
              "color": "#E5ECF6",
              "width": 0.5
             },
             "pattern": {
              "fillmode": "overlay",
              "size": 10,
              "solidity": 0.2
             }
            },
            "type": "barpolar"
           }
          ],
          "carpet": [
           {
            "aaxis": {
             "endlinecolor": "#2a3f5f",
             "gridcolor": "white",
             "linecolor": "white",
             "minorgridcolor": "white",
             "startlinecolor": "#2a3f5f"
            },
            "baxis": {
             "endlinecolor": "#2a3f5f",
             "gridcolor": "white",
             "linecolor": "white",
             "minorgridcolor": "white",
             "startlinecolor": "#2a3f5f"
            },
            "type": "carpet"
           }
          ],
          "choropleth": [
           {
            "colorbar": {
             "outlinewidth": 0,
             "ticks": ""
            },
            "type": "choropleth"
           }
          ],
          "contour": [
           {
            "colorbar": {
             "outlinewidth": 0,
             "ticks": ""
            },
            "colorscale": [
             [
              0,
              "#0d0887"
             ],
             [
              0.1111111111111111,
              "#46039f"
             ],
             [
              0.2222222222222222,
              "#7201a8"
             ],
             [
              0.3333333333333333,
              "#9c179e"
             ],
             [
              0.4444444444444444,
              "#bd3786"
             ],
             [
              0.5555555555555556,
              "#d8576b"
             ],
             [
              0.6666666666666666,
              "#ed7953"
             ],
             [
              0.7777777777777778,
              "#fb9f3a"
             ],
             [
              0.8888888888888888,
              "#fdca26"
             ],
             [
              1,
              "#f0f921"
             ]
            ],
            "type": "contour"
           }
          ],
          "contourcarpet": [
           {
            "colorbar": {
             "outlinewidth": 0,
             "ticks": ""
            },
            "type": "contourcarpet"
           }
          ],
          "heatmap": [
           {
            "colorbar": {
             "outlinewidth": 0,
             "ticks": ""
            },
            "colorscale": [
             [
              0,
              "#0d0887"
             ],
             [
              0.1111111111111111,
              "#46039f"
             ],
             [
              0.2222222222222222,
              "#7201a8"
             ],
             [
              0.3333333333333333,
              "#9c179e"
             ],
             [
              0.4444444444444444,
              "#bd3786"
             ],
             [
              0.5555555555555556,
              "#d8576b"
             ],
             [
              0.6666666666666666,
              "#ed7953"
             ],
             [
              0.7777777777777778,
              "#fb9f3a"
             ],
             [
              0.8888888888888888,
              "#fdca26"
             ],
             [
              1,
              "#f0f921"
             ]
            ],
            "type": "heatmap"
           }
          ],
          "heatmapgl": [
           {
            "colorbar": {
             "outlinewidth": 0,
             "ticks": ""
            },
            "colorscale": [
             [
              0,
              "#0d0887"
             ],
             [
              0.1111111111111111,
              "#46039f"
             ],
             [
              0.2222222222222222,
              "#7201a8"
             ],
             [
              0.3333333333333333,
              "#9c179e"
             ],
             [
              0.4444444444444444,
              "#bd3786"
             ],
             [
              0.5555555555555556,
              "#d8576b"
             ],
             [
              0.6666666666666666,
              "#ed7953"
             ],
             [
              0.7777777777777778,
              "#fb9f3a"
             ],
             [
              0.8888888888888888,
              "#fdca26"
             ],
             [
              1,
              "#f0f921"
             ]
            ],
            "type": "heatmapgl"
           }
          ],
          "histogram": [
           {
            "marker": {
             "pattern": {
              "fillmode": "overlay",
              "size": 10,
              "solidity": 0.2
             }
            },
            "type": "histogram"
           }
          ],
          "histogram2d": [
           {
            "colorbar": {
             "outlinewidth": 0,
             "ticks": ""
            },
            "colorscale": [
             [
              0,
              "#0d0887"
             ],
             [
              0.1111111111111111,
              "#46039f"
             ],
             [
              0.2222222222222222,
              "#7201a8"
             ],
             [
              0.3333333333333333,
              "#9c179e"
             ],
             [
              0.4444444444444444,
              "#bd3786"
             ],
             [
              0.5555555555555556,
              "#d8576b"
             ],
             [
              0.6666666666666666,
              "#ed7953"
             ],
             [
              0.7777777777777778,
              "#fb9f3a"
             ],
             [
              0.8888888888888888,
              "#fdca26"
             ],
             [
              1,
              "#f0f921"
             ]
            ],
            "type": "histogram2d"
           }
          ],
          "histogram2dcontour": [
           {
            "colorbar": {
             "outlinewidth": 0,
             "ticks": ""
            },
            "colorscale": [
             [
              0,
              "#0d0887"
             ],
             [
              0.1111111111111111,
              "#46039f"
             ],
             [
              0.2222222222222222,
              "#7201a8"
             ],
             [
              0.3333333333333333,
              "#9c179e"
             ],
             [
              0.4444444444444444,
              "#bd3786"
             ],
             [
              0.5555555555555556,
              "#d8576b"
             ],
             [
              0.6666666666666666,
              "#ed7953"
             ],
             [
              0.7777777777777778,
              "#fb9f3a"
             ],
             [
              0.8888888888888888,
              "#fdca26"
             ],
             [
              1,
              "#f0f921"
             ]
            ],
            "type": "histogram2dcontour"
           }
          ],
          "mesh3d": [
           {
            "colorbar": {
             "outlinewidth": 0,
             "ticks": ""
            },
            "type": "mesh3d"
           }
          ],
          "parcoords": [
           {
            "line": {
             "colorbar": {
              "outlinewidth": 0,
              "ticks": ""
             }
            },
            "type": "parcoords"
           }
          ],
          "pie": [
           {
            "automargin": true,
            "type": "pie"
           }
          ],
          "scatter": [
           {
            "marker": {
             "colorbar": {
              "outlinewidth": 0,
              "ticks": ""
             }
            },
            "type": "scatter"
           }
          ],
          "scatter3d": [
           {
            "line": {
             "colorbar": {
              "outlinewidth": 0,
              "ticks": ""
             }
            },
            "marker": {
             "colorbar": {
              "outlinewidth": 0,
              "ticks": ""
             }
            },
            "type": "scatter3d"
           }
          ],
          "scattercarpet": [
           {
            "marker": {
             "colorbar": {
              "outlinewidth": 0,
              "ticks": ""
             }
            },
            "type": "scattercarpet"
           }
          ],
          "scattergeo": [
           {
            "marker": {
             "colorbar": {
              "outlinewidth": 0,
              "ticks": ""
             }
            },
            "type": "scattergeo"
           }
          ],
          "scattergl": [
           {
            "marker": {
             "colorbar": {
              "outlinewidth": 0,
              "ticks": ""
             }
            },
            "type": "scattergl"
           }
          ],
          "scattermapbox": [
           {
            "marker": {
             "colorbar": {
              "outlinewidth": 0,
              "ticks": ""
             }
            },
            "type": "scattermapbox"
           }
          ],
          "scatterpolar": [
           {
            "marker": {
             "colorbar": {
              "outlinewidth": 0,
              "ticks": ""
             }
            },
            "type": "scatterpolar"
           }
          ],
          "scatterpolargl": [
           {
            "marker": {
             "colorbar": {
              "outlinewidth": 0,
              "ticks": ""
             }
            },
            "type": "scatterpolargl"
           }
          ],
          "scatterternary": [
           {
            "marker": {
             "colorbar": {
              "outlinewidth": 0,
              "ticks": ""
             }
            },
            "type": "scatterternary"
           }
          ],
          "surface": [
           {
            "colorbar": {
             "outlinewidth": 0,
             "ticks": ""
            },
            "colorscale": [
             [
              0,
              "#0d0887"
             ],
             [
              0.1111111111111111,
              "#46039f"
             ],
             [
              0.2222222222222222,
              "#7201a8"
             ],
             [
              0.3333333333333333,
              "#9c179e"
             ],
             [
              0.4444444444444444,
              "#bd3786"
             ],
             [
              0.5555555555555556,
              "#d8576b"
             ],
             [
              0.6666666666666666,
              "#ed7953"
             ],
             [
              0.7777777777777778,
              "#fb9f3a"
             ],
             [
              0.8888888888888888,
              "#fdca26"
             ],
             [
              1,
              "#f0f921"
             ]
            ],
            "type": "surface"
           }
          ],
          "table": [
           {
            "cells": {
             "fill": {
              "color": "#EBF0F8"
             },
             "line": {
              "color": "white"
             }
            },
            "header": {
             "fill": {
              "color": "#C8D4E3"
             },
             "line": {
              "color": "white"
             }
            },
            "type": "table"
           }
          ]
         },
         "layout": {
          "annotationdefaults": {
           "arrowcolor": "#2a3f5f",
           "arrowhead": 0,
           "arrowwidth": 1
          },
          "autotypenumbers": "strict",
          "coloraxis": {
           "colorbar": {
            "outlinewidth": 0,
            "ticks": ""
           }
          },
          "colorscale": {
           "diverging": [
            [
             0,
             "#8e0152"
            ],
            [
             0.1,
             "#c51b7d"
            ],
            [
             0.2,
             "#de77ae"
            ],
            [
             0.3,
             "#f1b6da"
            ],
            [
             0.4,
             "#fde0ef"
            ],
            [
             0.5,
             "#f7f7f7"
            ],
            [
             0.6,
             "#e6f5d0"
            ],
            [
             0.7,
             "#b8e186"
            ],
            [
             0.8,
             "#7fbc41"
            ],
            [
             0.9,
             "#4d9221"
            ],
            [
             1,
             "#276419"
            ]
           ],
           "sequential": [
            [
             0,
             "#0d0887"
            ],
            [
             0.1111111111111111,
             "#46039f"
            ],
            [
             0.2222222222222222,
             "#7201a8"
            ],
            [
             0.3333333333333333,
             "#9c179e"
            ],
            [
             0.4444444444444444,
             "#bd3786"
            ],
            [
             0.5555555555555556,
             "#d8576b"
            ],
            [
             0.6666666666666666,
             "#ed7953"
            ],
            [
             0.7777777777777778,
             "#fb9f3a"
            ],
            [
             0.8888888888888888,
             "#fdca26"
            ],
            [
             1,
             "#f0f921"
            ]
           ],
           "sequentialminus": [
            [
             0,
             "#0d0887"
            ],
            [
             0.1111111111111111,
             "#46039f"
            ],
            [
             0.2222222222222222,
             "#7201a8"
            ],
            [
             0.3333333333333333,
             "#9c179e"
            ],
            [
             0.4444444444444444,
             "#bd3786"
            ],
            [
             0.5555555555555556,
             "#d8576b"
            ],
            [
             0.6666666666666666,
             "#ed7953"
            ],
            [
             0.7777777777777778,
             "#fb9f3a"
            ],
            [
             0.8888888888888888,
             "#fdca26"
            ],
            [
             1,
             "#f0f921"
            ]
           ]
          },
          "colorway": [
           "#636efa",
           "#EF553B",
           "#00cc96",
           "#ab63fa",
           "#FFA15A",
           "#19d3f3",
           "#FF6692",
           "#B6E880",
           "#FF97FF",
           "#FECB52"
          ],
          "font": {
           "color": "#2a3f5f"
          },
          "geo": {
           "bgcolor": "white",
           "lakecolor": "white",
           "landcolor": "#E5ECF6",
           "showlakes": true,
           "showland": true,
           "subunitcolor": "white"
          },
          "hoverlabel": {
           "align": "left"
          },
          "hovermode": "closest",
          "mapbox": {
           "style": "light"
          },
          "paper_bgcolor": "white",
          "plot_bgcolor": "#E5ECF6",
          "polar": {
           "angularaxis": {
            "gridcolor": "white",
            "linecolor": "white",
            "ticks": ""
           },
           "bgcolor": "#E5ECF6",
           "radialaxis": {
            "gridcolor": "white",
            "linecolor": "white",
            "ticks": ""
           }
          },
          "scene": {
           "xaxis": {
            "backgroundcolor": "#E5ECF6",
            "gridcolor": "white",
            "gridwidth": 2,
            "linecolor": "white",
            "showbackground": true,
            "ticks": "",
            "zerolinecolor": "white"
           },
           "yaxis": {
            "backgroundcolor": "#E5ECF6",
            "gridcolor": "white",
            "gridwidth": 2,
            "linecolor": "white",
            "showbackground": true,
            "ticks": "",
            "zerolinecolor": "white"
           },
           "zaxis": {
            "backgroundcolor": "#E5ECF6",
            "gridcolor": "white",
            "gridwidth": 2,
            "linecolor": "white",
            "showbackground": true,
            "ticks": "",
            "zerolinecolor": "white"
           }
          },
          "shapedefaults": {
           "line": {
            "color": "#2a3f5f"
           }
          },
          "ternary": {
           "aaxis": {
            "gridcolor": "white",
            "linecolor": "white",
            "ticks": ""
           },
           "baxis": {
            "gridcolor": "white",
            "linecolor": "white",
            "ticks": ""
           },
           "bgcolor": "#E5ECF6",
           "caxis": {
            "gridcolor": "white",
            "linecolor": "white",
            "ticks": ""
           }
          },
          "title": {
           "x": 0.05
          },
          "xaxis": {
           "automargin": true,
           "gridcolor": "white",
           "linecolor": "white",
           "ticks": "",
           "title": {
            "standoff": 15
           },
           "zerolinecolor": "white",
           "zerolinewidth": 2
          },
          "yaxis": {
           "automargin": true,
           "gridcolor": "white",
           "linecolor": "white",
           "ticks": "",
           "title": {
            "standoff": 15
           },
           "zerolinecolor": "white",
           "zerolinewidth": 2
          }
         }
        },
        "title": {
         "text": "Suicidal Thoughts in Youths 18-25, 2016"
        },
        "width": 700
       }
      },
      "text/html": [
       "<div>                            <div id=\"499eb4c2-d48e-46cf-aae2-12450ea5053c\" class=\"plotly-graph-div\" style=\"height:500px; width:700px;\"></div>            <script type=\"text/javascript\">                require([\"plotly\"], function(Plotly) {                    window.PLOTLYENV=window.PLOTLYENV || {};                                    if (document.getElementById(\"499eb4c2-d48e-46cf-aae2-12450ea5053c\")) {                    Plotly.newPlot(                        \"499eb4c2-d48e-46cf-aae2-12450ea5053c\",                        [{\"coloraxis\":\"coloraxis\",\"geo\":\"geo\",\"hovertemplate\":\"<b>%{hovertext}</b><br><br>Code=%{location}<br>color=%{z}<extra></extra>\",\"hovertext\":[\"Alabama\",\"Alaska\",\"Arizona\",\"Arkansas\",\"California\",\"Colorado\",\"Connecticut\",\"Delaware\",\"Florida\",\"Georgia\",\"Hawaii\",\"Idaho\",\"Illinois\",\"Indiana\",\"Iowa\",\"Kansas\",\"Kentucky\",\"Louisiana\",\"Maine\",\"Maryland\",\"Massachusetts\",\"Michigan\",\"Minnesota\",\"Mississippi\",\"Missouri\",\"Montana\",\"Nebraska\",\"Nevada\",\"New Hampshire\",\"New Jersey\",\"New Mexico\",\"New York\",\"North Carolina\",\"North Dakota\",\"Ohio\",\"Oklahoma\",\"Oregon\",\"Pennsylvania\",\"Rhode Island\",\"South Carolina\",\"South Dakota\",\"Tennessee\",\"Texas\",\"Utah\",\"Vermont\",\"Virginia\",\"Washington\",\"West Virginia\",\"Wisconsin\",\"Wyoming\"],\"locationmode\":\"USA-states\",\"locations\":[\"AL\",\"AK\",\"AZ\",\"AR\",\"CA\",\"CO\",\"CT\",\"DE\",\"FL\",\"GA\",\"HI\",\"ID\",\"IL\",\"IN\",\"IA\",\"KS\",\"KY\",\"LA\",\"ME\",\"MD\",\"MA\",\"MI\",\"MN\",\"MS\",\"MO\",\"MT\",\"NE\",\"NV\",\"NH\",\"NJ\",\"NM\",\"NY\",\"NC\",\"ND\",\"OH\",\"OK\",\"OR\",\"PA\",\"RI\",\"SC\",\"SD\",\"TN\",\"TX\",\"UT\",\"VT\",\"VA\",\"WA\",\"WV\",\"WI\",\"WY\"],\"name\":\"\",\"type\":\"choropleth\",\"z\":[7.27,11.76,8.92,8.6,8.54,9.56,8.56,9.13,8.12,7.02,8.99,9.36,8.45,9.12,8.74,9.34,9.36,7.78,7.68,8.23,8.49,8.35,8.79,7.72,7.18,10.47,8.12,8.9,10.26,8.47,8.88,8.82,7.71,8.47,9.27,7.54,11.52,9.05,9.55,7.25,7.47,8.33,8.38,10.49,10.34,8.57,9.67,8.72,9.41,8.66]}],                        {\"coloraxis\":{\"colorbar\":{\"title\":{\"text\":\"% of Youths\"}},\"colorscale\":[[0.0,\"rgb(94,79,162)\"],[0.1,\"rgb(50,136,189)\"],[0.2,\"rgb(102,194,165)\"],[0.3,\"rgb(171,221,164)\"],[0.4,\"rgb(230,245,152)\"],[0.5,\"rgb(255,255,191)\"],[0.6,\"rgb(254,224,139)\"],[0.7,\"rgb(253,174,97)\"],[0.8,\"rgb(244,109,67)\"],[0.9,\"rgb(213,62,79)\"],[1.0,\"rgb(158,1,66)\"]]},\"geo\":{\"center\":{},\"domain\":{\"x\":[0.0,1.0],\"y\":[0.0,1.0]},\"scope\":\"usa\"},\"height\":500,\"legend\":{\"tracegroupgap\":0},\"margin\":{\"l\":5,\"r\":10},\"template\":{\"data\":{\"bar\":[{\"error_x\":{\"color\":\"#2a3f5f\"},\"error_y\":{\"color\":\"#2a3f5f\"},\"marker\":{\"line\":{\"color\":\"#E5ECF6\",\"width\":0.5},\"pattern\":{\"fillmode\":\"overlay\",\"size\":10,\"solidity\":0.2}},\"type\":\"bar\"}],\"barpolar\":[{\"marker\":{\"line\":{\"color\":\"#E5ECF6\",\"width\":0.5},\"pattern\":{\"fillmode\":\"overlay\",\"size\":10,\"solidity\":0.2}},\"type\":\"barpolar\"}],\"carpet\":[{\"aaxis\":{\"endlinecolor\":\"#2a3f5f\",\"gridcolor\":\"white\",\"linecolor\":\"white\",\"minorgridcolor\":\"white\",\"startlinecolor\":\"#2a3f5f\"},\"baxis\":{\"endlinecolor\":\"#2a3f5f\",\"gridcolor\":\"white\",\"linecolor\":\"white\",\"minorgridcolor\":\"white\",\"startlinecolor\":\"#2a3f5f\"},\"type\":\"carpet\"}],\"choropleth\":[{\"colorbar\":{\"outlinewidth\":0,\"ticks\":\"\"},\"type\":\"choropleth\"}],\"contour\":[{\"colorbar\":{\"outlinewidth\":0,\"ticks\":\"\"},\"colorscale\":[[0.0,\"#0d0887\"],[0.1111111111111111,\"#46039f\"],[0.2222222222222222,\"#7201a8\"],[0.3333333333333333,\"#9c179e\"],[0.4444444444444444,\"#bd3786\"],[0.5555555555555556,\"#d8576b\"],[0.6666666666666666,\"#ed7953\"],[0.7777777777777778,\"#fb9f3a\"],[0.8888888888888888,\"#fdca26\"],[1.0,\"#f0f921\"]],\"type\":\"contour\"}],\"contourcarpet\":[{\"colorbar\":{\"outlinewidth\":0,\"ticks\":\"\"},\"type\":\"contourcarpet\"}],\"heatmap\":[{\"colorbar\":{\"outlinewidth\":0,\"ticks\":\"\"},\"colorscale\":[[0.0,\"#0d0887\"],[0.1111111111111111,\"#46039f\"],[0.2222222222222222,\"#7201a8\"],[0.3333333333333333,\"#9c179e\"],[0.4444444444444444,\"#bd3786\"],[0.5555555555555556,\"#d8576b\"],[0.6666666666666666,\"#ed7953\"],[0.7777777777777778,\"#fb9f3a\"],[0.8888888888888888,\"#fdca26\"],[1.0,\"#f0f921\"]],\"type\":\"heatmap\"}],\"heatmapgl\":[{\"colorbar\":{\"outlinewidth\":0,\"ticks\":\"\"},\"colorscale\":[[0.0,\"#0d0887\"],[0.1111111111111111,\"#46039f\"],[0.2222222222222222,\"#7201a8\"],[0.3333333333333333,\"#9c179e\"],[0.4444444444444444,\"#bd3786\"],[0.5555555555555556,\"#d8576b\"],[0.6666666666666666,\"#ed7953\"],[0.7777777777777778,\"#fb9f3a\"],[0.8888888888888888,\"#fdca26\"],[1.0,\"#f0f921\"]],\"type\":\"heatmapgl\"}],\"histogram\":[{\"marker\":{\"pattern\":{\"fillmode\":\"overlay\",\"size\":10,\"solidity\":0.2}},\"type\":\"histogram\"}],\"histogram2d\":[{\"colorbar\":{\"outlinewidth\":0,\"ticks\":\"\"},\"colorscale\":[[0.0,\"#0d0887\"],[0.1111111111111111,\"#46039f\"],[0.2222222222222222,\"#7201a8\"],[0.3333333333333333,\"#9c179e\"],[0.4444444444444444,\"#bd3786\"],[0.5555555555555556,\"#d8576b\"],[0.6666666666666666,\"#ed7953\"],[0.7777777777777778,\"#fb9f3a\"],[0.8888888888888888,\"#fdca26\"],[1.0,\"#f0f921\"]],\"type\":\"histogram2d\"}],\"histogram2dcontour\":[{\"colorbar\":{\"outlinewidth\":0,\"ticks\":\"\"},\"colorscale\":[[0.0,\"#0d0887\"],[0.1111111111111111,\"#46039f\"],[0.2222222222222222,\"#7201a8\"],[0.3333333333333333,\"#9c179e\"],[0.4444444444444444,\"#bd3786\"],[0.5555555555555556,\"#d8576b\"],[0.6666666666666666,\"#ed7953\"],[0.7777777777777778,\"#fb9f3a\"],[0.8888888888888888,\"#fdca26\"],[1.0,\"#f0f921\"]],\"type\":\"histogram2dcontour\"}],\"mesh3d\":[{\"colorbar\":{\"outlinewidth\":0,\"ticks\":\"\"},\"type\":\"mesh3d\"}],\"parcoords\":[{\"line\":{\"colorbar\":{\"outlinewidth\":0,\"ticks\":\"\"}},\"type\":\"parcoords\"}],\"pie\":[{\"automargin\":true,\"type\":\"pie\"}],\"scatter\":[{\"marker\":{\"colorbar\":{\"outlinewidth\":0,\"ticks\":\"\"}},\"type\":\"scatter\"}],\"scatter3d\":[{\"line\":{\"colorbar\":{\"outlinewidth\":0,\"ticks\":\"\"}},\"marker\":{\"colorbar\":{\"outlinewidth\":0,\"ticks\":\"\"}},\"type\":\"scatter3d\"}],\"scattercarpet\":[{\"marker\":{\"colorbar\":{\"outlinewidth\":0,\"ticks\":\"\"}},\"type\":\"scattercarpet\"}],\"scattergeo\":[{\"marker\":{\"colorbar\":{\"outlinewidth\":0,\"ticks\":\"\"}},\"type\":\"scattergeo\"}],\"scattergl\":[{\"marker\":{\"colorbar\":{\"outlinewidth\":0,\"ticks\":\"\"}},\"type\":\"scattergl\"}],\"scattermapbox\":[{\"marker\":{\"colorbar\":{\"outlinewidth\":0,\"ticks\":\"\"}},\"type\":\"scattermapbox\"}],\"scatterpolar\":[{\"marker\":{\"colorbar\":{\"outlinewidth\":0,\"ticks\":\"\"}},\"type\":\"scatterpolar\"}],\"scatterpolargl\":[{\"marker\":{\"colorbar\":{\"outlinewidth\":0,\"ticks\":\"\"}},\"type\":\"scatterpolargl\"}],\"scatterternary\":[{\"marker\":{\"colorbar\":{\"outlinewidth\":0,\"ticks\":\"\"}},\"type\":\"scatterternary\"}],\"surface\":[{\"colorbar\":{\"outlinewidth\":0,\"ticks\":\"\"},\"colorscale\":[[0.0,\"#0d0887\"],[0.1111111111111111,\"#46039f\"],[0.2222222222222222,\"#7201a8\"],[0.3333333333333333,\"#9c179e\"],[0.4444444444444444,\"#bd3786\"],[0.5555555555555556,\"#d8576b\"],[0.6666666666666666,\"#ed7953\"],[0.7777777777777778,\"#fb9f3a\"],[0.8888888888888888,\"#fdca26\"],[1.0,\"#f0f921\"]],\"type\":\"surface\"}],\"table\":[{\"cells\":{\"fill\":{\"color\":\"#EBF0F8\"},\"line\":{\"color\":\"white\"}},\"header\":{\"fill\":{\"color\":\"#C8D4E3\"},\"line\":{\"color\":\"white\"}},\"type\":\"table\"}]},\"layout\":{\"annotationdefaults\":{\"arrowcolor\":\"#2a3f5f\",\"arrowhead\":0,\"arrowwidth\":1},\"autotypenumbers\":\"strict\",\"coloraxis\":{\"colorbar\":{\"outlinewidth\":0,\"ticks\":\"\"}},\"colorscale\":{\"diverging\":[[0,\"#8e0152\"],[0.1,\"#c51b7d\"],[0.2,\"#de77ae\"],[0.3,\"#f1b6da\"],[0.4,\"#fde0ef\"],[0.5,\"#f7f7f7\"],[0.6,\"#e6f5d0\"],[0.7,\"#b8e186\"],[0.8,\"#7fbc41\"],[0.9,\"#4d9221\"],[1,\"#276419\"]],\"sequential\":[[0.0,\"#0d0887\"],[0.1111111111111111,\"#46039f\"],[0.2222222222222222,\"#7201a8\"],[0.3333333333333333,\"#9c179e\"],[0.4444444444444444,\"#bd3786\"],[0.5555555555555556,\"#d8576b\"],[0.6666666666666666,\"#ed7953\"],[0.7777777777777778,\"#fb9f3a\"],[0.8888888888888888,\"#fdca26\"],[1.0,\"#f0f921\"]],\"sequentialminus\":[[0.0,\"#0d0887\"],[0.1111111111111111,\"#46039f\"],[0.2222222222222222,\"#7201a8\"],[0.3333333333333333,\"#9c179e\"],[0.4444444444444444,\"#bd3786\"],[0.5555555555555556,\"#d8576b\"],[0.6666666666666666,\"#ed7953\"],[0.7777777777777778,\"#fb9f3a\"],[0.8888888888888888,\"#fdca26\"],[1.0,\"#f0f921\"]]},\"colorway\":[\"#636efa\",\"#EF553B\",\"#00cc96\",\"#ab63fa\",\"#FFA15A\",\"#19d3f3\",\"#FF6692\",\"#B6E880\",\"#FF97FF\",\"#FECB52\"],\"font\":{\"color\":\"#2a3f5f\"},\"geo\":{\"bgcolor\":\"white\",\"lakecolor\":\"white\",\"landcolor\":\"#E5ECF6\",\"showlakes\":true,\"showland\":true,\"subunitcolor\":\"white\"},\"hoverlabel\":{\"align\":\"left\"},\"hovermode\":\"closest\",\"mapbox\":{\"style\":\"light\"},\"paper_bgcolor\":\"white\",\"plot_bgcolor\":\"#E5ECF6\",\"polar\":{\"angularaxis\":{\"gridcolor\":\"white\",\"linecolor\":\"white\",\"ticks\":\"\"},\"bgcolor\":\"#E5ECF6\",\"radialaxis\":{\"gridcolor\":\"white\",\"linecolor\":\"white\",\"ticks\":\"\"}},\"scene\":{\"xaxis\":{\"backgroundcolor\":\"#E5ECF6\",\"gridcolor\":\"white\",\"gridwidth\":2,\"linecolor\":\"white\",\"showbackground\":true,\"ticks\":\"\",\"zerolinecolor\":\"white\"},\"yaxis\":{\"backgroundcolor\":\"#E5ECF6\",\"gridcolor\":\"white\",\"gridwidth\":2,\"linecolor\":\"white\",\"showbackground\":true,\"ticks\":\"\",\"zerolinecolor\":\"white\"},\"zaxis\":{\"backgroundcolor\":\"#E5ECF6\",\"gridcolor\":\"white\",\"gridwidth\":2,\"linecolor\":\"white\",\"showbackground\":true,\"ticks\":\"\",\"zerolinecolor\":\"white\"}},\"shapedefaults\":{\"line\":{\"color\":\"#2a3f5f\"}},\"ternary\":{\"aaxis\":{\"gridcolor\":\"white\",\"linecolor\":\"white\",\"ticks\":\"\"},\"baxis\":{\"gridcolor\":\"white\",\"linecolor\":\"white\",\"ticks\":\"\"},\"bgcolor\":\"#E5ECF6\",\"caxis\":{\"gridcolor\":\"white\",\"linecolor\":\"white\",\"ticks\":\"\"}},\"title\":{\"x\":0.05},\"xaxis\":{\"automargin\":true,\"gridcolor\":\"white\",\"linecolor\":\"white\",\"ticks\":\"\",\"title\":{\"standoff\":15},\"zerolinecolor\":\"white\",\"zerolinewidth\":2},\"yaxis\":{\"automargin\":true,\"gridcolor\":\"white\",\"linecolor\":\"white\",\"ticks\":\"\",\"title\":{\"standoff\":15},\"zerolinecolor\":\"white\",\"zerolinewidth\":2}}},\"title\":{\"text\":\"Suicidal Thoughts in Youths 18-25, 2016\"},\"width\":700},                        {\"responsive\": true}                    ).then(function(){\n",
       "                            \n",
       "var gd = document.getElementById('499eb4c2-d48e-46cf-aae2-12450ea5053c');\n",
       "var x = new MutationObserver(function (mutations, observer) {{\n",
       "        var display = window.getComputedStyle(gd).display;\n",
       "        if (!display || display === 'none') {{\n",
       "            console.log([gd, 'removed!']);\n",
       "            Plotly.purge(gd);\n",
       "            observer.disconnect();\n",
       "        }}\n",
       "}});\n",
       "\n",
       "// Listen for the removal of the full notebook cells\n",
       "var notebookContainer = gd.closest('#notebook-container');\n",
       "if (notebookContainer) {{\n",
       "    x.observe(notebookContainer, {childList: true});\n",
       "}}\n",
       "\n",
       "// Listen for the clearing of the current output cell\n",
       "var outputEl = gd.closest('.output');\n",
       "if (outputEl) {{\n",
       "    x.observe(outputEl, {childList: true});\n",
       "}}\n",
       "\n",
       "                        })                };                });            </script>        </div>"
      ]
     },
     "metadata": {},
     "output_type": "display_data"
    }
   ],
   "source": [
    "#creates a heat map comparing spending per pupil to \n",
    "#% of students who had suicidal thoughts in 2016\n",
    "#in case I wanted to use it in ppt\n",
    "suicidal_df['Code'] = suicidal_df['State'].map(code)\n",
    "fig = px.choropleth(suicidal_df,\n",
    "                    locations='Code',\n",
    "                    color= suicidal_df['18-25 Estimate'].astype(float),\n",
    "#                     range_color=[1,3]\n",
    "                    color_continuous_scale='spectral_r',\n",
    "                    hover_name='State',\n",
    "                    locationmode='USA-states',\n",
    "                    title=\"Suicidal Thoughts in Youths 18-25, 2016\",\n",
    "                    scope='usa',\n",
    "                    width=700,\n",
    "                    height=500,\n",
    "                   )\n",
    "fig.update_layout(coloraxis_colorbar=dict(\n",
    "    title=\"% of Youths\"))\n",
    "fig= fig.update_layout(margin_l=5)\n",
    "fig=fig.update_layout(margin_r=10)\n",
    "fig"
   ]
  },
  {
   "cell_type": "code",
   "execution_count": 403,
   "id": "c7a19363-51a3-4a07-8f7f-e906ba52ae4b",
   "metadata": {},
   "outputs": [
    {
     "name": "stderr",
     "output_type": "stream",
     "text": [
      "WARNING:param.main: hover_data option not found for scatter plot; similar options include: ['hover_alpha', 'sort_date', 'hover_line_alpha']\n"
     ]
    },
    {
     "data": {},
     "metadata": {},
     "output_type": "display_data"
    },
    {
     "data": {
      "application/vnd.holoviews_exec.v0+json": "",
      "text/html": [
       "<div id='22328'>\n",
       "\n",
       "\n",
       "\n",
       "\n",
       "\n",
       "  <div class=\"bk-root\" id=\"d4c0cf9b-2e91-48d8-88fc-fb2b411bb896\" data-root-id=\"22328\"></div>\n",
       "</div>\n",
       "<script type=\"application/javascript\">(function(root) {\n",
       "  function embed_document(root) {\n",
       "    var docs_json = {\"f032681a-201f-4703-be4c-73a6baad2f58\":{\"defs\":[{\"extends\":null,\"module\":null,\"name\":\"ReactiveHTML1\",\"overrides\":[],\"properties\":[]},{\"extends\":null,\"module\":null,\"name\":\"FlexBox1\",\"overrides\":[],\"properties\":[{\"default\":\"flex-start\",\"kind\":null,\"name\":\"align_content\"},{\"default\":\"flex-start\",\"kind\":null,\"name\":\"align_items\"},{\"default\":\"row\",\"kind\":null,\"name\":\"flex_direction\"},{\"default\":\"wrap\",\"kind\":null,\"name\":\"flex_wrap\"},{\"default\":\"flex-start\",\"kind\":null,\"name\":\"justify_content\"}]},{\"extends\":null,\"module\":null,\"name\":\"TemplateActions1\",\"overrides\":[],\"properties\":[{\"default\":0,\"kind\":null,\"name\":\"open_modal\"},{\"default\":0,\"kind\":null,\"name\":\"close_modal\"}]},{\"extends\":null,\"module\":null,\"name\":\"MaterialTemplateActions1\",\"overrides\":[],\"properties\":[{\"default\":0,\"kind\":null,\"name\":\"open_modal\"},{\"default\":0,\"kind\":null,\"name\":\"close_modal\"}]}],\"roots\":{\"references\":[{\"attributes\":{\"axis\":{\"id\":\"22342\"},\"grid_line_color\":null,\"ticker\":null},\"id\":\"22345\",\"type\":\"Grid\"},{\"attributes\":{\"fill_color\":{\"value\":\"#30a2da\"},\"line_color\":{\"value\":\"#30a2da\"},\"size\":{\"value\":5.477225575051661},\"x\":{\"field\":\"Spending per pupil\"},\"y\":{\"field\":\"18-25 Estimate\"}},\"id\":\"22366\",\"type\":\"Scatter\"},{\"attributes\":{\"end\":21551.5,\"reset_end\":21551.5,\"reset_start\":7047.5,\"start\":7047.5,\"tags\":[[[\"Spending per pupil\",\"Spending per pupil\",null]]]},\"id\":\"22330\",\"type\":\"Range1d\"},{\"attributes\":{},\"id\":\"22388\",\"type\":\"UnionRenderers\"},{\"attributes\":{\"axis_label\":\"Spending per Pupil, USD\",\"formatter\":{\"id\":\"22375\"},\"major_label_orientation\":0.7853981633974483,\"major_label_policy\":{\"id\":\"22374\"},\"ticker\":{\"id\":\"22343\"}},\"id\":\"22342\",\"type\":\"LinearAxis\"},{\"attributes\":{\"margin\":[5,5,5,5],\"name\":\"HSpacer43438\",\"sizing_mode\":\"stretch_width\"},\"id\":\"22329\",\"type\":\"Spacer\"},{\"attributes\":{},\"id\":\"22377\",\"type\":\"AllLabels\"},{\"attributes\":{},\"id\":\"22374\",\"type\":\"AllLabels\"},{\"attributes\":{\"bottom_units\":\"screen\",\"fill_alpha\":0.5,\"fill_color\":\"lightgrey\",\"left_units\":\"screen\",\"level\":\"overlay\",\"line_alpha\":1.0,\"line_color\":\"black\",\"line_dash\":[4,4],\"line_width\":2,\"right_units\":\"screen\",\"syncable\":false,\"top_units\":\"screen\"},\"id\":\"22355\",\"type\":\"BoxAnnotation\"},{\"attributes\":{\"axis\":{\"id\":\"22346\"},\"dimension\":1,\"grid_line_color\":null,\"ticker\":null},\"id\":\"22349\",\"type\":\"Grid\"},{\"attributes\":{\"callback\":null,\"renderers\":[{\"id\":\"22369\"}],\"tags\":[\"hv_created\"],\"tooltips\":[[\"Spending per pupil\",\"@{Spending_per_pupil}\"],[\"18-25 Estimate\",\"@{A_18_hyphen_minus_25_Estimate}\"],[\"State\",\"@{State}\"]]},\"id\":\"22332\",\"type\":\"HoverTool\"},{\"attributes\":{},\"id\":\"22338\",\"type\":\"LinearScale\"},{\"attributes\":{},\"id\":\"22343\",\"type\":\"BasicTicker\"},{\"attributes\":{},\"id\":\"22364\",\"type\":\"Selection\"},{\"attributes\":{\"children\":[{\"id\":\"22329\"},{\"id\":\"22333\"},{\"id\":\"22399\"}],\"margin\":[0,0,0,0],\"name\":\"Row43434\",\"tags\":[\"embedded\"]},\"id\":\"22328\",\"type\":\"Row\"},{\"attributes\":{\"source\":{\"id\":\"22363\"}},\"id\":\"22370\",\"type\":\"CDSView\"},{\"attributes\":{\"axis_label\":\"% of Youths 18-25\",\"formatter\":{\"id\":\"22372\"},\"major_label_policy\":{\"id\":\"22377\"},\"ticker\":{\"id\":\"22347\"}},\"id\":\"22346\",\"type\":\"LinearAxis\"},{\"attributes\":{\"format\":\"%0f\"},\"id\":\"22372\",\"type\":\"PrintfTickFormatter\"},{\"attributes\":{\"data_source\":{\"id\":\"22363\"},\"glyph\":{\"id\":\"22366\"},\"hover_glyph\":null,\"muted_glyph\":{\"id\":\"22368\"},\"nonselection_glyph\":{\"id\":\"22367\"},\"selection_glyph\":{\"id\":\"22371\"},\"view\":{\"id\":\"22370\"}},\"id\":\"22369\",\"type\":\"GlyphRenderer\"},{\"attributes\":{\"below\":[{\"id\":\"22342\"}],\"center\":[{\"id\":\"22345\"},{\"id\":\"22349\"}],\"height\":500,\"left\":[{\"id\":\"22346\"}],\"margin\":[5,5,5,5],\"min_border_bottom\":10,\"min_border_left\":10,\"min_border_right\":10,\"min_border_top\":10,\"renderers\":[{\"id\":\"22369\"}],\"sizing_mode\":\"fixed\",\"title\":{\"id\":\"22334\"},\"toolbar\":{\"id\":\"22356\"},\"width\":700,\"x_range\":{\"id\":\"22330\"},\"x_scale\":{\"id\":\"22338\"},\"y_range\":{\"id\":\"22331\"},\"y_scale\":{\"id\":\"22340\"}},\"id\":\"22333\",\"subtype\":\"Figure\",\"type\":\"Plot\"},{\"attributes\":{\"active_multi\":null,\"tools\":[{\"id\":\"22332\"},{\"id\":\"22350\"},{\"id\":\"22351\"},{\"id\":\"22352\"},{\"id\":\"22353\"},{\"id\":\"22354\"}]},\"id\":\"22356\",\"type\":\"Toolbar\"},{\"attributes\":{\"end\":12.234,\"reset_end\":12.234,\"reset_start\":6.545999999999999,\"start\":6.545999999999999,\"tags\":[[[\"18-25 Estimate\",\"18-25 Estimate\",null]]]},\"id\":\"22331\",\"type\":\"Range1d\"},{\"attributes\":{},\"id\":\"22340\",\"type\":\"LinearScale\"},{\"attributes\":{\"fill_alpha\":{\"value\":0.1},\"fill_color\":{\"value\":\"#30a2da\"},\"line_alpha\":{\"value\":0.1},\"line_color\":{\"value\":\"#30a2da\"},\"size\":{\"value\":5.477225575051661},\"x\":{\"field\":\"Spending per pupil\"},\"y\":{\"field\":\"18-25 Estimate\"}},\"id\":\"22367\",\"type\":\"Scatter\"},{\"attributes\":{\"text\":\"Spending per Pupil vs. % of 18-25 y.o. Having Suicidal Thoughts, 2016\",\"text_color\":\"black\",\"text_font_size\":\"12pt\"},\"id\":\"22334\",\"type\":\"Title\"},{\"attributes\":{},\"id\":\"22347\",\"type\":\"BasicTicker\"},{\"attributes\":{\"data\":{\"18-25 Estimate\":{\"__ndarray__\":\"FK5H4XoUHUCF61G4HoUnQNejcD0K1yFAMzMzMzMzIUAUrkfhehQhQB+F61G4HiNAH4XrUbgeIUDD9Shcj0IiQD0K16NwPSBAFK5H4XoUHEB7FK5H4fohQLgehetRuCJAZmZmZmbmIEA9CtejcD0iQHsUrkfheiFArkfhehSuIkC4HoXrUbgiQB+F61G4Hh9AuB6F61G4HkD2KFyPwnUgQHsUrkfh+iBAMzMzMzOzIEAUrkfhepQhQOF6FK5H4R5AuB6F61G4HEBxPQrXo/AkQD0K16NwPSBAzczMzMzMIUCF61G4HoUkQHE9Ctej8CBAw/UoXI/CIUCkcD0K16MhQNejcD0K1x5AcT0K16PwIEAK16NwPYoiQClcj8L1KB5ACtejcD0KJ0CamZmZmRkiQJqZmZmZGSNAAAAAAAAAHUDhehSuR+EdQClcj8L1qCBAw/UoXI/CIEB7FK5H4fokQK5H4XoUriRApHA9CtcjIUDXo3A9ClcjQHE9CtejcCFAUrgehevRIkBSuB6F61EhQA==\",\"dtype\":\"float64\",\"order\":\"little\",\"shape\":[50]},\"A_18_hyphen_minus_25_Estimate\":{\"__ndarray__\":\"FK5H4XoUHUCF61G4HoUnQNejcD0K1yFAMzMzMzMzIUAUrkfhehQhQB+F61G4HiNAH4XrUbgeIUDD9Shcj0IiQD0K16NwPSBAFK5H4XoUHEB7FK5H4fohQLgehetRuCJAZmZmZmbmIEA9CtejcD0iQHsUrkfheiFArkfhehSuIkC4HoXrUbgiQB+F61G4Hh9AuB6F61G4HkD2KFyPwnUgQHsUrkfh+iBAMzMzMzOzIEAUrkfhepQhQOF6FK5H4R5AuB6F61G4HEBxPQrXo/AkQD0K16NwPSBAzczMzMzMIUCF61G4HoUkQHE9Ctej8CBAw/UoXI/CIUCkcD0K16MhQNejcD0K1x5AcT0K16PwIEAK16NwPYoiQClcj8L1KB5ACtejcD0KJ0CamZmZmRkiQJqZmZmZGSNAAAAAAAAAHUDhehSuR+EdQClcj8L1qCBAw/UoXI/CIEB7FK5H4fokQK5H4XoUriRApHA9CtcjIUDXo3A9ClcjQHE9CtejcCFAUrgehevRIkBSuB6F61EhQA==\",\"dtype\":\"float64\",\"order\":\"little\",\"shape\":[50]},\"Spending per pupil\":[9636,16576,8882,9976,11588,10171,17373,14335,10098,10893,14987,8141,12457,12360,11337,11939,10010,11967,13666,15574,16270,11987,12664,8919,10457,11266,11796,10305,13725,18874,11266,20645,10613,11664,12811,9353,10862,15023,15312,10719,9913,8324,10314,7954,17108,12146,11510,10984,12435,19238],\"Spending_per_pupil\":[9636,16576,8882,9976,11588,10171,17373,14335,10098,10893,14987,8141,12457,12360,11337,11939,10010,11967,13666,15574,16270,11987,12664,8919,10457,11266,11796,10305,13725,18874,11266,20645,10613,11664,12811,9353,10862,15023,15312,10719,9913,8324,10314,7954,17108,12146,11510,10984,12435,19238],\"State\":[\"Alabama\",\"Alaska\",\"Arizona\",\"Arkansas\",\"California\",\"Colorado\",\"Connecticut\",\"Delaware\",\"Florida\",\"Georgia\",\"Hawaii\",\"Idaho\",\"Illinois\",\"Indiana\",\"Iowa\",\"Kansas\",\"Kentucky\",\"Louisiana\",\"Maine\",\"Maryland\",\"Massachusetts\",\"Michigan\",\"Minnesota\",\"Mississippi\",\"Missouri\",\"Montana\",\"Nebraska\",\"Nevada\",\"New Hampshire\",\"New Jersey\",\"New Mexico\",\"New York\",\"North Carolina\",\"North Dakota\",\"Ohio\",\"Oklahoma\",\"Oregon\",\"Pennsylvania\",\"Rhode Island\",\"South Carolina\",\"South Dakota\",\"Tennessee\",\"Texas\",\"Utah\",\"Vermont\",\"Virginia\",\"Washington\",\"West Virginia\",\"Wisconsin\",\"Wyoming\"]},\"selected\":{\"id\":\"22364\"},\"selection_policy\":{\"id\":\"22388\"}},\"id\":\"22363\",\"type\":\"ColumnDataSource\"},{\"attributes\":{},\"id\":\"22352\",\"type\":\"WheelZoomTool\"},{\"attributes\":{\"overlay\":{\"id\":\"22355\"}},\"id\":\"22353\",\"type\":\"BoxZoomTool\"},{\"attributes\":{\"margin\":[5,5,5,5],\"name\":\"HSpacer43439\",\"sizing_mode\":\"stretch_width\"},\"id\":\"22399\",\"type\":\"Spacer\"},{\"attributes\":{},\"id\":\"22351\",\"type\":\"PanTool\"},{\"attributes\":{},\"id\":\"22350\",\"type\":\"SaveTool\"},{\"attributes\":{},\"id\":\"22354\",\"type\":\"ResetTool\"},{\"attributes\":{},\"id\":\"22375\",\"type\":\"BasicTickFormatter\"},{\"attributes\":{\"angle\":{\"value\":0.0},\"fill_alpha\":{\"value\":1.0},\"fill_color\":{\"value\":\"#30a2da\"},\"hatch_alpha\":{\"value\":1.0},\"hatch_color\":{\"value\":\"black\"},\"hatch_scale\":{\"value\":12.0},\"hatch_weight\":{\"value\":1.0},\"line_alpha\":{\"value\":1.0},\"line_cap\":{\"value\":\"butt\"},\"line_color\":{\"value\":\"#30a2da\"},\"line_dash\":{\"value\":[]},\"line_dash_offset\":{\"value\":0},\"line_join\":{\"value\":\"bevel\"},\"line_width\":{\"value\":1},\"marker\":{\"value\":\"circle\"},\"size\":{\"value\":5.477225575051661},\"x\":{\"field\":\"Spending per pupil\"},\"y\":{\"field\":\"18-25 Estimate\"}},\"id\":\"22371\",\"type\":\"Scatter\"},{\"attributes\":{\"fill_alpha\":{\"value\":0.2},\"fill_color\":{\"value\":\"#30a2da\"},\"line_alpha\":{\"value\":0.2},\"line_color\":{\"value\":\"#30a2da\"},\"size\":{\"value\":5.477225575051661},\"x\":{\"field\":\"Spending per pupil\"},\"y\":{\"field\":\"18-25 Estimate\"}},\"id\":\"22368\",\"type\":\"Scatter\"}],\"root_ids\":[\"22328\"]},\"title\":\"Bokeh Application\",\"version\":\"2.3.2\"}};\n",
       "    var render_items = [{\"docid\":\"f032681a-201f-4703-be4c-73a6baad2f58\",\"root_ids\":[\"22328\"],\"roots\":{\"22328\":\"d4c0cf9b-2e91-48d8-88fc-fb2b411bb896\"}}];\n",
       "    root.Bokeh.embed.embed_items_notebook(docs_json, render_items);\n",
       "  }\n",
       "  if (root.Bokeh !== undefined && root.Bokeh.Panel !== undefined) {\n",
       "    embed_document(root);\n",
       "  } else {\n",
       "    var attempts = 0;\n",
       "    var timer = setInterval(function(root) {\n",
       "      if (root.Bokeh !== undefined && root.Bokeh.Panel !== undefined) {\n",
       "        clearInterval(timer);\n",
       "        embed_document(root);\n",
       "      } else if (document.readyState == \"complete\") {\n",
       "        attempts++;\n",
       "        if (attempts > 200) {\n",
       "          clearInterval(timer);\n",
       "          console.log(\"Bokeh: ERROR: Unable to run BokehJS code because BokehJS library is missing\");\n",
       "        }\n",
       "      }\n",
       "    }, 25, root)\n",
       "  }\n",
       "})(window);</script>"
      ],
      "text/plain": [
       ":Scatter   [Spending per pupil]   (18-25 Estimate,State)"
      ]
     },
     "execution_count": 403,
     "metadata": {
      "application/vnd.holoviews_exec.v0+json": {
       "id": "22328"
      }
     },
     "output_type": "execute_result"
    }
   ],
   "source": [
    "#creates a scatter plot comparing spending per pupil to \n",
    "#% of students who had suicidal thoughts\n",
    "scatter_fin_suicidal = suicidal_df.hvplot.scatter(\n",
    "    x=\"Spending per pupil\",\n",
    "    y=\"18-25 Estimate\",\n",
    "    yformatter=\"%0f\",\n",
    "    rot=45,\n",
    "    height=500,\n",
    "    width=700,\n",
    "    ylabel= '% of Youths 18-25',\n",
    "    xlabel='Spending per Pupil, USD',\n",
    "    hover_data={'State'},\n",
    "    hover_cols=\"State\",\n",
    "    title=\"Spending per Pupil vs. % of 18-25 y.o. Having Suicidal Thoughts, 2016\")\n",
    "scatter_fin_suicidal"
   ]
  },
  {
   "cell_type": "code",
   "execution_count": 338,
   "id": "93c7054a-090f-468a-a056-fcae8cc34fe8",
   "metadata": {},
   "outputs": [
    {
     "data": {
      "text/plain": [
       "0.1915534414843192"
      ]
     },
     "execution_count": 338,
     "metadata": {},
     "output_type": "execute_result"
    }
   ],
   "source": [
    "#calculates the correlation \n",
    "suicidal_cor = suicidal_df[\"Spending per pupil\"].astype(float).corr(suicidal_df[\"18-25 Estimate\"].astype(float), method='pearson') \n",
    "suicidal_cor"
   ]
  },
  {
   "cell_type": "code",
   "execution_count": 348,
   "id": "f4898c62-1a42-4545-aa52-912b87279909",
   "metadata": {},
   "outputs": [
    {
     "data": {
      "text/html": [
       "<div>\n",
       "<style scoped>\n",
       "    .dataframe tbody tr th:only-of-type {\n",
       "        vertical-align: middle;\n",
       "    }\n",
       "\n",
       "    .dataframe tbody tr th {\n",
       "        vertical-align: top;\n",
       "    }\n",
       "\n",
       "    .dataframe thead th {\n",
       "        text-align: right;\n",
       "    }\n",
       "</style>\n",
       "<table border=\"1\" class=\"dataframe\">\n",
       "  <thead>\n",
       "    <tr style=\"text-align: right;\">\n",
       "      <th></th>\n",
       "      <th>State</th>\n",
       "      <th>Rank in Spending</th>\n",
       "      <th>Spending per pupil</th>\n",
       "      <th>Total Funding</th>\n",
       "      <th>Funding State Sources</th>\n",
       "      <th>Funding Local Sources</th>\n",
       "      <th>Total Expenditures</th>\n",
       "      <th>Current Spending</th>\n",
       "      <th>Rank</th>\n",
       "      <th>State.1</th>\n",
       "      <th>College Readiness</th>\n",
       "      <th>High School Graduation Rate</th>\n",
       "      <th>NAEP Math Scores</th>\n",
       "      <th>NAEP Reading Scores</th>\n",
       "      <th>Preschool Enrollment</th>\n",
       "      <th>Code</th>\n",
       "      <th>12-17 Estimate</th>\n",
       "    </tr>\n",
       "  </thead>\n",
       "  <tbody>\n",
       "    <tr>\n",
       "      <th>0</th>\n",
       "      <td>Alabama</td>\n",
       "      <td>45</td>\n",
       "      <td>9636</td>\n",
       "      <td>803907000</td>\n",
       "      <td>4148764000</td>\n",
       "      <td>2652925000</td>\n",
       "      <td>7854516000</td>\n",
       "      <td>7.000000e+09</td>\n",
       "      <td>45</td>\n",
       "      <td>Alabama</td>\n",
       "      <td>44</td>\n",
       "      <td>5</td>\n",
       "      <td>49</td>\n",
       "      <td>48</td>\n",
       "      <td>38</td>\n",
       "      <td>AL</td>\n",
       "      <td>2.10</td>\n",
       "    </tr>\n",
       "    <tr>\n",
       "      <th>1</th>\n",
       "      <td>Alaska</td>\n",
       "      <td>7</td>\n",
       "      <td>16576</td>\n",
       "      <td>307320000</td>\n",
       "      <td>1613675000</td>\n",
       "      <td>573685000</td>\n",
       "      <td>2623014000</td>\n",
       "      <td>2.327151e+09</td>\n",
       "      <td>49</td>\n",
       "      <td>Alaska</td>\n",
       "      <td>37</td>\n",
       "      <td>49</td>\n",
       "      <td>43</td>\n",
       "      <td>49</td>\n",
       "      <td>33</td>\n",
       "      <td>AK</td>\n",
       "      <td>3.62</td>\n",
       "    </tr>\n",
       "    <tr>\n",
       "      <th>2</th>\n",
       "      <td>Arizona</td>\n",
       "      <td>48</td>\n",
       "      <td>8882</td>\n",
       "      <td>1160908000</td>\n",
       "      <td>3440726000</td>\n",
       "      <td>3828455000</td>\n",
       "      <td>7984562000</td>\n",
       "      <td>7.276067e+09</td>\n",
       "      <td>47</td>\n",
       "      <td>Arizona</td>\n",
       "      <td>47</td>\n",
       "      <td>47</td>\n",
       "      <td>27</td>\n",
       "      <td>37</td>\n",
       "      <td>42</td>\n",
       "      <td>AZ</td>\n",
       "      <td>2.72</td>\n",
       "    </tr>\n",
       "    <tr>\n",
       "      <th>3</th>\n",
       "      <td>Arkansas</td>\n",
       "      <td>43</td>\n",
       "      <td>9976</td>\n",
       "      <td>593656000</td>\n",
       "      <td>4122377000</td>\n",
       "      <td>668082000</td>\n",
       "      <td>5407470000</td>\n",
       "      <td>4.750938e+09</td>\n",
       "      <td>38</td>\n",
       "      <td>Arkansas</td>\n",
       "      <td>45</td>\n",
       "      <td>9</td>\n",
       "      <td>43</td>\n",
       "      <td>37</td>\n",
       "      <td>19</td>\n",
       "      <td>AR</td>\n",
       "      <td>3.22</td>\n",
       "    </tr>\n",
       "    <tr>\n",
       "      <th>4</th>\n",
       "      <td>California</td>\n",
       "      <td>27</td>\n",
       "      <td>11588</td>\n",
       "      <td>7709079000</td>\n",
       "      <td>50904567000</td>\n",
       "      <td>27943521000</td>\n",
       "      <td>82146317000</td>\n",
       "      <td>7.264124e+10</td>\n",
       "      <td>40</td>\n",
       "      <td>California</td>\n",
       "      <td>33</td>\n",
       "      <td>36</td>\n",
       "      <td>38</td>\n",
       "      <td>37</td>\n",
       "      <td>16</td>\n",
       "      <td>CA</td>\n",
       "      <td>2.67</td>\n",
       "    </tr>\n",
       "  </tbody>\n",
       "</table>\n",
       "</div>"
      ],
      "text/plain": [
       "        State  Rank in Spending  Spending per pupil  Total Funding  \\\n",
       "0     Alabama                45                9636      803907000   \n",
       "1      Alaska                 7               16576      307320000   \n",
       "2     Arizona                48                8882     1160908000   \n",
       "3    Arkansas                43                9976      593656000   \n",
       "4  California                27               11588     7709079000   \n",
       "\n",
       "   Funding State Sources  Funding Local Sources  Total Expenditures  \\\n",
       "0             4148764000             2652925000          7854516000   \n",
       "1             1613675000              573685000          2623014000   \n",
       "2             3440726000             3828455000          7984562000   \n",
       "3             4122377000              668082000          5407470000   \n",
       "4            50904567000            27943521000         82146317000   \n",
       "\n",
       "   Current Spending  Rank     State.1  College Readiness  \\\n",
       "0      7.000000e+09    45     Alabama                 44   \n",
       "1      2.327151e+09    49      Alaska                 37   \n",
       "2      7.276067e+09    47     Arizona                 47   \n",
       "3      4.750938e+09    38    Arkansas                 45   \n",
       "4      7.264124e+10    40  California                 33   \n",
       "\n",
       "   High School Graduation Rate  NAEP Math Scores  NAEP Reading Scores  \\\n",
       "0                            5                49                   48   \n",
       "1                           49                43                   49   \n",
       "2                           47                27                   37   \n",
       "3                            9                43                   37   \n",
       "4                           36                38                   37   \n",
       "\n",
       "   Preschool Enrollment Code  12-17 Estimate  \n",
       "0                    38   AL            2.10  \n",
       "1                    33   AK            3.62  \n",
       "2                    42   AZ            2.72  \n",
       "3                    19   AR            3.22  \n",
       "4                    16   CA            2.67  "
      ]
     },
     "execution_count": 348,
     "metadata": {},
     "output_type": "execute_result"
    }
   ],
   "source": [
    "#pulls up school info dataframe so I could see headings\n",
    "#ad not have to school up\n",
    "school_df.head()"
   ]
  },
  {
   "cell_type": "code",
   "execution_count": 430,
   "id": "5e009cf3-3dc7-4d01-a59f-01ebd15b24f1",
   "metadata": {},
   "outputs": [
    {
     "name": "stderr",
     "output_type": "stream",
     "text": [
      "WARNING:param.main: hover_data option not found for scatter plot; similar options include: ['hover_alpha', 'sort_date', 'hover_line_alpha']\n"
     ]
    },
    {
     "data": {},
     "metadata": {},
     "output_type": "display_data"
    },
    {
     "data": {
      "application/vnd.holoviews_exec.v0+json": "",
      "text/html": [
       "<div id='23681'>\n",
       "\n",
       "\n",
       "\n",
       "\n",
       "\n",
       "  <div class=\"bk-root\" id=\"d95f1fc3-4a05-4efa-9d70-cedc613b27b7\" data-root-id=\"23681\"></div>\n",
       "</div>\n",
       "<script type=\"application/javascript\">(function(root) {\n",
       "  function embed_document(root) {\n",
       "    var docs_json = {\"be840635-dadb-4f78-b075-82d225e7a877\":{\"defs\":[{\"extends\":null,\"module\":null,\"name\":\"ReactiveHTML1\",\"overrides\":[],\"properties\":[]},{\"extends\":null,\"module\":null,\"name\":\"FlexBox1\",\"overrides\":[],\"properties\":[{\"default\":\"flex-start\",\"kind\":null,\"name\":\"align_content\"},{\"default\":\"flex-start\",\"kind\":null,\"name\":\"align_items\"},{\"default\":\"row\",\"kind\":null,\"name\":\"flex_direction\"},{\"default\":\"wrap\",\"kind\":null,\"name\":\"flex_wrap\"},{\"default\":\"flex-start\",\"kind\":null,\"name\":\"justify_content\"}]},{\"extends\":null,\"module\":null,\"name\":\"TemplateActions1\",\"overrides\":[],\"properties\":[{\"default\":0,\"kind\":null,\"name\":\"open_modal\"},{\"default\":0,\"kind\":null,\"name\":\"close_modal\"}]},{\"extends\":null,\"module\":null,\"name\":\"MaterialTemplateActions1\",\"overrides\":[],\"properties\":[{\"default\":0,\"kind\":null,\"name\":\"open_modal\"},{\"default\":0,\"kind\":null,\"name\":\"close_modal\"}]}],\"roots\":{\"references\":[{\"attributes\":{\"fill_color\":{\"field\":\"color\",\"transform\":{\"id\":\"23722\"}},\"line_color\":{\"field\":\"color\",\"transform\":{\"id\":\"23722\"}},\"size\":{\"value\":5.477225575051661},\"x\":{\"field\":\"Rank in Spending\"},\"y\":{\"field\":\"Rank\"}},\"id\":\"23726\",\"type\":\"Scatter\"},{\"attributes\":{},\"id\":\"23705\",\"type\":\"WheelZoomTool\"},{\"attributes\":{\"fill_color\":{\"field\":\"color\",\"transform\":{\"id\":\"23722\"}},\"line_color\":{\"field\":\"color\",\"transform\":{\"id\":\"23722\"}},\"size\":{\"value\":5.477225575051661},\"x\":{\"field\":\"Rank in Spending\"},\"y\":{\"field\":\"Rank\"}},\"id\":\"23729\",\"type\":\"Scatter\"},{\"attributes\":{},\"id\":\"23691\",\"type\":\"LinearScale\"},{\"attributes\":{\"text\":\"Rank of Schools vs Rank of Spending per Student\",\"text_color\":\"black\",\"text_font_size\":\"12pt\"},\"id\":\"23687\",\"type\":\"Title\"},{\"attributes\":{\"end\":0,\"reset_end\":0,\"reset_start\":53,\"start\":53,\"tags\":[[[\"Rank in Spending\",\"Rank in Spending\",null]]]},\"id\":\"23683\",\"type\":\"Range1d\"},{\"attributes\":{\"axis\":{\"id\":\"23699\"},\"dimension\":1,\"grid_line_color\":null,\"ticker\":null},\"id\":\"23702\",\"type\":\"Grid\"},{\"attributes\":{\"active_multi\":null,\"tools\":[{\"id\":\"23685\"},{\"id\":\"23703\"},{\"id\":\"23704\"},{\"id\":\"23705\"},{\"id\":\"23706\"},{\"id\":\"23707\"}]},\"id\":\"23709\",\"type\":\"Toolbar\"},{\"attributes\":{},\"id\":\"23720\",\"type\":\"AllLabels\"},{\"attributes\":{\"end\":0,\"reset_end\":0,\"reset_start\":53,\"start\":53,\"tags\":[[[\"Rank\",\"Rank\",null]]]},\"id\":\"23684\",\"type\":\"Range1d\"},{\"attributes\":{\"axis_label\":\"Rank in Spending\",\"formatter\":{\"id\":\"23718\"},\"major_label_orientation\":0.7853981633974483,\"major_label_policy\":{\"id\":\"23717\"},\"ticker\":{\"id\":\"23696\"}},\"id\":\"23695\",\"type\":\"LinearAxis\"},{\"attributes\":{\"fill_alpha\":{\"value\":0.1},\"fill_color\":{\"field\":\"color\",\"transform\":{\"id\":\"23722\"}},\"line_alpha\":{\"value\":0.1},\"line_color\":{\"field\":\"color\",\"transform\":{\"id\":\"23722\"}},\"size\":{\"value\":5.477225575051661},\"x\":{\"field\":\"Rank in Spending\"},\"y\":{\"field\":\"Rank\"}},\"id\":\"23727\",\"type\":\"Scatter\"},{\"attributes\":{\"margin\":[5,5,5,5],\"name\":\"HSpacer46231\",\"sizing_mode\":\"stretch_width\"},\"id\":\"23838\",\"type\":\"Spacer\"},{\"attributes\":{\"axis_label\":\"Rank of Schools\",\"formatter\":{\"id\":\"23721\"},\"major_label_policy\":{\"id\":\"23720\"},\"ticker\":{\"id\":\"23700\"}},\"id\":\"23699\",\"type\":\"LinearAxis\"},{\"attributes\":{\"below\":[{\"id\":\"23695\"}],\"center\":[{\"id\":\"23698\"},{\"id\":\"23702\"},{\"id\":\"23747\"}],\"height\":500,\"left\":[{\"id\":\"23699\"}],\"margin\":[5,5,5,5],\"min_border_bottom\":10,\"min_border_left\":10,\"min_border_right\":10,\"min_border_top\":10,\"renderers\":[{\"id\":\"23731\"}],\"right\":[{\"id\":\"23743\"}],\"sizing_mode\":\"fixed\",\"title\":{\"id\":\"23687\"},\"toolbar\":{\"id\":\"23709\"},\"width\":700,\"x_range\":{\"id\":\"23683\"},\"x_scale\":{\"id\":\"23691\"},\"y_range\":{\"id\":\"23684\"},\"y_scale\":{\"id\":\"23693\"}},\"id\":\"23686\",\"subtype\":\"Figure\",\"type\":\"Plot\"},{\"attributes\":{},\"id\":\"23717\",\"type\":\"AllLabels\"},{\"attributes\":{},\"id\":\"23741\",\"type\":\"UnionRenderers\"},{\"attributes\":{\"margin\":[5,5,5,5],\"name\":\"HSpacer46230\",\"sizing_mode\":\"stretch_width\"},\"id\":\"23682\",\"type\":\"Spacer\"},{\"attributes\":{\"label\":{\"field\":\"color\"},\"renderers\":[{\"id\":\"23731\"}]},\"id\":\"23744\",\"type\":\"LegendItem\"},{\"attributes\":{},\"id\":\"23718\",\"type\":\"BasicTickFormatter\"},{\"attributes\":{},\"id\":\"23724\",\"type\":\"Selection\"},{\"attributes\":{\"factors\":[\"Alabama\",\"Alaska\",\"Arizona\",\"Arkansas\",\"California\",\"Colorado\",\"Connecticut\",\"Delaware\",\"Florida\",\"Georgia\",\"Hawaii\",\"Idaho\",\"Illinois\",\"Indiana\",\"Iowa\",\"Kansas\",\"Kentucky\",\"Louisiana\",\"Maine\",\"Maryland\",\"Massachusetts\",\"Michigan\",\"Minnesota\",\"Mississippi\",\"Missouri\",\"Montana\",\"Nebraska\",\"Nevada\",\"New Hampshire\",\"New Jersey\",\"New Mexico\",\"New York\",\"North Carolina\",\"North Dakota\",\"Ohio\",\"Oklahoma\",\"Oregon\",\"Pennsylvania\",\"Rhode Island\",\"South Carolina\",\"South Dakota\",\"Tennessee\",\"Texas\",\"Utah\",\"Vermont\",\"Virginia\",\"Washington\",\"West Virginia\",\"Wisconsin\",\"Wyoming\"],\"palette\":[\"#1f77b3\",\"#ff7e0e\",\"#2ba02b\",\"#d62628\",\"#9367bc\",\"#8c564b\",\"#e277c1\",\"#7e7e7e\",\"#bcbc21\",\"#16bdcf\",\"#3a0182\",\"#004201\",\"#0fffa8\",\"#5d003f\",\"#bcbcff\",\"#d8afa1\",\"#b80080\",\"#004d52\",\"#6b6400\",\"#7c0100\",\"#6026ff\",\"#ffff9a\",\"#564964\",\"#8cb893\",\"#93fbff\",\"#018267\",\"#90ff00\",\"#8200a0\",\"#ac8944\",\"#5b3400\",\"#ffbff2\",\"#ff6e75\",\"#798cff\",\"#dd00ff\",\"#505646\",\"#004489\",\"#ffbf60\",\"#ff018c\",\"#bdc8cf\",\"#af97b5\",\"#b65600\",\"#017000\",\"#cd87ff\",\"#1cd646\",\"#bfebc3\",\"#7997b5\",\"#a56089\",\"#6e8956\",\"#bc7c75\",\"#8a2844\"]},\"id\":\"23722\",\"type\":\"CategoricalColorMapper\"},{\"attributes\":{\"fill_alpha\":{\"value\":0.2},\"fill_color\":{\"field\":\"color\",\"transform\":{\"id\":\"23722\"}},\"line_alpha\":{\"value\":0.2},\"line_color\":{\"field\":\"color\",\"transform\":{\"id\":\"23722\"}},\"size\":{\"value\":5.477225575051661},\"x\":{\"field\":\"Rank in Spending\"},\"y\":{\"field\":\"Rank\"}},\"id\":\"23730\",\"type\":\"Scatter\"},{\"attributes\":{\"callback\":null,\"renderers\":[{\"id\":\"23731\"}],\"tags\":[\"hv_created\"],\"tooltips\":[[\"Rank in Spending\",\"@{Rank_in_Spending}\"],[\"Rank\",\"@{Rank}\"],[\"State\",\"@{State}\"]]},\"id\":\"23685\",\"type\":\"HoverTool\"},{\"attributes\":{\"click_policy\":\"mute\",\"items\":[{\"id\":\"23744\"}],\"location\":[0,0]},\"id\":\"23743\",\"type\":\"Legend\"},{\"attributes\":{\"data\":{\"Rank\":[45,49,47,38,40,7,3,22,16,30,28,23,6,9,24,27,33,46,12,14,2,32,18,43,26,36,13,48,4,1,50,19,15,34,20,44,37,17,25,42,29,31,35,21,5,10,11,41,8,39],\"Rank in Spending\":[45,7,48,43,27,40,5,13,41,33,12,50,18,20,29,24,42,23,15,9,8,22,17,47,37,31,25,39,14,3,30,1,36,26,16,46,34,11,10,35,44,49,38,51,6,21,28,32,19,2],\"Rank_in_Spending\":[45,7,48,43,27,40,5,13,41,33,12,50,18,20,29,24,42,23,15,9,8,22,17,47,37,31,25,39,14,3,30,1,36,26,16,46,34,11,10,35,44,49,38,51,6,21,28,32,19,2],\"State\":[\"Alabama\",\"Alaska\",\"Arizona\",\"Arkansas\",\"California\",\"Colorado\",\"Connecticut\",\"Delaware\",\"Florida\",\"Georgia\",\"Hawaii\",\"Idaho\",\"Illinois\",\"Indiana\",\"Iowa\",\"Kansas\",\"Kentucky\",\"Louisiana\",\"Maine\",\"Maryland\",\"Massachusetts\",\"Michigan\",\"Minnesota\",\"Mississippi\",\"Missouri\",\"Montana\",\"Nebraska\",\"Nevada\",\"New Hampshire\",\"New Jersey\",\"New Mexico\",\"New York\",\"North Carolina\",\"North Dakota\",\"Ohio\",\"Oklahoma\",\"Oregon\",\"Pennsylvania\",\"Rhode Island\",\"South Carolina\",\"South Dakota\",\"Tennessee\",\"Texas\",\"Utah\",\"Vermont\",\"Virginia\",\"Washington\",\"West Virginia\",\"Wisconsin\",\"Wyoming\"],\"color\":[\"Alabama\",\"Alaska\",\"Arizona\",\"Arkansas\",\"California\",\"Colorado\",\"Connecticut\",\"Delaware\",\"Florida\",\"Georgia\",\"Hawaii\",\"Idaho\",\"Illinois\",\"Indiana\",\"Iowa\",\"Kansas\",\"Kentucky\",\"Louisiana\",\"Maine\",\"Maryland\",\"Massachusetts\",\"Michigan\",\"Minnesota\",\"Mississippi\",\"Missouri\",\"Montana\",\"Nebraska\",\"Nevada\",\"New Hampshire\",\"New Jersey\",\"New Mexico\",\"New York\",\"North Carolina\",\"North Dakota\",\"Ohio\",\"Oklahoma\",\"Oregon\",\"Pennsylvania\",\"Rhode Island\",\"South Carolina\",\"South Dakota\",\"Tennessee\",\"Texas\",\"Utah\",\"Vermont\",\"Virginia\",\"Washington\",\"West Virginia\",\"Wisconsin\",\"Wyoming\"]},\"selected\":{\"id\":\"23724\"},\"selection_policy\":{\"id\":\"23741\"}},\"id\":\"23723\",\"type\":\"ColumnDataSource\"},{\"attributes\":{},\"id\":\"23693\",\"type\":\"LinearScale\"},{\"attributes\":{},\"id\":\"23721\",\"type\":\"BasicTickFormatter\"},{\"attributes\":{\"overlay\":{\"id\":\"23708\"}},\"id\":\"23706\",\"type\":\"BoxZoomTool\"},{\"attributes\":{\"bottom_units\":\"screen\",\"fill_alpha\":0.5,\"fill_color\":\"lightgrey\",\"left_units\":\"screen\",\"level\":\"overlay\",\"line_alpha\":1.0,\"line_color\":\"black\",\"line_dash\":[4,4],\"line_width\":2,\"right_units\":\"screen\",\"syncable\":false,\"top_units\":\"screen\"},\"id\":\"23708\",\"type\":\"BoxAnnotation\"},{\"attributes\":{\"gradient\":1,\"level\":\"glyph\",\"line_color\":\"red\",\"line_width\":3,\"y_intercept\":0},\"id\":\"23747\",\"type\":\"Slope\"},{\"attributes\":{},\"id\":\"23700\",\"type\":\"BasicTicker\"},{\"attributes\":{\"children\":[{\"id\":\"23682\"},{\"id\":\"23686\"},{\"id\":\"23838\"}],\"margin\":[0,0,0,0],\"name\":\"Row46226\",\"tags\":[\"embedded\"]},\"id\":\"23681\",\"type\":\"Row\"},{\"attributes\":{\"source\":{\"id\":\"23723\"}},\"id\":\"23732\",\"type\":\"CDSView\"},{\"attributes\":{},\"id\":\"23703\",\"type\":\"SaveTool\"},{\"attributes\":{},\"id\":\"23704\",\"type\":\"PanTool\"},{\"attributes\":{\"axis\":{\"id\":\"23695\"},\"grid_line_color\":null,\"ticker\":null},\"id\":\"23698\",\"type\":\"Grid\"},{\"attributes\":{},\"id\":\"23696\",\"type\":\"BasicTicker\"},{\"attributes\":{\"fill_color\":{\"field\":\"color\",\"transform\":{\"id\":\"23722\"}},\"line_color\":{\"field\":\"color\",\"transform\":{\"id\":\"23722\"}},\"size\":{\"value\":5.477225575051661},\"x\":{\"field\":\"Rank in Spending\"},\"y\":{\"field\":\"Rank\"}},\"id\":\"23728\",\"type\":\"Scatter\"},{\"attributes\":{\"data_source\":{\"id\":\"23723\"},\"glyph\":{\"id\":\"23726\"},\"hover_glyph\":{\"id\":\"23729\"},\"muted_glyph\":{\"id\":\"23730\"},\"nonselection_glyph\":{\"id\":\"23727\"},\"selection_glyph\":{\"id\":\"23728\"},\"view\":{\"id\":\"23732\"}},\"id\":\"23731\",\"type\":\"GlyphRenderer\"},{\"attributes\":{},\"id\":\"23707\",\"type\":\"ResetTool\"}],\"root_ids\":[\"23681\"]},\"title\":\"Bokeh Application\",\"version\":\"2.3.2\"}};\n",
       "    var render_items = [{\"docid\":\"be840635-dadb-4f78-b075-82d225e7a877\",\"root_ids\":[\"23681\"],\"roots\":{\"23681\":\"d95f1fc3-4a05-4efa-9d70-cedc613b27b7\"}}];\n",
       "    root.Bokeh.embed.embed_items_notebook(docs_json, render_items);\n",
       "  }\n",
       "  if (root.Bokeh !== undefined && root.Bokeh.Panel !== undefined) {\n",
       "    embed_document(root);\n",
       "  } else {\n",
       "    var attempts = 0;\n",
       "    var timer = setInterval(function(root) {\n",
       "      if (root.Bokeh !== undefined && root.Bokeh.Panel !== undefined) {\n",
       "        clearInterval(timer);\n",
       "        embed_document(root);\n",
       "      } else if (document.readyState == \"complete\") {\n",
       "        attempts++;\n",
       "        if (attempts > 200) {\n",
       "          clearInterval(timer);\n",
       "          console.log(\"Bokeh: ERROR: Unable to run BokehJS code because BokehJS library is missing\");\n",
       "        }\n",
       "      }\n",
       "    }, 25, root)\n",
       "  }\n",
       "})(window);</script>"
      ],
      "text/plain": [
       ":Overlay\n",
       "   .Scatter.I    :Scatter   [Rank in Spending]   (Rank,State)\n",
       "   .Annotation.I :Slope   [x,y]"
      ]
     },
     "execution_count": 430,
     "metadata": {
      "application/vnd.holoviews_exec.v0+json": {
       "id": "23681"
      }
     },
     "output_type": "execute_result"
    }
   ],
   "source": [
    "#creates scatter plot comparing rank and spending per student\n",
    "#contains color parameter to add color legend\n",
    "rank_scatter = school_df.hvplot.scatter(\n",
    "    x=\"Rank in Spending\",\n",
    "    y=\"Rank\",\n",
    "    rot=45,   \n",
    "    height=500,\n",
    "    width=700,\n",
    "    xlim= [53,0],\n",
    "    ylim=[53,0],\n",
    "    ylabel= 'Rank of Schools',\n",
    "    c='State',\n",
    "    xlabel='Rank in Spending',\n",
    "    hover_data={'State'},\n",
    "    hover_cols=\"State\",\n",
    "    title=\"Rank of Schools vs Rank of Spending per Student\")\n",
    "\n",
    "rank_scatter_line = rank_scatter *  hv.Slope(slope=1, y_intercept=0).opts(color='red')\n",
    "rank_scatter_line"
   ]
  },
  {
   "cell_type": "code",
   "execution_count": 431,
   "id": "cbd084f0-0aa7-417c-b43a-5efbaa033287",
   "metadata": {},
   "outputs": [
    {
     "name": "stderr",
     "output_type": "stream",
     "text": [
      "WARNING:param.main: hover_data option not found for scatter plot; similar options include: ['hover_alpha', 'sort_date', 'hover_line_alpha']\n"
     ]
    },
    {
     "data": {},
     "metadata": {},
     "output_type": "display_data"
    },
    {
     "data": {
      "application/vnd.holoviews_exec.v0+json": "",
      "text/html": [
       "<div id='23890'>\n",
       "\n",
       "\n",
       "\n",
       "\n",
       "\n",
       "  <div class=\"bk-root\" id=\"fe3e1987-13b3-49d7-99da-4ceeef127ec8\" data-root-id=\"23890\"></div>\n",
       "</div>\n",
       "<script type=\"application/javascript\">(function(root) {\n",
       "  function embed_document(root) {\n",
       "    var docs_json = {\"d83c1d58-152b-46f8-a7ae-e21cab85b554\":{\"defs\":[{\"extends\":null,\"module\":null,\"name\":\"ReactiveHTML1\",\"overrides\":[],\"properties\":[]},{\"extends\":null,\"module\":null,\"name\":\"FlexBox1\",\"overrides\":[],\"properties\":[{\"default\":\"flex-start\",\"kind\":null,\"name\":\"align_content\"},{\"default\":\"flex-start\",\"kind\":null,\"name\":\"align_items\"},{\"default\":\"row\",\"kind\":null,\"name\":\"flex_direction\"},{\"default\":\"wrap\",\"kind\":null,\"name\":\"flex_wrap\"},{\"default\":\"flex-start\",\"kind\":null,\"name\":\"justify_content\"}]},{\"extends\":null,\"module\":null,\"name\":\"TemplateActions1\",\"overrides\":[],\"properties\":[{\"default\":0,\"kind\":null,\"name\":\"open_modal\"},{\"default\":0,\"kind\":null,\"name\":\"close_modal\"}]},{\"extends\":null,\"module\":null,\"name\":\"MaterialTemplateActions1\",\"overrides\":[],\"properties\":[{\"default\":0,\"kind\":null,\"name\":\"open_modal\"},{\"default\":0,\"kind\":null,\"name\":\"close_modal\"}]}],\"roots\":{\"references\":[{\"attributes\":{\"click_policy\":\"mute\",\"items\":[{\"id\":\"23951\"},{\"id\":\"23973\"}],\"location\":[0,0]},\"id\":\"23950\",\"type\":\"Legend\"},{\"attributes\":{},\"id\":\"23971\",\"type\":\"UnionRenderers\"},{\"attributes\":{},\"id\":\"23903\",\"type\":\"LinearScale\"},{\"attributes\":{\"fill_color\":{\"value\":\"#30a2da\"},\"line_color\":{\"value\":\"#30a2da\"},\"size\":{\"value\":5.477225575051661},\"x\":{\"field\":\"Spending per pupil\"},\"y\":{\"field\":\"value\"}},\"id\":\"23935\",\"type\":\"Scatter\"},{\"attributes\":{\"bottom_units\":\"screen\",\"fill_alpha\":0.5,\"fill_color\":\"lightgrey\",\"left_units\":\"screen\",\"level\":\"overlay\",\"line_alpha\":1.0,\"line_color\":\"black\",\"line_dash\":[4,4],\"line_width\":2,\"right_units\":\"screen\",\"syncable\":false,\"top_units\":\"screen\"},\"id\":\"23918\",\"type\":\"BoxAnnotation\"},{\"attributes\":{\"active_multi\":null,\"tools\":[{\"id\":\"23894\"},{\"id\":\"23913\"},{\"id\":\"23914\"},{\"id\":\"23915\"},{\"id\":\"23916\"},{\"id\":\"23917\"}]},\"id\":\"23919\",\"type\":\"Toolbar\"},{\"attributes\":{\"fill_alpha\":{\"value\":0.2},\"fill_color\":{\"value\":\"#30a2da\"},\"line_alpha\":{\"value\":0.2},\"line_color\":{\"value\":\"#30a2da\"},\"size\":{\"value\":5.477225575051661},\"x\":{\"field\":\"Spending per pupil\"},\"y\":{\"field\":\"value\"}},\"id\":\"23937\",\"type\":\"Scatter\"},{\"attributes\":{\"overlay\":{\"id\":\"23918\"}},\"id\":\"23916\",\"type\":\"BoxZoomTool\"},{\"attributes\":{},\"id\":\"23915\",\"type\":\"WheelZoomTool\"},{\"attributes\":{\"label\":{\"value\":\"NAEP Reading Scores\"},\"renderers\":[{\"id\":\"23959\"}]},\"id\":\"23973\",\"type\":\"LegendItem\"},{\"attributes\":{\"axis_label\":\"Spending per Student\",\"formatter\":{\"id\":\"23928\"},\"major_label_policy\":{\"id\":\"23927\"},\"ticker\":{\"id\":\"23906\"}},\"id\":\"23905\",\"type\":\"LinearAxis\"},{\"attributes\":{\"data_source\":{\"id\":\"23932\"},\"glyph\":{\"id\":\"23935\"},\"hover_glyph\":null,\"muted_glyph\":{\"id\":\"23937\"},\"nonselection_glyph\":{\"id\":\"23936\"},\"selection_glyph\":{\"id\":\"23952\"},\"view\":{\"id\":\"23939\"}},\"id\":\"23938\",\"type\":\"GlyphRenderer\"},{\"attributes\":{\"angle\":{\"value\":0.0},\"fill_alpha\":{\"value\":1.0},\"fill_color\":{\"value\":\"#30a2da\"},\"hatch_alpha\":{\"value\":1.0},\"hatch_color\":{\"value\":\"black\"},\"hatch_scale\":{\"value\":12.0},\"hatch_weight\":{\"value\":1.0},\"line_alpha\":{\"value\":1.0},\"line_cap\":{\"value\":\"butt\"},\"line_color\":{\"value\":\"#30a2da\"},\"line_dash\":{\"value\":[]},\"line_dash_offset\":{\"value\":0},\"line_join\":{\"value\":\"bevel\"},\"line_width\":{\"value\":1},\"marker\":{\"value\":\"circle\"},\"size\":{\"value\":5.477225575051661},\"x\":{\"field\":\"Spending per pupil\"},\"y\":{\"field\":\"value\"}},\"id\":\"23952\",\"type\":\"Scatter\"},{\"attributes\":{},\"id\":\"23906\",\"type\":\"BasicTicker\"},{\"attributes\":{\"angle\":{\"value\":0.0},\"fill_alpha\":{\"value\":1.0},\"fill_color\":{\"value\":\"#fc4f30\"},\"hatch_alpha\":{\"value\":1.0},\"hatch_color\":{\"value\":\"black\"},\"hatch_scale\":{\"value\":12.0},\"hatch_weight\":{\"value\":1.0},\"line_alpha\":{\"value\":1.0},\"line_cap\":{\"value\":\"butt\"},\"line_color\":{\"value\":\"#fc4f30\"},\"line_dash\":{\"value\":[]},\"line_dash_offset\":{\"value\":0},\"line_join\":{\"value\":\"bevel\"},\"line_width\":{\"value\":1},\"marker\":{\"value\":\"circle\"},\"size\":{\"value\":5.477225575051661},\"x\":{\"field\":\"Spending per pupil\"},\"y\":{\"field\":\"value\"}},\"id\":\"23974\",\"type\":\"Scatter\"},{\"attributes\":{\"callback\":null,\"renderers\":[{\"id\":\"23938\"},{\"id\":\"23959\"}],\"tags\":[\"hv_created\"],\"tooltips\":[[\"Variable\",\"@{Variable}\"],[\"Spending per pupil\",\"@{Spending_per_pupil}\"],[\"value\",\"@{value}\"],[\"State\",\"@{State}\"]]},\"id\":\"23894\",\"type\":\"HoverTool\"},{\"attributes\":{\"data_source\":{\"id\":\"23953\"},\"glyph\":{\"id\":\"23956\"},\"hover_glyph\":null,\"muted_glyph\":{\"id\":\"23958\"},\"nonselection_glyph\":{\"id\":\"23957\"},\"selection_glyph\":{\"id\":\"23974\"},\"view\":{\"id\":\"23960\"}},\"id\":\"23959\",\"type\":\"GlyphRenderer\"},{\"attributes\":{},\"id\":\"23910\",\"type\":\"BasicTicker\"},{\"attributes\":{\"text\":\"Ranking of NAEP Scores vs Spending per Student\",\"text_color\":\"black\",\"text_font_size\":\"12pt\"},\"id\":\"23897\",\"type\":\"Title\"},{\"attributes\":{\"gradient\":0,\"level\":\"glyph\",\"line_color\":\"red\",\"line_width\":3,\"y_intercept\":23.84},\"id\":\"24061\",\"type\":\"Slope\"},{\"attributes\":{\"axis_label\":\"Rank in NAEP Scores\",\"formatter\":{\"id\":\"23931\"},\"major_label_policy\":{\"id\":\"23930\"},\"ticker\":{\"id\":\"23910\"}},\"id\":\"23909\",\"type\":\"LinearAxis\"},{\"attributes\":{\"data\":{\"Spending per pupil\":[9636,16576,8882,9976,11588,10171,17373,14335,10098,10893,14987,8141,12457,12360,11337,11939,10010,11967,13666,15574,16270,11987,12664,8919,10457,11266,11796,10305,13725,18874,11266,20645,10613,11664,12811,9353,10862,15023,15312,10719,9913,8324,10314,7954,17108,12146,11510,10984,12435,19238],\"Spending_per_pupil\":[9636,16576,8882,9976,11588,10171,17373,14335,10098,10893,14987,8141,12457,12360,11337,11939,10010,11967,13666,15574,16270,11987,12664,8919,10457,11266,11796,10305,13725,18874,11266,20645,10613,11664,12811,9353,10862,15023,15312,10719,9913,8324,10314,7954,17108,12146,11510,10984,12435,19238],\"State\":[\"Alabama\",\"Alaska\",\"Arizona\",\"Arkansas\",\"California\",\"Colorado\",\"Connecticut\",\"Delaware\",\"Florida\",\"Georgia\",\"Hawaii\",\"Idaho\",\"Illinois\",\"Indiana\",\"Iowa\",\"Kansas\",\"Kentucky\",\"Louisiana\",\"Maine\",\"Maryland\",\"Massachusetts\",\"Michigan\",\"Minnesota\",\"Mississippi\",\"Missouri\",\"Montana\",\"Nebraska\",\"Nevada\",\"New Hampshire\",\"New Jersey\",\"New Mexico\",\"New York\",\"North Carolina\",\"North Dakota\",\"Ohio\",\"Oklahoma\",\"Oregon\",\"Pennsylvania\",\"Rhode Island\",\"South Carolina\",\"South Dakota\",\"Tennessee\",\"Texas\",\"Utah\",\"Vermont\",\"Virginia\",\"Washington\",\"West Virginia\",\"Wisconsin\",\"Wyoming\"],\"Variable\":[\"NAEP Math Scores\",\"NAEP Math Scores\",\"NAEP Math Scores\",\"NAEP Math Scores\",\"NAEP Math Scores\",\"NAEP Math Scores\",\"NAEP Math Scores\",\"NAEP Math Scores\",\"NAEP Math Scores\",\"NAEP Math Scores\",\"NAEP Math Scores\",\"NAEP Math Scores\",\"NAEP Math Scores\",\"NAEP Math Scores\",\"NAEP Math Scores\",\"NAEP Math Scores\",\"NAEP Math Scores\",\"NAEP Math Scores\",\"NAEP Math Scores\",\"NAEP Math Scores\",\"NAEP Math Scores\",\"NAEP Math Scores\",\"NAEP Math Scores\",\"NAEP Math Scores\",\"NAEP Math Scores\",\"NAEP Math Scores\",\"NAEP Math Scores\",\"NAEP Math Scores\",\"NAEP Math Scores\",\"NAEP Math Scores\",\"NAEP Math Scores\",\"NAEP Math Scores\",\"NAEP Math Scores\",\"NAEP Math Scores\",\"NAEP Math Scores\",\"NAEP Math Scores\",\"NAEP Math Scores\",\"NAEP Math Scores\",\"NAEP Math Scores\",\"NAEP Math Scores\",\"NAEP Math Scores\",\"NAEP Math Scores\",\"NAEP Math Scores\",\"NAEP Math Scores\",\"NAEP Math Scores\",\"NAEP Math Scores\",\"NAEP Math Scores\",\"NAEP Math Scores\",\"NAEP Math Scores\",\"NAEP Math Scores\"],\"value\":[49,43,27,43,38,16,9,37,34,34,42,9,22,9,23,23,36,47,23,27,1,27,3,43,26,20,16,43,5,2,49,27,20,9,9,38,27,16,38,38,5,27,27,16,5,5,9,47,4,9]},\"selected\":{\"id\":\"23933\"},\"selection_policy\":{\"id\":\"23948\"}},\"id\":\"23932\",\"type\":\"ColumnDataSource\"},{\"attributes\":{\"fill_alpha\":{\"value\":0.2},\"fill_color\":{\"value\":\"#fc4f30\"},\"line_alpha\":{\"value\":0.2},\"line_color\":{\"value\":\"#fc4f30\"},\"size\":{\"value\":5.477225575051661},\"x\":{\"field\":\"Spending per pupil\"},\"y\":{\"field\":\"value\"}},\"id\":\"23958\",\"type\":\"Scatter\"},{\"attributes\":{},\"id\":\"23913\",\"type\":\"SaveTool\"},{\"attributes\":{\"source\":{\"id\":\"23932\"}},\"id\":\"23939\",\"type\":\"CDSView\"},{\"attributes\":{},\"id\":\"23901\",\"type\":\"LinearScale\"},{\"attributes\":{\"fill_alpha\":{\"value\":0.1},\"fill_color\":{\"value\":\"#30a2da\"},\"line_alpha\":{\"value\":0.1},\"line_color\":{\"value\":\"#30a2da\"},\"size\":{\"value\":5.477225575051661},\"x\":{\"field\":\"Spending per pupil\"},\"y\":{\"field\":\"value\"}},\"id\":\"23936\",\"type\":\"Scatter\"},{\"attributes\":{\"margin\":[5,5,5,5],\"name\":\"HSpacer46719\",\"sizing_mode\":\"stretch_width\"},\"id\":\"23891\",\"type\":\"Spacer\"},{\"attributes\":{\"end\":53.8,\"reset_end\":53.8,\"reset_start\":-3.8000000000000007,\"start\":-3.8000000000000007,\"tags\":[[[\"value\",\"value\",null]]]},\"id\":\"23893\",\"type\":\"Range1d\"},{\"attributes\":{\"gradient\":0,\"level\":\"glyph\",\"line_color\":\"blue\",\"line_width\":3,\"y_intercept\":24.04},\"id\":\"24064\",\"type\":\"Slope\"},{\"attributes\":{},\"id\":\"23928\",\"type\":\"BasicTickFormatter\"},{\"attributes\":{},\"id\":\"23933\",\"type\":\"Selection\"},{\"attributes\":{\"below\":[{\"id\":\"23905\"}],\"center\":[{\"id\":\"23908\"},{\"id\":\"23912\"},{\"id\":\"24061\"},{\"id\":\"24064\"}],\"height\":500,\"left\":[{\"id\":\"23909\"}],\"margin\":[5,5,5,5],\"min_border_bottom\":10,\"min_border_left\":10,\"min_border_right\":10,\"min_border_top\":10,\"renderers\":[{\"id\":\"23938\"},{\"id\":\"23959\"},{\"id\":\"24067\"}],\"right\":[{\"id\":\"23950\"}],\"sizing_mode\":\"fixed\",\"title\":{\"id\":\"23897\"},\"toolbar\":{\"id\":\"23919\"},\"width\":700,\"x_range\":{\"id\":\"23892\"},\"x_scale\":{\"id\":\"23901\"},\"y_range\":{\"id\":\"23893\"},\"y_scale\":{\"id\":\"23903\"}},\"id\":\"23896\",\"subtype\":\"Figure\",\"type\":\"Plot\"},{\"attributes\":{\"margin\":[5,5,5,5],\"name\":\"HSpacer46720\",\"sizing_mode\":\"stretch_width\"},\"id\":\"24176\",\"type\":\"Spacer\"},{\"attributes\":{\"source\":{\"id\":\"23953\"}},\"id\":\"23960\",\"type\":\"CDSView\"},{\"attributes\":{},\"id\":\"23954\",\"type\":\"Selection\"},{\"attributes\":{\"children\":[{\"id\":\"23891\"},{\"id\":\"23896\"},{\"id\":\"24176\"}],\"margin\":[0,0,0,0],\"name\":\"Row46715\",\"tags\":[\"embedded\"]},\"id\":\"23890\",\"type\":\"Row\"},{\"attributes\":{},\"id\":\"23914\",\"type\":\"PanTool\"},{\"attributes\":{\"axis\":{\"id\":\"23909\"},\"dimension\":1,\"grid_line_color\":null,\"ticker\":null},\"id\":\"23912\",\"type\":\"Grid\"},{\"attributes\":{\"fill_color\":{\"value\":\"#fc4f30\"},\"line_color\":{\"value\":\"#fc4f30\"},\"size\":{\"value\":5.477225575051661},\"x\":{\"field\":\"Spending per pupil\"},\"y\":{\"field\":\"value\"}},\"id\":\"23956\",\"type\":\"Scatter\"},{\"attributes\":{\"dimension\":\"height\",\"level\":\"glyph\",\"line_color\":\"green\",\"line_width\":3,\"location\":12328.46},\"id\":\"24067\",\"type\":\"Span\"},{\"attributes\":{\"axis\":{\"id\":\"23905\"},\"grid_line_color\":null,\"ticker\":null},\"id\":\"23908\",\"type\":\"Grid\"},{\"attributes\":{},\"id\":\"23927\",\"type\":\"AllLabels\"},{\"attributes\":{},\"id\":\"23948\",\"type\":\"UnionRenderers\"},{\"attributes\":{\"data\":{\"Spending per pupil\":[9636,16576,8882,9976,11588,10171,17373,14335,10098,10893,14987,8141,12457,12360,11337,11939,10010,11967,13666,15574,16270,11987,12664,8919,10457,11266,11796,10305,13725,18874,11266,20645,10613,11664,12811,9353,10862,15023,15312,10719,9913,8324,10314,7954,17108,12146,11510,10984,12435,19238],\"Spending_per_pupil\":[9636,16576,8882,9976,11588,10171,17373,14335,10098,10893,14987,8141,12457,12360,11337,11939,10010,11967,13666,15574,16270,11987,12664,8919,10457,11266,11796,10305,13725,18874,11266,20645,10613,11664,12811,9353,10862,15023,15312,10719,9913,8324,10314,7954,17108,12146,11510,10984,12435,19238],\"State\":[\"Alabama\",\"Alaska\",\"Arizona\",\"Arkansas\",\"California\",\"Colorado\",\"Connecticut\",\"Delaware\",\"Florida\",\"Georgia\",\"Hawaii\",\"Idaho\",\"Illinois\",\"Indiana\",\"Iowa\",\"Kansas\",\"Kentucky\",\"Louisiana\",\"Maine\",\"Maryland\",\"Massachusetts\",\"Michigan\",\"Minnesota\",\"Mississippi\",\"Missouri\",\"Montana\",\"Nebraska\",\"Nevada\",\"New Hampshire\",\"New Jersey\",\"New Mexico\",\"New York\",\"North Carolina\",\"North Dakota\",\"Ohio\",\"Oklahoma\",\"Oregon\",\"Pennsylvania\",\"Rhode Island\",\"South Carolina\",\"South Dakota\",\"Tennessee\",\"Texas\",\"Utah\",\"Vermont\",\"Virginia\",\"Washington\",\"West Virginia\",\"Wisconsin\",\"Wyoming\"],\"Variable\":[\"NAEP Reading Scores\",\"NAEP Reading Scores\",\"NAEP Reading Scores\",\"NAEP Reading Scores\",\"NAEP Reading Scores\",\"NAEP Reading Scores\",\"NAEP Reading Scores\",\"NAEP Reading Scores\",\"NAEP Reading Scores\",\"NAEP Reading Scores\",\"NAEP Reading Scores\",\"NAEP Reading Scores\",\"NAEP Reading Scores\",\"NAEP Reading Scores\",\"NAEP Reading Scores\",\"NAEP Reading Scores\",\"NAEP Reading Scores\",\"NAEP Reading Scores\",\"NAEP Reading Scores\",\"NAEP Reading Scores\",\"NAEP Reading Scores\",\"NAEP Reading Scores\",\"NAEP Reading Scores\",\"NAEP Reading Scores\",\"NAEP Reading Scores\",\"NAEP Reading Scores\",\"NAEP Reading Scores\",\"NAEP Reading Scores\",\"NAEP Reading Scores\",\"NAEP Reading Scores\",\"NAEP Reading Scores\",\"NAEP Reading Scores\",\"NAEP Reading Scores\",\"NAEP Reading Scores\",\"NAEP Reading Scores\",\"NAEP Reading Scores\",\"NAEP Reading Scores\",\"NAEP Reading Scores\",\"NAEP Reading Scores\",\"NAEP Reading Scores\",\"NAEP Reading Scores\",\"NAEP Reading Scores\",\"NAEP Reading Scores\",\"NAEP Reading Scores\",\"NAEP Reading Scores\",\"NAEP Reading Scores\",\"NAEP Reading Scores\",\"NAEP Reading Scores\",\"NAEP Reading Scores\",\"NAEP Reading Scores\"],\"value\":[48,49,37,37,37,6,2,36,22,30,41,10,13,10,30,22,22,44,13,17,1,22,17,45,22,13,17,41,4,2,49,30,22,22,6,41,17,17,30,37,22,30,45,6,4,30,10,45,6,13]},\"selected\":{\"id\":\"23954\"},\"selection_policy\":{\"id\":\"23971\"}},\"id\":\"23953\",\"type\":\"ColumnDataSource\"},{\"attributes\":{},\"id\":\"23917\",\"type\":\"ResetTool\"},{\"attributes\":{},\"id\":\"23931\",\"type\":\"BasicTickFormatter\"},{\"attributes\":{\"end\":21551.5,\"reset_end\":21551.5,\"reset_start\":7047.5,\"start\":7047.5,\"tags\":[[[\"Spending per pupil\",\"Spending per pupil\",null]]]},\"id\":\"23892\",\"type\":\"Range1d\"},{\"attributes\":{\"fill_alpha\":{\"value\":0.1},\"fill_color\":{\"value\":\"#fc4f30\"},\"line_alpha\":{\"value\":0.1},\"line_color\":{\"value\":\"#fc4f30\"},\"size\":{\"value\":5.477225575051661},\"x\":{\"field\":\"Spending per pupil\"},\"y\":{\"field\":\"value\"}},\"id\":\"23957\",\"type\":\"Scatter\"},{\"attributes\":{\"label\":{\"value\":\"NAEP Math Scores\"},\"renderers\":[{\"id\":\"23938\"}]},\"id\":\"23951\",\"type\":\"LegendItem\"},{\"attributes\":{},\"id\":\"23930\",\"type\":\"AllLabels\"}],\"root_ids\":[\"23890\"]},\"title\":\"Bokeh Application\",\"version\":\"2.3.2\"}};\n",
       "    var render_items = [{\"docid\":\"d83c1d58-152b-46f8-a7ae-e21cab85b554\",\"root_ids\":[\"23890\"],\"roots\":{\"23890\":\"fe3e1987-13b3-49d7-99da-4ceeef127ec8\"}}];\n",
       "    root.Bokeh.embed.embed_items_notebook(docs_json, render_items);\n",
       "  }\n",
       "  if (root.Bokeh !== undefined && root.Bokeh.Panel !== undefined) {\n",
       "    embed_document(root);\n",
       "  } else {\n",
       "    var attempts = 0;\n",
       "    var timer = setInterval(function(root) {\n",
       "      if (root.Bokeh !== undefined && root.Bokeh.Panel !== undefined) {\n",
       "        clearInterval(timer);\n",
       "        embed_document(root);\n",
       "      } else if (document.readyState == \"complete\") {\n",
       "        attempts++;\n",
       "        if (attempts > 200) {\n",
       "          clearInterval(timer);\n",
       "          console.log(\"Bokeh: ERROR: Unable to run BokehJS code because BokehJS library is missing\");\n",
       "        }\n",
       "      }\n",
       "    }, 25, root)\n",
       "  }\n",
       "})(window);</script>"
      ],
      "text/plain": [
       ":Overlay\n",
       "   .NdOverlay.I   :NdOverlay   [Variable]\n",
       "      :Scatter   [Spending per pupil]   (value,State)\n",
       "   .Annotation.I  :Slope   [x,y]\n",
       "   .Annotation.II :Slope   [x,y]\n",
       "   .VLine.I       :VLine   [x,y]"
      ]
     },
     "execution_count": 431,
     "metadata": {
      "application/vnd.holoviews_exec.v0+json": {
       "id": "23890"
      }
     },
     "output_type": "execute_result"
    }
   ],
   "source": [
    "#compares spending per pupil against math and reading NAEP rankings\n",
    "\n",
    "naep_scores = school_df.hvplot.scatter(\n",
    "    x=\"Spending per pupil\",\n",
    "    y=['NAEP Math Scores', 'NAEP Reading Scores'],   \n",
    "    height=500,\n",
    "    width=700,\n",
    "    ylabel= 'Rank in NAEP Scores',\n",
    "    xlabel='Spending per Student',\n",
    "    hover_data={'State'},\n",
    "    hover_cols=\"State\",\n",
    "    title=\"Ranking of NAEP Scores vs Spending per Student\")\n",
    "#adds lines to show which states are doing okay \n",
    "#which states are not in a great spot\n",
    "#and which states are a little weird\n",
    "naep_scores = naep_scores *  hv.Slope(slope=0, y_intercept=23.84).opts(color='red')\n",
    "naep_scores = naep_scores * hv.Slope(slope=0, y_intercept=24.04).opts(color='blue')\n",
    "naep_scores = naep_scores * hv.VLine(x=12328.46).opts(color='green')\n",
    "naep_scores "
   ]
  },
  {
   "cell_type": "code",
   "execution_count": 411,
   "id": "5b0fc5a8-c393-45d9-b9ec-40d2e45064fe",
   "metadata": {},
   "outputs": [
    {
     "data": {
      "text/plain": [
       "-0.2780065571880776"
      ]
     },
     "execution_count": 411,
     "metadata": {},
     "output_type": "execute_result"
    }
   ],
   "source": [
    "#calculates correlation\n",
    "naep_corr_math=school_df['Spending per pupil'].astype(float).corr(school_df['NAEP Math Scores'].astype(float),method='pearson')\n",
    "naep_corr_math"
   ]
  },
  {
   "cell_type": "code",
   "execution_count": 412,
   "id": "68213031-4aa5-4c2b-a760-95862326aef2",
   "metadata": {},
   "outputs": [
    {
     "data": {
      "text/plain": [
       "-0.2867550240527533"
      ]
     },
     "execution_count": 412,
     "metadata": {},
     "output_type": "execute_result"
    }
   ],
   "source": [
    "#calculates correlation\n",
    "naep_corr_reading=school_df['Spending per pupil'].astype(float).corr(school_df['NAEP Reading Scores'].astype(float),method='pearson')\n",
    "naep_corr_reading"
   ]
  },
  {
   "cell_type": "code",
   "execution_count": 353,
   "id": "95532c22-3244-4a19-9982-ac74df437e75",
   "metadata": {},
   "outputs": [
    {
     "data": {
      "text/html": [
       "<div>\n",
       "<style scoped>\n",
       "    .dataframe tbody tr th:only-of-type {\n",
       "        vertical-align: middle;\n",
       "    }\n",
       "\n",
       "    .dataframe tbody tr th {\n",
       "        vertical-align: top;\n",
       "    }\n",
       "\n",
       "    .dataframe thead th {\n",
       "        text-align: right;\n",
       "    }\n",
       "</style>\n",
       "<table border=\"1\" class=\"dataframe\">\n",
       "  <thead>\n",
       "    <tr style=\"text-align: right;\">\n",
       "      <th></th>\n",
       "      <th>State</th>\n",
       "      <th>Total (per student)</th>\n",
       "      <th>Total Salaries and Wages</th>\n",
       "      <th>Total Employee Benefits</th>\n",
       "      <th>Instrcutional Total</th>\n",
       "      <th>Instructional Salaries and Wages</th>\n",
       "      <th>Instructional Employee Benefits</th>\n",
       "      <th>Support Total</th>\n",
       "      <th>Pupil Support</th>\n",
       "      <th>Instructional staff support</th>\n",
       "      <th>General Administration</th>\n",
       "      <th>School Administration</th>\n",
       "      <th>Total Title I</th>\n",
       "      <th>sped</th>\n",
       "      <th>Child nutrition</th>\n",
       "      <th>Vocational</th>\n",
       "      <th>other and nonspecified</th>\n",
       "    </tr>\n",
       "  </thead>\n",
       "  <tbody>\n",
       "    <tr>\n",
       "      <th>0</th>\n",
       "      <td>Alabama</td>\n",
       "      <td>9243</td>\n",
       "      <td>5156</td>\n",
       "      <td>2085</td>\n",
       "      <td>5263</td>\n",
       "      <td>3344</td>\n",
       "      <td>1287</td>\n",
       "      <td>3320</td>\n",
       "      <td>567</td>\n",
       "      <td>394</td>\n",
       "      <td>240</td>\n",
       "      <td>573</td>\n",
       "      <td>227474000</td>\n",
       "      <td>1.707940e+08</td>\n",
       "      <td>307333000</td>\n",
       "      <td>11414000.0</td>\n",
       "      <td>70600000</td>\n",
       "    </tr>\n",
       "    <tr>\n",
       "      <th>1</th>\n",
       "      <td>Alaska</td>\n",
       "      <td>17510</td>\n",
       "      <td>8330</td>\n",
       "      <td>5001</td>\n",
       "      <td>9449</td>\n",
       "      <td>5368</td>\n",
       "      <td>3129</td>\n",
       "      <td>7427</td>\n",
       "      <td>1367</td>\n",
       "      <td>1371</td>\n",
       "      <td>248</td>\n",
       "      <td>1072</td>\n",
       "      <td>43804000</td>\n",
       "      <td>3.346500e+07</td>\n",
       "      <td>47401000</td>\n",
       "      <td>3297000.0</td>\n",
       "      <td>41482000</td>\n",
       "    </tr>\n",
       "    <tr>\n",
       "      <th>2</th>\n",
       "      <td>Arizona</td>\n",
       "      <td>7613</td>\n",
       "      <td>4538</td>\n",
       "      <td>1447</td>\n",
       "      <td>4077</td>\n",
       "      <td>2821</td>\n",
       "      <td>877</td>\n",
       "      <td>3105</td>\n",
       "      <td>615</td>\n",
       "      <td>412</td>\n",
       "      <td>135</td>\n",
       "      <td>364</td>\n",
       "      <td>307313000</td>\n",
       "      <td>1.491270e+08</td>\n",
       "      <td>326987000</td>\n",
       "      <td>17136000.0</td>\n",
       "      <td>201802000</td>\n",
       "    </tr>\n",
       "    <tr>\n",
       "      <th>3</th>\n",
       "      <td>Arkansas</td>\n",
       "      <td>9846</td>\n",
       "      <td>5742</td>\n",
       "      <td>1640</td>\n",
       "      <td>5539</td>\n",
       "      <td>3669</td>\n",
       "      <td>1049</td>\n",
       "      <td>3762</td>\n",
       "      <td>524</td>\n",
       "      <td>822</td>\n",
       "      <td>244</td>\n",
       "      <td>514</td>\n",
       "      <td>156662000</td>\n",
       "      <td>1.299600e+08</td>\n",
       "      <td>186290000</td>\n",
       "      <td>7045000.0</td>\n",
       "      <td>80584000</td>\n",
       "    </tr>\n",
       "    <tr>\n",
       "      <th>4</th>\n",
       "      <td>California</td>\n",
       "      <td>11495</td>\n",
       "      <td>6668</td>\n",
       "      <td>2790</td>\n",
       "      <td>6849</td>\n",
       "      <td>4280</td>\n",
       "      <td>1752</td>\n",
       "      <td>4191</td>\n",
       "      <td>670</td>\n",
       "      <td>689</td>\n",
       "      <td>133</td>\n",
       "      <td>757</td>\n",
       "      <td>1798207000</td>\n",
       "      <td>1.821108e+09</td>\n",
       "      <td>2155602000</td>\n",
       "      <td>55153000.0</td>\n",
       "      <td>1379902000</td>\n",
       "    </tr>\n",
       "  </tbody>\n",
       "</table>\n",
       "</div>"
      ],
      "text/plain": [
       "        State  Total (per student)  Total Salaries and Wages  \\\n",
       "0     Alabama                 9243                      5156   \n",
       "1      Alaska                17510                      8330   \n",
       "2     Arizona                 7613                      4538   \n",
       "3    Arkansas                 9846                      5742   \n",
       "4  California                11495                      6668   \n",
       "\n",
       "   Total Employee Benefits  Instrcutional Total  \\\n",
       "0                     2085                 5263   \n",
       "1                     5001                 9449   \n",
       "2                     1447                 4077   \n",
       "3                     1640                 5539   \n",
       "4                     2790                 6849   \n",
       "\n",
       "   Instructional Salaries and Wages  Instructional Employee Benefits  \\\n",
       "0                              3344                             1287   \n",
       "1                              5368                             3129   \n",
       "2                              2821                              877   \n",
       "3                              3669                             1049   \n",
       "4                              4280                             1752   \n",
       "\n",
       "   Support Total  Pupil Support  Instructional staff support  \\\n",
       "0           3320            567                          394   \n",
       "1           7427           1367                         1371   \n",
       "2           3105            615                          412   \n",
       "3           3762            524                          822   \n",
       "4           4191            670                          689   \n",
       "\n",
       "   General Administration  School Administration  Total Title I          sped  \\\n",
       "0                     240                    573      227474000  1.707940e+08   \n",
       "1                     248                   1072       43804000  3.346500e+07   \n",
       "2                     135                    364      307313000  1.491270e+08   \n",
       "3                     244                    514      156662000  1.299600e+08   \n",
       "4                     133                    757     1798207000  1.821108e+09   \n",
       "\n",
       "   Child nutrition  Vocational  other and nonspecified  \n",
       "0        307333000  11414000.0                70600000  \n",
       "1         47401000   3297000.0                41482000  \n",
       "2        326987000  17136000.0               201802000  \n",
       "3        186290000   7045000.0                80584000  \n",
       "4       2155602000  55153000.0              1379902000  "
      ]
     },
     "execution_count": 353,
     "metadata": {},
     "output_type": "execute_result"
    }
   ],
   "source": [
    "#reads in services financial dataset merged with payment of employees\n",
    "#when taken in terms of a \"per student\" measurement \n",
    "service_financials = pd.read_csv(\n",
    "    Path(\"../uncc_project1/other_datasets/support_spending.csv\"))\n",
    "service_financials.head()"
   ]
  },
  {
   "cell_type": "code",
   "execution_count": 356,
   "id": "b4a5ea90-262b-402c-97f7-20505836a070",
   "metadata": {},
   "outputs": [
    {
     "data": {
      "text/html": [
       "<div>\n",
       "<style scoped>\n",
       "    .dataframe tbody tr th:only-of-type {\n",
       "        vertical-align: middle;\n",
       "    }\n",
       "\n",
       "    .dataframe tbody tr th {\n",
       "        vertical-align: top;\n",
       "    }\n",
       "\n",
       "    .dataframe thead th {\n",
       "        text-align: right;\n",
       "    }\n",
       "</style>\n",
       "<table border=\"1\" class=\"dataframe\">\n",
       "  <thead>\n",
       "    <tr style=\"text-align: right;\">\n",
       "      <th></th>\n",
       "      <th>State</th>\n",
       "      <th>Total (per student)</th>\n",
       "      <th>Total Salaries and Wages</th>\n",
       "      <th>Total Employee Benefits</th>\n",
       "      <th>Instrcutional Total</th>\n",
       "      <th>Instructional Salaries and Wages</th>\n",
       "      <th>Instructional Employee Benefits</th>\n",
       "      <th>Support Total</th>\n",
       "      <th>Pupil Support</th>\n",
       "      <th>Instructional staff support</th>\n",
       "      <th>...</th>\n",
       "      <th>Current Spending</th>\n",
       "      <th>Rank</th>\n",
       "      <th>State.1</th>\n",
       "      <th>College Readiness</th>\n",
       "      <th>High School Graduation Rate</th>\n",
       "      <th>NAEP Math Scores</th>\n",
       "      <th>NAEP Reading Scores</th>\n",
       "      <th>Preschool Enrollment</th>\n",
       "      <th>Code</th>\n",
       "      <th>12-17 Estimate</th>\n",
       "    </tr>\n",
       "  </thead>\n",
       "  <tbody>\n",
       "    <tr>\n",
       "      <th>0</th>\n",
       "      <td>Alabama</td>\n",
       "      <td>9243</td>\n",
       "      <td>5156</td>\n",
       "      <td>2085</td>\n",
       "      <td>5263</td>\n",
       "      <td>3344</td>\n",
       "      <td>1287</td>\n",
       "      <td>3320</td>\n",
       "      <td>567</td>\n",
       "      <td>394</td>\n",
       "      <td>...</td>\n",
       "      <td>7.000000e+09</td>\n",
       "      <td>45</td>\n",
       "      <td>Alabama</td>\n",
       "      <td>44</td>\n",
       "      <td>5</td>\n",
       "      <td>49</td>\n",
       "      <td>48</td>\n",
       "      <td>38</td>\n",
       "      <td>AL</td>\n",
       "      <td>2.10</td>\n",
       "    </tr>\n",
       "    <tr>\n",
       "      <th>1</th>\n",
       "      <td>Alaska</td>\n",
       "      <td>17510</td>\n",
       "      <td>8330</td>\n",
       "      <td>5001</td>\n",
       "      <td>9449</td>\n",
       "      <td>5368</td>\n",
       "      <td>3129</td>\n",
       "      <td>7427</td>\n",
       "      <td>1367</td>\n",
       "      <td>1371</td>\n",
       "      <td>...</td>\n",
       "      <td>2.327151e+09</td>\n",
       "      <td>49</td>\n",
       "      <td>Alaska</td>\n",
       "      <td>37</td>\n",
       "      <td>49</td>\n",
       "      <td>43</td>\n",
       "      <td>49</td>\n",
       "      <td>33</td>\n",
       "      <td>AK</td>\n",
       "      <td>3.62</td>\n",
       "    </tr>\n",
       "    <tr>\n",
       "      <th>2</th>\n",
       "      <td>Arizona</td>\n",
       "      <td>7613</td>\n",
       "      <td>4538</td>\n",
       "      <td>1447</td>\n",
       "      <td>4077</td>\n",
       "      <td>2821</td>\n",
       "      <td>877</td>\n",
       "      <td>3105</td>\n",
       "      <td>615</td>\n",
       "      <td>412</td>\n",
       "      <td>...</td>\n",
       "      <td>7.276067e+09</td>\n",
       "      <td>47</td>\n",
       "      <td>Arizona</td>\n",
       "      <td>47</td>\n",
       "      <td>47</td>\n",
       "      <td>27</td>\n",
       "      <td>37</td>\n",
       "      <td>42</td>\n",
       "      <td>AZ</td>\n",
       "      <td>2.72</td>\n",
       "    </tr>\n",
       "    <tr>\n",
       "      <th>3</th>\n",
       "      <td>Arkansas</td>\n",
       "      <td>9846</td>\n",
       "      <td>5742</td>\n",
       "      <td>1640</td>\n",
       "      <td>5539</td>\n",
       "      <td>3669</td>\n",
       "      <td>1049</td>\n",
       "      <td>3762</td>\n",
       "      <td>524</td>\n",
       "      <td>822</td>\n",
       "      <td>...</td>\n",
       "      <td>4.750938e+09</td>\n",
       "      <td>38</td>\n",
       "      <td>Arkansas</td>\n",
       "      <td>45</td>\n",
       "      <td>9</td>\n",
       "      <td>43</td>\n",
       "      <td>37</td>\n",
       "      <td>19</td>\n",
       "      <td>AR</td>\n",
       "      <td>3.22</td>\n",
       "    </tr>\n",
       "    <tr>\n",
       "      <th>4</th>\n",
       "      <td>California</td>\n",
       "      <td>11495</td>\n",
       "      <td>6668</td>\n",
       "      <td>2790</td>\n",
       "      <td>6849</td>\n",
       "      <td>4280</td>\n",
       "      <td>1752</td>\n",
       "      <td>4191</td>\n",
       "      <td>670</td>\n",
       "      <td>689</td>\n",
       "      <td>...</td>\n",
       "      <td>7.264124e+10</td>\n",
       "      <td>40</td>\n",
       "      <td>California</td>\n",
       "      <td>33</td>\n",
       "      <td>36</td>\n",
       "      <td>38</td>\n",
       "      <td>37</td>\n",
       "      <td>16</td>\n",
       "      <td>CA</td>\n",
       "      <td>2.67</td>\n",
       "    </tr>\n",
       "  </tbody>\n",
       "</table>\n",
       "<p>5 rows × 33 columns</p>\n",
       "</div>"
      ],
      "text/plain": [
       "        State  Total (per student)  Total Salaries and Wages  \\\n",
       "0     Alabama                 9243                      5156   \n",
       "1      Alaska                17510                      8330   \n",
       "2     Arizona                 7613                      4538   \n",
       "3    Arkansas                 9846                      5742   \n",
       "4  California                11495                      6668   \n",
       "\n",
       "   Total Employee Benefits  Instrcutional Total  \\\n",
       "0                     2085                 5263   \n",
       "1                     5001                 9449   \n",
       "2                     1447                 4077   \n",
       "3                     1640                 5539   \n",
       "4                     2790                 6849   \n",
       "\n",
       "   Instructional Salaries and Wages  Instructional Employee Benefits  \\\n",
       "0                              3344                             1287   \n",
       "1                              5368                             3129   \n",
       "2                              2821                              877   \n",
       "3                              3669                             1049   \n",
       "4                              4280                             1752   \n",
       "\n",
       "   Support Total  Pupil Support  Instructional staff support  ...  \\\n",
       "0           3320            567                          394  ...   \n",
       "1           7427           1367                         1371  ...   \n",
       "2           3105            615                          412  ...   \n",
       "3           3762            524                          822  ...   \n",
       "4           4191            670                          689  ...   \n",
       "\n",
       "   Current Spending  Rank     State.1  College Readiness  \\\n",
       "0      7.000000e+09    45     Alabama                 44   \n",
       "1      2.327151e+09    49      Alaska                 37   \n",
       "2      7.276067e+09    47     Arizona                 47   \n",
       "3      4.750938e+09    38    Arkansas                 45   \n",
       "4      7.264124e+10    40  California                 33   \n",
       "\n",
       "   High School Graduation Rate  NAEP Math Scores  NAEP Reading Scores  \\\n",
       "0                            5                49                   48   \n",
       "1                           49                43                   49   \n",
       "2                           47                27                   37   \n",
       "3                            9                43                   37   \n",
       "4                           36                38                   37   \n",
       "\n",
       "   Preschool Enrollment  Code  12-17 Estimate  \n",
       "0                    38    AL            2.10  \n",
       "1                    33    AK            3.62  \n",
       "2                    42    AZ            2.72  \n",
       "3                    19    AR            3.22  \n",
       "4                    16    CA            2.67  \n",
       "\n",
       "[5 rows x 33 columns]"
      ]
     },
     "execution_count": 356,
     "metadata": {},
     "output_type": "execute_result"
    }
   ],
   "source": [
    "#combines services dataset with alphabetically sorted (by state) \n",
    "#school dataset that was created and used earlier\n",
    "abc_school_df= school_df.sort_values('State')\n",
    "full_df= pd.merge(\n",
    "    service_financials,\n",
    "    abc_school_df,\n",
    "    how=\"inner\",\n",
    "    on='State',\n",
    "    left_on=None,\n",
    "    right_on=None,\n",
    "    left_index=False,\n",
    "    right_index=False,\n",
    "    sort=True,\n",
    "    suffixes=(\"_x\", \"_y\"),\n",
    "    copy=True,\n",
    "    indicator=False,\n",
    "    validate=None,\n",
    ")\n",
    "full_df.head()"
   ]
  },
  {
   "cell_type": "code",
   "execution_count": 358,
   "id": "65b095b1-0c0d-42fe-89fd-22c19388d306",
   "metadata": {},
   "outputs": [
    {
     "data": {},
     "metadata": {},
     "output_type": "display_data"
    },
    {
     "data": {
      "application/vnd.holoviews_exec.v0+json": "",
      "text/html": [
       "<div id='19835'>\n",
       "\n",
       "\n",
       "\n",
       "\n",
       "\n",
       "  <div class=\"bk-root\" id=\"bfa25f4a-7902-4d6e-ba2f-143c72053a62\" data-root-id=\"19835\"></div>\n",
       "</div>\n",
       "<script type=\"application/javascript\">(function(root) {\n",
       "  function embed_document(root) {\n",
       "    var docs_json = {\"22757f95-b816-4fd2-b44d-da777bdb0054\":{\"defs\":[{\"extends\":null,\"module\":null,\"name\":\"ReactiveHTML1\",\"overrides\":[],\"properties\":[]},{\"extends\":null,\"module\":null,\"name\":\"FlexBox1\",\"overrides\":[],\"properties\":[{\"default\":\"flex-start\",\"kind\":null,\"name\":\"align_content\"},{\"default\":\"flex-start\",\"kind\":null,\"name\":\"align_items\"},{\"default\":\"row\",\"kind\":null,\"name\":\"flex_direction\"},{\"default\":\"wrap\",\"kind\":null,\"name\":\"flex_wrap\"},{\"default\":\"flex-start\",\"kind\":null,\"name\":\"justify_content\"}]},{\"extends\":null,\"module\":null,\"name\":\"TemplateActions1\",\"overrides\":[],\"properties\":[{\"default\":0,\"kind\":null,\"name\":\"open_modal\"},{\"default\":0,\"kind\":null,\"name\":\"close_modal\"}]},{\"extends\":null,\"module\":null,\"name\":\"MaterialTemplateActions1\",\"overrides\":[],\"properties\":[{\"default\":0,\"kind\":null,\"name\":\"open_modal\"},{\"default\":0,\"kind\":null,\"name\":\"close_modal\"}]}],\"roots\":{\"references\":[{\"attributes\":{\"axis\":{\"id\":\"19850\"},\"grid_line_color\":null,\"ticker\":null},\"id\":\"19852\",\"type\":\"Grid\"},{\"attributes\":{},\"id\":\"19854\",\"type\":\"BasicTicker\"},{\"attributes\":{\"children\":[{\"id\":\"19836\"},{\"id\":\"19841\"},{\"id\":\"20030\"}],\"margin\":[0,0,0,0],\"name\":\"Row38816\",\"tags\":[\"embedded\"]},\"id\":\"19835\",\"type\":\"Row\"},{\"attributes\":{\"margin\":[5,5,5,5],\"name\":\"HSpacer38820\",\"sizing_mode\":\"stretch_width\"},\"id\":\"19836\",\"type\":\"Spacer\"},{\"attributes\":{\"factors\":[\"Utah\",\"Idaho\",\"Tennessee\",\"Arizona\",\"Mississippi\",\"Oklahoma\",\"Alabama\",\"South Dakota\",\"Arkansas\",\"Kentucky\",\"Florida\",\"Colorado\",\"Nevada\",\"Texas\",\"Missouri\",\"North Carolina\",\"South Carolina\",\"Oregon\",\"Georgia\",\"West Virginia\",\"New Mexico\",\"Montana\",\"Iowa\",\"Washington\",\"California\",\"North Dakota\",\"Nebraska\",\"Kansas\",\"Louisiana\",\"Michigan\",\"Virginia\",\"Indiana\",\"Wisconsin\",\"Illinois\",\"Minnesota\",\"Ohio\",\"Maine\",\"New Hampshire\",\"Delaware\",\"Hawaii\",\"Pennsylvania\",\"Rhode Island\",\"Maryland\",\"Massachusetts\",\"Alaska\",\"Vermont\",\"Connecticut\",\"New Jersey\",\"Wyoming\",\"New York\"],\"tags\":[[[\"State\",\"State\",null]]]},\"id\":\"19837\",\"type\":\"FactorRange\"},{\"attributes\":{\"data_source\":{\"id\":\"19877\"},\"glyph\":{\"id\":\"19880\"},\"hover_glyph\":null,\"muted_glyph\":{\"id\":\"19882\"},\"nonselection_glyph\":{\"id\":\"19881\"},\"selection_glyph\":{\"id\":\"19885\"},\"view\":{\"id\":\"19884\"}},\"id\":\"19883\",\"type\":\"GlyphRenderer\"},{\"attributes\":{},\"id\":\"19873\",\"type\":\"CategoricalTickFormatter\"},{\"attributes\":{\"below\":[{\"id\":\"19850\"}],\"center\":[{\"id\":\"19852\"},{\"id\":\"19856\"}],\"height\":500,\"left\":[{\"id\":\"19853\"}],\"margin\":[5,5,5,5],\"min_border_bottom\":10,\"min_border_left\":10,\"min_border_right\":10,\"min_border_top\":10,\"renderers\":[{\"id\":\"19883\"},{\"id\":\"19892\"},{\"id\":\"19901\"}],\"sizing_mode\":\"fixed\",\"title\":{\"id\":\"19842\"},\"toolbar\":{\"id\":\"19863\"},\"width\":1000,\"x_range\":{\"id\":\"19837\"},\"x_scale\":{\"id\":\"19846\"},\"y_range\":{\"id\":\"19838\"},\"y_scale\":{\"id\":\"19848\"}},\"id\":\"19841\",\"subtype\":\"Figure\",\"type\":\"Plot\"},{\"attributes\":{\"axis_label\":\"USD\",\"formatter\":{\"id\":\"19876\"},\"major_label_policy\":{\"id\":\"19875\"},\"ticker\":{\"id\":\"19854\"}},\"id\":\"19853\",\"type\":\"LinearAxis\"},{\"attributes\":{\"source\":{\"id\":\"19877\"}},\"id\":\"19884\",\"type\":\"CDSView\"},{\"attributes\":{\"fill_color\":{\"value\":\"#30a2da\"},\"top\":{\"field\":\"Spending_per_pupil\"},\"width\":{\"value\":0.8},\"x\":{\"field\":\"State\"}},\"id\":\"19880\",\"type\":\"VBar\"},{\"attributes\":{},\"id\":\"19848\",\"type\":\"LinearScale\"},{\"attributes\":{\"active_multi\":null,\"tools\":[{\"id\":\"19839\"},{\"id\":\"19840\"},{\"id\":\"19857\"},{\"id\":\"19858\"},{\"id\":\"19859\"},{\"id\":\"19860\"},{\"id\":\"19861\"}]},\"id\":\"19863\",\"type\":\"Toolbar\"},{\"attributes\":{},\"id\":\"19872\",\"type\":\"AllLabels\"},{\"attributes\":{\"axis\":{\"id\":\"19853\"},\"dimension\":1,\"grid_line_color\":null,\"ticker\":null},\"id\":\"19856\",\"type\":\"Grid\"},{\"attributes\":{\"data\":{\"State\":[\"Utah\",\"Idaho\",\"Tennessee\",\"Arizona\",\"Mississippi\",\"Oklahoma\",\"Alabama\",\"South Dakota\",\"Arkansas\",\"Kentucky\",\"Florida\",\"Colorado\",\"Nevada\",\"Texas\",\"Missouri\",\"North Carolina\",\"South Carolina\",\"Oregon\",\"Georgia\",\"West Virginia\",\"New Mexico\",\"Montana\",\"Iowa\",\"Washington\",\"California\",\"North Dakota\",\"Nebraska\",\"Kansas\",\"Louisiana\",\"Michigan\",\"Virginia\",\"Indiana\",\"Wisconsin\",\"Illinois\",\"Minnesota\",\"Ohio\",\"Maine\",\"New Hampshire\",\"Delaware\",\"Hawaii\",\"Pennsylvania\",\"Rhode Island\",\"Maryland\",\"Massachusetts\",\"Alaska\",\"Vermont\",\"Connecticut\",\"New Jersey\",\"Wyoming\",\"New York\"],\"Total_Salaries_and_Wages\":[3992,4268,5313,4538,5151,4490,5156,5456,5742,5998,5065,6004,5324,6273,6436,5571,5909,5746,5882,6291,5754,6571,7122,6857,6668,8037,7103,5883,5981,5763,7121,5434,6476,7251,7701,6986,8009,8308,7887,7587,7890,9096,9551,9857,8330,10143,10615,10492,9622,12303]},\"selected\":{\"id\":\"19887\"},\"selection_policy\":{\"id\":\"19914\"}},\"id\":\"19886\",\"type\":\"ColumnDataSource\"},{\"attributes\":{\"bottom\":{\"value\":0},\"fill_alpha\":{\"value\":1.0},\"fill_color\":{\"value\":\"#30a2da\"},\"hatch_alpha\":{\"value\":1.0},\"hatch_color\":{\"value\":\"black\"},\"hatch_scale\":{\"value\":12.0},\"hatch_weight\":{\"value\":1.0},\"line_alpha\":{\"value\":1.0},\"line_cap\":{\"value\":\"butt\"},\"line_color\":{\"value\":\"black\"},\"line_dash\":{\"value\":[]},\"line_dash_offset\":{\"value\":0},\"line_join\":{\"value\":\"bevel\"},\"line_width\":{\"value\":1},\"top\":{\"field\":\"Spending_per_pupil\"},\"width\":{\"value\":0.8},\"x\":{\"field\":\"State\"}},\"id\":\"19885\",\"type\":\"VBar\"},{\"attributes\":{\"data\":{\"Spending_per_pupil\":[7954,8141,8324,8882,8919,9353,9636,9913,9976,10010,10098,10171,10305,10314,10457,10613,10719,10862,10893,10984,11266,11266,11337,11510,11588,11664,11796,11939,11967,11987,12146,12360,12435,12457,12664,12811,13666,13725,14335,14987,15023,15312,15574,16270,16576,17108,17373,18874,19238,20645],\"State\":[\"Utah\",\"Idaho\",\"Tennessee\",\"Arizona\",\"Mississippi\",\"Oklahoma\",\"Alabama\",\"South Dakota\",\"Arkansas\",\"Kentucky\",\"Florida\",\"Colorado\",\"Nevada\",\"Texas\",\"Missouri\",\"North Carolina\",\"South Carolina\",\"Oregon\",\"Georgia\",\"West Virginia\",\"New Mexico\",\"Montana\",\"Iowa\",\"Washington\",\"California\",\"North Dakota\",\"Nebraska\",\"Kansas\",\"Louisiana\",\"Michigan\",\"Virginia\",\"Indiana\",\"Wisconsin\",\"Illinois\",\"Minnesota\",\"Ohio\",\"Maine\",\"New Hampshire\",\"Delaware\",\"Hawaii\",\"Pennsylvania\",\"Rhode Island\",\"Maryland\",\"Massachusetts\",\"Alaska\",\"Vermont\",\"Connecticut\",\"New Jersey\",\"Wyoming\",\"New York\"]},\"selected\":{\"id\":\"19878\"},\"selection_policy\":{\"id\":\"19912\"}},\"id\":\"19877\",\"type\":\"ColumnDataSource\"},{\"attributes\":{\"source\":{\"id\":\"19896\"}},\"id\":\"19902\",\"type\":\"CDSView\"},{\"attributes\":{\"source\":{\"id\":\"19886\"}},\"id\":\"19893\",\"type\":\"CDSView\"},{\"attributes\":{},\"id\":\"19876\",\"type\":\"BasicTickFormatter\"},{\"attributes\":{\"bottom_units\":\"screen\",\"fill_alpha\":0.5,\"fill_color\":\"lightgrey\",\"left_units\":\"screen\",\"level\":\"overlay\",\"line_alpha\":1.0,\"line_color\":\"black\",\"line_dash\":[4,4],\"line_width\":2,\"right_units\":\"screen\",\"syncable\":false,\"top_units\":\"screen\"},\"id\":\"19862\",\"type\":\"BoxAnnotation\"},{\"attributes\":{\"callback\":null,\"renderers\":[{\"id\":\"19892\"}],\"tags\":[\"hv_created\"],\"tooltips\":[[\"State\",\"@{State}\"],[\"Total Salaries and Wages\",\"@{Total_Salaries_and_Wages}\"]]},\"id\":\"19840\",\"type\":\"HoverTool\"},{\"attributes\":{},\"id\":\"19897\",\"type\":\"Selection\"},{\"attributes\":{},\"id\":\"19912\",\"type\":\"UnionRenderers\"},{\"attributes\":{\"angle\":{\"value\":0},\"text\":{\"field\":\"Rank\"},\"text_align\":{\"value\":\"center\"},\"text_alpha\":{\"value\":1.0},\"text_baseline\":{\"value\":\"middle\"},\"text_color\":{\"value\":\"black\"},\"text_font_style\":{\"value\":\"normal\"},\"text_line_height\":{\"value\":1.2},\"x\":{\"field\":\"State\"},\"x_offset\":{\"value\":0},\"y\":{\"field\":\"Spending_per_pupil\",\"transform\":{\"id\":\"19895\"}},\"y_offset\":{\"value\":0}},\"id\":\"19903\",\"type\":\"Text\"},{\"attributes\":{\"text\":\"Spending per Student, Total vs Spent on Salaries/Wages\",\"text_color\":\"black\",\"text_font_size\":\"12pt\"},\"id\":\"19842\",\"type\":\"Title\"},{\"attributes\":{\"fill_alpha\":{\"value\":0.2},\"fill_color\":{\"value\":\"#fc4f30\"},\"line_alpha\":{\"value\":0.2},\"top\":{\"field\":\"Total_Salaries_and_Wages\"},\"width\":{\"value\":0.8},\"x\":{\"field\":\"State\"}},\"id\":\"19891\",\"type\":\"VBar\"},{\"attributes\":{},\"id\":\"19878\",\"type\":\"Selection\"},{\"attributes\":{\"bottom\":{\"value\":0},\"fill_alpha\":{\"value\":1.0},\"fill_color\":{\"value\":\"#fc4f30\"},\"hatch_alpha\":{\"value\":1.0},\"hatch_color\":{\"value\":\"black\"},\"hatch_scale\":{\"value\":12.0},\"hatch_weight\":{\"value\":1.0},\"line_alpha\":{\"value\":1.0},\"line_cap\":{\"value\":\"butt\"},\"line_color\":{\"value\":\"black\"},\"line_dash\":{\"value\":[]},\"line_dash_offset\":{\"value\":0},\"line_join\":{\"value\":\"bevel\"},\"line_width\":{\"value\":1},\"top\":{\"field\":\"Total_Salaries_and_Wages\"},\"width\":{\"value\":0.8},\"x\":{\"field\":\"State\"}},\"id\":\"19894\",\"type\":\"VBar\"},{\"attributes\":{\"fill_color\":{\"value\":\"#fc4f30\"},\"top\":{\"field\":\"Total_Salaries_and_Wages\"},\"width\":{\"value\":0.8},\"x\":{\"field\":\"State\"}},\"id\":\"19889\",\"type\":\"VBar\"},{\"attributes\":{},\"id\":\"19851\",\"type\":\"CategoricalTicker\"},{\"attributes\":{},\"id\":\"19857\",\"type\":\"SaveTool\"},{\"attributes\":{},\"id\":\"19887\",\"type\":\"Selection\"},{\"attributes\":{\"data_source\":{\"id\":\"19886\"},\"glyph\":{\"id\":\"19889\"},\"hover_glyph\":null,\"muted_glyph\":{\"id\":\"19891\"},\"nonselection_glyph\":{\"id\":\"19890\"},\"selection_glyph\":{\"id\":\"19894\"},\"view\":{\"id\":\"19893\"}},\"id\":\"19892\",\"type\":\"GlyphRenderer\"},{\"attributes\":{\"fill_alpha\":{\"value\":0.1},\"fill_color\":{\"value\":\"#30a2da\"},\"line_alpha\":{\"value\":0.1},\"top\":{\"field\":\"Spending_per_pupil\"},\"width\":{\"value\":0.8},\"x\":{\"field\":\"State\"}},\"id\":\"19881\",\"type\":\"VBar\"},{\"attributes\":{},\"id\":\"19858\",\"type\":\"PanTool\"},{\"attributes\":{\"overlay\":{\"id\":\"19862\"}},\"id\":\"19860\",\"type\":\"BoxZoomTool\"},{\"attributes\":{},\"id\":\"19859\",\"type\":\"WheelZoomTool\"},{\"attributes\":{\"margin\":[5,5,5,5],\"name\":\"HSpacer38821\",\"sizing_mode\":\"stretch_width\"},\"id\":\"20030\",\"type\":\"Spacer\"},{\"attributes\":{\"data_source\":{\"id\":\"19896\"},\"glyph\":{\"id\":\"19899\"},\"hover_glyph\":null,\"muted_glyph\":null,\"nonselection_glyph\":{\"id\":\"19900\"},\"selection_glyph\":{\"id\":\"19903\"},\"view\":{\"id\":\"19902\"}},\"id\":\"19901\",\"type\":\"GlyphRenderer\"},{\"attributes\":{\"text\":{\"field\":\"Rank\"},\"text_align\":{\"value\":\"center\"},\"text_alpha\":{\"value\":0.1},\"text_baseline\":{\"value\":\"middle\"},\"text_color\":{\"value\":\"black\"},\"x\":{\"field\":\"State\"},\"y\":{\"field\":\"Spending_per_pupil\",\"transform\":{\"id\":\"19895\"}}},\"id\":\"19900\",\"type\":\"Text\"},{\"attributes\":{\"data\":{\"Rank\":[\"45\",\"49\",\"47\",\"38\",\"40\",\"7\",\"3\",\"22\",\"16\",\"30\",\"28\",\"23\",\"6\",\"9\",\"24\",\"27\",\"33\",\"46\",\"12\",\"14\",\"2\",\"32\",\"18\",\"43\",\"26\",\"36\",\"13\",\"48\",\"4\",\"1\",\"50\",\"19\",\"15\",\"34\",\"20\",\"44\",\"37\",\"17\",\"25\",\"42\",\"29\",\"31\",\"35\",\"21\",\"5\",\"10\",\"11\",\"41\",\"8\",\"39\"],\"Spending_per_pupil\":[9636,16576,8882,9976,11588,10171,17373,14335,10098,10893,14987,8141,12457,12360,11337,11939,10010,11967,13666,15574,16270,11987,12664,8919,10457,11266,11796,10305,13725,18874,11266,20645,10613,11664,12811,9353,10862,15023,15312,10719,9913,8324,10314,7954,17108,12146,11510,10984,12435,19238],\"State\":[\"Alabama\",\"Alaska\",\"Arizona\",\"Arkansas\",\"California\",\"Colorado\",\"Connecticut\",\"Delaware\",\"Florida\",\"Georgia\",\"Hawaii\",\"Idaho\",\"Illinois\",\"Indiana\",\"Iowa\",\"Kansas\",\"Kentucky\",\"Louisiana\",\"Maine\",\"Maryland\",\"Massachusetts\",\"Michigan\",\"Minnesota\",\"Mississippi\",\"Missouri\",\"Montana\",\"Nebraska\",\"Nevada\",\"New Hampshire\",\"New Jersey\",\"New Mexico\",\"New York\",\"North Carolina\",\"North Dakota\",\"Ohio\",\"Oklahoma\",\"Oregon\",\"Pennsylvania\",\"Rhode Island\",\"South Carolina\",\"South Dakota\",\"Tennessee\",\"Texas\",\"Utah\",\"Vermont\",\"Virginia\",\"Washington\",\"West Virginia\",\"Wisconsin\",\"Wyoming\"]},\"selected\":{\"id\":\"19897\"},\"selection_policy\":{\"id\":\"19916\"}},\"id\":\"19896\",\"type\":\"ColumnDataSource\"},{\"attributes\":{\"callback\":null,\"renderers\":[{\"id\":\"19883\"}],\"tags\":[\"hv_created\"],\"tooltips\":[[\"State\",\"@{State}\"],[\"Spending per pupil\",\"@{Spending_per_pupil}\"]]},\"id\":\"19839\",\"type\":\"HoverTool\"},{\"attributes\":{\"range\":null,\"value\":800},\"id\":\"19895\",\"type\":\"Dodge\"},{\"attributes\":{\"text\":{\"field\":\"Rank\"},\"text_align\":{\"value\":\"center\"},\"text_baseline\":{\"value\":\"middle\"},\"text_color\":{\"value\":\"black\"},\"x\":{\"field\":\"State\"},\"y\":{\"field\":\"Spending_per_pupil\",\"transform\":{\"id\":\"19895\"}}},\"id\":\"19899\",\"type\":\"Text\"},{\"attributes\":{\"axis_label\":\"State\",\"formatter\":{\"id\":\"19873\"},\"major_label_orientation\":0.7853981633974483,\"major_label_policy\":{\"id\":\"19872\"},\"ticker\":{\"id\":\"19851\"}},\"id\":\"19850\",\"type\":\"CategoricalAxis\"},{\"attributes\":{},\"id\":\"19861\",\"type\":\"ResetTool\"},{\"attributes\":{},\"id\":\"19914\",\"type\":\"UnionRenderers\"},{\"attributes\":{},\"id\":\"19916\",\"type\":\"UnionRenderers\"},{\"attributes\":{},\"id\":\"19875\",\"type\":\"AllLabels\"},{\"attributes\":{},\"id\":\"19846\",\"type\":\"CategoricalScale\"},{\"attributes\":{\"fill_alpha\":{\"value\":0.1},\"fill_color\":{\"value\":\"#fc4f30\"},\"line_alpha\":{\"value\":0.1},\"top\":{\"field\":\"Total_Salaries_and_Wages\"},\"width\":{\"value\":0.8},\"x\":{\"field\":\"State\"}},\"id\":\"19890\",\"type\":\"VBar\"},{\"attributes\":{\"fill_alpha\":{\"value\":0.2},\"fill_color\":{\"value\":\"#30a2da\"},\"line_alpha\":{\"value\":0.2},\"top\":{\"field\":\"Spending_per_pupil\"},\"width\":{\"value\":0.8},\"x\":{\"field\":\"State\"}},\"id\":\"19882\",\"type\":\"VBar\"},{\"attributes\":{\"end\":22310.3,\"reset_end\":22310.3,\"reset_start\":0.0,\"tags\":[[[\"Spending per pupil\",\"Spending per pupil\",null]]]},\"id\":\"19838\",\"type\":\"Range1d\"}],\"root_ids\":[\"19835\"]},\"title\":\"Bokeh Application\",\"version\":\"2.3.2\"}};\n",
       "    var render_items = [{\"docid\":\"22757f95-b816-4fd2-b44d-da777bdb0054\",\"root_ids\":[\"19835\"],\"roots\":{\"19835\":\"bfa25f4a-7902-4d6e-ba2f-143c72053a62\"}}];\n",
       "    root.Bokeh.embed.embed_items_notebook(docs_json, render_items);\n",
       "  }\n",
       "  if (root.Bokeh !== undefined && root.Bokeh.Panel !== undefined) {\n",
       "    embed_document(root);\n",
       "  } else {\n",
       "    var attempts = 0;\n",
       "    var timer = setInterval(function(root) {\n",
       "      if (root.Bokeh !== undefined && root.Bokeh.Panel !== undefined) {\n",
       "        clearInterval(timer);\n",
       "        embed_document(root);\n",
       "      } else if (document.readyState == \"complete\") {\n",
       "        attempts++;\n",
       "        if (attempts > 200) {\n",
       "          clearInterval(timer);\n",
       "          console.log(\"Bokeh: ERROR: Unable to run BokehJS code because BokehJS library is missing\");\n",
       "        }\n",
       "      }\n",
       "    }, 25, root)\n",
       "  }\n",
       "})(window);</script>"
      ],
      "text/plain": [
       ":Overlay\n",
       "   .Bars.I   :Bars   [State]   (Spending per pupil)\n",
       "   .Bars.II  :Bars   [State]   (Total Salaries and Wages)\n",
       "   .Labels.I :Labels   [State,Spending per pupil]   (Rank)"
      ]
     },
     "execution_count": 358,
     "metadata": {
      "application/vnd.holoviews_exec.v0+json": {
       "id": "19835"
      }
     },
     "output_type": "execute_result"
    }
   ],
   "source": [
    "#creates labels for the ranks of each state's schools\n",
    "labels = hv.Labels(data=full_df, kdims=['State', 'Spending per pupil'], vdims='Rank').opts(yoffset=800)\n",
    "\n",
    "#creates overlayed bar charts to see how much of each states spending-per-student\n",
    "#goes towards teacher salaries\n",
    "#sorted by spending per student\n",
    "salaries_vs = full_df.sort_values('Spending per pupil', ascending=True).hvplot.bar(\n",
    "    x='State',\n",
    "    y='Total Salaries and Wages',\n",
    "    rot=45,\n",
    "    xlabel='State',\n",
    "    ylabel='USD',\n",
    "    width=1000,\n",
    "    height=500,\n",
    "    title='Spending per Student, Total vs Spent on Salaries/Wages',\n",
    ")\n",
    "spending_vs = full_df.sort_values('Spending per pupil',ascending = True).hvplot.bar(\n",
    "    x='State',\n",
    "    y='Spending per pupil',\n",
    "    rot=45,\n",
    "    width=1000,\n",
    "    height=500,\n",
    ")\n",
    "spending_vs * salaries_vs * labels"
   ]
  },
  {
   "cell_type": "code",
   "execution_count": 359,
   "id": "2e42909d-babd-4c27-bad2-2bbad343eb3a",
   "metadata": {},
   "outputs": [
    {
     "data": {},
     "metadata": {},
     "output_type": "display_data"
    },
    {
     "data": {
      "application/vnd.holoviews_exec.v0+json": "",
      "text/html": [
       "<div id='20102'>\n",
       "\n",
       "\n",
       "\n",
       "\n",
       "\n",
       "  <div class=\"bk-root\" id=\"2ae70448-268f-4d7f-9ad8-00530f7a29d0\" data-root-id=\"20102\"></div>\n",
       "</div>\n",
       "<script type=\"application/javascript\">(function(root) {\n",
       "  function embed_document(root) {\n",
       "    var docs_json = {\"b9483968-a086-45d1-a4f3-30973168d8d3\":{\"defs\":[{\"extends\":null,\"module\":null,\"name\":\"ReactiveHTML1\",\"overrides\":[],\"properties\":[]},{\"extends\":null,\"module\":null,\"name\":\"FlexBox1\",\"overrides\":[],\"properties\":[{\"default\":\"flex-start\",\"kind\":null,\"name\":\"align_content\"},{\"default\":\"flex-start\",\"kind\":null,\"name\":\"align_items\"},{\"default\":\"row\",\"kind\":null,\"name\":\"flex_direction\"},{\"default\":\"wrap\",\"kind\":null,\"name\":\"flex_wrap\"},{\"default\":\"flex-start\",\"kind\":null,\"name\":\"justify_content\"}]},{\"extends\":null,\"module\":null,\"name\":\"TemplateActions1\",\"overrides\":[],\"properties\":[{\"default\":0,\"kind\":null,\"name\":\"open_modal\"},{\"default\":0,\"kind\":null,\"name\":\"close_modal\"}]},{\"extends\":null,\"module\":null,\"name\":\"MaterialTemplateActions1\",\"overrides\":[],\"properties\":[{\"default\":0,\"kind\":null,\"name\":\"open_modal\"},{\"default\":0,\"kind\":null,\"name\":\"close_modal\"}]}],\"roots\":{\"references\":[{\"attributes\":{\"fill_color\":{\"value\":\"#30a2da\"},\"top\":{\"field\":\"Spending_per_pupil\"},\"width\":{\"value\":0.8},\"x\":{\"field\":\"State\"}},\"id\":\"20147\",\"type\":\"VBar\"},{\"attributes\":{},\"id\":\"20124\",\"type\":\"SaveTool\"},{\"attributes\":{},\"id\":\"20121\",\"type\":\"BasicTicker\"},{\"attributes\":{\"fill_alpha\":{\"value\":0.1},\"fill_color\":{\"value\":\"#fc4f30\"},\"line_alpha\":{\"value\":0.1},\"top\":{\"field\":\"Total_Salaries_and_Wages\"},\"width\":{\"value\":0.8},\"x\":{\"field\":\"State\"}},\"id\":\"20157\",\"type\":\"VBar\"},{\"attributes\":{\"angle\":{\"value\":0},\"text\":{\"field\":\"Rank\"},\"text_align\":{\"value\":\"center\"},\"text_alpha\":{\"value\":1.0},\"text_baseline\":{\"value\":\"middle\"},\"text_color\":{\"value\":\"black\"},\"text_font_style\":{\"value\":\"normal\"},\"text_line_height\":{\"value\":1.2},\"x\":{\"field\":\"State\"},\"x_offset\":{\"value\":0},\"y\":{\"field\":\"Spending_per_pupil\",\"transform\":{\"id\":\"20162\"}},\"y_offset\":{\"value\":0}},\"id\":\"20170\",\"type\":\"Text\"},{\"attributes\":{},\"id\":\"20125\",\"type\":\"PanTool\"},{\"attributes\":{\"bottom\":{\"value\":0},\"fill_alpha\":{\"value\":1.0},\"fill_color\":{\"value\":\"#fc4f30\"},\"hatch_alpha\":{\"value\":1.0},\"hatch_color\":{\"value\":\"black\"},\"hatch_scale\":{\"value\":12.0},\"hatch_weight\":{\"value\":1.0},\"line_alpha\":{\"value\":1.0},\"line_cap\":{\"value\":\"butt\"},\"line_color\":{\"value\":\"black\"},\"line_dash\":{\"value\":[]},\"line_dash_offset\":{\"value\":0},\"line_join\":{\"value\":\"bevel\"},\"line_width\":{\"value\":1},\"top\":{\"field\":\"Total_Salaries_and_Wages\"},\"width\":{\"value\":0.8},\"x\":{\"field\":\"State\"}},\"id\":\"20161\",\"type\":\"VBar\"},{\"attributes\":{\"overlay\":{\"id\":\"20129\"}},\"id\":\"20127\",\"type\":\"BoxZoomTool\"},{\"attributes\":{},\"id\":\"20126\",\"type\":\"WheelZoomTool\"},{\"attributes\":{\"data_source\":{\"id\":\"20163\"},\"glyph\":{\"id\":\"20166\"},\"hover_glyph\":null,\"muted_glyph\":null,\"nonselection_glyph\":{\"id\":\"20167\"},\"selection_glyph\":{\"id\":\"20170\"},\"view\":{\"id\":\"20169\"}},\"id\":\"20168\",\"type\":\"GlyphRenderer\"},{\"attributes\":{\"margin\":[5,5,5,5],\"name\":\"HSpacer39533\",\"sizing_mode\":\"stretch_width\"},\"id\":\"20297\",\"type\":\"Spacer\"},{\"attributes\":{\"source\":{\"id\":\"20153\"}},\"id\":\"20160\",\"type\":\"CDSView\"},{\"attributes\":{\"text\":{\"field\":\"Rank\"},\"text_align\":{\"value\":\"center\"},\"text_alpha\":{\"value\":0.1},\"text_baseline\":{\"value\":\"middle\"},\"text_color\":{\"value\":\"black\"},\"x\":{\"field\":\"State\"},\"y\":{\"field\":\"Spending_per_pupil\",\"transform\":{\"id\":\"20162\"}}},\"id\":\"20167\",\"type\":\"Text\"},{\"attributes\":{\"factors\":[\"Utah\",\"Idaho\",\"Oklahoma\",\"Arizona\",\"Florida\",\"Mississippi\",\"Alabama\",\"Tennessee\",\"Nevada\",\"Indiana\",\"South Dakota\",\"North Carolina\",\"Arkansas\",\"Oregon\",\"New Mexico\",\"Michigan\",\"Georgia\",\"Kansas\",\"South Carolina\",\"Louisiana\",\"Kentucky\",\"Colorado\",\"Texas\",\"West Virginia\",\"Missouri\",\"Wisconsin\",\"Montana\",\"California\",\"Washington\",\"Ohio\",\"Nebraska\",\"Virginia\",\"Iowa\",\"Illinois\",\"Hawaii\",\"Minnesota\",\"Delaware\",\"Pennsylvania\",\"Maine\",\"North Dakota\",\"New Hampshire\",\"Alaska\",\"Rhode Island\",\"Maryland\",\"Wyoming\",\"Massachusetts\",\"Vermont\",\"New Jersey\",\"Connecticut\",\"New York\"],\"tags\":[[[\"State\",\"State\",null]]]},\"id\":\"20104\",\"type\":\"FactorRange\"},{\"attributes\":{\"data_source\":{\"id\":\"20153\"},\"glyph\":{\"id\":\"20156\"},\"hover_glyph\":null,\"muted_glyph\":{\"id\":\"20158\"},\"nonselection_glyph\":{\"id\":\"20157\"},\"selection_glyph\":{\"id\":\"20161\"},\"view\":{\"id\":\"20160\"}},\"id\":\"20159\",\"type\":\"GlyphRenderer\"},{\"attributes\":{},\"id\":\"20179\",\"type\":\"UnionRenderers\"},{\"attributes\":{\"axis_label\":\"State\",\"formatter\":{\"id\":\"20140\"},\"major_label_orientation\":0.7853981633974483,\"major_label_policy\":{\"id\":\"20139\"},\"ticker\":{\"id\":\"20118\"}},\"id\":\"20117\",\"type\":\"CategoricalAxis\"},{\"attributes\":{\"fill_color\":{\"value\":\"#fc4f30\"},\"top\":{\"field\":\"Total_Salaries_and_Wages\"},\"width\":{\"value\":0.8},\"x\":{\"field\":\"State\"}},\"id\":\"20156\",\"type\":\"VBar\"},{\"attributes\":{\"text\":{\"field\":\"Rank\"},\"text_align\":{\"value\":\"center\"},\"text_baseline\":{\"value\":\"middle\"},\"text_color\":{\"value\":\"black\"},\"x\":{\"field\":\"State\"},\"y\":{\"field\":\"Spending_per_pupil\",\"transform\":{\"id\":\"20162\"}}},\"id\":\"20166\",\"type\":\"Text\"},{\"attributes\":{},\"id\":\"20128\",\"type\":\"ResetTool\"},{\"attributes\":{},\"id\":\"20142\",\"type\":\"AllLabels\"},{\"attributes\":{},\"id\":\"20181\",\"type\":\"UnionRenderers\"},{\"attributes\":{},\"id\":\"20183\",\"type\":\"UnionRenderers\"},{\"attributes\":{},\"id\":\"20113\",\"type\":\"CategoricalScale\"},{\"attributes\":{},\"id\":\"20140\",\"type\":\"CategoricalTickFormatter\"},{\"attributes\":{\"below\":[{\"id\":\"20117\"}],\"center\":[{\"id\":\"20119\"},{\"id\":\"20123\"}],\"height\":500,\"left\":[{\"id\":\"20120\"}],\"margin\":[5,5,5,5],\"min_border_bottom\":10,\"min_border_left\":10,\"min_border_right\":10,\"min_border_top\":10,\"renderers\":[{\"id\":\"20150\"},{\"id\":\"20159\"},{\"id\":\"20168\"}],\"sizing_mode\":\"fixed\",\"title\":{\"id\":\"20109\"},\"toolbar\":{\"id\":\"20130\"},\"width\":1000,\"x_range\":{\"id\":\"20104\"},\"x_scale\":{\"id\":\"20113\"},\"y_range\":{\"id\":\"20105\"},\"y_scale\":{\"id\":\"20115\"}},\"id\":\"20108\",\"subtype\":\"Figure\",\"type\":\"Plot\"},{\"attributes\":{\"source\":{\"id\":\"20144\"}},\"id\":\"20151\",\"type\":\"CDSView\"},{\"attributes\":{},\"id\":\"20115\",\"type\":\"LinearScale\"},{\"attributes\":{\"source\":{\"id\":\"20163\"}},\"id\":\"20169\",\"type\":\"CDSView\"},{\"attributes\":{\"data\":{\"State\":[\"Utah\",\"Idaho\",\"Oklahoma\",\"Arizona\",\"Florida\",\"Mississippi\",\"Alabama\",\"Tennessee\",\"Nevada\",\"Indiana\",\"South Dakota\",\"North Carolina\",\"Arkansas\",\"Oregon\",\"New Mexico\",\"Michigan\",\"Georgia\",\"Kansas\",\"South Carolina\",\"Louisiana\",\"Kentucky\",\"Colorado\",\"Texas\",\"West Virginia\",\"Missouri\",\"Wisconsin\",\"Montana\",\"California\",\"Washington\",\"Ohio\",\"Nebraska\",\"Virginia\",\"Iowa\",\"Illinois\",\"Hawaii\",\"Minnesota\",\"Delaware\",\"Pennsylvania\",\"Maine\",\"North Dakota\",\"New Hampshire\",\"Alaska\",\"Rhode Island\",\"Maryland\",\"Wyoming\",\"Massachusetts\",\"Vermont\",\"New Jersey\",\"Connecticut\",\"New York\"],\"Total_Salaries_and_Wages\":[3992,4268,4490,4538,5065,5151,5156,5313,5324,5434,5456,5571,5742,5746,5754,5763,5882,5883,5909,5981,5998,6004,6273,6291,6436,6476,6571,6668,6857,6986,7103,7121,7122,7251,7587,7701,7887,7890,8009,8037,8308,8330,9096,9551,9622,9857,10143,10492,10615,12303]},\"selected\":{\"id\":\"20154\"},\"selection_policy\":{\"id\":\"20181\"}},\"id\":\"20153\",\"type\":\"ColumnDataSource\"},{\"attributes\":{},\"id\":\"20118\",\"type\":\"CategoricalTicker\"},{\"attributes\":{\"fill_alpha\":{\"value\":0.2},\"fill_color\":{\"value\":\"#30a2da\"},\"line_alpha\":{\"value\":0.2},\"top\":{\"field\":\"Spending_per_pupil\"},\"width\":{\"value\":0.8},\"x\":{\"field\":\"State\"}},\"id\":\"20149\",\"type\":\"VBar\"},{\"attributes\":{},\"id\":\"20154\",\"type\":\"Selection\"},{\"attributes\":{\"axis_label\":\"USD\",\"formatter\":{\"id\":\"20143\"},\"major_label_policy\":{\"id\":\"20142\"},\"ticker\":{\"id\":\"20121\"}},\"id\":\"20120\",\"type\":\"LinearAxis\"},{\"attributes\":{\"children\":[{\"id\":\"20103\"},{\"id\":\"20108\"},{\"id\":\"20297\"}],\"margin\":[0,0,0,0],\"name\":\"Row39528\",\"tags\":[\"embedded\"]},\"id\":\"20102\",\"type\":\"Row\"},{\"attributes\":{\"bottom\":{\"value\":0},\"fill_alpha\":{\"value\":1.0},\"fill_color\":{\"value\":\"#30a2da\"},\"hatch_alpha\":{\"value\":1.0},\"hatch_color\":{\"value\":\"black\"},\"hatch_scale\":{\"value\":12.0},\"hatch_weight\":{\"value\":1.0},\"line_alpha\":{\"value\":1.0},\"line_cap\":{\"value\":\"butt\"},\"line_color\":{\"value\":\"black\"},\"line_dash\":{\"value\":[]},\"line_dash_offset\":{\"value\":0},\"line_join\":{\"value\":\"bevel\"},\"line_width\":{\"value\":1},\"top\":{\"field\":\"Spending_per_pupil\"},\"width\":{\"value\":0.8},\"x\":{\"field\":\"State\"}},\"id\":\"20152\",\"type\":\"VBar\"},{\"attributes\":{\"margin\":[5,5,5,5],\"name\":\"HSpacer39532\",\"sizing_mode\":\"stretch_width\"},\"id\":\"20103\",\"type\":\"Spacer\"},{\"attributes\":{\"axis\":{\"id\":\"20120\"},\"dimension\":1,\"grid_line_color\":null,\"ticker\":null},\"id\":\"20123\",\"type\":\"Grid\"},{\"attributes\":{\"active_multi\":null,\"tools\":[{\"id\":\"20106\"},{\"id\":\"20107\"},{\"id\":\"20124\"},{\"id\":\"20125\"},{\"id\":\"20126\"},{\"id\":\"20127\"},{\"id\":\"20128\"}]},\"id\":\"20130\",\"type\":\"Toolbar\"},{\"attributes\":{\"data_source\":{\"id\":\"20144\"},\"glyph\":{\"id\":\"20147\"},\"hover_glyph\":null,\"muted_glyph\":{\"id\":\"20149\"},\"nonselection_glyph\":{\"id\":\"20148\"},\"selection_glyph\":{\"id\":\"20152\"},\"view\":{\"id\":\"20151\"}},\"id\":\"20150\",\"type\":\"GlyphRenderer\"},{\"attributes\":{\"data\":{\"Spending_per_pupil\":[7954,8141,9353,8882,10098,8919,9636,8324,10305,12360,9913,10613,9976,10862,11266,11987,10893,11939,10719,11967,10010,10171,10314,10984,10457,12435,11266,11588,11510,12811,11796,12146,11337,12457,14987,12664,14335,15023,13666,11664,13725,16576,15312,15574,19238,16270,17108,18874,17373,20645],\"State\":[\"Utah\",\"Idaho\",\"Oklahoma\",\"Arizona\",\"Florida\",\"Mississippi\",\"Alabama\",\"Tennessee\",\"Nevada\",\"Indiana\",\"South Dakota\",\"North Carolina\",\"Arkansas\",\"Oregon\",\"New Mexico\",\"Michigan\",\"Georgia\",\"Kansas\",\"South Carolina\",\"Louisiana\",\"Kentucky\",\"Colorado\",\"Texas\",\"West Virginia\",\"Missouri\",\"Wisconsin\",\"Montana\",\"California\",\"Washington\",\"Ohio\",\"Nebraska\",\"Virginia\",\"Iowa\",\"Illinois\",\"Hawaii\",\"Minnesota\",\"Delaware\",\"Pennsylvania\",\"Maine\",\"North Dakota\",\"New Hampshire\",\"Alaska\",\"Rhode Island\",\"Maryland\",\"Wyoming\",\"Massachusetts\",\"Vermont\",\"New Jersey\",\"Connecticut\",\"New York\"]},\"selected\":{\"id\":\"20145\"},\"selection_policy\":{\"id\":\"20179\"}},\"id\":\"20144\",\"type\":\"ColumnDataSource\"},{\"attributes\":{\"data\":{\"Rank\":[\"45\",\"49\",\"47\",\"38\",\"40\",\"7\",\"3\",\"22\",\"16\",\"30\",\"28\",\"23\",\"6\",\"9\",\"24\",\"27\",\"33\",\"46\",\"12\",\"14\",\"2\",\"32\",\"18\",\"43\",\"26\",\"36\",\"13\",\"48\",\"4\",\"1\",\"50\",\"19\",\"15\",\"34\",\"20\",\"44\",\"37\",\"17\",\"25\",\"42\",\"29\",\"31\",\"35\",\"21\",\"5\",\"10\",\"11\",\"41\",\"8\",\"39\"],\"Spending_per_pupil\":[9636,16576,8882,9976,11588,10171,17373,14335,10098,10893,14987,8141,12457,12360,11337,11939,10010,11967,13666,15574,16270,11987,12664,8919,10457,11266,11796,10305,13725,18874,11266,20645,10613,11664,12811,9353,10862,15023,15312,10719,9913,8324,10314,7954,17108,12146,11510,10984,12435,19238],\"State\":[\"Alabama\",\"Alaska\",\"Arizona\",\"Arkansas\",\"California\",\"Colorado\",\"Connecticut\",\"Delaware\",\"Florida\",\"Georgia\",\"Hawaii\",\"Idaho\",\"Illinois\",\"Indiana\",\"Iowa\",\"Kansas\",\"Kentucky\",\"Louisiana\",\"Maine\",\"Maryland\",\"Massachusetts\",\"Michigan\",\"Minnesota\",\"Mississippi\",\"Missouri\",\"Montana\",\"Nebraska\",\"Nevada\",\"New Hampshire\",\"New Jersey\",\"New Mexico\",\"New York\",\"North Carolina\",\"North Dakota\",\"Ohio\",\"Oklahoma\",\"Oregon\",\"Pennsylvania\",\"Rhode Island\",\"South Carolina\",\"South Dakota\",\"Tennessee\",\"Texas\",\"Utah\",\"Vermont\",\"Virginia\",\"Washington\",\"West Virginia\",\"Wisconsin\",\"Wyoming\"]},\"selected\":{\"id\":\"20164\"},\"selection_policy\":{\"id\":\"20183\"}},\"id\":\"20163\",\"type\":\"ColumnDataSource\"},{\"attributes\":{},\"id\":\"20145\",\"type\":\"Selection\"},{\"attributes\":{},\"id\":\"20139\",\"type\":\"AllLabels\"},{\"attributes\":{\"fill_alpha\":{\"value\":0.1},\"fill_color\":{\"value\":\"#30a2da\"},\"line_alpha\":{\"value\":0.1},\"top\":{\"field\":\"Spending_per_pupil\"},\"width\":{\"value\":0.8},\"x\":{\"field\":\"State\"}},\"id\":\"20148\",\"type\":\"VBar\"},{\"attributes\":{\"fill_alpha\":{\"value\":0.2},\"fill_color\":{\"value\":\"#fc4f30\"},\"line_alpha\":{\"value\":0.2},\"top\":{\"field\":\"Total_Salaries_and_Wages\"},\"width\":{\"value\":0.8},\"x\":{\"field\":\"State\"}},\"id\":\"20158\",\"type\":\"VBar\"},{\"attributes\":{\"bottom_units\":\"screen\",\"fill_alpha\":0.5,\"fill_color\":\"lightgrey\",\"left_units\":\"screen\",\"level\":\"overlay\",\"line_alpha\":1.0,\"line_color\":\"black\",\"line_dash\":[4,4],\"line_width\":2,\"right_units\":\"screen\",\"syncable\":false,\"top_units\":\"screen\"},\"id\":\"20129\",\"type\":\"BoxAnnotation\"},{\"attributes\":{\"callback\":null,\"renderers\":[{\"id\":\"20159\"}],\"tags\":[\"hv_created\"],\"tooltips\":[[\"State\",\"@{State}\"],[\"Total Salaries and Wages\",\"@{Total_Salaries_and_Wages}\"]]},\"id\":\"20107\",\"type\":\"HoverTool\"},{\"attributes\":{},\"id\":\"20164\",\"type\":\"Selection\"},{\"attributes\":{\"callback\":null,\"renderers\":[{\"id\":\"20150\"}],\"tags\":[\"hv_created\"],\"tooltips\":[[\"State\",\"@{State}\"],[\"Spending per pupil\",\"@{Spending_per_pupil}\"]]},\"id\":\"20106\",\"type\":\"HoverTool\"},{\"attributes\":{\"range\":null,\"value\":500},\"id\":\"20162\",\"type\":\"Dodge\"},{\"attributes\":{\"axis\":{\"id\":\"20117\"},\"grid_line_color\":null,\"ticker\":null},\"id\":\"20119\",\"type\":\"Grid\"},{\"attributes\":{},\"id\":\"20143\",\"type\":\"BasicTickFormatter\"},{\"attributes\":{\"end\":22310.3,\"reset_end\":22310.3,\"reset_start\":0.0,\"tags\":[[[\"Spending per pupil\",\"Spending per pupil\",null]]]},\"id\":\"20105\",\"type\":\"Range1d\"},{\"attributes\":{\"text\":\"Spending per Student, Total vs Spent on Salaries/Wages; Sorted by Salaries/Wages\",\"text_color\":\"black\",\"text_font_size\":\"12pt\"},\"id\":\"20109\",\"type\":\"Title\"}],\"root_ids\":[\"20102\"]},\"title\":\"Bokeh Application\",\"version\":\"2.3.2\"}};\n",
       "    var render_items = [{\"docid\":\"b9483968-a086-45d1-a4f3-30973168d8d3\",\"root_ids\":[\"20102\"],\"roots\":{\"20102\":\"2ae70448-268f-4d7f-9ad8-00530f7a29d0\"}}];\n",
       "    root.Bokeh.embed.embed_items_notebook(docs_json, render_items);\n",
       "  }\n",
       "  if (root.Bokeh !== undefined && root.Bokeh.Panel !== undefined) {\n",
       "    embed_document(root);\n",
       "  } else {\n",
       "    var attempts = 0;\n",
       "    var timer = setInterval(function(root) {\n",
       "      if (root.Bokeh !== undefined && root.Bokeh.Panel !== undefined) {\n",
       "        clearInterval(timer);\n",
       "        embed_document(root);\n",
       "      } else if (document.readyState == \"complete\") {\n",
       "        attempts++;\n",
       "        if (attempts > 200) {\n",
       "          clearInterval(timer);\n",
       "          console.log(\"Bokeh: ERROR: Unable to run BokehJS code because BokehJS library is missing\");\n",
       "        }\n",
       "      }\n",
       "    }, 25, root)\n",
       "  }\n",
       "})(window);</script>"
      ],
      "text/plain": [
       ":Overlay\n",
       "   .Bars.I   :Bars   [State]   (Spending per pupil)\n",
       "   .Bars.II  :Bars   [State]   (Total Salaries and Wages)\n",
       "   .Labels.I :Labels   [State,Spending per pupil]   (Rank)"
      ]
     },
     "execution_count": 359,
     "metadata": {
      "application/vnd.holoviews_exec.v0+json": {
       "id": "20102"
      }
     },
     "output_type": "execute_result"
    }
   ],
   "source": [
    "#creates labels for the ranks of each state's schools\n",
    "\n",
    "labels = hv.Labels(data=full_df, kdims=['State', 'Spending per pupil'], vdims='Rank').opts(yoffset=500)\n",
    "\n",
    "#creates overlayed bar charts to see how much of each states spending-per-student\n",
    "#goes towards teacher salaries\n",
    "#sorts the bars by least to greatest of teacher pay-per-student\n",
    "salaries_vs_sort = full_df.sort_values('Total Salaries and Wages', ascending=True).hvplot.bar(\n",
    "    x='State',\n",
    "    y='Total Salaries and Wages',\n",
    "    rot=45,\n",
    "    xlabel='State',\n",
    "    ylabel='USD',\n",
    "    value_label='Rank',\n",
    "    width=1000,\n",
    "    height=500,\n",
    "    )\n",
    "spending_vs_sort = full_df.sort_values('Total Salaries and Wages',ascending = True).hvplot.bar(\n",
    "    x='State',\n",
    "    y='Spending per pupil',\n",
    "    value_label='Rank',\n",
    "    rot=45,\n",
    "    width=1000,\n",
    "    height=500,\n",
    "    title='Spending per Student, Total vs Spent on Salaries/Wages; Sorted by Salaries/Wages')\n",
    "spending_vs_sort * salaries_vs_sort * labels"
   ]
  },
  {
   "cell_type": "code",
   "execution_count": 432,
   "id": "5d519a34-a22a-4996-951b-efd07c34502a",
   "metadata": {},
   "outputs": [
    {
     "data": {
      "text/html": [
       "<div>\n",
       "<style scoped>\n",
       "    .dataframe tbody tr th:only-of-type {\n",
       "        vertical-align: middle;\n",
       "    }\n",
       "\n",
       "    .dataframe tbody tr th {\n",
       "        vertical-align: top;\n",
       "    }\n",
       "\n",
       "    .dataframe thead th {\n",
       "        text-align: right;\n",
       "    }\n",
       "</style>\n",
       "<table border=\"1\" class=\"dataframe\">\n",
       "  <thead>\n",
       "    <tr style=\"text-align: right;\">\n",
       "      <th></th>\n",
       "      <th>Rankfor SAT</th>\n",
       "      <th>State</th>\n",
       "      <th>Average SAT Score Adjusted</th>\n",
       "      <th>Average New SAT Score Adjusted</th>\n",
       "      <th>Raw Average SAT Score</th>\n",
       "      <th>Participation Rate</th>\n",
       "    </tr>\n",
       "  </thead>\n",
       "  <tbody>\n",
       "    <tr>\n",
       "      <th>48</th>\n",
       "      <td>50</td>\n",
       "      <td>Alabama</td>\n",
       "      <td>1496</td>\n",
       "      <td>998</td>\n",
       "      <td>1617</td>\n",
       "      <td>7.00%</td>\n",
       "    </tr>\n",
       "    <tr>\n",
       "      <th>38</th>\n",
       "      <td>39</td>\n",
       "      <td>Alaska</td>\n",
       "      <td>1555</td>\n",
       "      <td>1037</td>\n",
       "      <td>1485</td>\n",
       "      <td>54.00%</td>\n",
       "    </tr>\n",
       "    <tr>\n",
       "      <th>33</th>\n",
       "      <td>34</td>\n",
       "      <td>Arizona</td>\n",
       "      <td>1568</td>\n",
       "      <td>1045</td>\n",
       "      <td>1547</td>\n",
       "      <td>36.00%</td>\n",
       "    </tr>\n",
       "    <tr>\n",
       "      <th>40</th>\n",
       "      <td>41</td>\n",
       "      <td>Arkansas</td>\n",
       "      <td>1551</td>\n",
       "      <td>1034</td>\n",
       "      <td>1698</td>\n",
       "      <td>4.00%</td>\n",
       "    </tr>\n",
       "    <tr>\n",
       "      <th>31</th>\n",
       "      <td>32</td>\n",
       "      <td>California</td>\n",
       "      <td>1579</td>\n",
       "      <td>1053</td>\n",
       "      <td>1504</td>\n",
       "      <td>60.00%</td>\n",
       "    </tr>\n",
       "  </tbody>\n",
       "</table>\n",
       "</div>"
      ],
      "text/plain": [
       "    Rankfor SAT       State  Average SAT Score Adjusted  \\\n",
       "48           50     Alabama                        1496   \n",
       "38           39      Alaska                        1555   \n",
       "33           34     Arizona                        1568   \n",
       "40           41    Arkansas                        1551   \n",
       "31           32  California                        1579   \n",
       "\n",
       "    Average New SAT Score Adjusted  Raw Average SAT Score Participation Rate  \n",
       "48                             998                   1617              7.00%  \n",
       "38                            1037                   1485             54.00%  \n",
       "33                            1045                   1547             36.00%  \n",
       "40                            1034                   1698              4.00%  \n",
       "31                            1053                   1504             60.00%  "
      ]
     },
     "execution_count": 432,
     "metadata": {},
     "output_type": "execute_result"
    }
   ],
   "source": [
    "#reads in avg SAT score by state data \n",
    "#sorts it alphabetically by state b/c data came ranked\n",
    "#by which state had the best scores\n",
    "sat_data= pd.read_csv(\n",
    "    Path(\"../uncc_project1/other_datasets/SAT_data.csv\"))\n",
    "sat_data_sorted= sat_data.sort_values('State')\n",
    "sat_data_sorted.head()"
   ]
  },
  {
   "cell_type": "code",
   "execution_count": 434,
   "id": "179aa4dd-4f78-453f-8f90-3e25b2d4bdc0",
   "metadata": {},
   "outputs": [
    {
     "data": {
      "application/vnd.plotly.v1+json": {
       "config": {
        "plotlyServerURL": "https://plot.ly"
       },
       "data": [
        {
         "coloraxis": "coloraxis",
         "geo": "geo",
         "hovertemplate": "<b>%{hovertext}</b><br><br>Code=%{location}<br>color=%{z}<extra></extra>",
         "hovertext": [
          "Massachusetts",
          "Connecticut",
          "Minnesota",
          "New Jersey",
          "Illinois",
          "New Hampshire",
          "North Dakota",
          "Virginia",
          "South Dakota",
          "Iowa",
          "Wisconsin",
          "Vermont",
          "Colorado",
          "Missouri",
          "Michigan",
          "Kansas",
          "Georgia",
          "Indiana",
          "Florida",
          "Nebraska",
          "Wyoming",
          "Kentucky",
          "New York",
          "North Carolina",
          "Oregon",
          "Maryland",
          "Washington",
          "Idaho",
          "South Carolina",
          "Hawaii",
          "Tennessee",
          "California",
          "Ohio",
          "Arizona",
          "Pennsylvania",
          "Oklahoma",
          "Rhode Island",
          "Montana",
          "Alaska",
          "Mississippi",
          "Arkansas",
          "Utah",
          "Texas",
          "Nevada",
          "New Mexico",
          "Delaware",
          "Louisiana",
          "Maine",
          "Alabama",
          "West Virginia"
         ],
         "locationmode": "USA-states",
         "locations": [
          "MA",
          "CT",
          "MN",
          "NJ",
          "IL",
          "NH",
          "ND",
          "VA",
          "SD",
          "IA",
          "WI",
          "VT",
          "CO",
          "MO",
          "MI",
          "KS",
          "GA",
          "IN",
          "FL",
          "NE",
          "WY",
          "KY",
          "NY",
          "NC",
          "OR",
          "MD",
          "WA",
          "ID",
          "SC",
          "HI",
          "TN",
          "CA",
          "OH",
          "AZ",
          "PA",
          "OK",
          "RI",
          "MT",
          "AK",
          "MS",
          "AR",
          "UT",
          "TX",
          "NV",
          "NM",
          "DE",
          "LA",
          "ME",
          "AL",
          "WV"
         ],
         "name": "",
         "type": "choropleth",
         "z": [
          1694,
          1690,
          1660,
          1655,
          1652,
          1651,
          1649,
          1648,
          1648,
          1648,
          1644,
          1640,
          1635,
          1633,
          1628,
          1621,
          1620,
          1612,
          1609,
          1604,
          1600,
          1596,
          1593,
          1592,
          1587,
          1586,
          1585,
          1585,
          1584,
          1584,
          1581,
          1579,
          1577,
          1568,
          1567,
          1565,
          1563,
          1558,
          1555,
          1552,
          1551,
          1540,
          1539,
          1526,
          1524,
          1522,
          1517,
          1511,
          1496,
          1444
         ]
        }
       ],
       "layout": {
        "coloraxis": {
         "colorbar": {
          "title": {
           "text": "color"
          }
         },
         "colorscale": [
          [
           0,
           "rgb(94,79,162)"
          ],
          [
           0.1,
           "rgb(50,136,189)"
          ],
          [
           0.2,
           "rgb(102,194,165)"
          ],
          [
           0.3,
           "rgb(171,221,164)"
          ],
          [
           0.4,
           "rgb(230,245,152)"
          ],
          [
           0.5,
           "rgb(255,255,191)"
          ],
          [
           0.6,
           "rgb(254,224,139)"
          ],
          [
           0.7,
           "rgb(253,174,97)"
          ],
          [
           0.8,
           "rgb(244,109,67)"
          ],
          [
           0.9,
           "rgb(213,62,79)"
          ],
          [
           1,
           "rgb(158,1,66)"
          ]
         ]
        },
        "geo": {
         "center": {
          "lat": 33.95993231650847,
          "lon": -109.01958849877309
         },
         "domain": {
          "x": [
           0,
           1
          ],
          "y": [
           0,
           1
          ]
         },
         "projection": {
          "scale": 0.7152547543152378
         },
         "scope": "usa"
        },
        "height": 500,
        "legend": {
         "tracegroupgap": 0
        },
        "template": {
         "data": {
          "bar": [
           {
            "error_x": {
             "color": "#2a3f5f"
            },
            "error_y": {
             "color": "#2a3f5f"
            },
            "marker": {
             "line": {
              "color": "#E5ECF6",
              "width": 0.5
             },
             "pattern": {
              "fillmode": "overlay",
              "size": 10,
              "solidity": 0.2
             }
            },
            "type": "bar"
           }
          ],
          "barpolar": [
           {
            "marker": {
             "line": {
              "color": "#E5ECF6",
              "width": 0.5
             },
             "pattern": {
              "fillmode": "overlay",
              "size": 10,
              "solidity": 0.2
             }
            },
            "type": "barpolar"
           }
          ],
          "carpet": [
           {
            "aaxis": {
             "endlinecolor": "#2a3f5f",
             "gridcolor": "white",
             "linecolor": "white",
             "minorgridcolor": "white",
             "startlinecolor": "#2a3f5f"
            },
            "baxis": {
             "endlinecolor": "#2a3f5f",
             "gridcolor": "white",
             "linecolor": "white",
             "minorgridcolor": "white",
             "startlinecolor": "#2a3f5f"
            },
            "type": "carpet"
           }
          ],
          "choropleth": [
           {
            "colorbar": {
             "outlinewidth": 0,
             "ticks": ""
            },
            "type": "choropleth"
           }
          ],
          "contour": [
           {
            "colorbar": {
             "outlinewidth": 0,
             "ticks": ""
            },
            "colorscale": [
             [
              0,
              "#0d0887"
             ],
             [
              0.1111111111111111,
              "#46039f"
             ],
             [
              0.2222222222222222,
              "#7201a8"
             ],
             [
              0.3333333333333333,
              "#9c179e"
             ],
             [
              0.4444444444444444,
              "#bd3786"
             ],
             [
              0.5555555555555556,
              "#d8576b"
             ],
             [
              0.6666666666666666,
              "#ed7953"
             ],
             [
              0.7777777777777778,
              "#fb9f3a"
             ],
             [
              0.8888888888888888,
              "#fdca26"
             ],
             [
              1,
              "#f0f921"
             ]
            ],
            "type": "contour"
           }
          ],
          "contourcarpet": [
           {
            "colorbar": {
             "outlinewidth": 0,
             "ticks": ""
            },
            "type": "contourcarpet"
           }
          ],
          "heatmap": [
           {
            "colorbar": {
             "outlinewidth": 0,
             "ticks": ""
            },
            "colorscale": [
             [
              0,
              "#0d0887"
             ],
             [
              0.1111111111111111,
              "#46039f"
             ],
             [
              0.2222222222222222,
              "#7201a8"
             ],
             [
              0.3333333333333333,
              "#9c179e"
             ],
             [
              0.4444444444444444,
              "#bd3786"
             ],
             [
              0.5555555555555556,
              "#d8576b"
             ],
             [
              0.6666666666666666,
              "#ed7953"
             ],
             [
              0.7777777777777778,
              "#fb9f3a"
             ],
             [
              0.8888888888888888,
              "#fdca26"
             ],
             [
              1,
              "#f0f921"
             ]
            ],
            "type": "heatmap"
           }
          ],
          "heatmapgl": [
           {
            "colorbar": {
             "outlinewidth": 0,
             "ticks": ""
            },
            "colorscale": [
             [
              0,
              "#0d0887"
             ],
             [
              0.1111111111111111,
              "#46039f"
             ],
             [
              0.2222222222222222,
              "#7201a8"
             ],
             [
              0.3333333333333333,
              "#9c179e"
             ],
             [
              0.4444444444444444,
              "#bd3786"
             ],
             [
              0.5555555555555556,
              "#d8576b"
             ],
             [
              0.6666666666666666,
              "#ed7953"
             ],
             [
              0.7777777777777778,
              "#fb9f3a"
             ],
             [
              0.8888888888888888,
              "#fdca26"
             ],
             [
              1,
              "#f0f921"
             ]
            ],
            "type": "heatmapgl"
           }
          ],
          "histogram": [
           {
            "marker": {
             "pattern": {
              "fillmode": "overlay",
              "size": 10,
              "solidity": 0.2
             }
            },
            "type": "histogram"
           }
          ],
          "histogram2d": [
           {
            "colorbar": {
             "outlinewidth": 0,
             "ticks": ""
            },
            "colorscale": [
             [
              0,
              "#0d0887"
             ],
             [
              0.1111111111111111,
              "#46039f"
             ],
             [
              0.2222222222222222,
              "#7201a8"
             ],
             [
              0.3333333333333333,
              "#9c179e"
             ],
             [
              0.4444444444444444,
              "#bd3786"
             ],
             [
              0.5555555555555556,
              "#d8576b"
             ],
             [
              0.6666666666666666,
              "#ed7953"
             ],
             [
              0.7777777777777778,
              "#fb9f3a"
             ],
             [
              0.8888888888888888,
              "#fdca26"
             ],
             [
              1,
              "#f0f921"
             ]
            ],
            "type": "histogram2d"
           }
          ],
          "histogram2dcontour": [
           {
            "colorbar": {
             "outlinewidth": 0,
             "ticks": ""
            },
            "colorscale": [
             [
              0,
              "#0d0887"
             ],
             [
              0.1111111111111111,
              "#46039f"
             ],
             [
              0.2222222222222222,
              "#7201a8"
             ],
             [
              0.3333333333333333,
              "#9c179e"
             ],
             [
              0.4444444444444444,
              "#bd3786"
             ],
             [
              0.5555555555555556,
              "#d8576b"
             ],
             [
              0.6666666666666666,
              "#ed7953"
             ],
             [
              0.7777777777777778,
              "#fb9f3a"
             ],
             [
              0.8888888888888888,
              "#fdca26"
             ],
             [
              1,
              "#f0f921"
             ]
            ],
            "type": "histogram2dcontour"
           }
          ],
          "mesh3d": [
           {
            "colorbar": {
             "outlinewidth": 0,
             "ticks": ""
            },
            "type": "mesh3d"
           }
          ],
          "parcoords": [
           {
            "line": {
             "colorbar": {
              "outlinewidth": 0,
              "ticks": ""
             }
            },
            "type": "parcoords"
           }
          ],
          "pie": [
           {
            "automargin": true,
            "type": "pie"
           }
          ],
          "scatter": [
           {
            "marker": {
             "colorbar": {
              "outlinewidth": 0,
              "ticks": ""
             }
            },
            "type": "scatter"
           }
          ],
          "scatter3d": [
           {
            "line": {
             "colorbar": {
              "outlinewidth": 0,
              "ticks": ""
             }
            },
            "marker": {
             "colorbar": {
              "outlinewidth": 0,
              "ticks": ""
             }
            },
            "type": "scatter3d"
           }
          ],
          "scattercarpet": [
           {
            "marker": {
             "colorbar": {
              "outlinewidth": 0,
              "ticks": ""
             }
            },
            "type": "scattercarpet"
           }
          ],
          "scattergeo": [
           {
            "marker": {
             "colorbar": {
              "outlinewidth": 0,
              "ticks": ""
             }
            },
            "type": "scattergeo"
           }
          ],
          "scattergl": [
           {
            "marker": {
             "colorbar": {
              "outlinewidth": 0,
              "ticks": ""
             }
            },
            "type": "scattergl"
           }
          ],
          "scattermapbox": [
           {
            "marker": {
             "colorbar": {
              "outlinewidth": 0,
              "ticks": ""
             }
            },
            "type": "scattermapbox"
           }
          ],
          "scatterpolar": [
           {
            "marker": {
             "colorbar": {
              "outlinewidth": 0,
              "ticks": ""
             }
            },
            "type": "scatterpolar"
           }
          ],
          "scatterpolargl": [
           {
            "marker": {
             "colorbar": {
              "outlinewidth": 0,
              "ticks": ""
             }
            },
            "type": "scatterpolargl"
           }
          ],
          "scatterternary": [
           {
            "marker": {
             "colorbar": {
              "outlinewidth": 0,
              "ticks": ""
             }
            },
            "type": "scatterternary"
           }
          ],
          "surface": [
           {
            "colorbar": {
             "outlinewidth": 0,
             "ticks": ""
            },
            "colorscale": [
             [
              0,
              "#0d0887"
             ],
             [
              0.1111111111111111,
              "#46039f"
             ],
             [
              0.2222222222222222,
              "#7201a8"
             ],
             [
              0.3333333333333333,
              "#9c179e"
             ],
             [
              0.4444444444444444,
              "#bd3786"
             ],
             [
              0.5555555555555556,
              "#d8576b"
             ],
             [
              0.6666666666666666,
              "#ed7953"
             ],
             [
              0.7777777777777778,
              "#fb9f3a"
             ],
             [
              0.8888888888888888,
              "#fdca26"
             ],
             [
              1,
              "#f0f921"
             ]
            ],
            "type": "surface"
           }
          ],
          "table": [
           {
            "cells": {
             "fill": {
              "color": "#EBF0F8"
             },
             "line": {
              "color": "white"
             }
            },
            "header": {
             "fill": {
              "color": "#C8D4E3"
             },
             "line": {
              "color": "white"
             }
            },
            "type": "table"
           }
          ]
         },
         "layout": {
          "annotationdefaults": {
           "arrowcolor": "#2a3f5f",
           "arrowhead": 0,
           "arrowwidth": 1
          },
          "autotypenumbers": "strict",
          "coloraxis": {
           "colorbar": {
            "outlinewidth": 0,
            "ticks": ""
           }
          },
          "colorscale": {
           "diverging": [
            [
             0,
             "#8e0152"
            ],
            [
             0.1,
             "#c51b7d"
            ],
            [
             0.2,
             "#de77ae"
            ],
            [
             0.3,
             "#f1b6da"
            ],
            [
             0.4,
             "#fde0ef"
            ],
            [
             0.5,
             "#f7f7f7"
            ],
            [
             0.6,
             "#e6f5d0"
            ],
            [
             0.7,
             "#b8e186"
            ],
            [
             0.8,
             "#7fbc41"
            ],
            [
             0.9,
             "#4d9221"
            ],
            [
             1,
             "#276419"
            ]
           ],
           "sequential": [
            [
             0,
             "#0d0887"
            ],
            [
             0.1111111111111111,
             "#46039f"
            ],
            [
             0.2222222222222222,
             "#7201a8"
            ],
            [
             0.3333333333333333,
             "#9c179e"
            ],
            [
             0.4444444444444444,
             "#bd3786"
            ],
            [
             0.5555555555555556,
             "#d8576b"
            ],
            [
             0.6666666666666666,
             "#ed7953"
            ],
            [
             0.7777777777777778,
             "#fb9f3a"
            ],
            [
             0.8888888888888888,
             "#fdca26"
            ],
            [
             1,
             "#f0f921"
            ]
           ],
           "sequentialminus": [
            [
             0,
             "#0d0887"
            ],
            [
             0.1111111111111111,
             "#46039f"
            ],
            [
             0.2222222222222222,
             "#7201a8"
            ],
            [
             0.3333333333333333,
             "#9c179e"
            ],
            [
             0.4444444444444444,
             "#bd3786"
            ],
            [
             0.5555555555555556,
             "#d8576b"
            ],
            [
             0.6666666666666666,
             "#ed7953"
            ],
            [
             0.7777777777777778,
             "#fb9f3a"
            ],
            [
             0.8888888888888888,
             "#fdca26"
            ],
            [
             1,
             "#f0f921"
            ]
           ]
          },
          "colorway": [
           "#636efa",
           "#EF553B",
           "#00cc96",
           "#ab63fa",
           "#FFA15A",
           "#19d3f3",
           "#FF6692",
           "#B6E880",
           "#FF97FF",
           "#FECB52"
          ],
          "font": {
           "color": "#2a3f5f"
          },
          "geo": {
           "bgcolor": "white",
           "lakecolor": "white",
           "landcolor": "#E5ECF6",
           "showlakes": true,
           "showland": true,
           "subunitcolor": "white"
          },
          "hoverlabel": {
           "align": "left"
          },
          "hovermode": "closest",
          "mapbox": {
           "style": "light"
          },
          "paper_bgcolor": "white",
          "plot_bgcolor": "#E5ECF6",
          "polar": {
           "angularaxis": {
            "gridcolor": "white",
            "linecolor": "white",
            "ticks": ""
           },
           "bgcolor": "#E5ECF6",
           "radialaxis": {
            "gridcolor": "white",
            "linecolor": "white",
            "ticks": ""
           }
          },
          "scene": {
           "xaxis": {
            "backgroundcolor": "#E5ECF6",
            "gridcolor": "white",
            "gridwidth": 2,
            "linecolor": "white",
            "showbackground": true,
            "ticks": "",
            "zerolinecolor": "white"
           },
           "yaxis": {
            "backgroundcolor": "#E5ECF6",
            "gridcolor": "white",
            "gridwidth": 2,
            "linecolor": "white",
            "showbackground": true,
            "ticks": "",
            "zerolinecolor": "white"
           },
           "zaxis": {
            "backgroundcolor": "#E5ECF6",
            "gridcolor": "white",
            "gridwidth": 2,
            "linecolor": "white",
            "showbackground": true,
            "ticks": "",
            "zerolinecolor": "white"
           }
          },
          "shapedefaults": {
           "line": {
            "color": "#2a3f5f"
           }
          },
          "ternary": {
           "aaxis": {
            "gridcolor": "white",
            "linecolor": "white",
            "ticks": ""
           },
           "baxis": {
            "gridcolor": "white",
            "linecolor": "white",
            "ticks": ""
           },
           "bgcolor": "#E5ECF6",
           "caxis": {
            "gridcolor": "white",
            "linecolor": "white",
            "ticks": ""
           }
          },
          "title": {
           "x": 0.05
          },
          "xaxis": {
           "automargin": true,
           "gridcolor": "white",
           "linecolor": "white",
           "ticks": "",
           "title": {
            "standoff": 15
           },
           "zerolinecolor": "white",
           "zerolinewidth": 2
          },
          "yaxis": {
           "automargin": true,
           "gridcolor": "white",
           "linecolor": "white",
           "ticks": "",
           "title": {
            "standoff": 15
           },
           "zerolinecolor": "white",
           "zerolinewidth": 2
          }
         }
        },
        "title": {
         "text": "Average Adjusted SAT Scores, 2016"
        },
        "width": 700
       }
      },
      "image/png": "[encoded data removed]",
      "text/html": [
       "<div>                            <div id=\"aca53814-f857-45a4-8b83-f87a14622e3b\" class=\"plotly-graph-div\" style=\"height:500px; width:700px;\"></div>            <script type=\"text/javascript\">                require([\"plotly\"], function(Plotly) {                    window.PLOTLYENV=window.PLOTLYENV || {};                                    if (document.getElementById(\"aca53814-f857-45a4-8b83-f87a14622e3b\")) {                    Plotly.newPlot(                        \"aca53814-f857-45a4-8b83-f87a14622e3b\",                        [{\"coloraxis\":\"coloraxis\",\"geo\":\"geo\",\"hovertemplate\":\"<b>%{hovertext}</b><br><br>Code=%{location}<br>color=%{z}<extra></extra>\",\"hovertext\":[\"Massachusetts\",\"Connecticut\",\"Minnesota\",\"New Jersey\",\"Illinois\",\"New Hampshire\",\"North Dakota\",\"Virginia\",\"South Dakota\",\"Iowa\",\"Wisconsin\",\"Vermont\",\"Colorado\",\"Missouri\",\"Michigan\",\"Kansas\",\"Georgia\",\"Indiana\",\"Florida\",\"Nebraska\",\"Wyoming\",\"Kentucky\",\"New York\",\"North Carolina\",\"Oregon\",\"Maryland\",\"Washington\",\"Idaho\",\"South Carolina\",\"Hawaii\",\"Tennessee\",\"California\",\"Ohio\",\"Arizona\",\"Pennsylvania\",\"Oklahoma\",\"Rhode Island\",\"Montana\",\"Alaska\",\"Mississippi\",\"Arkansas\",\"Utah\",\"Texas\",\"Nevada\",\"New Mexico\",\"Delaware\",\"Louisiana\",\"Maine\",\"Alabama\",\"West Virginia\"],\"locationmode\":\"USA-states\",\"locations\":[\"MA\",\"CT\",\"MN\",\"NJ\",\"IL\",\"NH\",\"ND\",\"VA\",\"SD\",\"IA\",\"WI\",\"VT\",\"CO\",\"MO\",\"MI\",\"KS\",\"GA\",\"IN\",\"FL\",\"NE\",\"WY\",\"KY\",\"NY\",\"NC\",\"OR\",\"MD\",\"WA\",\"ID\",\"SC\",\"HI\",\"TN\",\"CA\",\"OH\",\"AZ\",\"PA\",\"OK\",\"RI\",\"MT\",\"AK\",\"MS\",\"AR\",\"UT\",\"TX\",\"NV\",\"NM\",\"DE\",\"LA\",\"ME\",\"AL\",\"WV\"],\"name\":\"\",\"type\":\"choropleth\",\"z\":[1694.0,1690.0,1660.0,1655.0,1652.0,1651.0,1649.0,1648.0,1648.0,1648.0,1644.0,1640.0,1635.0,1633.0,1628.0,1621.0,1620.0,1612.0,1609.0,1604.0,1600.0,1596.0,1593.0,1592.0,1587.0,1586.0,1585.0,1585.0,1584.0,1584.0,1581.0,1579.0,1577.0,1568.0,1567.0,1565.0,1563.0,1558.0,1555.0,1552.0,1551.0,1540.0,1539.0,1526.0,1524.0,1522.0,1517.0,1511.0,1496.0,1444.0]}],                        {\"coloraxis\":{\"colorbar\":{\"title\":{\"text\":\"color\"}},\"colorscale\":[[0.0,\"rgb(94,79,162)\"],[0.1,\"rgb(50,136,189)\"],[0.2,\"rgb(102,194,165)\"],[0.3,\"rgb(171,221,164)\"],[0.4,\"rgb(230,245,152)\"],[0.5,\"rgb(255,255,191)\"],[0.6,\"rgb(254,224,139)\"],[0.7,\"rgb(253,174,97)\"],[0.8,\"rgb(244,109,67)\"],[0.9,\"rgb(213,62,79)\"],[1.0,\"rgb(158,1,66)\"]]},\"geo\":{\"center\":{},\"domain\":{\"x\":[0.0,1.0],\"y\":[0.0,1.0]},\"scope\":\"usa\"},\"height\":500,\"legend\":{\"tracegroupgap\":0},\"template\":{\"data\":{\"bar\":[{\"error_x\":{\"color\":\"#2a3f5f\"},\"error_y\":{\"color\":\"#2a3f5f\"},\"marker\":{\"line\":{\"color\":\"#E5ECF6\",\"width\":0.5},\"pattern\":{\"fillmode\":\"overlay\",\"size\":10,\"solidity\":0.2}},\"type\":\"bar\"}],\"barpolar\":[{\"marker\":{\"line\":{\"color\":\"#E5ECF6\",\"width\":0.5},\"pattern\":{\"fillmode\":\"overlay\",\"size\":10,\"solidity\":0.2}},\"type\":\"barpolar\"}],\"carpet\":[{\"aaxis\":{\"endlinecolor\":\"#2a3f5f\",\"gridcolor\":\"white\",\"linecolor\":\"white\",\"minorgridcolor\":\"white\",\"startlinecolor\":\"#2a3f5f\"},\"baxis\":{\"endlinecolor\":\"#2a3f5f\",\"gridcolor\":\"white\",\"linecolor\":\"white\",\"minorgridcolor\":\"white\",\"startlinecolor\":\"#2a3f5f\"},\"type\":\"carpet\"}],\"choropleth\":[{\"colorbar\":{\"outlinewidth\":0,\"ticks\":\"\"},\"type\":\"choropleth\"}],\"contour\":[{\"colorbar\":{\"outlinewidth\":0,\"ticks\":\"\"},\"colorscale\":[[0.0,\"#0d0887\"],[0.1111111111111111,\"#46039f\"],[0.2222222222222222,\"#7201a8\"],[0.3333333333333333,\"#9c179e\"],[0.4444444444444444,\"#bd3786\"],[0.5555555555555556,\"#d8576b\"],[0.6666666666666666,\"#ed7953\"],[0.7777777777777778,\"#fb9f3a\"],[0.8888888888888888,\"#fdca26\"],[1.0,\"#f0f921\"]],\"type\":\"contour\"}],\"contourcarpet\":[{\"colorbar\":{\"outlinewidth\":0,\"ticks\":\"\"},\"type\":\"contourcarpet\"}],\"heatmap\":[{\"colorbar\":{\"outlinewidth\":0,\"ticks\":\"\"},\"colorscale\":[[0.0,\"#0d0887\"],[0.1111111111111111,\"#46039f\"],[0.2222222222222222,\"#7201a8\"],[0.3333333333333333,\"#9c179e\"],[0.4444444444444444,\"#bd3786\"],[0.5555555555555556,\"#d8576b\"],[0.6666666666666666,\"#ed7953\"],[0.7777777777777778,\"#fb9f3a\"],[0.8888888888888888,\"#fdca26\"],[1.0,\"#f0f921\"]],\"type\":\"heatmap\"}],\"heatmapgl\":[{\"colorbar\":{\"outlinewidth\":0,\"ticks\":\"\"},\"colorscale\":[[0.0,\"#0d0887\"],[0.1111111111111111,\"#46039f\"],[0.2222222222222222,\"#7201a8\"],[0.3333333333333333,\"#9c179e\"],[0.4444444444444444,\"#bd3786\"],[0.5555555555555556,\"#d8576b\"],[0.6666666666666666,\"#ed7953\"],[0.7777777777777778,\"#fb9f3a\"],[0.8888888888888888,\"#fdca26\"],[1.0,\"#f0f921\"]],\"type\":\"heatmapgl\"}],\"histogram\":[{\"marker\":{\"pattern\":{\"fillmode\":\"overlay\",\"size\":10,\"solidity\":0.2}},\"type\":\"histogram\"}],\"histogram2d\":[{\"colorbar\":{\"outlinewidth\":0,\"ticks\":\"\"},\"colorscale\":[[0.0,\"#0d0887\"],[0.1111111111111111,\"#46039f\"],[0.2222222222222222,\"#7201a8\"],[0.3333333333333333,\"#9c179e\"],[0.4444444444444444,\"#bd3786\"],[0.5555555555555556,\"#d8576b\"],[0.6666666666666666,\"#ed7953\"],[0.7777777777777778,\"#fb9f3a\"],[0.8888888888888888,\"#fdca26\"],[1.0,\"#f0f921\"]],\"type\":\"histogram2d\"}],\"histogram2dcontour\":[{\"colorbar\":{\"outlinewidth\":0,\"ticks\":\"\"},\"colorscale\":[[0.0,\"#0d0887\"],[0.1111111111111111,\"#46039f\"],[0.2222222222222222,\"#7201a8\"],[0.3333333333333333,\"#9c179e\"],[0.4444444444444444,\"#bd3786\"],[0.5555555555555556,\"#d8576b\"],[0.6666666666666666,\"#ed7953\"],[0.7777777777777778,\"#fb9f3a\"],[0.8888888888888888,\"#fdca26\"],[1.0,\"#f0f921\"]],\"type\":\"histogram2dcontour\"}],\"mesh3d\":[{\"colorbar\":{\"outlinewidth\":0,\"ticks\":\"\"},\"type\":\"mesh3d\"}],\"parcoords\":[{\"line\":{\"colorbar\":{\"outlinewidth\":0,\"ticks\":\"\"}},\"type\":\"parcoords\"}],\"pie\":[{\"automargin\":true,\"type\":\"pie\"}],\"scatter\":[{\"marker\":{\"colorbar\":{\"outlinewidth\":0,\"ticks\":\"\"}},\"type\":\"scatter\"}],\"scatter3d\":[{\"line\":{\"colorbar\":{\"outlinewidth\":0,\"ticks\":\"\"}},\"marker\":{\"colorbar\":{\"outlinewidth\":0,\"ticks\":\"\"}},\"type\":\"scatter3d\"}],\"scattercarpet\":[{\"marker\":{\"colorbar\":{\"outlinewidth\":0,\"ticks\":\"\"}},\"type\":\"scattercarpet\"}],\"scattergeo\":[{\"marker\":{\"colorbar\":{\"outlinewidth\":0,\"ticks\":\"\"}},\"type\":\"scattergeo\"}],\"scattergl\":[{\"marker\":{\"colorbar\":{\"outlinewidth\":0,\"ticks\":\"\"}},\"type\":\"scattergl\"}],\"scattermapbox\":[{\"marker\":{\"colorbar\":{\"outlinewidth\":0,\"ticks\":\"\"}},\"type\":\"scattermapbox\"}],\"scatterpolar\":[{\"marker\":{\"colorbar\":{\"outlinewidth\":0,\"ticks\":\"\"}},\"type\":\"scatterpolar\"}],\"scatterpolargl\":[{\"marker\":{\"colorbar\":{\"outlinewidth\":0,\"ticks\":\"\"}},\"type\":\"scatterpolargl\"}],\"scatterternary\":[{\"marker\":{\"colorbar\":{\"outlinewidth\":0,\"ticks\":\"\"}},\"type\":\"scatterternary\"}],\"surface\":[{\"colorbar\":{\"outlinewidth\":0,\"ticks\":\"\"},\"colorscale\":[[0.0,\"#0d0887\"],[0.1111111111111111,\"#46039f\"],[0.2222222222222222,\"#7201a8\"],[0.3333333333333333,\"#9c179e\"],[0.4444444444444444,\"#bd3786\"],[0.5555555555555556,\"#d8576b\"],[0.6666666666666666,\"#ed7953\"],[0.7777777777777778,\"#fb9f3a\"],[0.8888888888888888,\"#fdca26\"],[1.0,\"#f0f921\"]],\"type\":\"surface\"}],\"table\":[{\"cells\":{\"fill\":{\"color\":\"#EBF0F8\"},\"line\":{\"color\":\"white\"}},\"header\":{\"fill\":{\"color\":\"#C8D4E3\"},\"line\":{\"color\":\"white\"}},\"type\":\"table\"}]},\"layout\":{\"annotationdefaults\":{\"arrowcolor\":\"#2a3f5f\",\"arrowhead\":0,\"arrowwidth\":1},\"autotypenumbers\":\"strict\",\"coloraxis\":{\"colorbar\":{\"outlinewidth\":0,\"ticks\":\"\"}},\"colorscale\":{\"diverging\":[[0,\"#8e0152\"],[0.1,\"#c51b7d\"],[0.2,\"#de77ae\"],[0.3,\"#f1b6da\"],[0.4,\"#fde0ef\"],[0.5,\"#f7f7f7\"],[0.6,\"#e6f5d0\"],[0.7,\"#b8e186\"],[0.8,\"#7fbc41\"],[0.9,\"#4d9221\"],[1,\"#276419\"]],\"sequential\":[[0.0,\"#0d0887\"],[0.1111111111111111,\"#46039f\"],[0.2222222222222222,\"#7201a8\"],[0.3333333333333333,\"#9c179e\"],[0.4444444444444444,\"#bd3786\"],[0.5555555555555556,\"#d8576b\"],[0.6666666666666666,\"#ed7953\"],[0.7777777777777778,\"#fb9f3a\"],[0.8888888888888888,\"#fdca26\"],[1.0,\"#f0f921\"]],\"sequentialminus\":[[0.0,\"#0d0887\"],[0.1111111111111111,\"#46039f\"],[0.2222222222222222,\"#7201a8\"],[0.3333333333333333,\"#9c179e\"],[0.4444444444444444,\"#bd3786\"],[0.5555555555555556,\"#d8576b\"],[0.6666666666666666,\"#ed7953\"],[0.7777777777777778,\"#fb9f3a\"],[0.8888888888888888,\"#fdca26\"],[1.0,\"#f0f921\"]]},\"colorway\":[\"#636efa\",\"#EF553B\",\"#00cc96\",\"#ab63fa\",\"#FFA15A\",\"#19d3f3\",\"#FF6692\",\"#B6E880\",\"#FF97FF\",\"#FECB52\"],\"font\":{\"color\":\"#2a3f5f\"},\"geo\":{\"bgcolor\":\"white\",\"lakecolor\":\"white\",\"landcolor\":\"#E5ECF6\",\"showlakes\":true,\"showland\":true,\"subunitcolor\":\"white\"},\"hoverlabel\":{\"align\":\"left\"},\"hovermode\":\"closest\",\"mapbox\":{\"style\":\"light\"},\"paper_bgcolor\":\"white\",\"plot_bgcolor\":\"#E5ECF6\",\"polar\":{\"angularaxis\":{\"gridcolor\":\"white\",\"linecolor\":\"white\",\"ticks\":\"\"},\"bgcolor\":\"#E5ECF6\",\"radialaxis\":{\"gridcolor\":\"white\",\"linecolor\":\"white\",\"ticks\":\"\"}},\"scene\":{\"xaxis\":{\"backgroundcolor\":\"#E5ECF6\",\"gridcolor\":\"white\",\"gridwidth\":2,\"linecolor\":\"white\",\"showbackground\":true,\"ticks\":\"\",\"zerolinecolor\":\"white\"},\"yaxis\":{\"backgroundcolor\":\"#E5ECF6\",\"gridcolor\":\"white\",\"gridwidth\":2,\"linecolor\":\"white\",\"showbackground\":true,\"ticks\":\"\",\"zerolinecolor\":\"white\"},\"zaxis\":{\"backgroundcolor\":\"#E5ECF6\",\"gridcolor\":\"white\",\"gridwidth\":2,\"linecolor\":\"white\",\"showbackground\":true,\"ticks\":\"\",\"zerolinecolor\":\"white\"}},\"shapedefaults\":{\"line\":{\"color\":\"#2a3f5f\"}},\"ternary\":{\"aaxis\":{\"gridcolor\":\"white\",\"linecolor\":\"white\",\"ticks\":\"\"},\"baxis\":{\"gridcolor\":\"white\",\"linecolor\":\"white\",\"ticks\":\"\"},\"bgcolor\":\"#E5ECF6\",\"caxis\":{\"gridcolor\":\"white\",\"linecolor\":\"white\",\"ticks\":\"\"}},\"title\":{\"x\":0.05},\"xaxis\":{\"automargin\":true,\"gridcolor\":\"white\",\"linecolor\":\"white\",\"ticks\":\"\",\"title\":{\"standoff\":15},\"zerolinecolor\":\"white\",\"zerolinewidth\":2},\"yaxis\":{\"automargin\":true,\"gridcolor\":\"white\",\"linecolor\":\"white\",\"ticks\":\"\",\"title\":{\"standoff\":15},\"zerolinecolor\":\"white\",\"zerolinewidth\":2}}},\"title\":{\"text\":\"Average Adjusted SAT Scores, 2016\"},\"width\":700},                        {\"responsive\": true}                    ).then(function(){\n",
       "                            \n",
       "var gd = document.getElementById('aca53814-f857-45a4-8b83-f87a14622e3b');\n",
       "var x = new MutationObserver(function (mutations, observer) {{\n",
       "        var display = window.getComputedStyle(gd).display;\n",
       "        if (!display || display === 'none') {{\n",
       "            console.log([gd, 'removed!']);\n",
       "            Plotly.purge(gd);\n",
       "            observer.disconnect();\n",
       "        }}\n",
       "}});\n",
       "\n",
       "// Listen for the removal of the full notebook cells\n",
       "var notebookContainer = gd.closest('#notebook-container');\n",
       "if (notebookContainer) {{\n",
       "    x.observe(notebookContainer, {childList: true});\n",
       "}}\n",
       "\n",
       "// Listen for the clearing of the current output cell\n",
       "var outputEl = gd.closest('.output');\n",
       "if (outputEl) {{\n",
       "    x.observe(outputEl, {childList: true});\n",
       "}}\n",
       "\n",
       "                        })                };                });            </script>        </div>"
      ]
     },
     "metadata": {},
     "output_type": "display_data"
    }
   ],
   "source": [
    "#looking at avg SAT scores by state on a heat map\n",
    "\n",
    "sat_data['Code'] = sat_data[\"State\"].map(code)\n",
    "sat_fig = px.choropleth(sat_data,\n",
    "                    locations='Code',\n",
    "                    color= sat_data['Average SAT Score Adjusted'].astype(float),\n",
    "\n",
    "                    color_continuous_scale='spectral_r',\n",
    "                    hover_name='State',\n",
    "                    locationmode='USA-states',\n",
    "                    title=\"Average Adjusted SAT Scores, 2016\",\n",
    "                    scope='usa',\n",
    "                    width=700,\n",
    "                    height=500,\n",
    "                   )\n",
    "\n",
    "sat_fig\n"
   ]
  },
  {
   "cell_type": "code",
   "execution_count": 366,
   "id": "20936c86-12c4-4156-9a00-637d56cedad5",
   "metadata": {},
   "outputs": [
    {
     "data": {
      "text/html": [
       "<div>\n",
       "<style scoped>\n",
       "    .dataframe tbody tr th:only-of-type {\n",
       "        vertical-align: middle;\n",
       "    }\n",
       "\n",
       "    .dataframe tbody tr th {\n",
       "        vertical-align: top;\n",
       "    }\n",
       "\n",
       "    .dataframe thead th {\n",
       "        text-align: right;\n",
       "    }\n",
       "</style>\n",
       "<table border=\"1\" class=\"dataframe\">\n",
       "  <thead>\n",
       "    <tr style=\"text-align: right;\">\n",
       "      <th></th>\n",
       "      <th>Rank</th>\n",
       "      <th>State</th>\n",
       "      <th>Average ACT Score Adjusted</th>\n",
       "      <th>Raw Average ACT Score</th>\n",
       "      <th>Participation Rate</th>\n",
       "    </tr>\n",
       "  </thead>\n",
       "  <tbody>\n",
       "    <tr>\n",
       "      <th>0</th>\n",
       "      <td>1</td>\n",
       "      <td>Minnesota</td>\n",
       "      <td>23.04</td>\n",
       "      <td>22.9</td>\n",
       "      <td>76%</td>\n",
       "    </tr>\n",
       "    <tr>\n",
       "      <th>1</th>\n",
       "      <td>2</td>\n",
       "      <td>Connecticut</td>\n",
       "      <td>22.93</td>\n",
       "      <td>24.2</td>\n",
       "      <td>29%</td>\n",
       "    </tr>\n",
       "    <tr>\n",
       "      <th>2</th>\n",
       "      <td>3</td>\n",
       "      <td>Massachusetts</td>\n",
       "      <td>22.72</td>\n",
       "      <td>24.3</td>\n",
       "      <td>23%</td>\n",
       "    </tr>\n",
       "    <tr>\n",
       "      <th>3</th>\n",
       "      <td>4</td>\n",
       "      <td>New Hampshire</td>\n",
       "      <td>22.63</td>\n",
       "      <td>24.2</td>\n",
       "      <td>20%</td>\n",
       "    </tr>\n",
       "    <tr>\n",
       "      <th>4</th>\n",
       "      <td>5</td>\n",
       "      <td>Ohio</td>\n",
       "      <td>22.47</td>\n",
       "      <td>22.0</td>\n",
       "      <td>72%</td>\n",
       "    </tr>\n",
       "  </tbody>\n",
       "</table>\n",
       "</div>"
      ],
      "text/plain": [
       "   Rank          State  Average ACT Score Adjusted  Raw Average ACT Score  \\\n",
       "0     1      Minnesota                       23.04                   22.9   \n",
       "1     2    Connecticut                       22.93                   24.2   \n",
       "2     3  Massachusetts                       22.72                   24.3   \n",
       "3     4  New Hampshire                       22.63                   24.2   \n",
       "4     5           Ohio                       22.47                   22.0   \n",
       "\n",
       "  Participation Rate  \n",
       "0                76%  \n",
       "1                29%  \n",
       "2                23%  \n",
       "3                20%  \n",
       "4                72%  "
      ]
     },
     "execution_count": 366,
     "metadata": {},
     "output_type": "execute_result"
    }
   ],
   "source": [
    "#load in ACT data\n",
    "act_data = pd.read_csv(\n",
    "    Path(\"../uncc_project1/other_datasets/ACT_scores.csv\"))\n",
    "act_data.head()"
   ]
  },
  {
   "cell_type": "code",
   "execution_count": 437,
   "id": "de0733e5-4dba-437c-bc2c-47c572e2adb7",
   "metadata": {},
   "outputs": [
    {
     "data": {
      "text/html": [
       "<div>\n",
       "<style scoped>\n",
       "    .dataframe tbody tr th:only-of-type {\n",
       "        vertical-align: middle;\n",
       "    }\n",
       "\n",
       "    .dataframe tbody tr th {\n",
       "        vertical-align: top;\n",
       "    }\n",
       "\n",
       "    .dataframe thead th {\n",
       "        text-align: right;\n",
       "    }\n",
       "</style>\n",
       "<table border=\"1\" class=\"dataframe\">\n",
       "  <thead>\n",
       "    <tr style=\"text-align: right;\">\n",
       "      <th></th>\n",
       "      <th>Rank</th>\n",
       "      <th>State</th>\n",
       "      <th>Average ACT Score Adjusted</th>\n",
       "      <th>Raw Average ACT Score</th>\n",
       "      <th>Participation Rate</th>\n",
       "    </tr>\n",
       "  </thead>\n",
       "  <tbody>\n",
       "    <tr>\n",
       "      <th>35</th>\n",
       "      <td>36</td>\n",
       "      <td>Alabama</td>\n",
       "      <td>21.01</td>\n",
       "      <td>20.6</td>\n",
       "      <td>80%</td>\n",
       "    </tr>\n",
       "    <tr>\n",
       "      <th>44</th>\n",
       "      <td>45</td>\n",
       "      <td>Alaska</td>\n",
       "      <td>20.63</td>\n",
       "      <td>21.0</td>\n",
       "      <td>37%</td>\n",
       "    </tr>\n",
       "    <tr>\n",
       "      <th>47</th>\n",
       "      <td>49</td>\n",
       "      <td>Arizona</td>\n",
       "      <td>20.12</td>\n",
       "      <td>19.7</td>\n",
       "      <td>55%</td>\n",
       "    </tr>\n",
       "    <tr>\n",
       "      <th>28</th>\n",
       "      <td>29</td>\n",
       "      <td>Arkansas</td>\n",
       "      <td>21.21</td>\n",
       "      <td>20.4</td>\n",
       "      <td>93%</td>\n",
       "    </tr>\n",
       "    <tr>\n",
       "      <th>25</th>\n",
       "      <td>26</td>\n",
       "      <td>California</td>\n",
       "      <td>21.41</td>\n",
       "      <td>22.3</td>\n",
       "      <td>29%</td>\n",
       "    </tr>\n",
       "  </tbody>\n",
       "</table>\n",
       "</div>"
      ],
      "text/plain": [
       "    Rank       State  Average ACT Score Adjusted  Raw Average ACT Score  \\\n",
       "35    36     Alabama                       21.01                   20.6   \n",
       "44    45      Alaska                       20.63                   21.0   \n",
       "47    49     Arizona                       20.12                   19.7   \n",
       "28    29    Arkansas                       21.21                   20.4   \n",
       "25    26  California                       21.41                   22.3   \n",
       "\n",
       "   Participation Rate  \n",
       "35                80%  \n",
       "44                37%  \n",
       "47                55%  \n",
       "28                93%  \n",
       "25                29%  "
      ]
     },
     "execution_count": 437,
     "metadata": {},
     "output_type": "execute_result"
    }
   ],
   "source": [
    "#sorts ACT data alphabetically by state\n",
    "act_abc = act_data.sort_values('State')\n",
    "act_abc.head()"
   ]
  },
  {
   "cell_type": "code",
   "execution_count": 436,
   "id": "4d412876-cbea-4f64-b273-8dad15ee1e50",
   "metadata": {},
   "outputs": [
    {
     "data": {
      "text/html": [
       "<div>\n",
       "<style scoped>\n",
       "    .dataframe tbody tr th:only-of-type {\n",
       "        vertical-align: middle;\n",
       "    }\n",
       "\n",
       "    .dataframe tbody tr th {\n",
       "        vertical-align: top;\n",
       "    }\n",
       "\n",
       "    .dataframe thead th {\n",
       "        text-align: right;\n",
       "    }\n",
       "</style>\n",
       "<table border=\"1\" class=\"dataframe\">\n",
       "  <thead>\n",
       "    <tr style=\"text-align: right;\">\n",
       "      <th></th>\n",
       "      <th>Rankfor SAT</th>\n",
       "      <th>State</th>\n",
       "      <th>Average SAT Score Adjusted</th>\n",
       "      <th>Average New SAT Score Adjusted</th>\n",
       "      <th>Raw Average SAT Score</th>\n",
       "      <th>Participation Rate</th>\n",
       "      <th>Code</th>\n",
       "    </tr>\n",
       "  </thead>\n",
       "  <tbody>\n",
       "    <tr>\n",
       "      <th>48</th>\n",
       "      <td>50</td>\n",
       "      <td>Alabama</td>\n",
       "      <td>1496</td>\n",
       "      <td>998</td>\n",
       "      <td>1617</td>\n",
       "      <td>7.00%</td>\n",
       "      <td>AL</td>\n",
       "    </tr>\n",
       "    <tr>\n",
       "      <th>38</th>\n",
       "      <td>39</td>\n",
       "      <td>Alaska</td>\n",
       "      <td>1555</td>\n",
       "      <td>1037</td>\n",
       "      <td>1485</td>\n",
       "      <td>54.00%</td>\n",
       "      <td>AK</td>\n",
       "    </tr>\n",
       "    <tr>\n",
       "      <th>33</th>\n",
       "      <td>34</td>\n",
       "      <td>Arizona</td>\n",
       "      <td>1568</td>\n",
       "      <td>1045</td>\n",
       "      <td>1547</td>\n",
       "      <td>36.00%</td>\n",
       "      <td>AZ</td>\n",
       "    </tr>\n",
       "    <tr>\n",
       "      <th>40</th>\n",
       "      <td>41</td>\n",
       "      <td>Arkansas</td>\n",
       "      <td>1551</td>\n",
       "      <td>1034</td>\n",
       "      <td>1698</td>\n",
       "      <td>4.00%</td>\n",
       "      <td>AR</td>\n",
       "    </tr>\n",
       "    <tr>\n",
       "      <th>31</th>\n",
       "      <td>32</td>\n",
       "      <td>California</td>\n",
       "      <td>1579</td>\n",
       "      <td>1053</td>\n",
       "      <td>1504</td>\n",
       "      <td>60.00%</td>\n",
       "      <td>CA</td>\n",
       "    </tr>\n",
       "  </tbody>\n",
       "</table>\n",
       "</div>"
      ],
      "text/plain": [
       "    Rankfor SAT       State  Average SAT Score Adjusted  \\\n",
       "48           50     Alabama                        1496   \n",
       "38           39      Alaska                        1555   \n",
       "33           34     Arizona                        1568   \n",
       "40           41    Arkansas                        1551   \n",
       "31           32  California                        1579   \n",
       "\n",
       "    Average New SAT Score Adjusted  Raw Average SAT Score Participation Rate  \\\n",
       "48                             998                   1617              7.00%   \n",
       "38                            1037                   1485             54.00%   \n",
       "33                            1045                   1547             36.00%   \n",
       "40                            1034                   1698              4.00%   \n",
       "31                            1053                   1504             60.00%   \n",
       "\n",
       "   Code  \n",
       "48   AL  \n",
       "38   AK  \n",
       "33   AZ  \n",
       "40   AR  \n",
       "31   CA  "
      ]
     },
     "execution_count": 436,
     "metadata": {},
     "output_type": "execute_result"
    }
   ],
   "source": [
    "#sorts SAT data alphabetically by state\n",
    "sat_abc = sat_data.sort_values('State')\n",
    "sat_abc.head()"
   ]
  },
  {
   "cell_type": "code",
   "execution_count": 368,
   "id": "17e41516-d9f2-4292-aec0-0f0824fa4b93",
   "metadata": {},
   "outputs": [],
   "source": [
    "#checks data types of act data\n",
    "act_abc.dtypes"
   ]
  },
  {
   "cell_type": "code",
   "execution_count": 438,
   "id": "535b9487-4917-48ae-bf9b-61eafc4f70b3",
   "metadata": {},
   "outputs": [
    {
     "data": {
      "text/html": [
       "<div>\n",
       "<style scoped>\n",
       "    .dataframe tbody tr th:only-of-type {\n",
       "        vertical-align: middle;\n",
       "    }\n",
       "\n",
       "    .dataframe tbody tr th {\n",
       "        vertical-align: top;\n",
       "    }\n",
       "\n",
       "    .dataframe thead th {\n",
       "        text-align: right;\n",
       "    }\n",
       "</style>\n",
       "<table border=\"1\" class=\"dataframe\">\n",
       "  <thead>\n",
       "    <tr style=\"text-align: right;\">\n",
       "      <th></th>\n",
       "      <th>Rank</th>\n",
       "      <th>State</th>\n",
       "      <th>Average ACT Score Adjusted</th>\n",
       "      <th>Raw Average ACT Score</th>\n",
       "      <th>ACT Participation Rate</th>\n",
       "    </tr>\n",
       "  </thead>\n",
       "  <tbody>\n",
       "    <tr>\n",
       "      <th>35</th>\n",
       "      <td>36.0</td>\n",
       "      <td>Alabama</td>\n",
       "      <td>21.01</td>\n",
       "      <td>20.6</td>\n",
       "      <td>80</td>\n",
       "    </tr>\n",
       "    <tr>\n",
       "      <th>44</th>\n",
       "      <td>45.0</td>\n",
       "      <td>Alaska</td>\n",
       "      <td>20.63</td>\n",
       "      <td>21.0</td>\n",
       "      <td>37</td>\n",
       "    </tr>\n",
       "    <tr>\n",
       "      <th>47</th>\n",
       "      <td>49.0</td>\n",
       "      <td>Arizona</td>\n",
       "      <td>20.12</td>\n",
       "      <td>19.7</td>\n",
       "      <td>55</td>\n",
       "    </tr>\n",
       "    <tr>\n",
       "      <th>28</th>\n",
       "      <td>29.0</td>\n",
       "      <td>Arkansas</td>\n",
       "      <td>21.21</td>\n",
       "      <td>20.4</td>\n",
       "      <td>93</td>\n",
       "    </tr>\n",
       "    <tr>\n",
       "      <th>25</th>\n",
       "      <td>26.0</td>\n",
       "      <td>California</td>\n",
       "      <td>21.41</td>\n",
       "      <td>22.3</td>\n",
       "      <td>29</td>\n",
       "    </tr>\n",
       "  </tbody>\n",
       "</table>\n",
       "</div>"
      ],
      "text/plain": [
       "    Rank       State  Average ACT Score Adjusted  Raw Average ACT Score  \\\n",
       "35  36.0     Alabama                       21.01                   20.6   \n",
       "44  45.0      Alaska                       20.63                   21.0   \n",
       "47  49.0     Arizona                       20.12                   19.7   \n",
       "28  29.0    Arkansas                       21.21                   20.4   \n",
       "25  26.0  California                       21.41                   22.3   \n",
       "\n",
       "   ACT Participation Rate  \n",
       "35                     80  \n",
       "44                     37  \n",
       "47                     55  \n",
       "28                     93  \n",
       "25                     29  "
      ]
     },
     "execution_count": 438,
     "metadata": {},
     "output_type": "execute_result"
    }
   ],
   "source": [
    "#converts number to floats\n",
    "#removes percent signs and drops a duplicate row\n",
    "#extra row may not show earlier in code. \n",
    "#mostly a safeguard because jupyter notebook was being weird earlier\n",
    "act_abc['Rank']=act_abc['Rank'].astype(float)\n",
    "act_abc.loc[:,\"Participation Rate\"] = act_abc.loc[:,\"Participation Rate\"].str.replace(\"%\", \"\")\n",
    "act_abc['ACT Participation Rate']=act_abc['Participation Rate']\n",
    "act_abc=act_abc.drop(['Participation Rate'],axis=1)\n",
    "act_abc.head()"
   ]
  },
  {
   "cell_type": "code",
   "execution_count": 369,
   "id": "b37fe11e-ad1e-4014-a21c-2cf39fd81580",
   "metadata": {},
   "outputs": [],
   "source": [
    "#repeats the above process of converting numbers to floats\n",
    "#dropping percent signs\n",
    "#dropping duplicate row\n",
    "sat_abc['Rankfor SAT']=sat_abc['Rankfor SAT'].astype(float)\n",
    "sat_abc.loc[:,\"Participation Rate\"] = sat_abc.loc[:,\"Participation Rate\"].str.replace(\"%\", \"\")\n",
    "sat_abc['SAT Participation Rate']=sat_abc['Participation Rate']\n",
    "sat_abc=sat_abc.drop(['Participation Rate'],axis=1)"
   ]
  },
  {
   "cell_type": "code",
   "execution_count": 370,
   "id": "adf4162c-eecc-4de3-aa77-4a42bfc5d914",
   "metadata": {},
   "outputs": [
    {
     "data": {
      "text/html": [
       "<div>\n",
       "<style scoped>\n",
       "    .dataframe tbody tr th:only-of-type {\n",
       "        vertical-align: middle;\n",
       "    }\n",
       "\n",
       "    .dataframe tbody tr th {\n",
       "        vertical-align: top;\n",
       "    }\n",
       "\n",
       "    .dataframe thead th {\n",
       "        text-align: right;\n",
       "    }\n",
       "</style>\n",
       "<table border=\"1\" class=\"dataframe\">\n",
       "  <thead>\n",
       "    <tr style=\"text-align: right;\">\n",
       "      <th></th>\n",
       "      <th>Rankfor SAT</th>\n",
       "      <th>State</th>\n",
       "      <th>Average SAT Score Adjusted</th>\n",
       "      <th>Average New SAT Score Adjusted</th>\n",
       "      <th>Raw Average SAT Score</th>\n",
       "      <th>Code</th>\n",
       "      <th>SAT Participation Rate</th>\n",
       "      <th>Rank</th>\n",
       "      <th>Average ACT Score Adjusted</th>\n",
       "      <th>Raw Average ACT Score</th>\n",
       "      <th>ACT Participation Rate</th>\n",
       "    </tr>\n",
       "  </thead>\n",
       "  <tbody>\n",
       "    <tr>\n",
       "      <th>0</th>\n",
       "      <td>50.0</td>\n",
       "      <td>Alabama</td>\n",
       "      <td>1496</td>\n",
       "      <td>998</td>\n",
       "      <td>1617</td>\n",
       "      <td>AL</td>\n",
       "      <td>7.00</td>\n",
       "      <td>36.0</td>\n",
       "      <td>21.01</td>\n",
       "      <td>20.6</td>\n",
       "      <td>80</td>\n",
       "    </tr>\n",
       "    <tr>\n",
       "      <th>1</th>\n",
       "      <td>39.0</td>\n",
       "      <td>Alaska</td>\n",
       "      <td>1555</td>\n",
       "      <td>1037</td>\n",
       "      <td>1485</td>\n",
       "      <td>AK</td>\n",
       "      <td>54.00</td>\n",
       "      <td>45.0</td>\n",
       "      <td>20.63</td>\n",
       "      <td>21.0</td>\n",
       "      <td>37</td>\n",
       "    </tr>\n",
       "    <tr>\n",
       "      <th>2</th>\n",
       "      <td>34.0</td>\n",
       "      <td>Arizona</td>\n",
       "      <td>1568</td>\n",
       "      <td>1045</td>\n",
       "      <td>1547</td>\n",
       "      <td>AZ</td>\n",
       "      <td>36.00</td>\n",
       "      <td>49.0</td>\n",
       "      <td>20.12</td>\n",
       "      <td>19.7</td>\n",
       "      <td>55</td>\n",
       "    </tr>\n",
       "    <tr>\n",
       "      <th>3</th>\n",
       "      <td>41.0</td>\n",
       "      <td>Arkansas</td>\n",
       "      <td>1551</td>\n",
       "      <td>1034</td>\n",
       "      <td>1698</td>\n",
       "      <td>AR</td>\n",
       "      <td>4.00</td>\n",
       "      <td>29.0</td>\n",
       "      <td>21.21</td>\n",
       "      <td>20.4</td>\n",
       "      <td>93</td>\n",
       "    </tr>\n",
       "    <tr>\n",
       "      <th>4</th>\n",
       "      <td>32.0</td>\n",
       "      <td>California</td>\n",
       "      <td>1579</td>\n",
       "      <td>1053</td>\n",
       "      <td>1504</td>\n",
       "      <td>CA</td>\n",
       "      <td>60.00</td>\n",
       "      <td>26.0</td>\n",
       "      <td>21.41</td>\n",
       "      <td>22.3</td>\n",
       "      <td>29</td>\n",
       "    </tr>\n",
       "  </tbody>\n",
       "</table>\n",
       "</div>"
      ],
      "text/plain": [
       "   Rankfor SAT       State  Average SAT Score Adjusted  \\\n",
       "0         50.0     Alabama                        1496   \n",
       "1         39.0      Alaska                        1555   \n",
       "2         34.0     Arizona                        1568   \n",
       "3         41.0    Arkansas                        1551   \n",
       "4         32.0  California                        1579   \n",
       "\n",
       "   Average New SAT Score Adjusted  Raw Average SAT Score Code  \\\n",
       "0                             998                   1617   AL   \n",
       "1                            1037                   1485   AK   \n",
       "2                            1045                   1547   AZ   \n",
       "3                            1034                   1698   AR   \n",
       "4                            1053                   1504   CA   \n",
       "\n",
       "  SAT Participation Rate  Rank  Average ACT Score Adjusted  \\\n",
       "0                   7.00  36.0                       21.01   \n",
       "1                  54.00  45.0                       20.63   \n",
       "2                  36.00  49.0                       20.12   \n",
       "3                   4.00  29.0                       21.21   \n",
       "4                  60.00  26.0                       21.41   \n",
       "\n",
       "   Raw Average ACT Score ACT Participation Rate  \n",
       "0                   20.6                     80  \n",
       "1                   21.0                     37  \n",
       "2                   19.7                     55  \n",
       "3                   20.4                     93  \n",
       "4                   22.3                     29  "
      ]
     },
     "execution_count": 370,
     "metadata": {},
     "output_type": "execute_result"
    }
   ],
   "source": [
    "#merges alphabetical SAT and ACT dataframes\n",
    "sat_act= pd.merge(\n",
    "    sat_abc,\n",
    "    act_abc,\n",
    "    how=\"inner\",\n",
    "    on='State',\n",
    "    left_on=None,\n",
    "    right_on=None,\n",
    "    left_index=False,\n",
    "    right_index=False,\n",
    "    sort=True,\n",
    "    suffixes=(\"_x\", \"_y\"),\n",
    "    copy=True,\n",
    "    indicator=False,\n",
    "    validate=None,\n",
    ")\n",
    "sat_act.head()"
   ]
  },
  {
   "cell_type": "code",
   "execution_count": 440,
   "id": "9d63bd9b-801e-4ad9-ab97-b16dd2f8629a",
   "metadata": {},
   "outputs": [
    {
     "data": {
      "text/plain": [
       "Rankfor SAT                       float64\n",
       "State                              object\n",
       "Average SAT Score Adjusted        float64\n",
       "Average New SAT Score Adjusted      int64\n",
       "Raw Average SAT Score               int64\n",
       "Code                               object\n",
       "SAT Participation Rate            float64\n",
       "Rank                              float64\n",
       "Average ACT Score Adjusted        float64\n",
       "Raw Average ACT Score             float64\n",
       "ACT Participation Rate            float64\n",
       "Spending per pupil                  int64\n",
       "Spending per pupil in hundreds    float64\n",
       "dtype: object"
      ]
     },
     "execution_count": 440,
     "metadata": {},
     "output_type": "execute_result"
    }
   ],
   "source": [
    "#adds in the \"spending per pupil\" column\n",
    "#and converts the participation rate numbers (percentages) to float types\n",
    "#also converts the avg adjusted scores to floats\n",
    "sat_act['Spending per pupil']=full_df['Spending per pupil']\n",
    "sat_act['SAT Participation Rate']=sat_act['SAT Participation Rate'].astype(float)\n",
    "sat_act['ACT Participation Rate']=sat_act['ACT Participation Rate'].astype(float)\n",
    "sat_act['Average SAT Score Adjusted']=sat_act['Average SAT Score Adjusted'].astype(float)\n",
    "sat_act['Average ACT Score Adjusted']=sat_act['Average ACT Score Adjusted'].astype(float)\n",
    "sat_act.dtypes"
   ]
  },
  {
   "cell_type": "code",
   "execution_count": 372,
   "id": "408e350b-706e-4f67-aa11-5f77b49e1591",
   "metadata": {},
   "outputs": [
    {
     "name": "stderr",
     "output_type": "stream",
     "text": [
      "WARNING:param.main: hover_data option not found for scatter plot; similar options include: ['hover_alpha', 'sort_date', 'hover_line_alpha']\n"
     ]
    },
    {
     "data": {},
     "metadata": {},
     "output_type": "display_data"
    },
    {
     "data": {
      "application/vnd.holoviews_exec.v0+json": "",
      "text/html": [
       "<div id='20491'>\n",
       "\n",
       "\n",
       "\n",
       "\n",
       "\n",
       "  <div class=\"bk-root\" id=\"018735ee-4f48-4f54-88fd-806909451e1a\" data-root-id=\"20491\"></div>\n",
       "</div>\n",
       "<script type=\"application/javascript\">(function(root) {\n",
       "  function embed_document(root) {\n",
       "    var docs_json = {\"138d42a5-170e-4e17-be55-54ac47f5f5ed\":{\"defs\":[{\"extends\":null,\"module\":null,\"name\":\"ReactiveHTML1\",\"overrides\":[],\"properties\":[]},{\"extends\":null,\"module\":null,\"name\":\"FlexBox1\",\"overrides\":[],\"properties\":[{\"default\":\"flex-start\",\"kind\":null,\"name\":\"align_content\"},{\"default\":\"flex-start\",\"kind\":null,\"name\":\"align_items\"},{\"default\":\"row\",\"kind\":null,\"name\":\"flex_direction\"},{\"default\":\"wrap\",\"kind\":null,\"name\":\"flex_wrap\"},{\"default\":\"flex-start\",\"kind\":null,\"name\":\"justify_content\"}]},{\"extends\":null,\"module\":null,\"name\":\"TemplateActions1\",\"overrides\":[],\"properties\":[{\"default\":0,\"kind\":null,\"name\":\"open_modal\"},{\"default\":0,\"kind\":null,\"name\":\"close_modal\"}]},{\"extends\":null,\"module\":null,\"name\":\"MaterialTemplateActions1\",\"overrides\":[],\"properties\":[{\"default\":0,\"kind\":null,\"name\":\"open_modal\"},{\"default\":0,\"kind\":null,\"name\":\"close_modal\"}]}],\"roots\":{\"references\":[{\"attributes\":{},\"id\":\"20529\",\"type\":\"BasicTickFormatter\"},{\"attributes\":{},\"id\":\"20514\",\"type\":\"SaveTool\"},{\"attributes\":{},\"id\":\"20507\",\"type\":\"BasicTicker\"},{\"attributes\":{},\"id\":\"20515\",\"type\":\"PanTool\"},{\"attributes\":{\"callback\":null,\"renderers\":[{\"id\":\"20539\"},{\"id\":\"20560\"}],\"tags\":[\"hv_created\"],\"tooltips\":[[\"Variable\",\"@{Variable}\"],[\"Spending per pupil\",\"@{Spending_per_pupil}\"],[\"value\",\"@{value}\"],[\"State\",\"@{State}\"]]},\"id\":\"20495\",\"type\":\"HoverTool\"},{\"attributes\":{},\"id\":\"20518\",\"type\":\"ResetTool\"},{\"attributes\":{\"source\":{\"id\":\"20533\"}},\"id\":\"20540\",\"type\":\"CDSView\"},{\"attributes\":{\"angle\":{\"value\":0.0},\"fill_alpha\":{\"value\":1.0},\"fill_color\":{\"value\":\"#30a2da\"},\"hatch_alpha\":{\"value\":1.0},\"hatch_color\":{\"value\":\"black\"},\"hatch_scale\":{\"value\":12.0},\"hatch_weight\":{\"value\":1.0},\"line_alpha\":{\"value\":1.0},\"line_cap\":{\"value\":\"butt\"},\"line_color\":{\"value\":\"#30a2da\"},\"line_dash\":{\"value\":[]},\"line_dash_offset\":{\"value\":0},\"line_join\":{\"value\":\"bevel\"},\"line_width\":{\"value\":1},\"marker\":{\"value\":\"circle\"},\"size\":{\"value\":5.477225575051661},\"x\":{\"field\":\"Spending per pupil\"},\"y\":{\"field\":\"value\"}},\"id\":\"20553\",\"type\":\"Scatter\"},{\"attributes\":{},\"id\":\"20516\",\"type\":\"WheelZoomTool\"},{\"attributes\":{\"data_source\":{\"id\":\"20533\"},\"glyph\":{\"id\":\"20536\"},\"hover_glyph\":null,\"muted_glyph\":{\"id\":\"20538\"},\"nonselection_glyph\":{\"id\":\"20537\"},\"selection_glyph\":{\"id\":\"20553\"},\"view\":{\"id\":\"20540\"}},\"id\":\"20539\",\"type\":\"GlyphRenderer\"},{\"attributes\":{\"data\":{\"Spending per pupil\":[9636,16576,8882,9976,11588,10171,17373,14335,10098,10893,14987,8141,12457,12360,11337,11939,10010,11967,13666,15574,16270,11987,12664,8919,10457,11266,11796,10305,13725,18874,11266,20645,10613,11664,12811,9353,10862,15023,15312,10719,9913,8324,10314,7954,17108,12146,11510,10984,12435,19238],\"Spending_per_pupil\":[9636,16576,8882,9976,11588,10171,17373,14335,10098,10893,14987,8141,12457,12360,11337,11939,10010,11967,13666,15574,16270,11987,12664,8919,10457,11266,11796,10305,13725,18874,11266,20645,10613,11664,12811,9353,10862,15023,15312,10719,9913,8324,10314,7954,17108,12146,11510,10984,12435,19238],\"State\":[\"Alabama\",\"Alaska\",\"Arizona\",\"Arkansas\",\"California\",\"Colorado\",\"Connecticut\",\"Delaware\",\"Florida\",\"Georgia\",\"Hawaii\",\"Idaho\",\"Illinois\",\"Indiana\",\"Iowa\",\"Kansas\",\"Kentucky\",\"Louisiana\",\"Maine\",\"Maryland\",\"Massachusetts\",\"Michigan\",\"Minnesota\",\"Mississippi\",\"Missouri\",\"Montana\",\"Nebraska\",\"Nevada\",\"New Hampshire\",\"New Jersey\",\"New Mexico\",\"New York\",\"North Carolina\",\"North Dakota\",\"Ohio\",\"Oklahoma\",\"Oregon\",\"Pennsylvania\",\"Rhode Island\",\"South Carolina\",\"South Dakota\",\"Tennessee\",\"Texas\",\"Utah\",\"Vermont\",\"Virginia\",\"Washington\",\"West Virginia\",\"Wisconsin\",\"Wyoming\"],\"Variable\":[\"SAT Participation Rate\",\"SAT Participation Rate\",\"SAT Participation Rate\",\"SAT Participation Rate\",\"SAT Participation Rate\",\"SAT Participation Rate\",\"SAT Participation Rate\",\"SAT Participation Rate\",\"SAT Participation Rate\",\"SAT Participation Rate\",\"SAT Participation Rate\",\"SAT Participation Rate\",\"SAT Participation Rate\",\"SAT Participation Rate\",\"SAT Participation Rate\",\"SAT Participation Rate\",\"SAT Participation Rate\",\"SAT Participation Rate\",\"SAT Participation Rate\",\"SAT Participation Rate\",\"SAT Participation Rate\",\"SAT Participation Rate\",\"SAT Participation Rate\",\"SAT Participation Rate\",\"SAT Participation Rate\",\"SAT Participation Rate\",\"SAT Participation Rate\",\"SAT Participation Rate\",\"SAT Participation Rate\",\"SAT Participation Rate\",\"SAT Participation Rate\",\"SAT Participation Rate\",\"SAT Participation Rate\",\"SAT Participation Rate\",\"SAT Participation Rate\",\"SAT Participation Rate\",\"SAT Participation Rate\",\"SAT Participation Rate\",\"SAT Participation Rate\",\"SAT Participation Rate\",\"SAT Participation Rate\",\"SAT Participation Rate\",\"SAT Participation Rate\",\"SAT Participation Rate\",\"SAT Participation Rate\",\"SAT Participation Rate\",\"SAT Participation Rate\",\"SAT Participation Rate\",\"SAT Participation Rate\",\"SAT Participation Rate\"],\"value\":{\"__ndarray__\":\"AAAAAAAAHEAAAAAAAABLQAAAAAAAAEJAAAAAAAAAEEAAAAAAAABOQAAAAAAAACxAAAAAAAAAVkAAAAAAAABZQAAAAAAAAFJAAAAAAABAU0AAAAAAAIBPQAAAAAAAAFlAAAAAAAAAFEAAAAAAAMBRQAAAAAAAAAhAAAAAAAAAFEAAAAAAAAAUQAAAAAAAABRAAAAAAAAAWEAAAAAAAIBTQAAAAAAAAFVAAAAAAAAAEEAAAAAAAAAYQAAAAAAAAAhAAAAAAAAAEEAAAAAAAAAyQAAAAAAAABBAAAAAAAAAS0AAAAAAAIBRQAAAAAAAwFNAAAAAAAAAKEAAAAAAAABTQAAAAAAAAFBAAAAAAAAAAEAAAAAAAAAuQAAAAAAAABRAAAAAAAAASEAAAAAAAMBRQAAAAAAAQFJAAAAAAABAUEAAAAAAAAAIQAAAAAAAACBAAAAAAAAAT0AAAAAAAAAUQAAAAAAAgE9AAAAAAABAUkAAAAAAAIBPQAAAAAAAAC5AAAAAAAAAEEAAAAAAAAAIQA==\",\"dtype\":\"float64\",\"order\":\"little\",\"shape\":[50]}},\"selected\":{\"id\":\"20534\"},\"selection_policy\":{\"id\":\"20549\"}},\"id\":\"20533\",\"type\":\"ColumnDataSource\"},{\"attributes\":{\"text\":\"Ranking of NAEP Scores vs Spending per Student\",\"text_color\":\"black\",\"text_font_size\":\"12pt\"},\"id\":\"20498\",\"type\":\"Title\"},{\"attributes\":{\"axis\":{\"id\":\"20506\"},\"grid_line_color\":null,\"ticker\":null},\"id\":\"20509\",\"type\":\"Grid\"},{\"attributes\":{},\"id\":\"20528\",\"type\":\"AllLabels\"},{\"attributes\":{\"fill_color\":{\"value\":\"#30a2da\"},\"line_color\":{\"value\":\"#30a2da\"},\"size\":{\"value\":5.477225575051661},\"x\":{\"field\":\"Spending per pupil\"},\"y\":{\"field\":\"value\"}},\"id\":\"20536\",\"type\":\"Scatter\"},{\"attributes\":{\"source\":{\"id\":\"20554\"}},\"id\":\"20561\",\"type\":\"CDSView\"},{\"attributes\":{\"angle\":{\"value\":0.0},\"fill_alpha\":{\"value\":1.0},\"fill_color\":{\"value\":\"#fc4f30\"},\"hatch_alpha\":{\"value\":1.0},\"hatch_color\":{\"value\":\"black\"},\"hatch_scale\":{\"value\":12.0},\"hatch_weight\":{\"value\":1.0},\"line_alpha\":{\"value\":1.0},\"line_cap\":{\"value\":\"butt\"},\"line_color\":{\"value\":\"#fc4f30\"},\"line_dash\":{\"value\":[]},\"line_dash_offset\":{\"value\":0},\"line_join\":{\"value\":\"bevel\"},\"line_width\":{\"value\":1},\"marker\":{\"value\":\"circle\"},\"size\":{\"value\":5.477225575051661},\"x\":{\"field\":\"Spending per pupil\"},\"y\":{\"field\":\"value\"}},\"id\":\"20575\",\"type\":\"Scatter\"},{\"attributes\":{\"overlay\":{\"id\":\"20519\"}},\"id\":\"20517\",\"type\":\"BoxZoomTool\"},{\"attributes\":{},\"id\":\"20549\",\"type\":\"UnionRenderers\"},{\"attributes\":{\"margin\":[5,5,5,5],\"name\":\"HSpacer40322\",\"sizing_mode\":\"stretch_width\"},\"id\":\"20492\",\"type\":\"Spacer\"},{\"attributes\":{},\"id\":\"20502\",\"type\":\"LinearScale\"},{\"attributes\":{\"fill_alpha\":{\"value\":0.2},\"fill_color\":{\"value\":\"#fc4f30\"},\"line_alpha\":{\"value\":0.2},\"line_color\":{\"value\":\"#fc4f30\"},\"size\":{\"value\":5.477225575051661},\"x\":{\"field\":\"Spending per pupil\"},\"y\":{\"field\":\"value\"}},\"id\":\"20559\",\"type\":\"Scatter\"},{\"attributes\":{\"fill_alpha\":{\"value\":0.1},\"fill_color\":{\"value\":\"#fc4f30\"},\"line_alpha\":{\"value\":0.1},\"line_color\":{\"value\":\"#fc4f30\"},\"size\":{\"value\":5.477225575051661},\"x\":{\"field\":\"Spending per pupil\"},\"y\":{\"field\":\"value\"}},\"id\":\"20558\",\"type\":\"Scatter\"},{\"attributes\":{},\"id\":\"20504\",\"type\":\"LinearScale\"},{\"attributes\":{\"children\":[{\"id\":\"20492\"},{\"id\":\"20497\"},{\"id\":\"20684\"}],\"margin\":[0,0,0,0],\"name\":\"Row40318\",\"tags\":[\"embedded\"]},\"id\":\"20491\",\"type\":\"Row\"},{\"attributes\":{\"end\":21551.5,\"reset_end\":21551.5,\"reset_start\":7047.5,\"start\":7047.5,\"tags\":[[[\"Spending per pupil\",\"Spending per pupil\",null]]]},\"id\":\"20493\",\"type\":\"Range1d\"},{\"attributes\":{\"axis_label\":\"Participation Rate Percentage\",\"formatter\":{\"id\":\"20532\"},\"major_label_policy\":{\"id\":\"20531\"},\"ticker\":{\"id\":\"20511\"}},\"id\":\"20510\",\"type\":\"LinearAxis\"},{\"attributes\":{\"axis_label\":\"Spending per Student\",\"formatter\":{\"id\":\"20529\"},\"major_label_policy\":{\"id\":\"20528\"},\"ticker\":{\"id\":\"20507\"}},\"id\":\"20506\",\"type\":\"LinearAxis\"},{\"attributes\":{\"end\":110,\"reset_end\":110,\"reset_start\":0,\"tags\":[[[\"value\",\"value\",null]]]},\"id\":\"20494\",\"type\":\"Range1d\"},{\"attributes\":{\"data_source\":{\"id\":\"20554\"},\"glyph\":{\"id\":\"20557\"},\"hover_glyph\":null,\"muted_glyph\":{\"id\":\"20559\"},\"nonselection_glyph\":{\"id\":\"20558\"},\"selection_glyph\":{\"id\":\"20575\"},\"view\":{\"id\":\"20561\"}},\"id\":\"20560\",\"type\":\"GlyphRenderer\"},{\"attributes\":{},\"id\":\"20511\",\"type\":\"BasicTicker\"},{\"attributes\":{},\"id\":\"20555\",\"type\":\"Selection\"},{\"attributes\":{\"below\":[{\"id\":\"20506\"}],\"center\":[{\"id\":\"20509\"},{\"id\":\"20513\"}],\"height\":500,\"left\":[{\"id\":\"20510\"}],\"margin\":[5,5,5,5],\"min_border_bottom\":10,\"min_border_left\":10,\"min_border_right\":10,\"min_border_top\":10,\"renderers\":[{\"id\":\"20539\"},{\"id\":\"20560\"}],\"right\":[{\"id\":\"20551\"}],\"sizing_mode\":\"fixed\",\"title\":{\"id\":\"20498\"},\"toolbar\":{\"id\":\"20520\"},\"width\":700,\"x_range\":{\"id\":\"20493\"},\"x_scale\":{\"id\":\"20502\"},\"y_range\":{\"id\":\"20494\"},\"y_scale\":{\"id\":\"20504\"}},\"id\":\"20497\",\"subtype\":\"Figure\",\"type\":\"Plot\"},{\"attributes\":{\"axis\":{\"id\":\"20510\"},\"dimension\":1,\"grid_line_color\":null,\"ticker\":null},\"id\":\"20513\",\"type\":\"Grid\"},{\"attributes\":{\"active_multi\":null,\"tools\":[{\"id\":\"20495\"},{\"id\":\"20514\"},{\"id\":\"20515\"},{\"id\":\"20516\"},{\"id\":\"20517\"},{\"id\":\"20518\"}]},\"id\":\"20520\",\"type\":\"Toolbar\"},{\"attributes\":{\"click_policy\":\"mute\",\"items\":[{\"id\":\"20552\"},{\"id\":\"20574\"}],\"location\":[0,0],\"title\":\"Variable\"},\"id\":\"20551\",\"type\":\"Legend\"},{\"attributes\":{\"margin\":[5,5,5,5],\"name\":\"HSpacer40323\",\"sizing_mode\":\"stretch_width\"},\"id\":\"20684\",\"type\":\"Spacer\"},{\"attributes\":{\"fill_color\":{\"value\":\"#fc4f30\"},\"line_color\":{\"value\":\"#fc4f30\"},\"size\":{\"value\":5.477225575051661},\"x\":{\"field\":\"Spending per pupil\"},\"y\":{\"field\":\"value\"}},\"id\":\"20557\",\"type\":\"Scatter\"},{\"attributes\":{\"data\":{\"Spending per pupil\":[9636,16576,8882,9976,11588,10171,17373,14335,10098,10893,14987,8141,12457,12360,11337,11939,10010,11967,13666,15574,16270,11987,12664,8919,10457,11266,11796,10305,13725,18874,11266,20645,10613,11664,12811,9353,10862,15023,15312,10719,9913,8324,10314,7954,17108,12146,11510,10984,12435,19238],\"Spending_per_pupil\":[9636,16576,8882,9976,11588,10171,17373,14335,10098,10893,14987,8141,12457,12360,11337,11939,10010,11967,13666,15574,16270,11987,12664,8919,10457,11266,11796,10305,13725,18874,11266,20645,10613,11664,12811,9353,10862,15023,15312,10719,9913,8324,10314,7954,17108,12146,11510,10984,12435,19238],\"State\":[\"Alabama\",\"Alaska\",\"Arizona\",\"Arkansas\",\"California\",\"Colorado\",\"Connecticut\",\"Delaware\",\"Florida\",\"Georgia\",\"Hawaii\",\"Idaho\",\"Illinois\",\"Indiana\",\"Iowa\",\"Kansas\",\"Kentucky\",\"Louisiana\",\"Maine\",\"Maryland\",\"Massachusetts\",\"Michigan\",\"Minnesota\",\"Mississippi\",\"Missouri\",\"Montana\",\"Nebraska\",\"Nevada\",\"New Hampshire\",\"New Jersey\",\"New Mexico\",\"New York\",\"North Carolina\",\"North Dakota\",\"Ohio\",\"Oklahoma\",\"Oregon\",\"Pennsylvania\",\"Rhode Island\",\"South Carolina\",\"South Dakota\",\"Tennessee\",\"Texas\",\"Utah\",\"Vermont\",\"Virginia\",\"Washington\",\"West Virginia\",\"Wisconsin\",\"Wyoming\"],\"Variable\":[\"ACT Participation Rate\",\"ACT Participation Rate\",\"ACT Participation Rate\",\"ACT Participation Rate\",\"ACT Participation Rate\",\"ACT Participation Rate\",\"ACT Participation Rate\",\"ACT Participation Rate\",\"ACT Participation Rate\",\"ACT Participation Rate\",\"ACT Participation Rate\",\"ACT Participation Rate\",\"ACT Participation Rate\",\"ACT Participation Rate\",\"ACT Participation Rate\",\"ACT Participation Rate\",\"ACT Participation Rate\",\"ACT Participation Rate\",\"ACT Participation Rate\",\"ACT Participation Rate\",\"ACT Participation Rate\",\"ACT Participation Rate\",\"ACT Participation Rate\",\"ACT Participation Rate\",\"ACT Participation Rate\",\"ACT Participation Rate\",\"ACT Participation Rate\",\"ACT Participation Rate\",\"ACT Participation Rate\",\"ACT Participation Rate\",\"ACT Participation Rate\",\"ACT Participation Rate\",\"ACT Participation Rate\",\"ACT Participation Rate\",\"ACT Participation Rate\",\"ACT Participation Rate\",\"ACT Participation Rate\",\"ACT Participation Rate\",\"ACT Participation Rate\",\"ACT Participation Rate\",\"ACT Participation Rate\",\"ACT Participation Rate\",\"ACT Participation Rate\",\"ACT Participation Rate\",\"ACT Participation Rate\",\"ACT Participation Rate\",\"ACT Participation Rate\",\"ACT Participation Rate\",\"ACT Participation Rate\",\"ACT Participation Rate\"],\"value\":{\"__ndarray__\":\"AAAAAAAAVEAAAAAAAIBCQAAAAAAAgEtAAAAAAABAV0AAAAAAAAA9QAAAAAAAAFlAAAAAAAAAPUAAAAAAAAAyQAAAAAAAQFRAAAAAAACASkAAAAAAAIBWQAAAAAAAgEZAAAAAAAAAWUAAAAAAAABEQAAAAAAAAFFAAAAAAADAUkAAAAAAAABZQAAAAAAAAFlAAAAAAAAAIkAAAAAAAAA2QAAAAAAAADdAAAAAAAAAWUAAAAAAAABTQAAAAAAAAFlAAAAAAAAAU0AAAAAAAABZQAAAAAAAgFVAAAAAAAAAQkAAAAAAAAA0QAAAAAAAADlAAAAAAABAUUAAAAAAAAA7QAAAAAAAAFlAAAAAAAAAWUAAAAAAAABSQAAAAAAAwFJAAAAAAAAAQkAAAAAAAAAzQAAAAAAAADBAAAAAAAAATUAAAAAAAIBTQAAAAAAAAFlAAAAAAAAAREAAAAAAAABZQAAAAAAAAD1AAAAAAAAAPEAAAAAAAAA2QAAAAAAAQFBAAAAAAABAUkAAAAAAAABZQA==\",\"dtype\":\"float64\",\"order\":\"little\",\"shape\":[50]}},\"selected\":{\"id\":\"20555\"},\"selection_policy\":{\"id\":\"20572\"}},\"id\":\"20554\",\"type\":\"ColumnDataSource\"},{\"attributes\":{},\"id\":\"20532\",\"type\":\"BasicTickFormatter\"},{\"attributes\":{},\"id\":\"20534\",\"type\":\"Selection\"},{\"attributes\":{},\"id\":\"20531\",\"type\":\"AllLabels\"},{\"attributes\":{\"bottom_units\":\"screen\",\"fill_alpha\":0.5,\"fill_color\":\"lightgrey\",\"left_units\":\"screen\",\"level\":\"overlay\",\"line_alpha\":1.0,\"line_color\":\"black\",\"line_dash\":[4,4],\"line_width\":2,\"right_units\":\"screen\",\"syncable\":false,\"top_units\":\"screen\"},\"id\":\"20519\",\"type\":\"BoxAnnotation\"},{\"attributes\":{\"fill_alpha\":{\"value\":0.1},\"fill_color\":{\"value\":\"#30a2da\"},\"line_alpha\":{\"value\":0.1},\"line_color\":{\"value\":\"#30a2da\"},\"size\":{\"value\":5.477225575051661},\"x\":{\"field\":\"Spending per pupil\"},\"y\":{\"field\":\"value\"}},\"id\":\"20537\",\"type\":\"Scatter\"},{\"attributes\":{\"label\":{\"value\":\"SAT Participation Rate\"},\"renderers\":[{\"id\":\"20539\"}]},\"id\":\"20552\",\"type\":\"LegendItem\"},{\"attributes\":{\"label\":{\"value\":\"ACT Participation Rate\"},\"renderers\":[{\"id\":\"20560\"}]},\"id\":\"20574\",\"type\":\"LegendItem\"},{\"attributes\":{\"fill_alpha\":{\"value\":0.2},\"fill_color\":{\"value\":\"#30a2da\"},\"line_alpha\":{\"value\":0.2},\"line_color\":{\"value\":\"#30a2da\"},\"size\":{\"value\":5.477225575051661},\"x\":{\"field\":\"Spending per pupil\"},\"y\":{\"field\":\"value\"}},\"id\":\"20538\",\"type\":\"Scatter\"},{\"attributes\":{},\"id\":\"20572\",\"type\":\"UnionRenderers\"}],\"root_ids\":[\"20491\"]},\"title\":\"Bokeh Application\",\"version\":\"2.3.2\"}};\n",
       "    var render_items = [{\"docid\":\"138d42a5-170e-4e17-be55-54ac47f5f5ed\",\"root_ids\":[\"20491\"],\"roots\":{\"20491\":\"018735ee-4f48-4f54-88fd-806909451e1a\"}}];\n",
       "    root.Bokeh.embed.embed_items_notebook(docs_json, render_items);\n",
       "  }\n",
       "  if (root.Bokeh !== undefined && root.Bokeh.Panel !== undefined) {\n",
       "    embed_document(root);\n",
       "  } else {\n",
       "    var attempts = 0;\n",
       "    var timer = setInterval(function(root) {\n",
       "      if (root.Bokeh !== undefined && root.Bokeh.Panel !== undefined) {\n",
       "        clearInterval(timer);\n",
       "        embed_document(root);\n",
       "      } else if (document.readyState == \"complete\") {\n",
       "        attempts++;\n",
       "        if (attempts > 200) {\n",
       "          clearInterval(timer);\n",
       "          console.log(\"Bokeh: ERROR: Unable to run BokehJS code because BokehJS library is missing\");\n",
       "        }\n",
       "      }\n",
       "    }, 25, root)\n",
       "  }\n",
       "})(window);</script>"
      ],
      "text/plain": [
       ":NdOverlay   [Variable]\n",
       "   :Scatter   [Spending per pupil]   (value,State)"
      ]
     },
     "execution_count": 372,
     "metadata": {
      "application/vnd.holoviews_exec.v0+json": {
       "id": "20491"
      }
     },
     "output_type": "execute_result"
    }
   ],
   "source": [
    "#scatter plot looking at Participation rates by state\n",
    "#when taking the SAT/ACT\n",
    "#ultimately not used because which test is taken is heavily dependent on where students live\n",
    "#and what colleges they apply to\n",
    "#\n",
    "participation_scatter = sat_act.hvplot.scatter(\n",
    "    x=\"Spending per pupil\",\n",
    "    y=['SAT Participation Rate', 'ACT Participation Rate'],\n",
    "    height=500,\n",
    "    width=700,\n",
    "    ylim=[0,110],\n",
    "    ylabel= 'Participation Rate Percentage',\n",
    "    xlabel='Spending per Student',\n",
    "    hover_data={'State'},\n",
    "    hover_cols=\"State\",\n",
    "    title=\"Ranking of NAEP Scores vs Spending per Student\")\n",
    "participation_scatter"
   ]
  },
  {
   "cell_type": "code",
   "execution_count": 373,
   "id": "11c5765b-4ac1-4bd0-add3-0f291385043f",
   "metadata": {},
   "outputs": [
    {
     "data": {
      "text/html": [
       "<div>\n",
       "<style scoped>\n",
       "    .dataframe tbody tr th:only-of-type {\n",
       "        vertical-align: middle;\n",
       "    }\n",
       "\n",
       "    .dataframe tbody tr th {\n",
       "        vertical-align: top;\n",
       "    }\n",
       "\n",
       "    .dataframe thead th {\n",
       "        text-align: right;\n",
       "    }\n",
       "</style>\n",
       "<table border=\"1\" class=\"dataframe\">\n",
       "  <thead>\n",
       "    <tr style=\"text-align: right;\">\n",
       "      <th></th>\n",
       "      <th>State</th>\n",
       "      <th>Population</th>\n",
       "      <th>Violent crime</th>\n",
       "      <th>Violent crime per 100k</th>\n",
       "      <th>Murder and \\nnonnegligent \\nmanslaughter</th>\n",
       "      <th>Murder and non-negligent manslaughter per 100k</th>\n",
       "      <th>Rape (revised definition)</th>\n",
       "      <th>Rape (rd) per 100k</th>\n",
       "      <th>Rape legacy definition</th>\n",
       "      <th>Rape legacy definition per 100k</th>\n",
       "      <th>...</th>\n",
       "      <th>Aggravated Assault</th>\n",
       "      <th>Aggravated Assault per 100k</th>\n",
       "      <th>Property Crime</th>\n",
       "      <th>Property Crime per 100k</th>\n",
       "      <th>Burglary</th>\n",
       "      <th>Burglary per 100k</th>\n",
       "      <th>Larceny-theft</th>\n",
       "      <th>Larceny-theft per 100k</th>\n",
       "      <th>Motor vehicle theft</th>\n",
       "      <th>Motor vehicle theft per 100k</th>\n",
       "    </tr>\n",
       "  </thead>\n",
       "  <tbody>\n",
       "    <tr>\n",
       "      <th>0</th>\n",
       "      <td>Alabama</td>\n",
       "      <td>4863300.0</td>\n",
       "      <td>25886.0</td>\n",
       "      <td>532.3</td>\n",
       "      <td>407.0</td>\n",
       "      <td>8.4</td>\n",
       "      <td>1916.0</td>\n",
       "      <td>39.4</td>\n",
       "      <td>1385.0</td>\n",
       "      <td>28.5</td>\n",
       "      <td>...</td>\n",
       "      <td>18877.0</td>\n",
       "      <td>388.2</td>\n",
       "      <td>143362.0</td>\n",
       "      <td>2947.8</td>\n",
       "      <td>34065.0</td>\n",
       "      <td>700.5</td>\n",
       "      <td>97574.0</td>\n",
       "      <td>2006.3</td>\n",
       "      <td>11723.0</td>\n",
       "      <td>241.1</td>\n",
       "    </tr>\n",
       "    <tr>\n",
       "      <th>1</th>\n",
       "      <td>Alaska</td>\n",
       "      <td>741894.0</td>\n",
       "      <td>5966.0</td>\n",
       "      <td>804.2</td>\n",
       "      <td>52.0</td>\n",
       "      <td>7.0</td>\n",
       "      <td>1053.0</td>\n",
       "      <td>141.9</td>\n",
       "      <td>757.0</td>\n",
       "      <td>102.0</td>\n",
       "      <td>...</td>\n",
       "      <td>4011.0</td>\n",
       "      <td>540.6</td>\n",
       "      <td>24876.0</td>\n",
       "      <td>3353.0</td>\n",
       "      <td>4053.0</td>\n",
       "      <td>546.3</td>\n",
       "      <td>17766.0</td>\n",
       "      <td>2394.7</td>\n",
       "      <td>3057.0</td>\n",
       "      <td>412.1</td>\n",
       "    </tr>\n",
       "    <tr>\n",
       "      <th>2</th>\n",
       "      <td>Arizona</td>\n",
       "      <td>6931071.0</td>\n",
       "      <td>32583.0</td>\n",
       "      <td>470.1</td>\n",
       "      <td>380.0</td>\n",
       "      <td>5.5</td>\n",
       "      <td>3290.0</td>\n",
       "      <td>47.5</td>\n",
       "      <td>2452.0</td>\n",
       "      <td>35.4</td>\n",
       "      <td>...</td>\n",
       "      <td>21858.0</td>\n",
       "      <td>315.4</td>\n",
       "      <td>206432.0</td>\n",
       "      <td>2978.4</td>\n",
       "      <td>37736.0</td>\n",
       "      <td>544.4</td>\n",
       "      <td>150275.0</td>\n",
       "      <td>2168.1</td>\n",
       "      <td>18421.0</td>\n",
       "      <td>265.8</td>\n",
       "    </tr>\n",
       "    <tr>\n",
       "      <th>3</th>\n",
       "      <td>Arkansas</td>\n",
       "      <td>2988248.0</td>\n",
       "      <td>16461.0</td>\n",
       "      <td>550.9</td>\n",
       "      <td>216.0</td>\n",
       "      <td>7.2</td>\n",
       "      <td>2143.0</td>\n",
       "      <td>71.7</td>\n",
       "      <td>1545.0</td>\n",
       "      <td>51.7</td>\n",
       "      <td>...</td>\n",
       "      <td>11982.0</td>\n",
       "      <td>401.0</td>\n",
       "      <td>97673.0</td>\n",
       "      <td>3268.6</td>\n",
       "      <td>23771.0</td>\n",
       "      <td>795.5</td>\n",
       "      <td>66747.0</td>\n",
       "      <td>2233.6</td>\n",
       "      <td>7155.0</td>\n",
       "      <td>239.4</td>\n",
       "    </tr>\n",
       "    <tr>\n",
       "      <th>4</th>\n",
       "      <td>California</td>\n",
       "      <td>39250017.0</td>\n",
       "      <td>174796.0</td>\n",
       "      <td>445.3</td>\n",
       "      <td>1930.0</td>\n",
       "      <td>4.9</td>\n",
       "      <td>13702.0</td>\n",
       "      <td>34.9</td>\n",
       "      <td>10149.0</td>\n",
       "      <td>25.9</td>\n",
       "      <td>...</td>\n",
       "      <td>104375.0</td>\n",
       "      <td>265.9</td>\n",
       "      <td>1002070.0</td>\n",
       "      <td>2553.0</td>\n",
       "      <td>188304.0</td>\n",
       "      <td>479.8</td>\n",
       "      <td>637010.0</td>\n",
       "      <td>1623.0</td>\n",
       "      <td>176756.0</td>\n",
       "      <td>450.3</td>\n",
       "    </tr>\n",
       "  </tbody>\n",
       "</table>\n",
       "<p>5 rows × 22 columns</p>\n",
       "</div>"
      ],
      "text/plain": [
       "        State  Population  Violent crime  Violent crime per 100k  \\\n",
       "0     Alabama   4863300.0        25886.0                   532.3   \n",
       "1      Alaska    741894.0         5966.0                   804.2   \n",
       "2     Arizona   6931071.0        32583.0                   470.1   \n",
       "3    Arkansas   2988248.0        16461.0                   550.9   \n",
       "4  California  39250017.0       174796.0                   445.3   \n",
       "\n",
       "   Murder and \\nnonnegligent \\nmanslaughter  \\\n",
       "0                                     407.0   \n",
       "1                                      52.0   \n",
       "2                                     380.0   \n",
       "3                                     216.0   \n",
       "4                                    1930.0   \n",
       "\n",
       "   Murder and non-negligent manslaughter per 100k  Rape (revised definition)  \\\n",
       "0                                             8.4                     1916.0   \n",
       "1                                             7.0                     1053.0   \n",
       "2                                             5.5                     3290.0   \n",
       "3                                             7.2                     2143.0   \n",
       "4                                             4.9                    13702.0   \n",
       "\n",
       "   Rape (rd) per 100k  Rape legacy definition   \\\n",
       "0                39.4                   1385.0   \n",
       "1               141.9                    757.0   \n",
       "2                47.5                   2452.0   \n",
       "3                71.7                   1545.0   \n",
       "4                34.9                  10149.0   \n",
       "\n",
       "   Rape legacy definition per 100k  ...  Aggravated Assault   \\\n",
       "0                             28.5  ...              18877.0   \n",
       "1                            102.0  ...               4011.0   \n",
       "2                             35.4  ...              21858.0   \n",
       "3                             51.7  ...              11982.0   \n",
       "4                             25.9  ...             104375.0   \n",
       "\n",
       "   Aggravated Assault per 100k  Property Crime  Property Crime per 100k  \\\n",
       "0                        388.2        143362.0                   2947.8   \n",
       "1                        540.6         24876.0                   3353.0   \n",
       "2                        315.4        206432.0                   2978.4   \n",
       "3                        401.0         97673.0                   3268.6   \n",
       "4                        265.9       1002070.0                   2553.0   \n",
       "\n",
       "   Burglary  Burglary per 100k  Larceny-theft  Larceny-theft per 100k  \\\n",
       "0   34065.0              700.5        97574.0                  2006.3   \n",
       "1    4053.0              546.3        17766.0                  2394.7   \n",
       "2   37736.0              544.4       150275.0                  2168.1   \n",
       "3   23771.0              795.5        66747.0                  2233.6   \n",
       "4  188304.0              479.8       637010.0                  1623.0   \n",
       "\n",
       "   Motor vehicle theft  Motor vehicle theft per 100k  \n",
       "0              11723.0                         241.1  \n",
       "1               3057.0                         412.1  \n",
       "2              18421.0                         265.8  \n",
       "3               7155.0                         239.4  \n",
       "4             176756.0                         450.3  \n",
       "\n",
       "[5 rows x 22 columns]"
      ]
     },
     "execution_count": 373,
     "metadata": {},
     "output_type": "execute_result"
    }
   ],
   "source": [
    "#loads in crime statistics data\n",
    "#on whole community, not just students\n",
    "crime_data = pd.read_csv(\n",
    "    Path(\"../uncc_project1/other_datasets/crime_data.csv\"))\n",
    "crime_data.head()"
   ]
  },
  {
   "cell_type": "code",
   "execution_count": 374,
   "id": "77264e5a-d092-4aab-a1b6-1ff0ffe6765c",
   "metadata": {},
   "outputs": [
    {
     "data": {
      "text/html": [
       "<div>\n",
       "<style scoped>\n",
       "    .dataframe tbody tr th:only-of-type {\n",
       "        vertical-align: middle;\n",
       "    }\n",
       "\n",
       "    .dataframe tbody tr th {\n",
       "        vertical-align: top;\n",
       "    }\n",
       "\n",
       "    .dataframe thead th {\n",
       "        text-align: right;\n",
       "    }\n",
       "</style>\n",
       "<table border=\"1\" class=\"dataframe\">\n",
       "  <thead>\n",
       "    <tr style=\"text-align: right;\">\n",
       "      <th></th>\n",
       "      <th>State</th>\n",
       "      <th>Population</th>\n",
       "      <th>Violent crime</th>\n",
       "      <th>Violent crime per 100k</th>\n",
       "      <th>Murder and \\nnonnegligent \\nmanslaughter</th>\n",
       "      <th>Murder and non-negligent manslaughter per 100k</th>\n",
       "      <th>Rape (revised definition)</th>\n",
       "      <th>Rape (rd) per 100k</th>\n",
       "      <th>Rape legacy definition</th>\n",
       "      <th>Rape legacy definition per 100k</th>\n",
       "      <th>...</th>\n",
       "      <th>Property Crime</th>\n",
       "      <th>Property Crime per 100k</th>\n",
       "      <th>Burglary</th>\n",
       "      <th>Burglary per 100k</th>\n",
       "      <th>Larceny-theft</th>\n",
       "      <th>Larceny-theft per 100k</th>\n",
       "      <th>Motor vehicle theft</th>\n",
       "      <th>Motor vehicle theft per 100k</th>\n",
       "      <th>Spending per pupil</th>\n",
       "      <th>Rank</th>\n",
       "    </tr>\n",
       "  </thead>\n",
       "  <tbody>\n",
       "    <tr>\n",
       "      <th>0</th>\n",
       "      <td>Alabama</td>\n",
       "      <td>4863300.0</td>\n",
       "      <td>25886.0</td>\n",
       "      <td>532.3</td>\n",
       "      <td>407.0</td>\n",
       "      <td>8.4</td>\n",
       "      <td>1916.0</td>\n",
       "      <td>39.4</td>\n",
       "      <td>1385.0</td>\n",
       "      <td>28.5</td>\n",
       "      <td>...</td>\n",
       "      <td>143362.0</td>\n",
       "      <td>2947.8</td>\n",
       "      <td>34065.0</td>\n",
       "      <td>700.5</td>\n",
       "      <td>97574.0</td>\n",
       "      <td>2006.3</td>\n",
       "      <td>11723.0</td>\n",
       "      <td>241.1</td>\n",
       "      <td>9636.0</td>\n",
       "      <td>45.0</td>\n",
       "    </tr>\n",
       "    <tr>\n",
       "      <th>1</th>\n",
       "      <td>Alaska</td>\n",
       "      <td>741894.0</td>\n",
       "      <td>5966.0</td>\n",
       "      <td>804.2</td>\n",
       "      <td>52.0</td>\n",
       "      <td>7.0</td>\n",
       "      <td>1053.0</td>\n",
       "      <td>141.9</td>\n",
       "      <td>757.0</td>\n",
       "      <td>102.0</td>\n",
       "      <td>...</td>\n",
       "      <td>24876.0</td>\n",
       "      <td>3353.0</td>\n",
       "      <td>4053.0</td>\n",
       "      <td>546.3</td>\n",
       "      <td>17766.0</td>\n",
       "      <td>2394.7</td>\n",
       "      <td>3057.0</td>\n",
       "      <td>412.1</td>\n",
       "      <td>16576.0</td>\n",
       "      <td>49.0</td>\n",
       "    </tr>\n",
       "    <tr>\n",
       "      <th>2</th>\n",
       "      <td>Arizona</td>\n",
       "      <td>6931071.0</td>\n",
       "      <td>32583.0</td>\n",
       "      <td>470.1</td>\n",
       "      <td>380.0</td>\n",
       "      <td>5.5</td>\n",
       "      <td>3290.0</td>\n",
       "      <td>47.5</td>\n",
       "      <td>2452.0</td>\n",
       "      <td>35.4</td>\n",
       "      <td>...</td>\n",
       "      <td>206432.0</td>\n",
       "      <td>2978.4</td>\n",
       "      <td>37736.0</td>\n",
       "      <td>544.4</td>\n",
       "      <td>150275.0</td>\n",
       "      <td>2168.1</td>\n",
       "      <td>18421.0</td>\n",
       "      <td>265.8</td>\n",
       "      <td>8882.0</td>\n",
       "      <td>47.0</td>\n",
       "    </tr>\n",
       "    <tr>\n",
       "      <th>3</th>\n",
       "      <td>Arkansas</td>\n",
       "      <td>2988248.0</td>\n",
       "      <td>16461.0</td>\n",
       "      <td>550.9</td>\n",
       "      <td>216.0</td>\n",
       "      <td>7.2</td>\n",
       "      <td>2143.0</td>\n",
       "      <td>71.7</td>\n",
       "      <td>1545.0</td>\n",
       "      <td>51.7</td>\n",
       "      <td>...</td>\n",
       "      <td>97673.0</td>\n",
       "      <td>3268.6</td>\n",
       "      <td>23771.0</td>\n",
       "      <td>795.5</td>\n",
       "      <td>66747.0</td>\n",
       "      <td>2233.6</td>\n",
       "      <td>7155.0</td>\n",
       "      <td>239.4</td>\n",
       "      <td>9976.0</td>\n",
       "      <td>38.0</td>\n",
       "    </tr>\n",
       "    <tr>\n",
       "      <th>4</th>\n",
       "      <td>California</td>\n",
       "      <td>39250017.0</td>\n",
       "      <td>174796.0</td>\n",
       "      <td>445.3</td>\n",
       "      <td>1930.0</td>\n",
       "      <td>4.9</td>\n",
       "      <td>13702.0</td>\n",
       "      <td>34.9</td>\n",
       "      <td>10149.0</td>\n",
       "      <td>25.9</td>\n",
       "      <td>...</td>\n",
       "      <td>1002070.0</td>\n",
       "      <td>2553.0</td>\n",
       "      <td>188304.0</td>\n",
       "      <td>479.8</td>\n",
       "      <td>637010.0</td>\n",
       "      <td>1623.0</td>\n",
       "      <td>176756.0</td>\n",
       "      <td>450.3</td>\n",
       "      <td>11588.0</td>\n",
       "      <td>40.0</td>\n",
       "    </tr>\n",
       "  </tbody>\n",
       "</table>\n",
       "<p>5 rows × 24 columns</p>\n",
       "</div>"
      ],
      "text/plain": [
       "        State  Population  Violent crime  Violent crime per 100k  \\\n",
       "0     Alabama   4863300.0        25886.0                   532.3   \n",
       "1      Alaska    741894.0         5966.0                   804.2   \n",
       "2     Arizona   6931071.0        32583.0                   470.1   \n",
       "3    Arkansas   2988248.0        16461.0                   550.9   \n",
       "4  California  39250017.0       174796.0                   445.3   \n",
       "\n",
       "   Murder and \\nnonnegligent \\nmanslaughter  \\\n",
       "0                                     407.0   \n",
       "1                                      52.0   \n",
       "2                                     380.0   \n",
       "3                                     216.0   \n",
       "4                                    1930.0   \n",
       "\n",
       "   Murder and non-negligent manslaughter per 100k  Rape (revised definition)  \\\n",
       "0                                             8.4                     1916.0   \n",
       "1                                             7.0                     1053.0   \n",
       "2                                             5.5                     3290.0   \n",
       "3                                             7.2                     2143.0   \n",
       "4                                             4.9                    13702.0   \n",
       "\n",
       "   Rape (rd) per 100k  Rape legacy definition   \\\n",
       "0                39.4                   1385.0   \n",
       "1               141.9                    757.0   \n",
       "2                47.5                   2452.0   \n",
       "3                71.7                   1545.0   \n",
       "4                34.9                  10149.0   \n",
       "\n",
       "   Rape legacy definition per 100k  ...  Property Crime  \\\n",
       "0                             28.5  ...        143362.0   \n",
       "1                            102.0  ...         24876.0   \n",
       "2                             35.4  ...        206432.0   \n",
       "3                             51.7  ...         97673.0   \n",
       "4                             25.9  ...       1002070.0   \n",
       "\n",
       "   Property Crime per 100k  Burglary  Burglary per 100k  Larceny-theft  \\\n",
       "0                   2947.8   34065.0              700.5        97574.0   \n",
       "1                   3353.0    4053.0              546.3        17766.0   \n",
       "2                   2978.4   37736.0              544.4       150275.0   \n",
       "3                   3268.6   23771.0              795.5        66747.0   \n",
       "4                   2553.0  188304.0              479.8       637010.0   \n",
       "\n",
       "   Larceny-theft per 100k  Motor vehicle theft  Motor vehicle theft per 100k  \\\n",
       "0                  2006.3              11723.0                         241.1   \n",
       "1                  2394.7               3057.0                         412.1   \n",
       "2                  2168.1              18421.0                         265.8   \n",
       "3                  2233.6               7155.0                         239.4   \n",
       "4                  1623.0             176756.0                         450.3   \n",
       "\n",
       "   Spending per pupil  Rank  \n",
       "0              9636.0  45.0  \n",
       "1             16576.0  49.0  \n",
       "2              8882.0  47.0  \n",
       "3              9976.0  38.0  \n",
       "4             11588.0  40.0  \n",
       "\n",
       "[5 rows x 24 columns]"
      ]
     },
     "execution_count": 374,
     "metadata": {},
     "output_type": "execute_result"
    }
   ],
   "source": [
    "#adds spending per pupil and rank columns \n",
    "crime_data['Spending per pupil']=full_df['Spending per pupil']\n",
    "crime_data['Rank']=full_df['Rank']\n",
    "crime_data.head()"
   ]
  },
  {
   "cell_type": "code",
   "execution_count": 375,
   "id": "1eb04318-5aed-4cca-a9e6-508b66e47e1b",
   "metadata": {},
   "outputs": [
    {
     "name": "stderr",
     "output_type": "stream",
     "text": [
      "WARNING:param.main: hover_data option not found for scatter plot; similar options include: ['hover_alpha', 'sort_date', 'hover_line_alpha']\n"
     ]
    },
    {
     "data": {},
     "metadata": {},
     "output_type": "display_data"
    },
    {
     "data": {
      "application/vnd.holoviews_exec.v0+json": "",
      "text/html": [
       "<div id='20746'>\n",
       "\n",
       "\n",
       "\n",
       "\n",
       "\n",
       "  <div class=\"bk-root\" id=\"acdb0a6b-7be6-420b-b0a6-fe0a8b640bd5\" data-root-id=\"20746\"></div>\n",
       "</div>\n",
       "<script type=\"application/javascript\">(function(root) {\n",
       "  function embed_document(root) {\n",
       "    var docs_json = {\"3ca2d458-516a-4b3b-8a98-69376434d8f8\":{\"defs\":[{\"extends\":null,\"module\":null,\"name\":\"ReactiveHTML1\",\"overrides\":[],\"properties\":[]},{\"extends\":null,\"module\":null,\"name\":\"FlexBox1\",\"overrides\":[],\"properties\":[{\"default\":\"flex-start\",\"kind\":null,\"name\":\"align_content\"},{\"default\":\"flex-start\",\"kind\":null,\"name\":\"align_items\"},{\"default\":\"row\",\"kind\":null,\"name\":\"flex_direction\"},{\"default\":\"wrap\",\"kind\":null,\"name\":\"flex_wrap\"},{\"default\":\"flex-start\",\"kind\":null,\"name\":\"justify_content\"}]},{\"extends\":null,\"module\":null,\"name\":\"TemplateActions1\",\"overrides\":[],\"properties\":[{\"default\":0,\"kind\":null,\"name\":\"open_modal\"},{\"default\":0,\"kind\":null,\"name\":\"close_modal\"}]},{\"extends\":null,\"module\":null,\"name\":\"MaterialTemplateActions1\",\"overrides\":[],\"properties\":[{\"default\":0,\"kind\":null,\"name\":\"open_modal\"},{\"default\":0,\"kind\":null,\"name\":\"close_modal\"}]}],\"roots\":{\"references\":[{\"attributes\":{\"angle\":{\"value\":0.0},\"fill_alpha\":{\"value\":1.0},\"fill_color\":{\"value\":\"#30a2da\"},\"hatch_alpha\":{\"value\":1.0},\"hatch_color\":{\"value\":\"black\"},\"hatch_scale\":{\"value\":12.0},\"hatch_weight\":{\"value\":1.0},\"line_alpha\":{\"value\":1.0},\"line_cap\":{\"value\":\"butt\"},\"line_color\":{\"value\":\"#30a2da\"},\"line_dash\":{\"value\":[]},\"line_dash_offset\":{\"value\":0},\"line_join\":{\"value\":\"bevel\"},\"line_width\":{\"value\":1},\"marker\":{\"value\":\"circle\"},\"size\":{\"value\":5.477225575051661},\"x\":{\"field\":\"Spending per pupil\"},\"y\":{\"field\":\"Violent crime per 100k\"}},\"id\":\"20789\",\"type\":\"Scatter\"},{\"attributes\":{},\"id\":\"20768\",\"type\":\"SaveTool\"},{\"attributes\":{},\"id\":\"20795\",\"type\":\"BasicTickFormatter\"},{\"attributes\":{},\"id\":\"20769\",\"type\":\"PanTool\"},{\"attributes\":{},\"id\":\"20772\",\"type\":\"ResetTool\"},{\"attributes\":{\"margin\":[5,5,5,5],\"name\":\"HSpacer40784\",\"sizing_mode\":\"stretch_width\"},\"id\":\"20747\",\"type\":\"Spacer\"},{\"attributes\":{},\"id\":\"20761\",\"type\":\"BasicTicker\"},{\"attributes\":{},\"id\":\"20770\",\"type\":\"WheelZoomTool\"},{\"attributes\":{},\"id\":\"20792\",\"type\":\"BasicTickFormatter\"},{\"attributes\":{\"data\":{\"Spending per pupil\":{\"__ndarray__\":\"AAAAAADSwkAAAAAAADDQQAAAAAAAWcFAAAAAAAB8w0AAAAAAAKLGQAAAAACA3cNAAAAAAED30EAAAAAAgP/LQAAAAAAAucNAAAAAAIBGxUAAAAAAgEXNQAAAAAAAzb9AAAAAAIBUyEAAAAAAACTIQAAAAACAJMZAAAAAAIBRx0AAAAAAAI3DQAAAAACAX8dAAAAAAACxykAAAAAAAGvOQAAAAAAAx89AAAAAAIBpx0AAAAAAALzIQAAAAACAa8FAAAAAAIBsxEAAAAAAAAHGQAAAAAAACsdAAAAAAIAgxEAAAAAAgM7KQAAAAACAbtJAAAAAAAABxkAAAAAAQCnUQAAAAACAusRAAAAAAADIxkAAAAAAgAXJQAAAAACARMJAAAAAAAA3xUAAAAAAgFfNQAAAAAAA6M1AAAAAAIDvxEAAAAAAgFzDQAAAAAAAQsBAAAAAAAAlxEAAAAAAABK/QAAAAAAAtdBAAAAAAAC5x0AAAAAAAHvGQAAAAAAAdMVAAAAAAIBJyEAAAAAAgMnSQAAAAAAAAPh/\",\"dtype\":\"float64\",\"order\":\"little\",\"shape\":[51]},\"Spending_per_pupil\":{\"__ndarray__\":\"AAAAAADSwkAAAAAAADDQQAAAAAAAWcFAAAAAAAB8w0AAAAAAAKLGQAAAAACA3cNAAAAAAED30EAAAAAAgP/LQAAAAAAAucNAAAAAAIBGxUAAAAAAgEXNQAAAAAAAzb9AAAAAAIBUyEAAAAAAACTIQAAAAACAJMZAAAAAAIBRx0AAAAAAAI3DQAAAAACAX8dAAAAAAACxykAAAAAAAGvOQAAAAAAAx89AAAAAAIBpx0AAAAAAALzIQAAAAACAa8FAAAAAAIBsxEAAAAAAAAHGQAAAAAAACsdAAAAAAIAgxEAAAAAAgM7KQAAAAACAbtJAAAAAAAABxkAAAAAAQCnUQAAAAACAusRAAAAAAADIxkAAAAAAgAXJQAAAAACARMJAAAAAAAA3xUAAAAAAgFfNQAAAAAAA6M1AAAAAAIDvxEAAAAAAgFzDQAAAAAAAQsBAAAAAAAAlxEAAAAAAABK/QAAAAAAAtdBAAAAAAAC5x0AAAAAAAHvGQAAAAAAAdMVAAAAAAIBJyEAAAAAAgMnSQAAAAAAAAPh/\",\"dtype\":\"float64\",\"order\":\"little\",\"shape\":[51]},\"State\":[\"Alabama\",\"Alaska\",\"Arizona\",\"Arkansas\",\"California\",\"Colorado\",\"Connecticut\",\"Delaware\",\"Florida\",\"Georgia\",\"Hawaii\",\"Idaho\",\"Illinois \",\"Indiana\",\"Iowa\",\"Kansas\",\"Kentucky\",\"Louisiana\",\"Maine\",\"Maryland \",\"Massachussets \",\"Michigan\",\"Minnesota\",\"Mississippi\",\"Missouri\",\"Montana\",\"Nebraska\",\"Nevada\",\"New Hampshire\",\"New Jersey\",\"New Mexico\",\"New York\",\"North Carolina\",\"North Dakota\",\"Ohio\",\"Oklahoma\",\"Oregon\",\"Pennsylvania \",\"Rhode Island\",\"South Carolina\",\"South Dakota\",\"Tennessee\",\"Texas\",\"Utah\",\"Vermont\",\"Virginia\",\"Washington\",\"West Virginia\",\"Wisconsin \",\"Wyoming\",\"nan\"],\"Violent crime per 100k\":{\"__ndarray__\":\"ZmZmZmaigECamZmZmSGJQJqZmZmZYX1AMzMzMzM3gUDNzMzMzNR7QJqZmZmZaXVAMzMzMzNjbEDNzMzMzMx/QM3MzMzM5HpAmpmZmZnZeEAzMzMzM1NzQJqZmZmZyWxAzczMzMxEe0AzMzMzM0t5QJqZmZmZKXJAZmZmZmbGd0CamZmZmQltQM3MzMzMsIFAMzMzMzPzXkAAAAAAAIB9QGZmZmZmjndAAAAAAACwfEAzMzMzM1NuQAAAAAAAiHFAMzMzMzM7gEDNzMzMzAR3QAAAAAAAMHJAzczMzMwwhUAzMzMzM7NoQAAAAAAAoG5AAAAAAAD0hUAzMzMzM4N3QDMzMzMzQ3dAMzMzMzNjb0DNzMzMzMRyQM3MzMzMHHxAmpmZmZmJcEBmZmZmZsZzQM3MzMzM3G1AzczMzMxcf0BmZmZmZiZ6QDMzMzMzx4NAZmZmZmYme0CamZmZmVluQJqZmZmZyWNAMzMzMzMza0AzMzMzM+NyQJqZmZmZYXZAZmZmZmYec0BmZmZmZoZuQAAAAAAAAPh/\",\"dtype\":\"float64\",\"order\":\"little\",\"shape\":[51]},\"Violent_crime_per_100k\":{\"__ndarray__\":\"ZmZmZmaigECamZmZmSGJQJqZmZmZYX1AMzMzMzM3gUDNzMzMzNR7QJqZmZmZaXVAMzMzMzNjbEDNzMzMzMx/QM3MzMzM5HpAmpmZmZnZeEAzMzMzM1NzQJqZmZmZyWxAzczMzMxEe0AzMzMzM0t5QJqZmZmZKXJAZmZmZmbGd0CamZmZmQltQM3MzMzMsIFAMzMzMzPzXkAAAAAAAIB9QGZmZmZmjndAAAAAAACwfEAzMzMzM1NuQAAAAAAAiHFAMzMzMzM7gEDNzMzMzAR3QAAAAAAAMHJAzczMzMwwhUAzMzMzM7NoQAAAAAAAoG5AAAAAAAD0hUAzMzMzM4N3QDMzMzMzQ3dAMzMzMzNjb0DNzMzMzMRyQM3MzMzMHHxAmpmZmZmJcEBmZmZmZsZzQM3MzMzM3G1AzczMzMxcf0BmZmZmZiZ6QDMzMzMzx4NAZmZmZmYme0CamZmZmVluQJqZmZmZyWNAMzMzMzMza0AzMzMzM+NyQJqZmZmZYXZAZmZmZmYec0BmZmZmZoZuQAAAAAAAAPh/\",\"dtype\":\"float64\",\"order\":\"little\",\"shape\":[51]}},\"selected\":{\"id\":\"20782\"},\"selection_policy\":{\"id\":\"20804\"}},\"id\":\"20781\",\"type\":\"ColumnDataSource\"},{\"attributes\":{\"overlay\":{\"id\":\"20773\"}},\"id\":\"20771\",\"type\":\"BoxZoomTool\"},{\"attributes\":{},\"id\":\"20794\",\"type\":\"AllLabels\"},{\"attributes\":{\"text\":\"Violent Crime vs Spending per Student\",\"text_color\":\"black\",\"text_font_size\":\"12pt\"},\"id\":\"20752\",\"type\":\"Title\"},{\"attributes\":{\"fill_color\":{\"value\":\"#30a2da\"},\"line_color\":{\"value\":\"#30a2da\"},\"size\":{\"value\":5.477225575051661},\"x\":{\"field\":\"Spending per pupil\"},\"y\":{\"field\":\"Violent crime per 100k\"}},\"id\":\"20784\",\"type\":\"Scatter\"},{\"attributes\":{\"axis\":{\"id\":\"20760\"},\"grid_line_color\":null,\"ticker\":null},\"id\":\"20763\",\"type\":\"Grid\"},{\"attributes\":{},\"id\":\"20756\",\"type\":\"LinearScale\"},{\"attributes\":{\"children\":[{\"id\":\"20747\"},{\"id\":\"20751\"},{\"id\":\"20816\"}],\"margin\":[0,0,0,0],\"name\":\"Row40780\",\"tags\":[\"embedded\"]},\"id\":\"20746\",\"type\":\"Row\"},{\"attributes\":{},\"id\":\"20758\",\"type\":\"LinearScale\"},{\"attributes\":{\"axis_label\":\"Violent Crime per 100k People\",\"formatter\":{\"id\":\"20795\"},\"major_label_policy\":{\"id\":\"20794\"},\"ticker\":{\"id\":\"20765\"}},\"id\":\"20764\",\"type\":\"LinearAxis\"},{\"attributes\":{},\"id\":\"20804\",\"type\":\"UnionRenderers\"},{\"attributes\":{\"axis_label\":\"Spending per Student\",\"formatter\":{\"id\":\"20792\"},\"major_label_policy\":{\"id\":\"20791\"},\"ticker\":{\"id\":\"20761\"}},\"id\":\"20760\",\"type\":\"LinearAxis\"},{\"attributes\":{\"below\":[{\"id\":\"20760\"}],\"center\":[{\"id\":\"20763\"},{\"id\":\"20767\"}],\"height\":500,\"left\":[{\"id\":\"20764\"}],\"margin\":[5,5,5,5],\"min_border_bottom\":10,\"min_border_left\":10,\"min_border_right\":10,\"min_border_top\":10,\"renderers\":[{\"id\":\"20787\"}],\"sizing_mode\":\"fixed\",\"title\":{\"id\":\"20752\"},\"toolbar\":{\"id\":\"20774\"},\"width\":700,\"x_range\":{\"id\":\"20748\"},\"x_scale\":{\"id\":\"20756\"},\"y_range\":{\"id\":\"20749\"},\"y_scale\":{\"id\":\"20758\"}},\"id\":\"20751\",\"subtype\":\"Figure\",\"type\":\"Plot\"},{\"attributes\":{},\"id\":\"20765\",\"type\":\"BasicTicker\"},{\"attributes\":{\"axis\":{\"id\":\"20764\"},\"dimension\":1,\"grid_line_color\":null,\"ticker\":null},\"id\":\"20767\",\"type\":\"Grid\"},{\"attributes\":{\"active_multi\":null,\"tools\":[{\"id\":\"20750\"},{\"id\":\"20768\"},{\"id\":\"20769\"},{\"id\":\"20770\"},{\"id\":\"20771\"},{\"id\":\"20772\"}]},\"id\":\"20774\",\"type\":\"Toolbar\"},{\"attributes\":{\"callback\":null,\"renderers\":[{\"id\":\"20787\"}],\"tags\":[\"hv_created\"],\"tooltips\":[[\"Spending per pupil\",\"@{Spending_per_pupil}\"],[\"Violent crime per 100k\",\"@{Violent_crime_per_100k}\"],[\"State\",\"@{State}\"]]},\"id\":\"20750\",\"type\":\"HoverTool\"},{\"attributes\":{},\"id\":\"20782\",\"type\":\"Selection\"},{\"attributes\":{\"end\":872.24,\"reset_end\":872.24,\"reset_start\":55.75999999999999,\"start\":55.75999999999999,\"tags\":[[[\"Violent crime per 100k\",\"Violent crime per 100k\",null]]]},\"id\":\"20749\",\"type\":\"Range1d\"},{\"attributes\":{\"bottom_units\":\"screen\",\"fill_alpha\":0.5,\"fill_color\":\"lightgrey\",\"left_units\":\"screen\",\"level\":\"overlay\",\"line_alpha\":1.0,\"line_color\":\"black\",\"line_dash\":[4,4],\"line_width\":2,\"right_units\":\"screen\",\"syncable\":false,\"top_units\":\"screen\"},\"id\":\"20773\",\"type\":\"BoxAnnotation\"},{\"attributes\":{\"data_source\":{\"id\":\"20781\"},\"glyph\":{\"id\":\"20784\"},\"hover_glyph\":null,\"muted_glyph\":{\"id\":\"20786\"},\"nonselection_glyph\":{\"id\":\"20785\"},\"selection_glyph\":{\"id\":\"20789\"},\"view\":{\"id\":\"20788\"}},\"id\":\"20787\",\"type\":\"GlyphRenderer\"},{\"attributes\":{\"fill_alpha\":{\"value\":0.2},\"fill_color\":{\"value\":\"#30a2da\"},\"line_alpha\":{\"value\":0.2},\"line_color\":{\"value\":\"#30a2da\"},\"size\":{\"value\":5.477225575051661},\"x\":{\"field\":\"Spending per pupil\"},\"y\":{\"field\":\"Violent crime per 100k\"}},\"id\":\"20786\",\"type\":\"Scatter\"},{\"attributes\":{\"fill_alpha\":{\"value\":0.1},\"fill_color\":{\"value\":\"#30a2da\"},\"line_alpha\":{\"value\":0.1},\"line_color\":{\"value\":\"#30a2da\"},\"size\":{\"value\":5.477225575051661},\"x\":{\"field\":\"Spending per pupil\"},\"y\":{\"field\":\"Violent crime per 100k\"}},\"id\":\"20785\",\"type\":\"Scatter\"},{\"attributes\":{\"end\":21551.5,\"reset_end\":21551.5,\"reset_start\":7047.5,\"start\":7047.5,\"tags\":[[[\"Spending per pupil\",\"Spending per pupil\",null]]]},\"id\":\"20748\",\"type\":\"Range1d\"},{\"attributes\":{\"source\":{\"id\":\"20781\"}},\"id\":\"20788\",\"type\":\"CDSView\"},{\"attributes\":{},\"id\":\"20791\",\"type\":\"AllLabels\"},{\"attributes\":{\"margin\":[5,5,5,5],\"name\":\"HSpacer40785\",\"sizing_mode\":\"stretch_width\"},\"id\":\"20816\",\"type\":\"Spacer\"}],\"root_ids\":[\"20746\"]},\"title\":\"Bokeh Application\",\"version\":\"2.3.2\"}};\n",
       "    var render_items = [{\"docid\":\"3ca2d458-516a-4b3b-8a98-69376434d8f8\",\"root_ids\":[\"20746\"],\"roots\":{\"20746\":\"acdb0a6b-7be6-420b-b0a6-fe0a8b640bd5\"}}];\n",
       "    root.Bokeh.embed.embed_items_notebook(docs_json, render_items);\n",
       "  }\n",
       "  if (root.Bokeh !== undefined && root.Bokeh.Panel !== undefined) {\n",
       "    embed_document(root);\n",
       "  } else {\n",
       "    var attempts = 0;\n",
       "    var timer = setInterval(function(root) {\n",
       "      if (root.Bokeh !== undefined && root.Bokeh.Panel !== undefined) {\n",
       "        clearInterval(timer);\n",
       "        embed_document(root);\n",
       "      } else if (document.readyState == \"complete\") {\n",
       "        attempts++;\n",
       "        if (attempts > 200) {\n",
       "          clearInterval(timer);\n",
       "          console.log(\"Bokeh: ERROR: Unable to run BokehJS code because BokehJS library is missing\");\n",
       "        }\n",
       "      }\n",
       "    }, 25, root)\n",
       "  }\n",
       "})(window);</script>"
      ],
      "text/plain": [
       ":Scatter   [Spending per pupil]   (Violent crime per 100k,State)"
      ]
     },
     "execution_count": 375,
     "metadata": {
      "application/vnd.holoviews_exec.v0+json": {
       "id": "20746"
      }
     },
     "output_type": "execute_result"
    }
   ],
   "source": [
    "#creates scatter plot for violent crime\n",
    "violent_crime_100k= crime_data.hvplot.scatter(\n",
    "    x=\"Spending per pupil\",\n",
    "    y='Violent crime per 100k',\n",
    "    height=500,\n",
    "    width=700,\n",
    "    ylabel= 'Violent Crime per 100k People',\n",
    "    xlabel='Spending per Student',\n",
    "    hover_data={'State'},\n",
    "    hover_cols=\"State\",\n",
    "    title=\"Violent Crime vs Spending per Student\")\n",
    "violent_crime_100k\n",
    "    "
   ]
  },
  {
   "cell_type": "code",
   "execution_count": 408,
   "id": "3a85ccb4-c84a-4003-8e44-db318f53ec3d",
   "metadata": {},
   "outputs": [
    {
     "data": {
      "text/plain": [
       "-0.3382491947063336"
      ]
     },
     "execution_count": 408,
     "metadata": {},
     "output_type": "execute_result"
    }
   ],
   "source": [
    "#violent crime spending correlation\n",
    "#drops outlier\n",
    "vc100k_corr = crime_data[\"Spending per pupil\"].drop([1]).astype(float).corr(crime_data[\"Violent crime per 100k\"].drop([1]).astype(float), method='pearson') \n",
    "vc100k_corr"
   ]
  },
  {
   "cell_type": "code",
   "execution_count": 377,
   "id": "bd44b29b-31e2-4ff7-a48f-93cc67226efa",
   "metadata": {
    "tags": []
   },
   "outputs": [
    {
     "name": "stderr",
     "output_type": "stream",
     "text": [
      "WARNING:param.main: hover_data option not found for scatter plot; similar options include: ['hover_alpha', 'sort_date', 'hover_line_alpha']\n"
     ]
    },
    {
     "data": {},
     "metadata": {},
     "output_type": "display_data"
    },
    {
     "data": {
      "application/vnd.holoviews_exec.v0+json": "",
      "text/html": [
       "<div id='20868'>\n",
       "\n",
       "\n",
       "\n",
       "\n",
       "\n",
       "  <div class=\"bk-root\" id=\"774ba6fb-f0f6-48de-940a-5fd06ff8aeb8\" data-root-id=\"20868\"></div>\n",
       "</div>\n",
       "<script type=\"application/javascript\">(function(root) {\n",
       "  function embed_document(root) {\n",
       "    var docs_json = {\"936d5aa7-47fe-4a00-95ac-2854b1172033\":{\"defs\":[{\"extends\":null,\"module\":null,\"name\":\"ReactiveHTML1\",\"overrides\":[],\"properties\":[]},{\"extends\":null,\"module\":null,\"name\":\"FlexBox1\",\"overrides\":[],\"properties\":[{\"default\":\"flex-start\",\"kind\":null,\"name\":\"align_content\"},{\"default\":\"flex-start\",\"kind\":null,\"name\":\"align_items\"},{\"default\":\"row\",\"kind\":null,\"name\":\"flex_direction\"},{\"default\":\"wrap\",\"kind\":null,\"name\":\"flex_wrap\"},{\"default\":\"flex-start\",\"kind\":null,\"name\":\"justify_content\"}]},{\"extends\":null,\"module\":null,\"name\":\"TemplateActions1\",\"overrides\":[],\"properties\":[{\"default\":0,\"kind\":null,\"name\":\"open_modal\"},{\"default\":0,\"kind\":null,\"name\":\"close_modal\"}]},{\"extends\":null,\"module\":null,\"name\":\"MaterialTemplateActions1\",\"overrides\":[],\"properties\":[{\"default\":0,\"kind\":null,\"name\":\"open_modal\"},{\"default\":0,\"kind\":null,\"name\":\"close_modal\"}]}],\"roots\":{\"references\":[{\"attributes\":{},\"id\":\"20887\",\"type\":\"BasicTicker\"},{\"attributes\":{\"axis\":{\"id\":\"20886\"},\"dimension\":1,\"grid_line_color\":null,\"ticker\":null},\"id\":\"20889\",\"type\":\"Grid\"},{\"attributes\":{\"active_multi\":null,\"tools\":[{\"id\":\"20872\"},{\"id\":\"20890\"},{\"id\":\"20891\"},{\"id\":\"20892\"},{\"id\":\"20893\"},{\"id\":\"20894\"}]},\"id\":\"20896\",\"type\":\"Toolbar\"},{\"attributes\":{\"data\":{\"Property Crime per 100k\":{\"__ndarray__\":\"mpmZmZkHp0AAAAAAADKqQM3MzMzMRKdAMzMzMzOJqUAAAAAAAPKjQGZmZmZmaaVAAAAAAABAnEAAAAAAAJylQJqZmZmZ/aRAAAAAAAB5p0BmZmZmZmGnQM3MzMzMQJtAAAAAAAACoEDNzMzMzDqkQAAAAAAATKBAAAAAAAAPpUBmZmZmZhuhQGZmZmZmw6lAzczMzMy2mUAAAAAAANmhQGZmZmZmZJhAmpmZmZnXnUCamZmZmaqgQDMzMzMzoKVAMzMzMzPepUAAAAAAAPekQJqZmZmZrqFAMzMzMzM1pECamZmZmaOXQGZmZmZmIphAMzMzMzPCrkBmZmZmZiaYQAAAAAAAY6VAzczMzMzvoUAAAAAAACOkQM3MzMzMTadAzczMzMwop0DNzMzMzDqbQM3MzMzMqp1AmpmZmZlXqUBmZmZmZvKeQDMzMzMzTKZAmpmZmZmPpUAAAAAAAA+nQJqZmZmZhZpAmpmZmZkNnUAzMzMzM0yrQM3MzMzM/J9AMzMzMzM1nkAzMzMzM5WeQAAAAAAAAPh/\",\"dtype\":\"float64\",\"order\":\"little\",\"shape\":[51]},\"Property_Crime_per_100k\":{\"__ndarray__\":\"mpmZmZkHp0AAAAAAADKqQM3MzMzMRKdAMzMzMzOJqUAAAAAAAPKjQGZmZmZmaaVAAAAAAABAnEAAAAAAAJylQJqZmZmZ/aRAAAAAAAB5p0BmZmZmZmGnQM3MzMzMQJtAAAAAAAACoEDNzMzMzDqkQAAAAAAATKBAAAAAAAAPpUBmZmZmZhuhQGZmZmZmw6lAzczMzMy2mUAAAAAAANmhQGZmZmZmZJhAmpmZmZnXnUCamZmZmaqgQDMzMzMzoKVAMzMzMzPepUAAAAAAAPekQJqZmZmZrqFAMzMzMzM1pECamZmZmaOXQGZmZmZmIphAMzMzMzPCrkBmZmZmZiaYQAAAAAAAY6VAzczMzMzvoUAAAAAAACOkQM3MzMzMTadAzczMzMwop0DNzMzMzDqbQM3MzMzMqp1AmpmZmZlXqUBmZmZmZvKeQDMzMzMzTKZAmpmZmZmPpUAAAAAAAA+nQJqZmZmZhZpAmpmZmZkNnUAzMzMzM0yrQM3MzMzM/J9AMzMzMzM1nkAzMzMzM5WeQAAAAAAAAPh/\",\"dtype\":\"float64\",\"order\":\"little\",\"shape\":[51]},\"Spending per pupil\":{\"__ndarray__\":\"AAAAAADSwkAAAAAAADDQQAAAAAAAWcFAAAAAAAB8w0AAAAAAAKLGQAAAAACA3cNAAAAAAED30EAAAAAAgP/LQAAAAAAAucNAAAAAAIBGxUAAAAAAgEXNQAAAAAAAzb9AAAAAAIBUyEAAAAAAACTIQAAAAACAJMZAAAAAAIBRx0AAAAAAAI3DQAAAAACAX8dAAAAAAACxykAAAAAAAGvOQAAAAAAAx89AAAAAAIBpx0AAAAAAALzIQAAAAACAa8FAAAAAAIBsxEAAAAAAAAHGQAAAAAAACsdAAAAAAIAgxEAAAAAAgM7KQAAAAACAbtJAAAAAAAABxkAAAAAAQCnUQAAAAACAusRAAAAAAADIxkAAAAAAgAXJQAAAAACARMJAAAAAAAA3xUAAAAAAgFfNQAAAAAAA6M1AAAAAAIDvxEAAAAAAgFzDQAAAAAAAQsBAAAAAAAAlxEAAAAAAABK/QAAAAAAAtdBAAAAAAAC5x0AAAAAAAHvGQAAAAAAAdMVAAAAAAIBJyEAAAAAAgMnSQAAAAAAAAPh/\",\"dtype\":\"float64\",\"order\":\"little\",\"shape\":[51]},\"Spending_per_pupil\":{\"__ndarray__\":\"AAAAAADSwkAAAAAAADDQQAAAAAAAWcFAAAAAAAB8w0AAAAAAAKLGQAAAAACA3cNAAAAAAED30EAAAAAAgP/LQAAAAAAAucNAAAAAAIBGxUAAAAAAgEXNQAAAAAAAzb9AAAAAAIBUyEAAAAAAACTIQAAAAACAJMZAAAAAAIBRx0AAAAAAAI3DQAAAAACAX8dAAAAAAACxykAAAAAAAGvOQAAAAAAAx89AAAAAAIBpx0AAAAAAALzIQAAAAACAa8FAAAAAAIBsxEAAAAAAAAHGQAAAAAAACsdAAAAAAIAgxEAAAAAAgM7KQAAAAACAbtJAAAAAAAABxkAAAAAAQCnUQAAAAACAusRAAAAAAADIxkAAAAAAgAXJQAAAAACARMJAAAAAAAA3xUAAAAAAgFfNQAAAAAAA6M1AAAAAAIDvxEAAAAAAgFzDQAAAAAAAQsBAAAAAAAAlxEAAAAAAABK/QAAAAAAAtdBAAAAAAAC5x0AAAAAAAHvGQAAAAAAAdMVAAAAAAIBJyEAAAAAAgMnSQAAAAAAAAPh/\",\"dtype\":\"float64\",\"order\":\"little\",\"shape\":[51]},\"State\":[\"Alabama\",\"Alaska\",\"Arizona\",\"Arkansas\",\"California\",\"Colorado\",\"Connecticut\",\"Delaware\",\"Florida\",\"Georgia\",\"Hawaii\",\"Idaho\",\"Illinois \",\"Indiana\",\"Iowa\",\"Kansas\",\"Kentucky\",\"Louisiana\",\"Maine\",\"Maryland \",\"Massachussets \",\"Michigan\",\"Minnesota\",\"Mississippi\",\"Missouri\",\"Montana\",\"Nebraska\",\"Nevada\",\"New Hampshire\",\"New Jersey\",\"New Mexico\",\"New York\",\"North Carolina\",\"North Dakota\",\"Ohio\",\"Oklahoma\",\"Oregon\",\"Pennsylvania \",\"Rhode Island\",\"South Carolina\",\"South Dakota\",\"Tennessee\",\"Texas\",\"Utah\",\"Vermont\",\"Virginia\",\"Washington\",\"West Virginia\",\"Wisconsin \",\"Wyoming\",\"nan\"]},\"selected\":{\"id\":\"20904\"},\"selection_policy\":{\"id\":\"20926\"}},\"id\":\"20903\",\"type\":\"ColumnDataSource\"},{\"attributes\":{},\"id\":\"20926\",\"type\":\"UnionRenderers\"},{\"attributes\":{\"margin\":[5,5,5,5],\"name\":\"HSpacer40991\",\"sizing_mode\":\"stretch_width\"},\"id\":\"20938\",\"type\":\"Spacer\"},{\"attributes\":{\"callback\":null,\"renderers\":[{\"id\":\"20909\"}],\"tags\":[\"hv_created\"],\"tooltips\":[[\"Spending per pupil\",\"@{Spending_per_pupil}\"],[\"Property Crime per 100k\",\"@{Property_Crime_per_100k}\"],[\"State\",\"@{State}\"]]},\"id\":\"20872\",\"type\":\"HoverTool\"},{\"attributes\":{\"bottom_units\":\"screen\",\"fill_alpha\":0.5,\"fill_color\":\"lightgrey\",\"left_units\":\"screen\",\"level\":\"overlay\",\"line_alpha\":1.0,\"line_color\":\"black\",\"line_dash\":[4,4],\"line_width\":2,\"right_units\":\"screen\",\"syncable\":false,\"top_units\":\"screen\"},\"id\":\"20895\",\"type\":\"BoxAnnotation\"},{\"attributes\":{\"data_source\":{\"id\":\"20903\"},\"glyph\":{\"id\":\"20906\"},\"hover_glyph\":null,\"muted_glyph\":{\"id\":\"20908\"},\"nonselection_glyph\":{\"id\":\"20907\"},\"selection_glyph\":{\"id\":\"20911\"},\"view\":{\"id\":\"20910\"}},\"id\":\"20909\",\"type\":\"GlyphRenderer\"},{\"attributes\":{\"fill_color\":{\"value\":\"#30a2da\"},\"line_color\":{\"value\":\"#30a2da\"},\"size\":{\"value\":5.477225575051661},\"x\":{\"field\":\"Spending per pupil\"},\"y\":{\"field\":\"Property Crime per 100k\"}},\"id\":\"20906\",\"type\":\"Scatter\"},{\"attributes\":{\"fill_alpha\":{\"value\":0.2},\"fill_color\":{\"value\":\"#30a2da\"},\"line_alpha\":{\"value\":0.2},\"line_color\":{\"value\":\"#30a2da\"},\"size\":{\"value\":5.477225575051661},\"x\":{\"field\":\"Spending per pupil\"},\"y\":{\"field\":\"Property Crime per 100k\"}},\"id\":\"20908\",\"type\":\"Scatter\"},{\"attributes\":{\"fill_alpha\":{\"value\":0.1},\"fill_color\":{\"value\":\"#30a2da\"},\"line_alpha\":{\"value\":0.1},\"line_color\":{\"value\":\"#30a2da\"},\"size\":{\"value\":5.477225575051661},\"x\":{\"field\":\"Spending per pupil\"},\"y\":{\"field\":\"Property Crime per 100k\"}},\"id\":\"20907\",\"type\":\"Scatter\"},{\"attributes\":{\"source\":{\"id\":\"20903\"}},\"id\":\"20910\",\"type\":\"CDSView\"},{\"attributes\":{\"below\":[{\"id\":\"20882\"}],\"center\":[{\"id\":\"20885\"},{\"id\":\"20889\"}],\"height\":500,\"left\":[{\"id\":\"20886\"}],\"margin\":[5,5,5,5],\"min_border_bottom\":10,\"min_border_left\":10,\"min_border_right\":10,\"min_border_top\":10,\"renderers\":[{\"id\":\"20909\"}],\"sizing_mode\":\"fixed\",\"title\":{\"id\":\"20874\"},\"toolbar\":{\"id\":\"20896\"},\"width\":700,\"x_range\":{\"id\":\"20870\"},\"x_scale\":{\"id\":\"20878\"},\"y_range\":{\"id\":\"20871\"},\"y_scale\":{\"id\":\"20880\"}},\"id\":\"20873\",\"subtype\":\"Figure\",\"type\":\"Plot\"},{\"attributes\":{\"children\":[{\"id\":\"20869\"},{\"id\":\"20873\"},{\"id\":\"20938\"}],\"margin\":[0,0,0,0],\"name\":\"Row40986\",\"tags\":[\"embedded\"]},\"id\":\"20868\",\"type\":\"Row\"},{\"attributes\":{\"end\":4179.5199999999995,\"reset_end\":4179.5199999999995,\"reset_start\":1270.48,\"start\":1270.48,\"tags\":[[[\"Property Crime per 100k\",\"Property Crime per 100k\",null]]]},\"id\":\"20871\",\"type\":\"Range1d\"},{\"attributes\":{},\"id\":\"20890\",\"type\":\"SaveTool\"},{\"attributes\":{\"margin\":[5,5,5,5],\"name\":\"HSpacer40990\",\"sizing_mode\":\"stretch_width\"},\"id\":\"20869\",\"type\":\"Spacer\"},{\"attributes\":{},\"id\":\"20891\",\"type\":\"PanTool\"},{\"attributes\":{},\"id\":\"20914\",\"type\":\"BasicTickFormatter\"},{\"attributes\":{},\"id\":\"20894\",\"type\":\"ResetTool\"},{\"attributes\":{},\"id\":\"20892\",\"type\":\"WheelZoomTool\"},{\"attributes\":{},\"id\":\"20883\",\"type\":\"BasicTicker\"},{\"attributes\":{\"overlay\":{\"id\":\"20895\"}},\"id\":\"20893\",\"type\":\"BoxZoomTool\"},{\"attributes\":{},\"id\":\"20917\",\"type\":\"BasicTickFormatter\"},{\"attributes\":{\"angle\":{\"value\":0.0},\"fill_alpha\":{\"value\":1.0},\"fill_color\":{\"value\":\"#30a2da\"},\"hatch_alpha\":{\"value\":1.0},\"hatch_color\":{\"value\":\"black\"},\"hatch_scale\":{\"value\":12.0},\"hatch_weight\":{\"value\":1.0},\"line_alpha\":{\"value\":1.0},\"line_cap\":{\"value\":\"butt\"},\"line_color\":{\"value\":\"#30a2da\"},\"line_dash\":{\"value\":[]},\"line_dash_offset\":{\"value\":0},\"line_join\":{\"value\":\"bevel\"},\"line_width\":{\"value\":1},\"marker\":{\"value\":\"circle\"},\"size\":{\"value\":5.477225575051661},\"x\":{\"field\":\"Spending per pupil\"},\"y\":{\"field\":\"Property Crime per 100k\"}},\"id\":\"20911\",\"type\":\"Scatter\"},{\"attributes\":{},\"id\":\"20916\",\"type\":\"AllLabels\"},{\"attributes\":{\"text\":\"Property Crime vs Spending per Student\",\"text_color\":\"black\",\"text_font_size\":\"12pt\"},\"id\":\"20874\",\"type\":\"Title\"},{\"attributes\":{\"axis\":{\"id\":\"20882\"},\"grid_line_color\":null,\"ticker\":null},\"id\":\"20885\",\"type\":\"Grid\"},{\"attributes\":{},\"id\":\"20904\",\"type\":\"Selection\"},{\"attributes\":{},\"id\":\"20878\",\"type\":\"LinearScale\"},{\"attributes\":{},\"id\":\"20913\",\"type\":\"AllLabels\"},{\"attributes\":{},\"id\":\"20880\",\"type\":\"LinearScale\"},{\"attributes\":{\"axis_label\":\"Property Crime per 100k People\",\"formatter\":{\"id\":\"20917\"},\"major_label_policy\":{\"id\":\"20916\"},\"ticker\":{\"id\":\"20887\"}},\"id\":\"20886\",\"type\":\"LinearAxis\"},{\"attributes\":{\"axis_label\":\"Spending per Student\",\"formatter\":{\"id\":\"20914\"},\"major_label_policy\":{\"id\":\"20913\"},\"ticker\":{\"id\":\"20883\"}},\"id\":\"20882\",\"type\":\"LinearAxis\"},{\"attributes\":{\"end\":21551.5,\"reset_end\":21551.5,\"reset_start\":7047.5,\"start\":7047.5,\"tags\":[[[\"Spending per pupil\",\"Spending per pupil\",null]]]},\"id\":\"20870\",\"type\":\"Range1d\"}],\"root_ids\":[\"20868\"]},\"title\":\"Bokeh Application\",\"version\":\"2.3.2\"}};\n",
       "    var render_items = [{\"docid\":\"936d5aa7-47fe-4a00-95ac-2854b1172033\",\"root_ids\":[\"20868\"],\"roots\":{\"20868\":\"774ba6fb-f0f6-48de-940a-5fd06ff8aeb8\"}}];\n",
       "    root.Bokeh.embed.embed_items_notebook(docs_json, render_items);\n",
       "  }\n",
       "  if (root.Bokeh !== undefined && root.Bokeh.Panel !== undefined) {\n",
       "    embed_document(root);\n",
       "  } else {\n",
       "    var attempts = 0;\n",
       "    var timer = setInterval(function(root) {\n",
       "      if (root.Bokeh !== undefined && root.Bokeh.Panel !== undefined) {\n",
       "        clearInterval(timer);\n",
       "        embed_document(root);\n",
       "      } else if (document.readyState == \"complete\") {\n",
       "        attempts++;\n",
       "        if (attempts > 200) {\n",
       "          clearInterval(timer);\n",
       "          console.log(\"Bokeh: ERROR: Unable to run BokehJS code because BokehJS library is missing\");\n",
       "        }\n",
       "      }\n",
       "    }, 25, root)\n",
       "  }\n",
       "})(window);</script>"
      ],
      "text/plain": [
       ":Scatter   [Spending per pupil]   (Property Crime per 100k,State)"
      ]
     },
     "execution_count": 377,
     "metadata": {
      "application/vnd.holoviews_exec.v0+json": {
       "id": "20868"
      }
     },
     "output_type": "execute_result"
    }
   ],
   "source": [
    "#creates scatter plot for property crime\n",
    "property_crime_100k= crime_data.hvplot.scatter(\n",
    "    x=\"Spending per pupil\",\n",
    "    y='Property Crime per 100k',\n",
    "    height=500,\n",
    "    width=700,\n",
    "    ylabel= 'Property Crime per 100k People',\n",
    "    xlabel='Spending per Student',\n",
    "    hover_data={'State'},\n",
    "    hover_cols=\"State\",\n",
    "    title=\"Property Crime vs Spending per Student\")\n",
    "property_crime_100k"
   ]
  },
  {
   "cell_type": "code",
   "execution_count": 378,
   "id": "1c7af462-6fb4-42f4-b736-1ee011309cad",
   "metadata": {},
   "outputs": [
    {
     "data": {
      "text/plain": [
       "-0.4921070172142063"
      ]
     },
     "execution_count": 378,
     "metadata": {},
     "output_type": "execute_result"
    }
   ],
   "source": [
    "#property crime v spending correlation\n",
    "pc100k_corr = crime_data[\"Spending per pupil\"].astype(float).corr(crime_data[\"Property Crime per 100k\"].astype(float), method='pearson') \n",
    "pc100k_corr"
   ]
  },
  {
   "cell_type": "code",
   "execution_count": 379,
   "id": "13976357-03b2-4492-801f-66c26534391c",
   "metadata": {},
   "outputs": [
    {
     "name": "stderr",
     "output_type": "stream",
     "text": [
      "WARNING:param.main: hover_data option not found for scatter plot; similar options include: ['hover_alpha', 'sort_date', 'hover_line_alpha']\n"
     ]
    },
    {
     "data": {},
     "metadata": {},
     "output_type": "display_data"
    },
    {
     "data": {
      "application/vnd.holoviews_exec.v0+json": "",
      "text/html": [
       "<div id='20990'>\n",
       "\n",
       "\n",
       "\n",
       "\n",
       "\n",
       "  <div class=\"bk-root\" id=\"76612455-1a36-4e4e-83ce-7ba196b9577c\" data-root-id=\"20990\"></div>\n",
       "</div>\n",
       "<script type=\"application/javascript\">(function(root) {\n",
       "  function embed_document(root) {\n",
       "    var docs_json = {\"126618a5-f2b5-42f4-aa75-d399b94ccc22\":{\"defs\":[{\"extends\":null,\"module\":null,\"name\":\"ReactiveHTML1\",\"overrides\":[],\"properties\":[]},{\"extends\":null,\"module\":null,\"name\":\"FlexBox1\",\"overrides\":[],\"properties\":[{\"default\":\"flex-start\",\"kind\":null,\"name\":\"align_content\"},{\"default\":\"flex-start\",\"kind\":null,\"name\":\"align_items\"},{\"default\":\"row\",\"kind\":null,\"name\":\"flex_direction\"},{\"default\":\"wrap\",\"kind\":null,\"name\":\"flex_wrap\"},{\"default\":\"flex-start\",\"kind\":null,\"name\":\"justify_content\"}]},{\"extends\":null,\"module\":null,\"name\":\"TemplateActions1\",\"overrides\":[],\"properties\":[{\"default\":0,\"kind\":null,\"name\":\"open_modal\"},{\"default\":0,\"kind\":null,\"name\":\"close_modal\"}]},{\"extends\":null,\"module\":null,\"name\":\"MaterialTemplateActions1\",\"overrides\":[],\"properties\":[{\"default\":0,\"kind\":null,\"name\":\"open_modal\"},{\"default\":0,\"kind\":null,\"name\":\"close_modal\"}]}],\"roots\":{\"references\":[{\"attributes\":{},\"id\":\"21002\",\"type\":\"LinearScale\"},{\"attributes\":{\"source\":{\"id\":\"21025\"}},\"id\":\"21032\",\"type\":\"CDSView\"},{\"attributes\":{},\"id\":\"21009\",\"type\":\"BasicTicker\"},{\"attributes\":{\"axis_label\":\"Spending per Student\",\"formatter\":{\"id\":\"21036\"},\"major_label_policy\":{\"id\":\"21035\"},\"ticker\":{\"id\":\"21005\"}},\"id\":\"21004\",\"type\":\"LinearAxis\"},{\"attributes\":{\"below\":[{\"id\":\"21004\"}],\"center\":[{\"id\":\"21007\"},{\"id\":\"21011\"}],\"height\":500,\"left\":[{\"id\":\"21008\"}],\"margin\":[5,5,5,5],\"min_border_bottom\":10,\"min_border_left\":10,\"min_border_right\":10,\"min_border_top\":10,\"renderers\":[{\"id\":\"21031\"}],\"sizing_mode\":\"fixed\",\"title\":{\"id\":\"20996\"},\"toolbar\":{\"id\":\"21018\"},\"width\":700,\"x_range\":{\"id\":\"20992\"},\"x_scale\":{\"id\":\"21000\"},\"y_range\":{\"id\":\"20993\"},\"y_scale\":{\"id\":\"21002\"}},\"id\":\"20995\",\"subtype\":\"Figure\",\"type\":\"Plot\"},{\"attributes\":{\"axis\":{\"id\":\"21008\"},\"dimension\":1,\"grid_line_color\":null,\"ticker\":null},\"id\":\"21011\",\"type\":\"Grid\"},{\"attributes\":{\"active_multi\":null,\"tools\":[{\"id\":\"20994\"},{\"id\":\"21012\"},{\"id\":\"21013\"},{\"id\":\"21014\"},{\"id\":\"21015\"},{\"id\":\"21016\"}]},\"id\":\"21018\",\"type\":\"Toolbar\"},{\"attributes\":{\"fill_color\":{\"value\":\"#30a2da\"},\"line_color\":{\"value\":\"#30a2da\"},\"size\":{\"value\":5.477225575051661},\"x\":{\"field\":\"Spending per pupil\"},\"y\":{\"field\":\"Motor vehicle theft per 100k\"}},\"id\":\"21028\",\"type\":\"Scatter\"},{\"attributes\":{\"data\":{\"Motor vehicle theft per 100k\":{\"__ndarray__\":\"MzMzMzMjbkCamZmZmcF5QM3MzMzMnHBAzczMzMzsbUDNzMzMzCR8QAAAAAAAIHZAZmZmZmbWaEBmZmZmZvZjQJqZmZmZKWpAZmZmZmY+cEDNzMzMzLx4QJqZmZmZ2V5AAAAAAABwY0AzMzMzM8NrQAAAAAAA4GNAMzMzMzPTbUCamZmZmdlrQJqZmZmZmWtAmpmZmZkZTUBmZmZmZpZoQDMzMzMzk11AZmZmZmZmaUAzMzMzM8NjQGZmZmZmFmJAzczMzMzEckCamZmZmXFwQJqZmZmZ+W5AzczMzMwEfEAzMzMzM1NQQGZmZmZmpl9AZmZmZmaigUCamZmZmTlSQJqZmZmZ2WJAmpmZmZkxcECamZmZmSllQM3MzMzMXHNAzczMzMwkdEBmZmZmZoZZQDMzMzMz42JAmpmZmZmJcUAzMzMzM7NlQJqZmZmZaWxAmpmZmZn5bkAzMzMzMztzQM3MzMzMjEZAmpmZmZkZXUAAAAAAALB7QAAAAAAAIGFAmpmZmZmJZUAzMzMzMxNhQAAAAAAAAPh/\",\"dtype\":\"float64\",\"order\":\"little\",\"shape\":[51]},\"Motor_vehicle_theft_per_100k\":{\"__ndarray__\":\"MzMzMzMjbkCamZmZmcF5QM3MzMzMnHBAzczMzMzsbUDNzMzMzCR8QAAAAAAAIHZAZmZmZmbWaEBmZmZmZvZjQJqZmZmZKWpAZmZmZmY+cEDNzMzMzLx4QJqZmZmZ2V5AAAAAAABwY0AzMzMzM8NrQAAAAAAA4GNAMzMzMzPTbUCamZmZmdlrQJqZmZmZmWtAmpmZmZkZTUBmZmZmZpZoQDMzMzMzk11AZmZmZmZmaUAzMzMzM8NjQGZmZmZmFmJAzczMzMzEckCamZmZmXFwQJqZmZmZ+W5AzczMzMwEfEAzMzMzM1NQQGZmZmZmpl9AZmZmZmaigUCamZmZmTlSQJqZmZmZ2WJAmpmZmZkxcECamZmZmSllQM3MzMzMXHNAzczMzMwkdEBmZmZmZoZZQDMzMzMz42JAmpmZmZmJcUAzMzMzM7NlQJqZmZmZaWxAmpmZmZn5bkAzMzMzMztzQM3MzMzMjEZAmpmZmZkZXUAAAAAAALB7QAAAAAAAIGFAmpmZmZmJZUAzMzMzMxNhQAAAAAAAAPh/\",\"dtype\":\"float64\",\"order\":\"little\",\"shape\":[51]},\"Spending per pupil\":{\"__ndarray__\":\"AAAAAADSwkAAAAAAADDQQAAAAAAAWcFAAAAAAAB8w0AAAAAAAKLGQAAAAACA3cNAAAAAAED30EAAAAAAgP/LQAAAAAAAucNAAAAAAIBGxUAAAAAAgEXNQAAAAAAAzb9AAAAAAIBUyEAAAAAAACTIQAAAAACAJMZAAAAAAIBRx0AAAAAAAI3DQAAAAACAX8dAAAAAAACxykAAAAAAAGvOQAAAAAAAx89AAAAAAIBpx0AAAAAAALzIQAAAAACAa8FAAAAAAIBsxEAAAAAAAAHGQAAAAAAACsdAAAAAAIAgxEAAAAAAgM7KQAAAAACAbtJAAAAAAAABxkAAAAAAQCnUQAAAAACAusRAAAAAAADIxkAAAAAAgAXJQAAAAACARMJAAAAAAAA3xUAAAAAAgFfNQAAAAAAA6M1AAAAAAIDvxEAAAAAAgFzDQAAAAAAAQsBAAAAAAAAlxEAAAAAAABK/QAAAAAAAtdBAAAAAAAC5x0AAAAAAAHvGQAAAAAAAdMVAAAAAAIBJyEAAAAAAgMnSQAAAAAAAAPh/\",\"dtype\":\"float64\",\"order\":\"little\",\"shape\":[51]},\"Spending_per_pupil\":{\"__ndarray__\":\"AAAAAADSwkAAAAAAADDQQAAAAAAAWcFAAAAAAAB8w0AAAAAAAKLGQAAAAACA3cNAAAAAAED30EAAAAAAgP/LQAAAAAAAucNAAAAAAIBGxUAAAAAAgEXNQAAAAAAAzb9AAAAAAIBUyEAAAAAAACTIQAAAAACAJMZAAAAAAIBRx0AAAAAAAI3DQAAAAACAX8dAAAAAAACxykAAAAAAAGvOQAAAAAAAx89AAAAAAIBpx0AAAAAAALzIQAAAAACAa8FAAAAAAIBsxEAAAAAAAAHGQAAAAAAACsdAAAAAAIAgxEAAAAAAgM7KQAAAAACAbtJAAAAAAAABxkAAAAAAQCnUQAAAAACAusRAAAAAAADIxkAAAAAAgAXJQAAAAACARMJAAAAAAAA3xUAAAAAAgFfNQAAAAAAA6M1AAAAAAIDvxEAAAAAAgFzDQAAAAAAAQsBAAAAAAAAlxEAAAAAAABK/QAAAAAAAtdBAAAAAAAC5x0AAAAAAAHvGQAAAAAAAdMVAAAAAAIBJyEAAAAAAgMnSQAAAAAAAAPh/\",\"dtype\":\"float64\",\"order\":\"little\",\"shape\":[51]},\"State\":[\"Alabama\",\"Alaska\",\"Arizona\",\"Arkansas\",\"California\",\"Colorado\",\"Connecticut\",\"Delaware\",\"Florida\",\"Georgia\",\"Hawaii\",\"Idaho\",\"Illinois \",\"Indiana\",\"Iowa\",\"Kansas\",\"Kentucky\",\"Louisiana\",\"Maine\",\"Maryland \",\"Massachussets \",\"Michigan\",\"Minnesota\",\"Mississippi\",\"Missouri\",\"Montana\",\"Nebraska\",\"Nevada\",\"New Hampshire\",\"New Jersey\",\"New Mexico\",\"New York\",\"North Carolina\",\"North Dakota\",\"Ohio\",\"Oklahoma\",\"Oregon\",\"Pennsylvania \",\"Rhode Island\",\"South Carolina\",\"South Dakota\",\"Tennessee\",\"Texas\",\"Utah\",\"Vermont\",\"Virginia\",\"Washington\",\"West Virginia\",\"Wisconsin \",\"Wyoming\",\"nan\"]},\"selected\":{\"id\":\"21026\"},\"selection_policy\":{\"id\":\"21048\"}},\"id\":\"21025\",\"type\":\"ColumnDataSource\"},{\"attributes\":{\"callback\":null,\"renderers\":[{\"id\":\"21031\"}],\"tags\":[\"hv_created\"],\"tooltips\":[[\"Spending per pupil\",\"@{Spending_per_pupil}\"],[\"Motor vehicle theft per 100k\",\"@{Motor_vehicle_theft_per_100k}\"],[\"State\",\"@{State}\"]]},\"id\":\"20994\",\"type\":\"HoverTool\"},{\"attributes\":{\"bottom_units\":\"screen\",\"fill_alpha\":0.5,\"fill_color\":\"lightgrey\",\"left_units\":\"screen\",\"level\":\"overlay\",\"line_alpha\":1.0,\"line_color\":\"black\",\"line_dash\":[4,4],\"line_width\":2,\"right_units\":\"screen\",\"syncable\":false,\"top_units\":\"screen\"},\"id\":\"21017\",\"type\":\"BoxAnnotation\"},{\"attributes\":{\"end\":616.2199999999999,\"reset_end\":616.2199999999999,\"reset_start\":-6.819999999999993,\"start\":-6.819999999999993,\"tags\":[[[\"Motor vehicle theft per 100k\",\"Motor vehicle theft per 100k\",null]]]},\"id\":\"20993\",\"type\":\"Range1d\"},{\"attributes\":{\"fill_alpha\":{\"value\":0.1},\"fill_color\":{\"value\":\"#30a2da\"},\"line_alpha\":{\"value\":0.1},\"line_color\":{\"value\":\"#30a2da\"},\"size\":{\"value\":5.477225575051661},\"x\":{\"field\":\"Spending per pupil\"},\"y\":{\"field\":\"Motor vehicle theft per 100k\"}},\"id\":\"21029\",\"type\":\"Scatter\"},{\"attributes\":{\"fill_alpha\":{\"value\":0.2},\"fill_color\":{\"value\":\"#30a2da\"},\"line_alpha\":{\"value\":0.2},\"line_color\":{\"value\":\"#30a2da\"},\"size\":{\"value\":5.477225575051661},\"x\":{\"field\":\"Spending per pupil\"},\"y\":{\"field\":\"Motor vehicle theft per 100k\"}},\"id\":\"21030\",\"type\":\"Scatter\"},{\"attributes\":{\"margin\":[5,5,5,5],\"name\":\"HSpacer41197\",\"sizing_mode\":\"stretch_width\"},\"id\":\"21060\",\"type\":\"Spacer\"},{\"attributes\":{\"margin\":[5,5,5,5],\"name\":\"HSpacer41196\",\"sizing_mode\":\"stretch_width\"},\"id\":\"20991\",\"type\":\"Spacer\"},{\"attributes\":{},\"id\":\"21012\",\"type\":\"SaveTool\"},{\"attributes\":{},\"id\":\"21013\",\"type\":\"PanTool\"},{\"attributes\":{},\"id\":\"21036\",\"type\":\"BasicTickFormatter\"},{\"attributes\":{},\"id\":\"21016\",\"type\":\"ResetTool\"},{\"attributes\":{\"children\":[{\"id\":\"20991\"},{\"id\":\"20995\"},{\"id\":\"21060\"}],\"margin\":[0,0,0,0],\"name\":\"Row41192\",\"tags\":[\"embedded\"]},\"id\":\"20990\",\"type\":\"Row\"},{\"attributes\":{},\"id\":\"21014\",\"type\":\"WheelZoomTool\"},{\"attributes\":{},\"id\":\"21039\",\"type\":\"BasicTickFormatter\"},{\"attributes\":{\"data_source\":{\"id\":\"21025\"},\"glyph\":{\"id\":\"21028\"},\"hover_glyph\":null,\"muted_glyph\":{\"id\":\"21030\"},\"nonselection_glyph\":{\"id\":\"21029\"},\"selection_glyph\":{\"id\":\"21033\"},\"view\":{\"id\":\"21032\"}},\"id\":\"21031\",\"type\":\"GlyphRenderer\"},{\"attributes\":{},\"id\":\"21005\",\"type\":\"BasicTicker\"},{\"attributes\":{\"overlay\":{\"id\":\"21017\"}},\"id\":\"21015\",\"type\":\"BoxZoomTool\"},{\"attributes\":{},\"id\":\"21026\",\"type\":\"Selection\"},{\"attributes\":{\"end\":21551.5,\"reset_end\":21551.5,\"reset_start\":7047.5,\"start\":7047.5,\"tags\":[[[\"Spending per pupil\",\"Spending per pupil\",null]]]},\"id\":\"20992\",\"type\":\"Range1d\"},{\"attributes\":{\"angle\":{\"value\":0.0},\"fill_alpha\":{\"value\":1.0},\"fill_color\":{\"value\":\"#30a2da\"},\"hatch_alpha\":{\"value\":1.0},\"hatch_color\":{\"value\":\"black\"},\"hatch_scale\":{\"value\":12.0},\"hatch_weight\":{\"value\":1.0},\"line_alpha\":{\"value\":1.0},\"line_cap\":{\"value\":\"butt\"},\"line_color\":{\"value\":\"#30a2da\"},\"line_dash\":{\"value\":[]},\"line_dash_offset\":{\"value\":0},\"line_join\":{\"value\":\"bevel\"},\"line_width\":{\"value\":1},\"marker\":{\"value\":\"circle\"},\"size\":{\"value\":5.477225575051661},\"x\":{\"field\":\"Spending per pupil\"},\"y\":{\"field\":\"Motor vehicle theft per 100k\"}},\"id\":\"21033\",\"type\":\"Scatter\"},{\"attributes\":{\"text\":\"Motor vehicle Theft vs Spending per Student\",\"text_color\":\"black\",\"text_font_size\":\"12pt\"},\"id\":\"20996\",\"type\":\"Title\"},{\"attributes\":{\"axis_label\":\"Motor vehicle theft per 100k\",\"formatter\":{\"id\":\"21039\"},\"major_label_policy\":{\"id\":\"21038\"},\"ticker\":{\"id\":\"21009\"}},\"id\":\"21008\",\"type\":\"LinearAxis\"},{\"attributes\":{\"axis\":{\"id\":\"21004\"},\"grid_line_color\":null,\"ticker\":null},\"id\":\"21007\",\"type\":\"Grid\"},{\"attributes\":{},\"id\":\"21000\",\"type\":\"LinearScale\"},{\"attributes\":{},\"id\":\"21048\",\"type\":\"UnionRenderers\"},{\"attributes\":{},\"id\":\"21038\",\"type\":\"AllLabels\"},{\"attributes\":{},\"id\":\"21035\",\"type\":\"AllLabels\"}],\"root_ids\":[\"20990\"]},\"title\":\"Bokeh Application\",\"version\":\"2.3.2\"}};\n",
       "    var render_items = [{\"docid\":\"126618a5-f2b5-42f4-aa75-d399b94ccc22\",\"root_ids\":[\"20990\"],\"roots\":{\"20990\":\"76612455-1a36-4e4e-83ce-7ba196b9577c\"}}];\n",
       "    root.Bokeh.embed.embed_items_notebook(docs_json, render_items);\n",
       "  }\n",
       "  if (root.Bokeh !== undefined && root.Bokeh.Panel !== undefined) {\n",
       "    embed_document(root);\n",
       "  } else {\n",
       "    var attempts = 0;\n",
       "    var timer = setInterval(function(root) {\n",
       "      if (root.Bokeh !== undefined && root.Bokeh.Panel !== undefined) {\n",
       "        clearInterval(timer);\n",
       "        embed_document(root);\n",
       "      } else if (document.readyState == \"complete\") {\n",
       "        attempts++;\n",
       "        if (attempts > 200) {\n",
       "          clearInterval(timer);\n",
       "          console.log(\"Bokeh: ERROR: Unable to run BokehJS code because BokehJS library is missing\");\n",
       "        }\n",
       "      }\n",
       "    }, 25, root)\n",
       "  }\n",
       "})(window);</script>"
      ],
      "text/plain": [
       ":Scatter   [Spending per pupil]   (Motor vehicle theft per 100k,State)"
      ]
     },
     "execution_count": 379,
     "metadata": {
      "application/vnd.holoviews_exec.v0+json": {
       "id": "20990"
      }
     },
     "output_type": "execute_result"
    }
   ],
   "source": [
    "#same as above \n",
    "gta_100k= crime_data.hvplot.scatter(\n",
    "    x=\"Spending per pupil\",\n",
    "    y='Motor vehicle theft per 100k',\n",
    "    height=500,\n",
    "    width=700,\n",
    "    ylabel= 'Motor vehicle theft per 100k',\n",
    "    xlabel='Spending per Student',\n",
    "    hover_data={'State'},\n",
    "    hover_cols=\"State\",\n",
    "    title=\"Motor vehicle Theft vs Spending per Student\")\n",
    "gta_100k"
   ]
  },
  {
   "cell_type": "code",
   "execution_count": 380,
   "id": "bb4e9c12-1a8e-4cb2-abeb-3062292cfab7",
   "metadata": {
    "tags": []
   },
   "outputs": [
    {
     "data": {
      "text/plain": [
       "-0.344217782856014"
      ]
     },
     "execution_count": 380,
     "metadata": {},
     "output_type": "execute_result"
    }
   ],
   "source": [
    "#same as above\n",
    "gta100k_corr = crime_data[\"Spending per pupil\"].astype(float).corr(crime_data[\"Motor vehicle theft per 100k\"].astype(float), method='pearson') \n",
    "gta100k_corr"
   ]
  },
  {
   "cell_type": "code",
   "execution_count": 381,
   "id": "d44825a1-634f-4d7d-9b8f-2ae360bc77ae",
   "metadata": {
    "tags": []
   },
   "outputs": [
    {
     "name": "stderr",
     "output_type": "stream",
     "text": [
      "WARNING:param.main: hover_data option not found for scatter plot; similar options include: ['hover_alpha', 'sort_date', 'hover_line_alpha']\n"
     ]
    },
    {
     "data": {},
     "metadata": {},
     "output_type": "display_data"
    },
    {
     "data": {
      "application/vnd.holoviews_exec.v0+json": "",
      "text/html": [
       "<div id='21112'>\n",
       "\n",
       "\n",
       "\n",
       "\n",
       "\n",
       "  <div class=\"bk-root\" id=\"de1c671b-fa22-44bc-959d-04c4ac3c6d93\" data-root-id=\"21112\"></div>\n",
       "</div>\n",
       "<script type=\"application/javascript\">(function(root) {\n",
       "  function embed_document(root) {\n",
       "    var docs_json = {\"353d05d5-b735-4e8c-b0c3-a12229cc637a\":{\"defs\":[{\"extends\":null,\"module\":null,\"name\":\"ReactiveHTML1\",\"overrides\":[],\"properties\":[]},{\"extends\":null,\"module\":null,\"name\":\"FlexBox1\",\"overrides\":[],\"properties\":[{\"default\":\"flex-start\",\"kind\":null,\"name\":\"align_content\"},{\"default\":\"flex-start\",\"kind\":null,\"name\":\"align_items\"},{\"default\":\"row\",\"kind\":null,\"name\":\"flex_direction\"},{\"default\":\"wrap\",\"kind\":null,\"name\":\"flex_wrap\"},{\"default\":\"flex-start\",\"kind\":null,\"name\":\"justify_content\"}]},{\"extends\":null,\"module\":null,\"name\":\"TemplateActions1\",\"overrides\":[],\"properties\":[{\"default\":0,\"kind\":null,\"name\":\"open_modal\"},{\"default\":0,\"kind\":null,\"name\":\"close_modal\"}]},{\"extends\":null,\"module\":null,\"name\":\"MaterialTemplateActions1\",\"overrides\":[],\"properties\":[{\"default\":0,\"kind\":null,\"name\":\"open_modal\"},{\"default\":0,\"kind\":null,\"name\":\"close_modal\"}]}],\"roots\":{\"references\":[{\"attributes\":{\"overlay\":{\"id\":\"21139\"}},\"id\":\"21137\",\"type\":\"BoxZoomTool\"},{\"attributes\":{\"text\":\"Murder and Non-Negligent vs Spending per Student\",\"text_color\":\"black\",\"text_font_size\":\"12pt\"},\"id\":\"21118\",\"type\":\"Title\"},{\"attributes\":{},\"id\":\"21161\",\"type\":\"BasicTickFormatter\"},{\"attributes\":{\"angle\":{\"value\":0.0},\"fill_alpha\":{\"value\":1.0},\"fill_color\":{\"value\":\"#30a2da\"},\"hatch_alpha\":{\"value\":1.0},\"hatch_color\":{\"value\":\"black\"},\"hatch_scale\":{\"value\":12.0},\"hatch_weight\":{\"value\":1.0},\"line_alpha\":{\"value\":1.0},\"line_cap\":{\"value\":\"butt\"},\"line_color\":{\"value\":\"#30a2da\"},\"line_dash\":{\"value\":[]},\"line_dash_offset\":{\"value\":0},\"line_join\":{\"value\":\"bevel\"},\"line_width\":{\"value\":1},\"marker\":{\"value\":\"circle\"},\"size\":{\"value\":5.477225575051661},\"x\":{\"field\":\"Spending per pupil\"},\"y\":{\"field\":\"Murder and non-negligent manslaughter per 100k\"}},\"id\":\"21155\",\"type\":\"Scatter\"},{\"attributes\":{},\"id\":\"21138\",\"type\":\"ResetTool\"},{\"attributes\":{\"axis\":{\"id\":\"21126\"},\"grid_line_color\":null,\"ticker\":null},\"id\":\"21129\",\"type\":\"Grid\"},{\"attributes\":{},\"id\":\"21148\",\"type\":\"Selection\"},{\"attributes\":{},\"id\":\"21122\",\"type\":\"LinearScale\"},{\"attributes\":{},\"id\":\"21124\",\"type\":\"LinearScale\"},{\"attributes\":{},\"id\":\"21157\",\"type\":\"AllLabels\"},{\"attributes\":{\"axis_label\":\"Murder and non-negligent manslaughter per 100k\",\"formatter\":{\"id\":\"21161\"},\"major_label_policy\":{\"id\":\"21160\"},\"ticker\":{\"id\":\"21131\"}},\"id\":\"21130\",\"type\":\"LinearAxis\"},{\"attributes\":{\"source\":{\"id\":\"21147\"}},\"id\":\"21154\",\"type\":\"CDSView\"},{\"attributes\":{\"axis_label\":\"Spending per Student\",\"formatter\":{\"id\":\"21158\"},\"major_label_policy\":{\"id\":\"21157\"},\"ticker\":{\"id\":\"21127\"}},\"id\":\"21126\",\"type\":\"LinearAxis\"},{\"attributes\":{\"below\":[{\"id\":\"21126\"}],\"center\":[{\"id\":\"21129\"},{\"id\":\"21133\"}],\"height\":500,\"left\":[{\"id\":\"21130\"}],\"margin\":[5,5,5,5],\"min_border_bottom\":10,\"min_border_left\":10,\"min_border_right\":10,\"min_border_top\":10,\"renderers\":[{\"id\":\"21153\"}],\"sizing_mode\":\"fixed\",\"title\":{\"id\":\"21118\"},\"toolbar\":{\"id\":\"21140\"},\"width\":700,\"x_range\":{\"id\":\"21114\"},\"x_scale\":{\"id\":\"21122\"},\"y_range\":{\"id\":\"21115\"},\"y_scale\":{\"id\":\"21124\"}},\"id\":\"21117\",\"subtype\":\"Figure\",\"type\":\"Plot\"},{\"attributes\":{},\"id\":\"21131\",\"type\":\"BasicTicker\"},{\"attributes\":{\"active_multi\":null,\"tools\":[{\"id\":\"21116\"},{\"id\":\"21134\"},{\"id\":\"21135\"},{\"id\":\"21136\"},{\"id\":\"21137\"},{\"id\":\"21138\"}]},\"id\":\"21140\",\"type\":\"Toolbar\"},{\"attributes\":{\"axis\":{\"id\":\"21130\"},\"dimension\":1,\"grid_line_color\":null,\"ticker\":null},\"id\":\"21133\",\"type\":\"Grid\"},{\"attributes\":{},\"id\":\"21158\",\"type\":\"BasicTickFormatter\"},{\"attributes\":{\"fill_color\":{\"value\":\"#30a2da\"},\"line_color\":{\"value\":\"#30a2da\"},\"size\":{\"value\":5.477225575051661},\"x\":{\"field\":\"Spending per pupil\"},\"y\":{\"field\":\"Murder and non-negligent manslaughter per 100k\"}},\"id\":\"21150\",\"type\":\"Scatter\"},{\"attributes\":{\"callback\":null,\"renderers\":[{\"id\":\"21153\"}],\"tags\":[\"hv_created\"],\"tooltips\":[[\"Spending per pupil\",\"@{Spending_per_pupil}\"],[\"Murder and non-negligent manslaughter per 100k\",\"@{Murder_and_non_hyphen_minus_negligent_manslaughter_per_100k}\"],[\"State\",\"@{State}\"]]},\"id\":\"21116\",\"type\":\"HoverTool\"},{\"attributes\":{\"end\":21551.5,\"reset_end\":21551.5,\"reset_start\":7047.5,\"start\":7047.5,\"tags\":[[[\"Spending per pupil\",\"Spending per pupil\",null]]]},\"id\":\"21114\",\"type\":\"Range1d\"},{\"attributes\":{\"end\":12.850000000000001,\"reset_end\":12.850000000000001,\"reset_start\":0.25,\"start\":0.25,\"tags\":[[[\"Murder and non-negligent manslaughter per 100k\",\"Murder and non-negligent manslaughter per 100k\",null]]]},\"id\":\"21115\",\"type\":\"Range1d\"},{\"attributes\":{\"bottom_units\":\"screen\",\"fill_alpha\":0.5,\"fill_color\":\"lightgrey\",\"left_units\":\"screen\",\"level\":\"overlay\",\"line_alpha\":1.0,\"line_color\":\"black\",\"line_dash\":[4,4],\"line_width\":2,\"right_units\":\"screen\",\"syncable\":false,\"top_units\":\"screen\"},\"id\":\"21139\",\"type\":\"BoxAnnotation\"},{\"attributes\":{\"fill_alpha\":{\"value\":0.1},\"fill_color\":{\"value\":\"#30a2da\"},\"line_alpha\":{\"value\":0.1},\"line_color\":{\"value\":\"#30a2da\"},\"size\":{\"value\":5.477225575051661},\"x\":{\"field\":\"Spending per pupil\"},\"y\":{\"field\":\"Murder and non-negligent manslaughter per 100k\"}},\"id\":\"21151\",\"type\":\"Scatter\"},{\"attributes\":{},\"id\":\"21170\",\"type\":\"UnionRenderers\"},{\"attributes\":{\"fill_alpha\":{\"value\":0.2},\"fill_color\":{\"value\":\"#30a2da\"},\"line_alpha\":{\"value\":0.2},\"line_color\":{\"value\":\"#30a2da\"},\"size\":{\"value\":5.477225575051661},\"x\":{\"field\":\"Spending per pupil\"},\"y\":{\"field\":\"Murder and non-negligent manslaughter per 100k\"}},\"id\":\"21152\",\"type\":\"Scatter\"},{\"attributes\":{\"margin\":[5,5,5,5],\"name\":\"HSpacer41403\",\"sizing_mode\":\"stretch_width\"},\"id\":\"21182\",\"type\":\"Spacer\"},{\"attributes\":{\"data_source\":{\"id\":\"21147\"},\"glyph\":{\"id\":\"21150\"},\"hover_glyph\":null,\"muted_glyph\":{\"id\":\"21152\"},\"nonselection_glyph\":{\"id\":\"21151\"},\"selection_glyph\":{\"id\":\"21155\"},\"view\":{\"id\":\"21154\"}},\"id\":\"21153\",\"type\":\"GlyphRenderer\"},{\"attributes\":{\"children\":[{\"id\":\"21113\"},{\"id\":\"21117\"},{\"id\":\"21182\"}],\"margin\":[0,0,0,0],\"name\":\"Row41398\",\"tags\":[\"embedded\"]},\"id\":\"21112\",\"type\":\"Row\"},{\"attributes\":{\"data\":{\"Murder and non-negligent manslaughter per 100k\":{\"__ndarray__\":\"zczMzMzMIEAAAAAAAAAcQAAAAAAAABZAzczMzMzMHECamZmZmZkTQJqZmZmZmQ1AmpmZmZmZAUCamZmZmZkXQJqZmZmZmRVAZmZmZmZmGkAAAAAAAAAEQDMzMzMzMwdAZmZmZmZmIEBmZmZmZmYaQGZmZmZmZgJAZmZmZmZmDkCamZmZmZkXQJqZmZmZmSdAAAAAAAAA+D8AAAAAAAAgQAAAAAAAAABAAAAAAAAAGEDNzMzMzMz8PwAAAAAAACBAmpmZmZmZIUAAAAAAAAAMQM3MzMzMzARAZmZmZmZmHkDNzMzMzMz0P83MzMzMzBBAzczMzMzMGkCamZmZmZkJQM3MzMzMzBpAAAAAAAAAAEBmZmZmZmYWQM3MzMzMzBhAZmZmZmZmBkDNzMzMzMwUQJqZmZmZmQVAmpmZmZmZHUDNzMzMzMwIQDMzMzMzMx1AMzMzMzMzFUAzMzMzMzMDQJqZmZmZmQFAMzMzMzMzF0CamZmZmZkFQJqZmZmZmRFAAAAAAAAAEEAzMzMzMzMLQAAAAAAAAPh/\",\"dtype\":\"float64\",\"order\":\"little\",\"shape\":[51]},\"Murder_and_non_hyphen_minus_negligent_manslaughter_per_100k\":{\"__ndarray__\":\"zczMzMzMIEAAAAAAAAAcQAAAAAAAABZAzczMzMzMHECamZmZmZkTQJqZmZmZmQ1AmpmZmZmZAUCamZmZmZkXQJqZmZmZmRVAZmZmZmZmGkAAAAAAAAAEQDMzMzMzMwdAZmZmZmZmIEBmZmZmZmYaQGZmZmZmZgJAZmZmZmZmDkCamZmZmZkXQJqZmZmZmSdAAAAAAAAA+D8AAAAAAAAgQAAAAAAAAABAAAAAAAAAGEDNzMzMzMz8PwAAAAAAACBAmpmZmZmZIUAAAAAAAAAMQM3MzMzMzARAZmZmZmZmHkDNzMzMzMz0P83MzMzMzBBAzczMzMzMGkCamZmZmZkJQM3MzMzMzBpAAAAAAAAAAEBmZmZmZmYWQM3MzMzMzBhAZmZmZmZmBkDNzMzMzMwUQJqZmZmZmQVAmpmZmZmZHUDNzMzMzMwIQDMzMzMzMx1AMzMzMzMzFUAzMzMzMzMDQJqZmZmZmQFAMzMzMzMzF0CamZmZmZkFQJqZmZmZmRFAAAAAAAAAEEAzMzMzMzMLQAAAAAAAAPh/\",\"dtype\":\"float64\",\"order\":\"little\",\"shape\":[51]},\"Spending per pupil\":{\"__ndarray__\":\"AAAAAADSwkAAAAAAADDQQAAAAAAAWcFAAAAAAAB8w0AAAAAAAKLGQAAAAACA3cNAAAAAAED30EAAAAAAgP/LQAAAAAAAucNAAAAAAIBGxUAAAAAAgEXNQAAAAAAAzb9AAAAAAIBUyEAAAAAAACTIQAAAAACAJMZAAAAAAIBRx0AAAAAAAI3DQAAAAACAX8dAAAAAAACxykAAAAAAAGvOQAAAAAAAx89AAAAAAIBpx0AAAAAAALzIQAAAAACAa8FAAAAAAIBsxEAAAAAAAAHGQAAAAAAACsdAAAAAAIAgxEAAAAAAgM7KQAAAAACAbtJAAAAAAAABxkAAAAAAQCnUQAAAAACAusRAAAAAAADIxkAAAAAAgAXJQAAAAACARMJAAAAAAAA3xUAAAAAAgFfNQAAAAAAA6M1AAAAAAIDvxEAAAAAAgFzDQAAAAAAAQsBAAAAAAAAlxEAAAAAAABK/QAAAAAAAtdBAAAAAAAC5x0AAAAAAAHvGQAAAAAAAdMVAAAAAAIBJyEAAAAAAgMnSQAAAAAAAAPh/\",\"dtype\":\"float64\",\"order\":\"little\",\"shape\":[51]},\"Spending_per_pupil\":{\"__ndarray__\":\"AAAAAADSwkAAAAAAADDQQAAAAAAAWcFAAAAAAAB8w0AAAAAAAKLGQAAAAACA3cNAAAAAAED30EAAAAAAgP/LQAAAAAAAucNAAAAAAIBGxUAAAAAAgEXNQAAAAAAAzb9AAAAAAIBUyEAAAAAAACTIQAAAAACAJMZAAAAAAIBRx0AAAAAAAI3DQAAAAACAX8dAAAAAAACxykAAAAAAAGvOQAAAAAAAx89AAAAAAIBpx0AAAAAAALzIQAAAAACAa8FAAAAAAIBsxEAAAAAAAAHGQAAAAAAACsdAAAAAAIAgxEAAAAAAgM7KQAAAAACAbtJAAAAAAAABxkAAAAAAQCnUQAAAAACAusRAAAAAAADIxkAAAAAAgAXJQAAAAACARMJAAAAAAAA3xUAAAAAAgFfNQAAAAAAA6M1AAAAAAIDvxEAAAAAAgFzDQAAAAAAAQsBAAAAAAAAlxEAAAAAAABK/QAAAAAAAtdBAAAAAAAC5x0AAAAAAAHvGQAAAAAAAdMVAAAAAAIBJyEAAAAAAgMnSQAAAAAAAAPh/\",\"dtype\":\"float64\",\"order\":\"little\",\"shape\":[51]},\"State\":[\"Alabama\",\"Alaska\",\"Arizona\",\"Arkansas\",\"California\",\"Colorado\",\"Connecticut\",\"Delaware\",\"Florida\",\"Georgia\",\"Hawaii\",\"Idaho\",\"Illinois \",\"Indiana\",\"Iowa\",\"Kansas\",\"Kentucky\",\"Louisiana\",\"Maine\",\"Maryland \",\"Massachussets \",\"Michigan\",\"Minnesota\",\"Mississippi\",\"Missouri\",\"Montana\",\"Nebraska\",\"Nevada\",\"New Hampshire\",\"New Jersey\",\"New Mexico\",\"New York\",\"North Carolina\",\"North Dakota\",\"Ohio\",\"Oklahoma\",\"Oregon\",\"Pennsylvania \",\"Rhode Island\",\"South Carolina\",\"South Dakota\",\"Tennessee\",\"Texas\",\"Utah\",\"Vermont\",\"Virginia\",\"Washington\",\"West Virginia\",\"Wisconsin \",\"Wyoming\",\"nan\"]},\"selected\":{\"id\":\"21148\"},\"selection_policy\":{\"id\":\"21170\"}},\"id\":\"21147\",\"type\":\"ColumnDataSource\"},{\"attributes\":{},\"id\":\"21134\",\"type\":\"SaveTool\"},{\"attributes\":{\"margin\":[5,5,5,5],\"name\":\"HSpacer41402\",\"sizing_mode\":\"stretch_width\"},\"id\":\"21113\",\"type\":\"Spacer\"},{\"attributes\":{},\"id\":\"21135\",\"type\":\"PanTool\"},{\"attributes\":{},\"id\":\"21160\",\"type\":\"AllLabels\"},{\"attributes\":{},\"id\":\"21127\",\"type\":\"BasicTicker\"},{\"attributes\":{},\"id\":\"21136\",\"type\":\"WheelZoomTool\"}],\"root_ids\":[\"21112\"]},\"title\":\"Bokeh Application\",\"version\":\"2.3.2\"}};\n",
       "    var render_items = [{\"docid\":\"353d05d5-b735-4e8c-b0c3-a12229cc637a\",\"root_ids\":[\"21112\"],\"roots\":{\"21112\":\"de1c671b-fa22-44bc-959d-04c4ac3c6d93\"}}];\n",
       "    root.Bokeh.embed.embed_items_notebook(docs_json, render_items);\n",
       "  }\n",
       "  if (root.Bokeh !== undefined && root.Bokeh.Panel !== undefined) {\n",
       "    embed_document(root);\n",
       "  } else {\n",
       "    var attempts = 0;\n",
       "    var timer = setInterval(function(root) {\n",
       "      if (root.Bokeh !== undefined && root.Bokeh.Panel !== undefined) {\n",
       "        clearInterval(timer);\n",
       "        embed_document(root);\n",
       "      } else if (document.readyState == \"complete\") {\n",
       "        attempts++;\n",
       "        if (attempts > 200) {\n",
       "          clearInterval(timer);\n",
       "          console.log(\"Bokeh: ERROR: Unable to run BokehJS code because BokehJS library is missing\");\n",
       "        }\n",
       "      }\n",
       "    }, 25, root)\n",
       "  }\n",
       "})(window);</script>"
      ],
      "text/plain": [
       ":Scatter   [Spending per pupil]   (Murder and non-negligent manslaughter per 100k,State)"
      ]
     },
     "execution_count": 381,
     "metadata": {
      "application/vnd.holoviews_exec.v0+json": {
       "id": "21112"
      }
     },
     "output_type": "execute_result"
    }
   ],
   "source": [
    "#same as above\n",
    "murder_100k= crime_data.hvplot.scatter(\n",
    "    x=\"Spending per pupil\",\n",
    "    y='Murder and non-negligent manslaughter per 100k',\n",
    "    height=500,\n",
    "    width=700,\n",
    "    ylabel= 'Murder and non-negligent manslaughter per 100k',\n",
    "    xlabel='Spending per Student',\n",
    "    hover_data={'State'},\n",
    "    hover_cols=\"State\",\n",
    "    title=\"Murder and Non-Negligent vs Spending per Student\")\n",
    "murder_100k"
   ]
  },
  {
   "cell_type": "code",
   "execution_count": 409,
   "id": "9b27150c-fbd2-4d73-952f-f2202549aeb0",
   "metadata": {},
   "outputs": [
    {
     "data": {
      "text/plain": [
       "-0.3149547956388011"
      ]
     },
     "execution_count": 409,
     "metadata": {},
     "output_type": "execute_result"
    }
   ],
   "source": [
    "#same as above\n",
    "#drops outlier\n",
    "murder100k_corr = crime_data[\"Spending per pupil\"].drop([17]).astype(float).corr(crime_data[\"Murder and non-negligent manslaughter per 100k\"].drop([17]).astype(float), method='pearson') \n",
    "murder100k_corr"
   ]
  },
  {
   "cell_type": "code",
   "execution_count": 383,
   "id": "fe53bc88-bb14-480b-b7bd-a30ce6c59807",
   "metadata": {},
   "outputs": [
    {
     "name": "stderr",
     "output_type": "stream",
     "text": [
      "WARNING:param.main: hover_data option not found for scatter plot; similar options include: ['hover_alpha', 'sort_date', 'hover_line_alpha']\n"
     ]
    },
    {
     "data": {},
     "metadata": {},
     "output_type": "display_data"
    },
    {
     "data": {
      "application/vnd.holoviews_exec.v0+json": "",
      "text/html": [
       "<div id='21234'>\n",
       "\n",
       "\n",
       "\n",
       "\n",
       "\n",
       "  <div class=\"bk-root\" id=\"1f38e2cd-390e-448a-8207-abb38a6992b4\" data-root-id=\"21234\"></div>\n",
       "</div>\n",
       "<script type=\"application/javascript\">(function(root) {\n",
       "  function embed_document(root) {\n",
       "    var docs_json = {\"bc75851a-a224-41b6-97e6-260a262b43d4\":{\"defs\":[{\"extends\":null,\"module\":null,\"name\":\"ReactiveHTML1\",\"overrides\":[],\"properties\":[]},{\"extends\":null,\"module\":null,\"name\":\"FlexBox1\",\"overrides\":[],\"properties\":[{\"default\":\"flex-start\",\"kind\":null,\"name\":\"align_content\"},{\"default\":\"flex-start\",\"kind\":null,\"name\":\"align_items\"},{\"default\":\"row\",\"kind\":null,\"name\":\"flex_direction\"},{\"default\":\"wrap\",\"kind\":null,\"name\":\"flex_wrap\"},{\"default\":\"flex-start\",\"kind\":null,\"name\":\"justify_content\"}]},{\"extends\":null,\"module\":null,\"name\":\"TemplateActions1\",\"overrides\":[],\"properties\":[{\"default\":0,\"kind\":null,\"name\":\"open_modal\"},{\"default\":0,\"kind\":null,\"name\":\"close_modal\"}]},{\"extends\":null,\"module\":null,\"name\":\"MaterialTemplateActions1\",\"overrides\":[],\"properties\":[{\"default\":0,\"kind\":null,\"name\":\"open_modal\"},{\"default\":0,\"kind\":null,\"name\":\"close_modal\"}]}],\"roots\":{\"references\":[{\"attributes\":{},\"id\":\"21249\",\"type\":\"BasicTicker\"},{\"attributes\":{},\"id\":\"21292\",\"type\":\"UnionRenderers\"},{\"attributes\":{\"margin\":[5,5,5,5],\"name\":\"HSpacer41608\",\"sizing_mode\":\"stretch_width\"},\"id\":\"21235\",\"type\":\"Spacer\"},{\"attributes\":{\"overlay\":{\"id\":\"21261\"}},\"id\":\"21259\",\"type\":\"BoxZoomTool\"},{\"attributes\":{},\"id\":\"21258\",\"type\":\"WheelZoomTool\"},{\"attributes\":{},\"id\":\"21283\",\"type\":\"BasicTickFormatter\"},{\"attributes\":{},\"id\":\"21260\",\"type\":\"ResetTool\"},{\"attributes\":{},\"id\":\"21282\",\"type\":\"AllLabels\"},{\"attributes\":{\"text\":\"Larceny-Theft per 100k vs Spending per Student\",\"text_color\":\"black\",\"text_font_size\":\"12pt\"},\"id\":\"21240\",\"type\":\"Title\"},{\"attributes\":{\"axis\":{\"id\":\"21248\"},\"grid_line_color\":null,\"ticker\":null},\"id\":\"21251\",\"type\":\"Grid\"},{\"attributes\":{},\"id\":\"21244\",\"type\":\"LinearScale\"},{\"attributes\":{},\"id\":\"21246\",\"type\":\"LinearScale\"},{\"attributes\":{},\"id\":\"21279\",\"type\":\"AllLabels\"},{\"attributes\":{\"axis_label\":\"Larceny-Theft per 100k\",\"formatter\":{\"id\":\"21283\"},\"major_label_policy\":{\"id\":\"21282\"},\"ticker\":{\"id\":\"21253\"}},\"id\":\"21252\",\"type\":\"LinearAxis\"},{\"attributes\":{\"axis_label\":\"Spending per Student\",\"formatter\":{\"id\":\"21280\"},\"major_label_policy\":{\"id\":\"21279\"},\"ticker\":{\"id\":\"21249\"}},\"id\":\"21248\",\"type\":\"LinearAxis\"},{\"attributes\":{},\"id\":\"21270\",\"type\":\"Selection\"},{\"attributes\":{\"below\":[{\"id\":\"21248\"}],\"center\":[{\"id\":\"21251\"},{\"id\":\"21255\"}],\"height\":500,\"left\":[{\"id\":\"21252\"}],\"margin\":[5,5,5,5],\"min_border_bottom\":10,\"min_border_left\":10,\"min_border_right\":10,\"min_border_top\":10,\"renderers\":[{\"id\":\"21275\"}],\"sizing_mode\":\"fixed\",\"title\":{\"id\":\"21240\"},\"toolbar\":{\"id\":\"21262\"},\"width\":700,\"x_range\":{\"id\":\"21236\"},\"x_scale\":{\"id\":\"21244\"},\"y_range\":{\"id\":\"21237\"},\"y_scale\":{\"id\":\"21246\"}},\"id\":\"21239\",\"subtype\":\"Figure\",\"type\":\"Plot\"},{\"attributes\":{},\"id\":\"21253\",\"type\":\"BasicTicker\"},{\"attributes\":{\"children\":[{\"id\":\"21235\"},{\"id\":\"21239\"},{\"id\":\"21304\"}],\"margin\":[0,0,0,0],\"name\":\"Row41604\",\"tags\":[\"embedded\"]},\"id\":\"21234\",\"type\":\"Row\"},{\"attributes\":{\"axis\":{\"id\":\"21252\"},\"dimension\":1,\"grid_line_color\":null,\"ticker\":null},\"id\":\"21255\",\"type\":\"Grid\"},{\"attributes\":{\"active_multi\":null,\"tools\":[{\"id\":\"21238\"},{\"id\":\"21256\"},{\"id\":\"21257\"},{\"id\":\"21258\"},{\"id\":\"21259\"},{\"id\":\"21260\"}]},\"id\":\"21262\",\"type\":\"Toolbar\"},{\"attributes\":{\"callback\":null,\"renderers\":[{\"id\":\"21275\"}],\"tags\":[\"hv_created\"],\"tooltips\":[[\"Spending per pupil\",\"@{Spending_per_pupil}\"],[\"Larceny-theft per 100k\",\"@{Larceny_hyphen_minus_theft_per_100k}\"],[\"State\",\"@{State}\"]]},\"id\":\"21238\",\"type\":\"HoverTool\"},{\"attributes\":{\"end\":21551.5,\"reset_end\":21551.5,\"reset_start\":7047.5,\"start\":7047.5,\"tags\":[[[\"Spending per pupil\",\"Spending per pupil\",null]]]},\"id\":\"21236\",\"type\":\"Range1d\"},{\"attributes\":{\"end\":2683.12,\"reset_end\":2683.12,\"reset_start\":994.48,\"start\":994.48,\"tags\":[[[\"Larceny-theft per 100k\",\"Larceny-theft per 100k\",null]]]},\"id\":\"21237\",\"type\":\"Range1d\"},{\"attributes\":{\"bottom_units\":\"screen\",\"fill_alpha\":0.5,\"fill_color\":\"lightgrey\",\"left_units\":\"screen\",\"level\":\"overlay\",\"line_alpha\":1.0,\"line_color\":\"black\",\"line_dash\":[4,4],\"line_width\":2,\"right_units\":\"screen\",\"syncable\":false,\"top_units\":\"screen\"},\"id\":\"21261\",\"type\":\"BoxAnnotation\"},{\"attributes\":{\"data_source\":{\"id\":\"21269\"},\"glyph\":{\"id\":\"21272\"},\"hover_glyph\":null,\"muted_glyph\":{\"id\":\"21274\"},\"nonselection_glyph\":{\"id\":\"21273\"},\"selection_glyph\":{\"id\":\"21277\"},\"view\":{\"id\":\"21276\"}},\"id\":\"21275\",\"type\":\"GlyphRenderer\"},{\"attributes\":{\"fill_color\":{\"value\":\"#30a2da\"},\"line_color\":{\"value\":\"#30a2da\"},\"size\":{\"value\":5.477225575051661},\"x\":{\"field\":\"Spending per pupil\"},\"y\":{\"field\":\"Larceny-theft per 100k\"}},\"id\":\"21272\",\"type\":\"Scatter\"},{\"attributes\":{\"fill_alpha\":{\"value\":0.1},\"fill_color\":{\"value\":\"#30a2da\"},\"line_alpha\":{\"value\":0.1},\"line_color\":{\"value\":\"#30a2da\"},\"size\":{\"value\":5.477225575051661},\"x\":{\"field\":\"Spending per pupil\"},\"y\":{\"field\":\"Larceny-theft per 100k\"}},\"id\":\"21273\",\"type\":\"Scatter\"},{\"attributes\":{\"fill_alpha\":{\"value\":0.2},\"fill_color\":{\"value\":\"#30a2da\"},\"line_alpha\":{\"value\":0.2},\"line_color\":{\"value\":\"#30a2da\"},\"size\":{\"value\":5.477225575051661},\"x\":{\"field\":\"Spending per pupil\"},\"y\":{\"field\":\"Larceny-theft per 100k\"}},\"id\":\"21274\",\"type\":\"Scatter\"},{\"attributes\":{},\"id\":\"21257\",\"type\":\"PanTool\"},{\"attributes\":{\"source\":{\"id\":\"21269\"}},\"id\":\"21276\",\"type\":\"CDSView\"},{\"attributes\":{\"margin\":[5,5,5,5],\"name\":\"HSpacer41609\",\"sizing_mode\":\"stretch_width\"},\"id\":\"21304\",\"type\":\"Spacer\"},{\"attributes\":{\"angle\":{\"value\":0.0},\"fill_alpha\":{\"value\":1.0},\"fill_color\":{\"value\":\"#30a2da\"},\"hatch_alpha\":{\"value\":1.0},\"hatch_color\":{\"value\":\"black\"},\"hatch_scale\":{\"value\":12.0},\"hatch_weight\":{\"value\":1.0},\"line_alpha\":{\"value\":1.0},\"line_cap\":{\"value\":\"butt\"},\"line_color\":{\"value\":\"#30a2da\"},\"line_dash\":{\"value\":[]},\"line_dash_offset\":{\"value\":0},\"line_join\":{\"value\":\"bevel\"},\"line_width\":{\"value\":1},\"marker\":{\"value\":\"circle\"},\"size\":{\"value\":5.477225575051661},\"x\":{\"field\":\"Spending per pupil\"},\"y\":{\"field\":\"Larceny-theft per 100k\"}},\"id\":\"21277\",\"type\":\"Scatter\"},{\"attributes\":{\"data\":{\"Larceny-theft per 100k\":{\"__ndarray__\":\"MzMzMzNZn0BmZmZmZrWiQDMzMzMz8KBAMzMzMzNzoUAAAAAAAFyZQDMzMzMzjZ5AAAAAAADClEBmZmZmZj2gQDMzMzMzG59AMzMzMzOkoECamZmZmf+gQJqZmZmZdZNAZmZmZma6l0AzMzMzM/WcQGZmZmZmnpZAmpmZmZmrnkCamZmZmWWXQJqZmZmZQKJAMzMzMzMblECamZmZmTWaQAAAAAAAJJJAZmZmZmZwlEBmZmZmZpiZQGZmZmZmyJxAmpmZmZnpnkAAAAAAAOyfQGZmZmZmNppAZmZmZmZkl0DNzMzMzCaTQM3MzMzMvJFAzczMzMzco0AAAAAAANyTQM3MzMzMUJ1AmpmZmZkjmUAzMzMzM6GcQJqZmZmZLZ5AAAAAAABsoUAzMzMzM0uVQAAAAAAAtJVAAAAAAAD1oUCamZmZmdGWQM3MzMzMkp9AZmZmZmbonkBmZmZmZl6hQGZmZmZmjpRAZmZmZmaEl0CamZmZmZCiQDMzMzMz6ZVAMzMzMzNDlkDNzMzMzLiXQAAAAAAAAPh/\",\"dtype\":\"float64\",\"order\":\"little\",\"shape\":[51]},\"Larceny_hyphen_minus_theft_per_100k\":{\"__ndarray__\":\"MzMzMzNZn0BmZmZmZrWiQDMzMzMz8KBAMzMzMzNzoUAAAAAAAFyZQDMzMzMzjZ5AAAAAAADClEBmZmZmZj2gQDMzMzMzG59AMzMzMzOkoECamZmZmf+gQJqZmZmZdZNAZmZmZma6l0AzMzMzM/WcQGZmZmZmnpZAmpmZmZmrnkCamZmZmWWXQJqZmZmZQKJAMzMzMzMblECamZmZmTWaQAAAAAAAJJJAZmZmZmZwlEBmZmZmZpiZQGZmZmZmyJxAmpmZmZnpnkAAAAAAAOyfQGZmZmZmNppAZmZmZmZkl0DNzMzMzCaTQM3MzMzMvJFAzczMzMzco0AAAAAAANyTQM3MzMzMUJ1AmpmZmZkjmUAzMzMzM6GcQJqZmZmZLZ5AAAAAAABsoUAzMzMzM0uVQAAAAAAAtJVAAAAAAAD1oUCamZmZmdGWQM3MzMzMkp9AZmZmZmbonkBmZmZmZl6hQGZmZmZmjpRAZmZmZmaEl0CamZmZmZCiQDMzMzMz6ZVAMzMzMzNDlkDNzMzMzLiXQAAAAAAAAPh/\",\"dtype\":\"float64\",\"order\":\"little\",\"shape\":[51]},\"Spending per pupil\":{\"__ndarray__\":\"AAAAAADSwkAAAAAAADDQQAAAAAAAWcFAAAAAAAB8w0AAAAAAAKLGQAAAAACA3cNAAAAAAED30EAAAAAAgP/LQAAAAAAAucNAAAAAAIBGxUAAAAAAgEXNQAAAAAAAzb9AAAAAAIBUyEAAAAAAACTIQAAAAACAJMZAAAAAAIBRx0AAAAAAAI3DQAAAAACAX8dAAAAAAACxykAAAAAAAGvOQAAAAAAAx89AAAAAAIBpx0AAAAAAALzIQAAAAACAa8FAAAAAAIBsxEAAAAAAAAHGQAAAAAAACsdAAAAAAIAgxEAAAAAAgM7KQAAAAACAbtJAAAAAAAABxkAAAAAAQCnUQAAAAACAusRAAAAAAADIxkAAAAAAgAXJQAAAAACARMJAAAAAAAA3xUAAAAAAgFfNQAAAAAAA6M1AAAAAAIDvxEAAAAAAgFzDQAAAAAAAQsBAAAAAAAAlxEAAAAAAABK/QAAAAAAAtdBAAAAAAAC5x0AAAAAAAHvGQAAAAAAAdMVAAAAAAIBJyEAAAAAAgMnSQAAAAAAAAPh/\",\"dtype\":\"float64\",\"order\":\"little\",\"shape\":[51]},\"Spending_per_pupil\":{\"__ndarray__\":\"AAAAAADSwkAAAAAAADDQQAAAAAAAWcFAAAAAAAB8w0AAAAAAAKLGQAAAAACA3cNAAAAAAED30EAAAAAAgP/LQAAAAAAAucNAAAAAAIBGxUAAAAAAgEXNQAAAAAAAzb9AAAAAAIBUyEAAAAAAACTIQAAAAACAJMZAAAAAAIBRx0AAAAAAAI3DQAAAAACAX8dAAAAAAACxykAAAAAAAGvOQAAAAAAAx89AAAAAAIBpx0AAAAAAALzIQAAAAACAa8FAAAAAAIBsxEAAAAAAAAHGQAAAAAAACsdAAAAAAIAgxEAAAAAAgM7KQAAAAACAbtJAAAAAAAABxkAAAAAAQCnUQAAAAACAusRAAAAAAADIxkAAAAAAgAXJQAAAAACARMJAAAAAAAA3xUAAAAAAgFfNQAAAAAAA6M1AAAAAAIDvxEAAAAAAgFzDQAAAAAAAQsBAAAAAAAAlxEAAAAAAABK/QAAAAAAAtdBAAAAAAAC5x0AAAAAAAHvGQAAAAAAAdMVAAAAAAIBJyEAAAAAAgMnSQAAAAAAAAPh/\",\"dtype\":\"float64\",\"order\":\"little\",\"shape\":[51]},\"State\":[\"Alabama\",\"Alaska\",\"Arizona\",\"Arkansas\",\"California\",\"Colorado\",\"Connecticut\",\"Delaware\",\"Florida\",\"Georgia\",\"Hawaii\",\"Idaho\",\"Illinois \",\"Indiana\",\"Iowa\",\"Kansas\",\"Kentucky\",\"Louisiana\",\"Maine\",\"Maryland \",\"Massachussets \",\"Michigan\",\"Minnesota\",\"Mississippi\",\"Missouri\",\"Montana\",\"Nebraska\",\"Nevada\",\"New Hampshire\",\"New Jersey\",\"New Mexico\",\"New York\",\"North Carolina\",\"North Dakota\",\"Ohio\",\"Oklahoma\",\"Oregon\",\"Pennsylvania \",\"Rhode Island\",\"South Carolina\",\"South Dakota\",\"Tennessee\",\"Texas\",\"Utah\",\"Vermont\",\"Virginia\",\"Washington\",\"West Virginia\",\"Wisconsin \",\"Wyoming\",\"nan\"]},\"selected\":{\"id\":\"21270\"},\"selection_policy\":{\"id\":\"21292\"}},\"id\":\"21269\",\"type\":\"ColumnDataSource\"},{\"attributes\":{},\"id\":\"21256\",\"type\":\"SaveTool\"},{\"attributes\":{},\"id\":\"21280\",\"type\":\"BasicTickFormatter\"}],\"root_ids\":[\"21234\"]},\"title\":\"Bokeh Application\",\"version\":\"2.3.2\"}};\n",
       "    var render_items = [{\"docid\":\"bc75851a-a224-41b6-97e6-260a262b43d4\",\"root_ids\":[\"21234\"],\"roots\":{\"21234\":\"1f38e2cd-390e-448a-8207-abb38a6992b4\"}}];\n",
       "    root.Bokeh.embed.embed_items_notebook(docs_json, render_items);\n",
       "  }\n",
       "  if (root.Bokeh !== undefined && root.Bokeh.Panel !== undefined) {\n",
       "    embed_document(root);\n",
       "  } else {\n",
       "    var attempts = 0;\n",
       "    var timer = setInterval(function(root) {\n",
       "      if (root.Bokeh !== undefined && root.Bokeh.Panel !== undefined) {\n",
       "        clearInterval(timer);\n",
       "        embed_document(root);\n",
       "      } else if (document.readyState == \"complete\") {\n",
       "        attempts++;\n",
       "        if (attempts > 200) {\n",
       "          clearInterval(timer);\n",
       "          console.log(\"Bokeh: ERROR: Unable to run BokehJS code because BokehJS library is missing\");\n",
       "        }\n",
       "      }\n",
       "    }, 25, root)\n",
       "  }\n",
       "})(window);</script>"
      ],
      "text/plain": [
       ":Scatter   [Spending per pupil]   (Larceny-theft per 100k,State)"
      ]
     },
     "execution_count": 383,
     "metadata": {
      "application/vnd.holoviews_exec.v0+json": {
       "id": "21234"
      }
     },
     "output_type": "execute_result"
    }
   ],
   "source": [
    "#same as above\n",
    "theft_100k= crime_data.hvplot.scatter(\n",
    "    x=\"Spending per pupil\",\n",
    "    y='Larceny-theft per 100k',\n",
    "    height=500,\n",
    "    width=700,\n",
    "    ylabel= 'Larceny-Theft per 100k',\n",
    "    xlabel='Spending per Student',\n",
    "    hover_data={'State'},\n",
    "    hover_cols=\"State\",\n",
    "    title=\"Larceny-Theft per 100k vs Spending per Student\")\n",
    "theft_100k\n"
   ]
  },
  {
   "cell_type": "code",
   "execution_count": 384,
   "id": "f82a33fa-2e58-4533-9dba-5844458c60a5",
   "metadata": {},
   "outputs": [
    {
     "data": {
      "text/plain": [
       "-0.42532787859158466"
      ]
     },
     "execution_count": 384,
     "metadata": {},
     "output_type": "execute_result"
    }
   ],
   "source": [
    "#same as above\n",
    "theft100k_corr = crime_data[\"Spending per pupil\"].astype(float).corr(crime_data[\"Larceny-theft per 100k\"].astype(float), method='pearson') \n",
    "theft100k_corr"
   ]
  },
  {
   "cell_type": "code",
   "execution_count": 385,
   "id": "5ed7135f-a0a0-4a28-904e-ec0ee389598e",
   "metadata": {},
   "outputs": [
    {
     "name": "stderr",
     "output_type": "stream",
     "text": [
      "WARNING:param.main: hover_data option not found for scatter plot; similar options include: ['hover_alpha', 'sort_date', 'hover_line_alpha']\n"
     ]
    },
    {
     "data": {},
     "metadata": {},
     "output_type": "display_data"
    },
    {
     "data": {
      "application/vnd.holoviews_exec.v0+json": "",
      "text/html": [
       "<div id='21356'>\n",
       "\n",
       "\n",
       "\n",
       "\n",
       "\n",
       "  <div class=\"bk-root\" id=\"d7ade508-4afb-4651-87c6-0a74e484995a\" data-root-id=\"21356\"></div>\n",
       "</div>\n",
       "<script type=\"application/javascript\">(function(root) {\n",
       "  function embed_document(root) {\n",
       "    var docs_json = {\"72268057-b268-4e3e-8e2e-526e2575d6d1\":{\"defs\":[{\"extends\":null,\"module\":null,\"name\":\"ReactiveHTML1\",\"overrides\":[],\"properties\":[]},{\"extends\":null,\"module\":null,\"name\":\"FlexBox1\",\"overrides\":[],\"properties\":[{\"default\":\"flex-start\",\"kind\":null,\"name\":\"align_content\"},{\"default\":\"flex-start\",\"kind\":null,\"name\":\"align_items\"},{\"default\":\"row\",\"kind\":null,\"name\":\"flex_direction\"},{\"default\":\"wrap\",\"kind\":null,\"name\":\"flex_wrap\"},{\"default\":\"flex-start\",\"kind\":null,\"name\":\"justify_content\"}]},{\"extends\":null,\"module\":null,\"name\":\"TemplateActions1\",\"overrides\":[],\"properties\":[{\"default\":0,\"kind\":null,\"name\":\"open_modal\"},{\"default\":0,\"kind\":null,\"name\":\"close_modal\"}]},{\"extends\":null,\"module\":null,\"name\":\"MaterialTemplateActions1\",\"overrides\":[],\"properties\":[{\"default\":0,\"kind\":null,\"name\":\"open_modal\"},{\"default\":0,\"kind\":null,\"name\":\"close_modal\"}]}],\"roots\":{\"references\":[{\"attributes\":{},\"id\":\"21375\",\"type\":\"BasicTicker\"},{\"attributes\":{},\"id\":\"21378\",\"type\":\"SaveTool\"},{\"attributes\":{\"below\":[{\"id\":\"21370\"}],\"center\":[{\"id\":\"21373\"},{\"id\":\"21377\"}],\"height\":500,\"left\":[{\"id\":\"21374\"}],\"margin\":[5,5,5,5],\"min_border_bottom\":10,\"min_border_left\":10,\"min_border_right\":10,\"min_border_top\":10,\"renderers\":[{\"id\":\"21397\"}],\"sizing_mode\":\"fixed\",\"title\":{\"id\":\"21362\"},\"toolbar\":{\"id\":\"21384\"},\"width\":700,\"x_range\":{\"id\":\"21358\"},\"x_scale\":{\"id\":\"21366\"},\"y_range\":{\"id\":\"21359\"},\"y_scale\":{\"id\":\"21368\"}},\"id\":\"21361\",\"subtype\":\"Figure\",\"type\":\"Plot\"},{\"attributes\":{\"axis_label\":\"Spending per Student\",\"formatter\":{\"id\":\"21402\"},\"major_label_policy\":{\"id\":\"21401\"},\"ticker\":{\"id\":\"21371\"}},\"id\":\"21370\",\"type\":\"LinearAxis\"},{\"attributes\":{\"children\":[{\"id\":\"21357\"},{\"id\":\"21361\"},{\"id\":\"21426\"}],\"margin\":[0,0,0,0],\"name\":\"Row41810\",\"tags\":[\"embedded\"]},\"id\":\"21356\",\"type\":\"Row\"},{\"attributes\":{\"data\":{\"Rape (rd) per 100k\":{\"__ndarray__\":\"MzMzMzOzQ0DNzMzMzLxhQAAAAAAAwEdAzczMzMzsUUAzMzMzM3NBQM3MzMzMDFBAzczMzMxMNUAzMzMzMzNAQDMzMzMzc0JAAAAAAAAAQUBmZmZmZqZFQJqZmZmZWUVAZmZmZmYmQ0CamZmZmdlCQGZmZmZm5kNAzczMzMyMRkAAAAAAAIBCQGZmZmZmZkNAZmZmZmbmPkAzMzMzMzM9QDMzMzMzMz9AMzMzMzPzUUAAAAAAAEBFQJqZmZmZWUVAMzMzMzPzREAzMzMzM7NLQM3MzMzMDEpAMzMzMzNzTUDNzMzMzMxFQDMzMzMzMzBAMzMzMzNTUkAzMzMzM7M/QJqZmZmZGTxAzczMzMyMRkDNzMzMzAxIQAAAAAAAAEpAAAAAAAAARUCamZmZmVlBQGZmZmZm5kRAzczMzMwMSEBmZmZmZmZNQGZmZmZmZkRAAAAAAAAASEBmZmZmZuZIQAAAAAAAgDxAAAAAAABAQECamZmZmRlFQDMzMzMz80FAmpmZmZkZQUAAAAAAAIBBQAAAAAAAAPh/\",\"dtype\":\"float64\",\"order\":\"little\",\"shape\":[51]},\"Rape_left_parenthesis_rd_right_parenthesis_per_100k\":{\"__ndarray__\":\"MzMzMzOzQ0DNzMzMzLxhQAAAAAAAwEdAzczMzMzsUUAzMzMzM3NBQM3MzMzMDFBAzczMzMxMNUAzMzMzMzNAQDMzMzMzc0JAAAAAAAAAQUBmZmZmZqZFQJqZmZmZWUVAZmZmZmYmQ0CamZmZmdlCQGZmZmZm5kNAzczMzMyMRkAAAAAAAIBCQGZmZmZmZkNAZmZmZmbmPkAzMzMzMzM9QDMzMzMzMz9AMzMzMzPzUUAAAAAAAEBFQJqZmZmZWUVAMzMzMzPzREAzMzMzM7NLQM3MzMzMDEpAMzMzMzNzTUDNzMzMzMxFQDMzMzMzMzBAMzMzMzNTUkAzMzMzM7M/QJqZmZmZGTxAzczMzMyMRkDNzMzMzAxIQAAAAAAAAEpAAAAAAAAARUCamZmZmVlBQGZmZmZm5kRAzczMzMwMSEBmZmZmZmZNQGZmZmZmZkRAAAAAAAAASEBmZmZmZuZIQAAAAAAAgDxAAAAAAABAQECamZmZmRlFQDMzMzMz80FAmpmZmZkZQUAAAAAAAIBBQAAAAAAAAPh/\",\"dtype\":\"float64\",\"order\":\"little\",\"shape\":[51]},\"Spending per pupil\":{\"__ndarray__\":\"AAAAAADSwkAAAAAAADDQQAAAAAAAWcFAAAAAAAB8w0AAAAAAAKLGQAAAAACA3cNAAAAAAED30EAAAAAAgP/LQAAAAAAAucNAAAAAAIBGxUAAAAAAgEXNQAAAAAAAzb9AAAAAAIBUyEAAAAAAACTIQAAAAACAJMZAAAAAAIBRx0AAAAAAAI3DQAAAAACAX8dAAAAAAACxykAAAAAAAGvOQAAAAAAAx89AAAAAAIBpx0AAAAAAALzIQAAAAACAa8FAAAAAAIBsxEAAAAAAAAHGQAAAAAAACsdAAAAAAIAgxEAAAAAAgM7KQAAAAACAbtJAAAAAAAABxkAAAAAAQCnUQAAAAACAusRAAAAAAADIxkAAAAAAgAXJQAAAAACARMJAAAAAAAA3xUAAAAAAgFfNQAAAAAAA6M1AAAAAAIDvxEAAAAAAgFzDQAAAAAAAQsBAAAAAAAAlxEAAAAAAABK/QAAAAAAAtdBAAAAAAAC5x0AAAAAAAHvGQAAAAAAAdMVAAAAAAIBJyEAAAAAAgMnSQAAAAAAAAPh/\",\"dtype\":\"float64\",\"order\":\"little\",\"shape\":[51]},\"Spending_per_pupil\":{\"__ndarray__\":\"AAAAAADSwkAAAAAAADDQQAAAAAAAWcFAAAAAAAB8w0AAAAAAAKLGQAAAAACA3cNAAAAAAED30EAAAAAAgP/LQAAAAAAAucNAAAAAAIBGxUAAAAAAgEXNQAAAAAAAzb9AAAAAAIBUyEAAAAAAACTIQAAAAACAJMZAAAAAAIBRx0AAAAAAAI3DQAAAAACAX8dAAAAAAACxykAAAAAAAGvOQAAAAAAAx89AAAAAAIBpx0AAAAAAALzIQAAAAACAa8FAAAAAAIBsxEAAAAAAAAHGQAAAAAAACsdAAAAAAIAgxEAAAAAAgM7KQAAAAACAbtJAAAAAAAABxkAAAAAAQCnUQAAAAACAusRAAAAAAADIxkAAAAAAgAXJQAAAAACARMJAAAAAAAA3xUAAAAAAgFfNQAAAAAAA6M1AAAAAAIDvxEAAAAAAgFzDQAAAAAAAQsBAAAAAAAAlxEAAAAAAABK/QAAAAAAAtdBAAAAAAAC5x0AAAAAAAHvGQAAAAAAAdMVAAAAAAIBJyEAAAAAAgMnSQAAAAAAAAPh/\",\"dtype\":\"float64\",\"order\":\"little\",\"shape\":[51]},\"State\":[\"Alabama\",\"Alaska\",\"Arizona\",\"Arkansas\",\"California\",\"Colorado\",\"Connecticut\",\"Delaware\",\"Florida\",\"Georgia\",\"Hawaii\",\"Idaho\",\"Illinois \",\"Indiana\",\"Iowa\",\"Kansas\",\"Kentucky\",\"Louisiana\",\"Maine\",\"Maryland \",\"Massachussets \",\"Michigan\",\"Minnesota\",\"Mississippi\",\"Missouri\",\"Montana\",\"Nebraska\",\"Nevada\",\"New Hampshire\",\"New Jersey\",\"New Mexico\",\"New York\",\"North Carolina\",\"North Dakota\",\"Ohio\",\"Oklahoma\",\"Oregon\",\"Pennsylvania \",\"Rhode Island\",\"South Carolina\",\"South Dakota\",\"Tennessee\",\"Texas\",\"Utah\",\"Vermont\",\"Virginia\",\"Washington\",\"West Virginia\",\"Wisconsin \",\"Wyoming\",\"nan\"]},\"selected\":{\"id\":\"21392\"},\"selection_policy\":{\"id\":\"21414\"}},\"id\":\"21391\",\"type\":\"ColumnDataSource\"},{\"attributes\":{},\"id\":\"21405\",\"type\":\"BasicTickFormatter\"},{\"attributes\":{},\"id\":\"21366\",\"type\":\"LinearScale\"},{\"attributes\":{\"axis_label\":\"Rape per 100k\",\"formatter\":{\"id\":\"21405\"},\"major_label_policy\":{\"id\":\"21404\"},\"ticker\":{\"id\":\"21375\"}},\"id\":\"21374\",\"type\":\"LinearAxis\"},{\"attributes\":{},\"id\":\"21402\",\"type\":\"BasicTickFormatter\"},{\"attributes\":{\"end\":154.47,\"reset_end\":154.47,\"reset_start\":3.629999999999999,\"start\":3.629999999999999,\"tags\":[[[\"Rape (rd) per 100k\",\"Rape (rd) per 100k\",null]]]},\"id\":\"21359\",\"type\":\"Range1d\"},{\"attributes\":{\"angle\":{\"value\":0.0},\"fill_alpha\":{\"value\":1.0},\"fill_color\":{\"value\":\"#30a2da\"},\"hatch_alpha\":{\"value\":1.0},\"hatch_color\":{\"value\":\"black\"},\"hatch_scale\":{\"value\":12.0},\"hatch_weight\":{\"value\":1.0},\"line_alpha\":{\"value\":1.0},\"line_cap\":{\"value\":\"butt\"},\"line_color\":{\"value\":\"#30a2da\"},\"line_dash\":{\"value\":[]},\"line_dash_offset\":{\"value\":0},\"line_join\":{\"value\":\"bevel\"},\"line_width\":{\"value\":1},\"marker\":{\"value\":\"circle\"},\"size\":{\"value\":5.477225575051661},\"x\":{\"field\":\"Spending per pupil\"},\"y\":{\"field\":\"Rape (rd) per 100k\"}},\"id\":\"21399\",\"type\":\"Scatter\"},{\"attributes\":{},\"id\":\"21414\",\"type\":\"UnionRenderers\"},{\"attributes\":{\"active_multi\":null,\"tools\":[{\"id\":\"21360\"},{\"id\":\"21378\"},{\"id\":\"21379\"},{\"id\":\"21380\"},{\"id\":\"21381\"},{\"id\":\"21382\"}]},\"id\":\"21384\",\"type\":\"Toolbar\"},{\"attributes\":{\"source\":{\"id\":\"21391\"}},\"id\":\"21398\",\"type\":\"CDSView\"},{\"attributes\":{\"fill_alpha\":{\"value\":0.1},\"fill_color\":{\"value\":\"#30a2da\"},\"line_alpha\":{\"value\":0.1},\"line_color\":{\"value\":\"#30a2da\"},\"size\":{\"value\":5.477225575051661},\"x\":{\"field\":\"Spending per pupil\"},\"y\":{\"field\":\"Rape (rd) per 100k\"}},\"id\":\"21395\",\"type\":\"Scatter\"},{\"attributes\":{\"overlay\":{\"id\":\"21383\"}},\"id\":\"21381\",\"type\":\"BoxZoomTool\"},{\"attributes\":{},\"id\":\"21368\",\"type\":\"LinearScale\"},{\"attributes\":{\"bottom_units\":\"screen\",\"fill_alpha\":0.5,\"fill_color\":\"lightgrey\",\"left_units\":\"screen\",\"level\":\"overlay\",\"line_alpha\":1.0,\"line_color\":\"black\",\"line_dash\":[4,4],\"line_width\":2,\"right_units\":\"screen\",\"syncable\":false,\"top_units\":\"screen\"},\"id\":\"21383\",\"type\":\"BoxAnnotation\"},{\"attributes\":{\"axis\":{\"id\":\"21374\"},\"dimension\":1,\"grid_line_color\":null,\"ticker\":null},\"id\":\"21377\",\"type\":\"Grid\"},{\"attributes\":{},\"id\":\"21382\",\"type\":\"ResetTool\"},{\"attributes\":{\"data_source\":{\"id\":\"21391\"},\"glyph\":{\"id\":\"21394\"},\"hover_glyph\":null,\"muted_glyph\":{\"id\":\"21396\"},\"nonselection_glyph\":{\"id\":\"21395\"},\"selection_glyph\":{\"id\":\"21399\"},\"view\":{\"id\":\"21398\"}},\"id\":\"21397\",\"type\":\"GlyphRenderer\"},{\"attributes\":{\"fill_color\":{\"value\":\"#30a2da\"},\"line_color\":{\"value\":\"#30a2da\"},\"size\":{\"value\":5.477225575051661},\"x\":{\"field\":\"Spending per pupil\"},\"y\":{\"field\":\"Rape (rd) per 100k\"}},\"id\":\"21394\",\"type\":\"Scatter\"},{\"attributes\":{},\"id\":\"21380\",\"type\":\"WheelZoomTool\"},{\"attributes\":{\"callback\":null,\"renderers\":[{\"id\":\"21397\"}],\"tags\":[\"hv_created\"],\"tooltips\":[[\"Spending per pupil\",\"@{Spending_per_pupil}\"],[\"Rape (rd) per 100k\",\"@{Rape_left_parenthesis_rd_right_parenthesis_per_100k}\"],[\"State\",\"@{State}\"]]},\"id\":\"21360\",\"type\":\"HoverTool\"},{\"attributes\":{},\"id\":\"21404\",\"type\":\"AllLabels\"},{\"attributes\":{},\"id\":\"21371\",\"type\":\"BasicTicker\"},{\"attributes\":{},\"id\":\"21379\",\"type\":\"PanTool\"},{\"attributes\":{},\"id\":\"21392\",\"type\":\"Selection\"},{\"attributes\":{},\"id\":\"21401\",\"type\":\"AllLabels\"},{\"attributes\":{\"fill_alpha\":{\"value\":0.2},\"fill_color\":{\"value\":\"#30a2da\"},\"line_alpha\":{\"value\":0.2},\"line_color\":{\"value\":\"#30a2da\"},\"size\":{\"value\":5.477225575051661},\"x\":{\"field\":\"Spending per pupil\"},\"y\":{\"field\":\"Rape (rd) per 100k\"}},\"id\":\"21396\",\"type\":\"Scatter\"},{\"attributes\":{\"axis\":{\"id\":\"21370\"},\"grid_line_color\":null,\"ticker\":null},\"id\":\"21373\",\"type\":\"Grid\"},{\"attributes\":{\"end\":21551.5,\"reset_end\":21551.5,\"reset_start\":7047.5,\"start\":7047.5,\"tags\":[[[\"Spending per pupil\",\"Spending per pupil\",null]]]},\"id\":\"21358\",\"type\":\"Range1d\"},{\"attributes\":{\"margin\":[5,5,5,5],\"name\":\"HSpacer41814\",\"sizing_mode\":\"stretch_width\"},\"id\":\"21357\",\"type\":\"Spacer\"},{\"attributes\":{\"margin\":[5,5,5,5],\"name\":\"HSpacer41815\",\"sizing_mode\":\"stretch_width\"},\"id\":\"21426\",\"type\":\"Spacer\"},{\"attributes\":{\"text\":\"Rape per 100k vs Spending per Student\",\"text_color\":\"black\",\"text_font_size\":\"12pt\"},\"id\":\"21362\",\"type\":\"Title\"}],\"root_ids\":[\"21356\"]},\"title\":\"Bokeh Application\",\"version\":\"2.3.2\"}};\n",
       "    var render_items = [{\"docid\":\"72268057-b268-4e3e-8e2e-526e2575d6d1\",\"root_ids\":[\"21356\"],\"roots\":{\"21356\":\"d7ade508-4afb-4651-87c6-0a74e484995a\"}}];\n",
       "    root.Bokeh.embed.embed_items_notebook(docs_json, render_items);\n",
       "  }\n",
       "  if (root.Bokeh !== undefined && root.Bokeh.Panel !== undefined) {\n",
       "    embed_document(root);\n",
       "  } else {\n",
       "    var attempts = 0;\n",
       "    var timer = setInterval(function(root) {\n",
       "      if (root.Bokeh !== undefined && root.Bokeh.Panel !== undefined) {\n",
       "        clearInterval(timer);\n",
       "        embed_document(root);\n",
       "      } else if (document.readyState == \"complete\") {\n",
       "        attempts++;\n",
       "        if (attempts > 200) {\n",
       "          clearInterval(timer);\n",
       "          console.log(\"Bokeh: ERROR: Unable to run BokehJS code because BokehJS library is missing\");\n",
       "        }\n",
       "      }\n",
       "    }, 25, root)\n",
       "  }\n",
       "})(window);</script>"
      ],
      "text/plain": [
       ":Scatter   [Spending per pupil]   (Rape (rd) per 100k,State)"
      ]
     },
     "execution_count": 385,
     "metadata": {
      "application/vnd.holoviews_exec.v0+json": {
       "id": "21356"
      }
     },
     "output_type": "execute_result"
    }
   ],
   "source": [
    "#same as above\n",
    "rape_100k= crime_data.hvplot.scatter(\n",
    "    x=\"Spending per pupil\",\n",
    "    y='Rape (rd) per 100k',\n",
    "    height=500,\n",
    "    width=700,\n",
    "    ylabel= 'Rape per 100k',\n",
    "    xlabel='Spending per Student',\n",
    "    hover_data={'State'},\n",
    "    hover_cols=\"State\",\n",
    "    title=\"Rape per 100k vs Spending per Student\")\n",
    "rape_100k"
   ]
  },
  {
   "cell_type": "code",
   "execution_count": 386,
   "id": "371b99c3-1a33-4cb5-8979-8c606c2a4b3a",
   "metadata": {},
   "outputs": [],
   "source": [
    "#drops outlier\n",
    "crime_data2=crime_data.drop([1])"
   ]
  },
  {
   "cell_type": "code",
   "execution_count": 387,
   "id": "0304f16c-5b9c-4ae3-a0c0-dbee2e093487",
   "metadata": {},
   "outputs": [
    {
     "data": {
      "text/plain": [
       "-0.519077075844965"
      ]
     },
     "execution_count": 387,
     "metadata": {},
     "output_type": "execute_result"
    }
   ],
   "source": [
    "#calculates correlation\n",
    "rape100k_corr = crime_data2[\"Spending per pupil\"].astype(float).corr(crime_data2[\"Rape (rd) per 100k\"].astype(float), method='pearson') \n",
    "rape100k_corr"
   ]
  },
  {
   "cell_type": "code",
   "execution_count": 388,
   "id": "a251b2db-b8b9-4e58-af0e-331a2e33dd63",
   "metadata": {},
   "outputs": [],
   "source": [
    "# ALL OF THE FOLLOWING: \n",
    "#School Rank compared to crime rather than spending per pupil \n",
    "#using scatter plots and correlation\n",
    "#as above\n",
    "#outliers are dropped when necessary"
   ]
  },
  {
   "cell_type": "code",
   "execution_count": 389,
   "id": "293c7864-90d7-4999-8b2d-c098bf46df2f",
   "metadata": {},
   "outputs": [
    {
     "name": "stderr",
     "output_type": "stream",
     "text": [
      "WARNING:param.main: hover_data option not found for scatter plot; similar options include: ['hover_alpha', 'sort_date', 'hover_line_alpha']\n"
     ]
    },
    {
     "data": {},
     "metadata": {},
     "output_type": "display_data"
    },
    {
     "data": {
      "application/vnd.holoviews_exec.v0+json": "",
      "text/html": [
       "<div id='21478'>\n",
       "\n",
       "\n",
       "\n",
       "\n",
       "\n",
       "  <div class=\"bk-root\" id=\"3534c8ad-7fe4-4d9d-8412-092e42e68b4b\" data-root-id=\"21478\"></div>\n",
       "</div>\n",
       "<script type=\"application/javascript\">(function(root) {\n",
       "  function embed_document(root) {\n",
       "    var docs_json = {\"6efdb80d-3859-4cdb-8c00-c7f18634ec86\":{\"defs\":[{\"extends\":null,\"module\":null,\"name\":\"ReactiveHTML1\",\"overrides\":[],\"properties\":[]},{\"extends\":null,\"module\":null,\"name\":\"FlexBox1\",\"overrides\":[],\"properties\":[{\"default\":\"flex-start\",\"kind\":null,\"name\":\"align_content\"},{\"default\":\"flex-start\",\"kind\":null,\"name\":\"align_items\"},{\"default\":\"row\",\"kind\":null,\"name\":\"flex_direction\"},{\"default\":\"wrap\",\"kind\":null,\"name\":\"flex_wrap\"},{\"default\":\"flex-start\",\"kind\":null,\"name\":\"justify_content\"}]},{\"extends\":null,\"module\":null,\"name\":\"TemplateActions1\",\"overrides\":[],\"properties\":[{\"default\":0,\"kind\":null,\"name\":\"open_modal\"},{\"default\":0,\"kind\":null,\"name\":\"close_modal\"}]},{\"extends\":null,\"module\":null,\"name\":\"MaterialTemplateActions1\",\"overrides\":[],\"properties\":[{\"default\":0,\"kind\":null,\"name\":\"open_modal\"},{\"default\":0,\"kind\":null,\"name\":\"close_modal\"}]}],\"roots\":{\"references\":[{\"attributes\":{},\"id\":\"21501\",\"type\":\"PanTool\"},{\"attributes\":{\"overlay\":{\"id\":\"21505\"}},\"id\":\"21503\",\"type\":\"BoxZoomTool\"},{\"attributes\":{\"end\":54.9,\"reset_end\":54.9,\"reset_start\":-3.9000000000000004,\"start\":-3.9000000000000004,\"tags\":[[[\"Rank\",\"Rank\",null]]]},\"id\":\"21480\",\"type\":\"Range1d\"},{\"attributes\":{\"data\":{\"Rank\":{\"__ndarray__\":\"AAAAAACARkAAAAAAAIBIQAAAAAAAgEdAAAAAAAAAQ0AAAAAAAABEQAAAAAAAABxAAAAAAAAACEAAAAAAAAA2QAAAAAAAADBAAAAAAAAAPkAAAAAAAAA8QAAAAAAAADdAAAAAAAAAGEAAAAAAAAAiQAAAAAAAADhAAAAAAAAAO0AAAAAAAIBAQAAAAAAAAEdAAAAAAAAAKEAAAAAAAAAsQAAAAAAAAABAAAAAAAAAQEAAAAAAAAAyQAAAAAAAgEVAAAAAAAAAOkAAAAAAAABCQAAAAAAAACpAAAAAAAAASEAAAAAAAAAQQAAAAAAAAPA/AAAAAAAASUAAAAAAAAAzQAAAAAAAAC5AAAAAAAAAQUAAAAAAAAA0QAAAAAAAAEZAAAAAAACAQkAAAAAAAAAxQAAAAAAAADlAAAAAAAAARUAAAAAAAAA9QAAAAAAAAD9AAAAAAACAQUAAAAAAAAA1QAAAAAAAABRAAAAAAAAAJEAAAAAAAAAmQAAAAAAAgERAAAAAAAAAIEAAAAAAAIBDQAAAAAAAAPh/\",\"dtype\":\"float64\",\"order\":\"little\",\"shape\":[51]},\"State\":[\"Alabama\",\"Alaska\",\"Arizona\",\"Arkansas\",\"California\",\"Colorado\",\"Connecticut\",\"Delaware\",\"Florida\",\"Georgia\",\"Hawaii\",\"Idaho\",\"Illinois \",\"Indiana\",\"Iowa\",\"Kansas\",\"Kentucky\",\"Louisiana\",\"Maine\",\"Maryland \",\"Massachussets \",\"Michigan\",\"Minnesota\",\"Mississippi\",\"Missouri\",\"Montana\",\"Nebraska\",\"Nevada\",\"New Hampshire\",\"New Jersey\",\"New Mexico\",\"New York\",\"North Carolina\",\"North Dakota\",\"Ohio\",\"Oklahoma\",\"Oregon\",\"Pennsylvania \",\"Rhode Island\",\"South Carolina\",\"South Dakota\",\"Tennessee\",\"Texas\",\"Utah\",\"Vermont\",\"Virginia\",\"Washington\",\"West Virginia\",\"Wisconsin \",\"Wyoming\",\"nan\"],\"Violent crime per 100k\":{\"__ndarray__\":\"ZmZmZmaigECamZmZmSGJQJqZmZmZYX1AMzMzMzM3gUDNzMzMzNR7QJqZmZmZaXVAMzMzMzNjbEDNzMzMzMx/QM3MzMzM5HpAmpmZmZnZeEAzMzMzM1NzQJqZmZmZyWxAzczMzMxEe0AzMzMzM0t5QJqZmZmZKXJAZmZmZmbGd0CamZmZmQltQM3MzMzMsIFAMzMzMzPzXkAAAAAAAIB9QGZmZmZmjndAAAAAAACwfEAzMzMzM1NuQAAAAAAAiHFAMzMzMzM7gEDNzMzMzAR3QAAAAAAAMHJAzczMzMwwhUAzMzMzM7NoQAAAAAAAoG5AAAAAAAD0hUAzMzMzM4N3QDMzMzMzQ3dAMzMzMzNjb0DNzMzMzMRyQM3MzMzMHHxAmpmZmZmJcEBmZmZmZsZzQM3MzMzM3G1AzczMzMxcf0BmZmZmZiZ6QDMzMzMzx4NAZmZmZmYme0CamZmZmVluQJqZmZmZyWNAMzMzMzMza0AzMzMzM+NyQJqZmZmZYXZAZmZmZmYec0BmZmZmZoZuQAAAAAAAAPh/\",\"dtype\":\"float64\",\"order\":\"little\",\"shape\":[51]},\"Violent_crime_per_100k\":{\"__ndarray__\":\"ZmZmZmaigECamZmZmSGJQJqZmZmZYX1AMzMzMzM3gUDNzMzMzNR7QJqZmZmZaXVAMzMzMzNjbEDNzMzMzMx/QM3MzMzM5HpAmpmZmZnZeEAzMzMzM1NzQJqZmZmZyWxAzczMzMxEe0AzMzMzM0t5QJqZmZmZKXJAZmZmZmbGd0CamZmZmQltQM3MzMzMsIFAMzMzMzPzXkAAAAAAAIB9QGZmZmZmjndAAAAAAACwfEAzMzMzM1NuQAAAAAAAiHFAMzMzMzM7gEDNzMzMzAR3QAAAAAAAMHJAzczMzMwwhUAzMzMzM7NoQAAAAAAAoG5AAAAAAAD0hUAzMzMzM4N3QDMzMzMzQ3dAMzMzMzNjb0DNzMzMzMRyQM3MzMzMHHxAmpmZmZmJcEBmZmZmZsZzQM3MzMzM3G1AzczMzMxcf0BmZmZmZiZ6QDMzMzMzx4NAZmZmZmYme0CamZmZmVluQJqZmZmZyWNAMzMzMzMza0AzMzMzM+NyQJqZmZmZYXZAZmZmZmYec0BmZmZmZoZuQAAAAAAAAPh/\",\"dtype\":\"float64\",\"order\":\"little\",\"shape\":[51]}},\"selected\":{\"id\":\"21514\"},\"selection_policy\":{\"id\":\"21536\"}},\"id\":\"21513\",\"type\":\"ColumnDataSource\"},{\"attributes\":{},\"id\":\"21524\",\"type\":\"BasicTickFormatter\"},{\"attributes\":{\"axis_label\":\"Rank\",\"formatter\":{\"id\":\"21524\"},\"major_label_policy\":{\"id\":\"21523\"},\"ticker\":{\"id\":\"21493\"}},\"id\":\"21492\",\"type\":\"LinearAxis\"},{\"attributes\":{\"fill_alpha\":{\"value\":0.2},\"fill_color\":{\"value\":\"#30a2da\"},\"line_alpha\":{\"value\":0.2},\"line_color\":{\"value\":\"#30a2da\"},\"size\":{\"value\":5.477225575051661},\"x\":{\"field\":\"Rank\"},\"y\":{\"field\":\"Violent crime per 100k\"}},\"id\":\"21518\",\"type\":\"Scatter\"},{\"attributes\":{\"axis\":{\"id\":\"21496\"},\"dimension\":1,\"grid_line_color\":null,\"ticker\":null},\"id\":\"21499\",\"type\":\"Grid\"},{\"attributes\":{},\"id\":\"21493\",\"type\":\"BasicTicker\"},{\"attributes\":{\"children\":[{\"id\":\"21479\"},{\"id\":\"21483\"},{\"id\":\"21548\"}],\"margin\":[0,0,0,0],\"name\":\"Row42016\",\"tags\":[\"embedded\"]},\"id\":\"21478\",\"type\":\"Row\"},{\"attributes\":{},\"id\":\"21523\",\"type\":\"AllLabels\"},{\"attributes\":{\"angle\":{\"value\":0.0},\"fill_alpha\":{\"value\":1.0},\"fill_color\":{\"value\":\"#30a2da\"},\"hatch_alpha\":{\"value\":1.0},\"hatch_color\":{\"value\":\"black\"},\"hatch_scale\":{\"value\":12.0},\"hatch_weight\":{\"value\":1.0},\"line_alpha\":{\"value\":1.0},\"line_cap\":{\"value\":\"butt\"},\"line_color\":{\"value\":\"#30a2da\"},\"line_dash\":{\"value\":[]},\"line_dash_offset\":{\"value\":0},\"line_join\":{\"value\":\"bevel\"},\"line_width\":{\"value\":1},\"marker\":{\"value\":\"circle\"},\"size\":{\"value\":5.477225575051661},\"x\":{\"field\":\"Rank\"},\"y\":{\"field\":\"Violent crime per 100k\"}},\"id\":\"21521\",\"type\":\"Scatter\"},{\"attributes\":{},\"id\":\"21488\",\"type\":\"LinearScale\"},{\"attributes\":{},\"id\":\"21502\",\"type\":\"WheelZoomTool\"},{\"attributes\":{\"axis_label\":\"Violent Crime per 100k People\",\"formatter\":{\"id\":\"21527\"},\"major_label_policy\":{\"id\":\"21526\"},\"ticker\":{\"id\":\"21497\"}},\"id\":\"21496\",\"type\":\"LinearAxis\"},{\"attributes\":{},\"id\":\"21497\",\"type\":\"BasicTicker\"},{\"attributes\":{},\"id\":\"21490\",\"type\":\"LinearScale\"},{\"attributes\":{\"margin\":[5,5,5,5],\"name\":\"HSpacer42020\",\"sizing_mode\":\"stretch_width\"},\"id\":\"21479\",\"type\":\"Spacer\"},{\"attributes\":{\"data_source\":{\"id\":\"21513\"},\"glyph\":{\"id\":\"21516\"},\"hover_glyph\":null,\"muted_glyph\":{\"id\":\"21518\"},\"nonselection_glyph\":{\"id\":\"21517\"},\"selection_glyph\":{\"id\":\"21521\"},\"view\":{\"id\":\"21520\"}},\"id\":\"21519\",\"type\":\"GlyphRenderer\"},{\"attributes\":{},\"id\":\"21526\",\"type\":\"AllLabels\"},{\"attributes\":{\"fill_color\":{\"value\":\"#30a2da\"},\"line_color\":{\"value\":\"#30a2da\"},\"size\":{\"value\":5.477225575051661},\"x\":{\"field\":\"Rank\"},\"y\":{\"field\":\"Violent crime per 100k\"}},\"id\":\"21516\",\"type\":\"Scatter\"},{\"attributes\":{\"bottom_units\":\"screen\",\"fill_alpha\":0.5,\"fill_color\":\"lightgrey\",\"left_units\":\"screen\",\"level\":\"overlay\",\"line_alpha\":1.0,\"line_color\":\"black\",\"line_dash\":[4,4],\"line_width\":2,\"right_units\":\"screen\",\"syncable\":false,\"top_units\":\"screen\"},\"id\":\"21505\",\"type\":\"BoxAnnotation\"},{\"attributes\":{\"end\":872.24,\"reset_end\":872.24,\"reset_start\":55.75999999999999,\"start\":55.75999999999999,\"tags\":[[[\"Violent crime per 100k\",\"Violent crime per 100k\",null]]]},\"id\":\"21481\",\"type\":\"Range1d\"},{\"attributes\":{\"active_multi\":null,\"tools\":[{\"id\":\"21482\"},{\"id\":\"21500\"},{\"id\":\"21501\"},{\"id\":\"21502\"},{\"id\":\"21503\"},{\"id\":\"21504\"}]},\"id\":\"21506\",\"type\":\"Toolbar\"},{\"attributes\":{},\"id\":\"21500\",\"type\":\"SaveTool\"},{\"attributes\":{\"text\":\"Violent Crime vs Rank\",\"text_color\":\"black\",\"text_font_size\":\"12pt\"},\"id\":\"21484\",\"type\":\"Title\"},{\"attributes\":{},\"id\":\"21514\",\"type\":\"Selection\"},{\"attributes\":{\"source\":{\"id\":\"21513\"}},\"id\":\"21520\",\"type\":\"CDSView\"},{\"attributes\":{\"fill_alpha\":{\"value\":0.1},\"fill_color\":{\"value\":\"#30a2da\"},\"line_alpha\":{\"value\":0.1},\"line_color\":{\"value\":\"#30a2da\"},\"size\":{\"value\":5.477225575051661},\"x\":{\"field\":\"Rank\"},\"y\":{\"field\":\"Violent crime per 100k\"}},\"id\":\"21517\",\"type\":\"Scatter\"},{\"attributes\":{\"callback\":null,\"renderers\":[{\"id\":\"21519\"}],\"tags\":[\"hv_created\"],\"tooltips\":[[\"Rank\",\"@{Rank}\"],[\"Violent crime per 100k\",\"@{Violent_crime_per_100k}\"],[\"State\",\"@{State}\"]]},\"id\":\"21482\",\"type\":\"HoverTool\"},{\"attributes\":{\"below\":[{\"id\":\"21492\"}],\"center\":[{\"id\":\"21495\"},{\"id\":\"21499\"}],\"height\":500,\"left\":[{\"id\":\"21496\"}],\"margin\":[5,5,5,5],\"min_border_bottom\":10,\"min_border_left\":10,\"min_border_right\":10,\"min_border_top\":10,\"renderers\":[{\"id\":\"21519\"}],\"sizing_mode\":\"fixed\",\"title\":{\"id\":\"21484\"},\"toolbar\":{\"id\":\"21506\"},\"width\":500,\"x_range\":{\"id\":\"21480\"},\"x_scale\":{\"id\":\"21488\"},\"y_range\":{\"id\":\"21481\"},\"y_scale\":{\"id\":\"21490\"}},\"id\":\"21483\",\"subtype\":\"Figure\",\"type\":\"Plot\"},{\"attributes\":{\"margin\":[5,5,5,5],\"name\":\"HSpacer42021\",\"sizing_mode\":\"stretch_width\"},\"id\":\"21548\",\"type\":\"Spacer\"},{\"attributes\":{},\"id\":\"21527\",\"type\":\"BasicTickFormatter\"},{\"attributes\":{},\"id\":\"21536\",\"type\":\"UnionRenderers\"},{\"attributes\":{\"axis\":{\"id\":\"21492\"},\"grid_line_color\":null,\"ticker\":null},\"id\":\"21495\",\"type\":\"Grid\"},{\"attributes\":{},\"id\":\"21504\",\"type\":\"ResetTool\"}],\"root_ids\":[\"21478\"]},\"title\":\"Bokeh Application\",\"version\":\"2.3.2\"}};\n",
       "    var render_items = [{\"docid\":\"6efdb80d-3859-4cdb-8c00-c7f18634ec86\",\"root_ids\":[\"21478\"],\"roots\":{\"21478\":\"3534c8ad-7fe4-4d9d-8412-092e42e68b4b\"}}];\n",
       "    root.Bokeh.embed.embed_items_notebook(docs_json, render_items);\n",
       "  }\n",
       "  if (root.Bokeh !== undefined && root.Bokeh.Panel !== undefined) {\n",
       "    embed_document(root);\n",
       "  } else {\n",
       "    var attempts = 0;\n",
       "    var timer = setInterval(function(root) {\n",
       "      if (root.Bokeh !== undefined && root.Bokeh.Panel !== undefined) {\n",
       "        clearInterval(timer);\n",
       "        embed_document(root);\n",
       "      } else if (document.readyState == \"complete\") {\n",
       "        attempts++;\n",
       "        if (attempts > 200) {\n",
       "          clearInterval(timer);\n",
       "          console.log(\"Bokeh: ERROR: Unable to run BokehJS code because BokehJS library is missing\");\n",
       "        }\n",
       "      }\n",
       "    }, 25, root)\n",
       "  }\n",
       "})(window);</script>"
      ],
      "text/plain": [
       ":Scatter   [Rank]   (Violent crime per 100k,State)"
      ]
     },
     "execution_count": 389,
     "metadata": {
      "application/vnd.holoviews_exec.v0+json": {
       "id": "21478"
      }
     },
     "output_type": "execute_result"
    }
   ],
   "source": [
    "violent_crime_100k= crime_data.hvplot.scatter(\n",
    "    x=\"Rank\",\n",
    "    y='Violent crime per 100k',\n",
    "    height=500,\n",
    "    width=500,\n",
    "\n",
    "    ylabel= 'Violent Crime per 100k People',\n",
    "    xlabel='Rank',\n",
    "    hover_data={'State'},\n",
    "    hover_cols=\"State\",\n",
    "    title=\"Violent Crime vs Rank\")\n",
    "violent_crime_100k\n",
    "    "
   ]
  },
  {
   "cell_type": "code",
   "execution_count": 390,
   "id": "da5e8bff-3197-4ee0-94c4-aad47bd2d810",
   "metadata": {},
   "outputs": [
    {
     "data": {
      "text/plain": [
       "0.5765479634936878"
      ]
     },
     "execution_count": 390,
     "metadata": {},
     "output_type": "execute_result"
    }
   ],
   "source": [
    "vc100k_corr = crime_data[\"Rank\"].astype(float).corr(crime_data[\"Violent crime per 100k\"].astype(float), method='pearson') \n",
    "vc100k_corr"
   ]
  },
  {
   "cell_type": "code",
   "execution_count": 391,
   "id": "95bace78-63b3-4a60-a601-ef0b8da9d217",
   "metadata": {
    "tags": []
   },
   "outputs": [
    {
     "name": "stderr",
     "output_type": "stream",
     "text": [
      "WARNING:param.main: hover_data option not found for scatter plot; similar options include: ['hover_alpha', 'sort_date', 'hover_line_alpha']\n"
     ]
    },
    {
     "data": {},
     "metadata": {},
     "output_type": "display_data"
    },
    {
     "data": {
      "application/vnd.holoviews_exec.v0+json": "",
      "text/html": [
       "<div id='21600'>\n",
       "\n",
       "\n",
       "\n",
       "\n",
       "\n",
       "  <div class=\"bk-root\" id=\"308dfa33-9bbd-4d84-91da-84dab880e013\" data-root-id=\"21600\"></div>\n",
       "</div>\n",
       "<script type=\"application/javascript\">(function(root) {\n",
       "  function embed_document(root) {\n",
       "    var docs_json = {\"f113a940-2441-4d70-9c0f-ff1f9d653f85\":{\"defs\":[{\"extends\":null,\"module\":null,\"name\":\"ReactiveHTML1\",\"overrides\":[],\"properties\":[]},{\"extends\":null,\"module\":null,\"name\":\"FlexBox1\",\"overrides\":[],\"properties\":[{\"default\":\"flex-start\",\"kind\":null,\"name\":\"align_content\"},{\"default\":\"flex-start\",\"kind\":null,\"name\":\"align_items\"},{\"default\":\"row\",\"kind\":null,\"name\":\"flex_direction\"},{\"default\":\"wrap\",\"kind\":null,\"name\":\"flex_wrap\"},{\"default\":\"flex-start\",\"kind\":null,\"name\":\"justify_content\"}]},{\"extends\":null,\"module\":null,\"name\":\"TemplateActions1\",\"overrides\":[],\"properties\":[{\"default\":0,\"kind\":null,\"name\":\"open_modal\"},{\"default\":0,\"kind\":null,\"name\":\"close_modal\"}]},{\"extends\":null,\"module\":null,\"name\":\"MaterialTemplateActions1\",\"overrides\":[],\"properties\":[{\"default\":0,\"kind\":null,\"name\":\"open_modal\"},{\"default\":0,\"kind\":null,\"name\":\"close_modal\"}]}],\"roots\":{\"references\":[{\"attributes\":{\"axis_label\":\"Property Crime per 100k People\",\"formatter\":{\"id\":\"21649\"},\"major_label_policy\":{\"id\":\"21648\"},\"ticker\":{\"id\":\"21619\"}},\"id\":\"21618\",\"type\":\"LinearAxis\"},{\"attributes\":{\"margin\":[5,5,5,5],\"name\":\"HSpacer42225\",\"sizing_mode\":\"stretch_width\"},\"id\":\"21601\",\"type\":\"Spacer\"},{\"attributes\":{\"end\":4179.5199999999995,\"reset_end\":4179.5199999999995,\"reset_start\":1270.48,\"start\":1270.48,\"tags\":[[[\"Property Crime per 100k\",\"Property Crime per 100k\",null]]]},\"id\":\"21603\",\"type\":\"Range1d\"},{\"attributes\":{},\"id\":\"21645\",\"type\":\"AllLabels\"},{\"attributes\":{\"source\":{\"id\":\"21635\"}},\"id\":\"21642\",\"type\":\"CDSView\"},{\"attributes\":{},\"id\":\"21624\",\"type\":\"WheelZoomTool\"},{\"attributes\":{\"active_multi\":null,\"tools\":[{\"id\":\"21604\"},{\"id\":\"21622\"},{\"id\":\"21623\"},{\"id\":\"21624\"},{\"id\":\"21625\"},{\"id\":\"21626\"}]},\"id\":\"21628\",\"type\":\"Toolbar\"},{\"attributes\":{},\"id\":\"21615\",\"type\":\"BasicTicker\"},{\"attributes\":{\"end\":54.9,\"reset_end\":54.9,\"reset_start\":-3.9000000000000004,\"start\":-3.9000000000000004,\"tags\":[[[\"Rank\",\"Rank\",null]]]},\"id\":\"21602\",\"type\":\"Range1d\"},{\"attributes\":{},\"id\":\"21622\",\"type\":\"SaveTool\"},{\"attributes\":{\"axis\":{\"id\":\"21614\"},\"grid_line_color\":null,\"ticker\":null},\"id\":\"21617\",\"type\":\"Grid\"},{\"attributes\":{\"overlay\":{\"id\":\"21627\"}},\"id\":\"21625\",\"type\":\"BoxZoomTool\"},{\"attributes\":{},\"id\":\"21610\",\"type\":\"LinearScale\"},{\"attributes\":{\"margin\":[5,5,5,5],\"name\":\"HSpacer42226\",\"sizing_mode\":\"stretch_width\"},\"id\":\"21670\",\"type\":\"Spacer\"},{\"attributes\":{\"data\":{\"Property Crime per 100k\":{\"__ndarray__\":\"mpmZmZkHp0AAAAAAADKqQM3MzMzMRKdAMzMzMzOJqUAAAAAAAPKjQGZmZmZmaaVAAAAAAABAnEAAAAAAAJylQJqZmZmZ/aRAAAAAAAB5p0BmZmZmZmGnQM3MzMzMQJtAAAAAAAACoEDNzMzMzDqkQAAAAAAATKBAAAAAAAAPpUBmZmZmZhuhQGZmZmZmw6lAzczMzMy2mUAAAAAAANmhQGZmZmZmZJhAmpmZmZnXnUCamZmZmaqgQDMzMzMzoKVAMzMzMzPepUAAAAAAAPekQJqZmZmZrqFAMzMzMzM1pECamZmZmaOXQGZmZmZmIphAMzMzMzPCrkBmZmZmZiaYQAAAAAAAY6VAzczMzMzvoUAAAAAAACOkQM3MzMzMTadAzczMzMwop0DNzMzMzDqbQM3MzMzMqp1AmpmZmZlXqUBmZmZmZvKeQDMzMzMzTKZAmpmZmZmPpUAAAAAAAA+nQJqZmZmZhZpAmpmZmZkNnUAzMzMzM0yrQM3MzMzM/J9AMzMzMzM1nkAzMzMzM5WeQAAAAAAAAPh/\",\"dtype\":\"float64\",\"order\":\"little\",\"shape\":[51]},\"Property_Crime_per_100k\":{\"__ndarray__\":\"mpmZmZkHp0AAAAAAADKqQM3MzMzMRKdAMzMzMzOJqUAAAAAAAPKjQGZmZmZmaaVAAAAAAABAnEAAAAAAAJylQJqZmZmZ/aRAAAAAAAB5p0BmZmZmZmGnQM3MzMzMQJtAAAAAAAACoEDNzMzMzDqkQAAAAAAATKBAAAAAAAAPpUBmZmZmZhuhQGZmZmZmw6lAzczMzMy2mUAAAAAAANmhQGZmZmZmZJhAmpmZmZnXnUCamZmZmaqgQDMzMzMzoKVAMzMzMzPepUAAAAAAAPekQJqZmZmZrqFAMzMzMzM1pECamZmZmaOXQGZmZmZmIphAMzMzMzPCrkBmZmZmZiaYQAAAAAAAY6VAzczMzMzvoUAAAAAAACOkQM3MzMzMTadAzczMzMwop0DNzMzMzDqbQM3MzMzMqp1AmpmZmZlXqUBmZmZmZvKeQDMzMzMzTKZAmpmZmZmPpUAAAAAAAA+nQJqZmZmZhZpAmpmZmZkNnUAzMzMzM0yrQM3MzMzM/J9AMzMzMzM1nkAzMzMzM5WeQAAAAAAAAPh/\",\"dtype\":\"float64\",\"order\":\"little\",\"shape\":[51]},\"Rank\":{\"__ndarray__\":\"AAAAAACARkAAAAAAAIBIQAAAAAAAgEdAAAAAAAAAQ0AAAAAAAABEQAAAAAAAABxAAAAAAAAACEAAAAAAAAA2QAAAAAAAADBAAAAAAAAAPkAAAAAAAAA8QAAAAAAAADdAAAAAAAAAGEAAAAAAAAAiQAAAAAAAADhAAAAAAAAAO0AAAAAAAIBAQAAAAAAAAEdAAAAAAAAAKEAAAAAAAAAsQAAAAAAAAABAAAAAAAAAQEAAAAAAAAAyQAAAAAAAgEVAAAAAAAAAOkAAAAAAAABCQAAAAAAAACpAAAAAAAAASEAAAAAAAAAQQAAAAAAAAPA/AAAAAAAASUAAAAAAAAAzQAAAAAAAAC5AAAAAAAAAQUAAAAAAAAA0QAAAAAAAAEZAAAAAAACAQkAAAAAAAAAxQAAAAAAAADlAAAAAAAAARUAAAAAAAAA9QAAAAAAAAD9AAAAAAACAQUAAAAAAAAA1QAAAAAAAABRAAAAAAAAAJEAAAAAAAAAmQAAAAAAAgERAAAAAAAAAIEAAAAAAAIBDQAAAAAAAAPh/\",\"dtype\":\"float64\",\"order\":\"little\",\"shape\":[51]},\"State\":[\"Alabama\",\"Alaska\",\"Arizona\",\"Arkansas\",\"California\",\"Colorado\",\"Connecticut\",\"Delaware\",\"Florida\",\"Georgia\",\"Hawaii\",\"Idaho\",\"Illinois \",\"Indiana\",\"Iowa\",\"Kansas\",\"Kentucky\",\"Louisiana\",\"Maine\",\"Maryland \",\"Massachussets \",\"Michigan\",\"Minnesota\",\"Mississippi\",\"Missouri\",\"Montana\",\"Nebraska\",\"Nevada\",\"New Hampshire\",\"New Jersey\",\"New Mexico\",\"New York\",\"North Carolina\",\"North Dakota\",\"Ohio\",\"Oklahoma\",\"Oregon\",\"Pennsylvania \",\"Rhode Island\",\"South Carolina\",\"South Dakota\",\"Tennessee\",\"Texas\",\"Utah\",\"Vermont\",\"Virginia\",\"Washington\",\"West Virginia\",\"Wisconsin \",\"Wyoming\",\"nan\"]},\"selected\":{\"id\":\"21636\"},\"selection_policy\":{\"id\":\"21658\"}},\"id\":\"21635\",\"type\":\"ColumnDataSource\"},{\"attributes\":{\"below\":[{\"id\":\"21614\"}],\"center\":[{\"id\":\"21617\"},{\"id\":\"21621\"}],\"height\":500,\"left\":[{\"id\":\"21618\"}],\"margin\":[5,5,5,5],\"min_border_bottom\":10,\"min_border_left\":10,\"min_border_right\":10,\"min_border_top\":10,\"renderers\":[{\"id\":\"21641\"}],\"sizing_mode\":\"fixed\",\"title\":{\"id\":\"21606\"},\"toolbar\":{\"id\":\"21628\"},\"width\":500,\"x_range\":{\"id\":\"21602\"},\"x_scale\":{\"id\":\"21610\"},\"y_range\":{\"id\":\"21603\"},\"y_scale\":{\"id\":\"21612\"}},\"id\":\"21605\",\"subtype\":\"Figure\",\"type\":\"Plot\"},{\"attributes\":{},\"id\":\"21619\",\"type\":\"BasicTicker\"},{\"attributes\":{\"fill_alpha\":{\"value\":0.2},\"fill_color\":{\"value\":\"#30a2da\"},\"line_alpha\":{\"value\":0.2},\"line_color\":{\"value\":\"#30a2da\"},\"size\":{\"value\":5.477225575051661},\"x\":{\"field\":\"Rank\"},\"y\":{\"field\":\"Property Crime per 100k\"}},\"id\":\"21640\",\"type\":\"Scatter\"},{\"attributes\":{\"axis_label\":\"Rank\",\"formatter\":{\"id\":\"21646\"},\"major_label_policy\":{\"id\":\"21645\"},\"ticker\":{\"id\":\"21615\"}},\"id\":\"21614\",\"type\":\"LinearAxis\"},{\"attributes\":{\"bottom_units\":\"screen\",\"fill_alpha\":0.5,\"fill_color\":\"lightgrey\",\"left_units\":\"screen\",\"level\":\"overlay\",\"line_alpha\":1.0,\"line_color\":\"black\",\"line_dash\":[4,4],\"line_width\":2,\"right_units\":\"screen\",\"syncable\":false,\"top_units\":\"screen\"},\"id\":\"21627\",\"type\":\"BoxAnnotation\"},{\"attributes\":{},\"id\":\"21649\",\"type\":\"BasicTickFormatter\"},{\"attributes\":{\"data_source\":{\"id\":\"21635\"},\"glyph\":{\"id\":\"21638\"},\"hover_glyph\":null,\"muted_glyph\":{\"id\":\"21640\"},\"nonselection_glyph\":{\"id\":\"21639\"},\"selection_glyph\":{\"id\":\"21643\"},\"view\":{\"id\":\"21642\"}},\"id\":\"21641\",\"type\":\"GlyphRenderer\"},{\"attributes\":{\"angle\":{\"value\":0.0},\"fill_alpha\":{\"value\":1.0},\"fill_color\":{\"value\":\"#30a2da\"},\"hatch_alpha\":{\"value\":1.0},\"hatch_color\":{\"value\":\"black\"},\"hatch_scale\":{\"value\":12.0},\"hatch_weight\":{\"value\":1.0},\"line_alpha\":{\"value\":1.0},\"line_cap\":{\"value\":\"butt\"},\"line_color\":{\"value\":\"#30a2da\"},\"line_dash\":{\"value\":[]},\"line_dash_offset\":{\"value\":0},\"line_join\":{\"value\":\"bevel\"},\"line_width\":{\"value\":1},\"marker\":{\"value\":\"circle\"},\"size\":{\"value\":5.477225575051661},\"x\":{\"field\":\"Rank\"},\"y\":{\"field\":\"Property Crime per 100k\"}},\"id\":\"21643\",\"type\":\"Scatter\"},{\"attributes\":{\"fill_color\":{\"value\":\"#30a2da\"},\"line_color\":{\"value\":\"#30a2da\"},\"size\":{\"value\":5.477225575051661},\"x\":{\"field\":\"Rank\"},\"y\":{\"field\":\"Property Crime per 100k\"}},\"id\":\"21638\",\"type\":\"Scatter\"},{\"attributes\":{},\"id\":\"21658\",\"type\":\"UnionRenderers\"},{\"attributes\":{\"fill_alpha\":{\"value\":0.1},\"fill_color\":{\"value\":\"#30a2da\"},\"line_alpha\":{\"value\":0.1},\"line_color\":{\"value\":\"#30a2da\"},\"size\":{\"value\":5.477225575051661},\"x\":{\"field\":\"Rank\"},\"y\":{\"field\":\"Property Crime per 100k\"}},\"id\":\"21639\",\"type\":\"Scatter\"},{\"attributes\":{},\"id\":\"21648\",\"type\":\"AllLabels\"},{\"attributes\":{},\"id\":\"21626\",\"type\":\"ResetTool\"},{\"attributes\":{},\"id\":\"21636\",\"type\":\"Selection\"},{\"attributes\":{\"text\":\"Property Crime vs Rank\",\"text_color\":\"black\",\"text_font_size\":\"12pt\"},\"id\":\"21606\",\"type\":\"Title\"},{\"attributes\":{},\"id\":\"21623\",\"type\":\"PanTool\"},{\"attributes\":{\"axis\":{\"id\":\"21618\"},\"dimension\":1,\"grid_line_color\":null,\"ticker\":null},\"id\":\"21621\",\"type\":\"Grid\"},{\"attributes\":{},\"id\":\"21646\",\"type\":\"BasicTickFormatter\"},{\"attributes\":{\"callback\":null,\"renderers\":[{\"id\":\"21641\"}],\"tags\":[\"hv_created\"],\"tooltips\":[[\"Rank\",\"@{Rank}\"],[\"Property Crime per 100k\",\"@{Property_Crime_per_100k}\"],[\"State\",\"@{State}\"]]},\"id\":\"21604\",\"type\":\"HoverTool\"},{\"attributes\":{\"children\":[{\"id\":\"21601\"},{\"id\":\"21605\"},{\"id\":\"21670\"}],\"margin\":[0,0,0,0],\"name\":\"Row42221\",\"tags\":[\"embedded\"]},\"id\":\"21600\",\"type\":\"Row\"},{\"attributes\":{},\"id\":\"21612\",\"type\":\"LinearScale\"}],\"root_ids\":[\"21600\"]},\"title\":\"Bokeh Application\",\"version\":\"2.3.2\"}};\n",
       "    var render_items = [{\"docid\":\"f113a940-2441-4d70-9c0f-ff1f9d653f85\",\"root_ids\":[\"21600\"],\"roots\":{\"21600\":\"308dfa33-9bbd-4d84-91da-84dab880e013\"}}];\n",
       "    root.Bokeh.embed.embed_items_notebook(docs_json, render_items);\n",
       "  }\n",
       "  if (root.Bokeh !== undefined && root.Bokeh.Panel !== undefined) {\n",
       "    embed_document(root);\n",
       "  } else {\n",
       "    var attempts = 0;\n",
       "    var timer = setInterval(function(root) {\n",
       "      if (root.Bokeh !== undefined && root.Bokeh.Panel !== undefined) {\n",
       "        clearInterval(timer);\n",
       "        embed_document(root);\n",
       "      } else if (document.readyState == \"complete\") {\n",
       "        attempts++;\n",
       "        if (attempts > 200) {\n",
       "          clearInterval(timer);\n",
       "          console.log(\"Bokeh: ERROR: Unable to run BokehJS code because BokehJS library is missing\");\n",
       "        }\n",
       "      }\n",
       "    }, 25, root)\n",
       "  }\n",
       "})(window);</script>"
      ],
      "text/plain": [
       ":Scatter   [Rank]   (Property Crime per 100k,State)"
      ]
     },
     "execution_count": 391,
     "metadata": {
      "application/vnd.holoviews_exec.v0+json": {
       "id": "21600"
      }
     },
     "output_type": "execute_result"
    }
   ],
   "source": [
    "property_crime_100k= crime_data.hvplot.scatter(\n",
    "    x=\"Rank\",\n",
    "    y='Property Crime per 100k',\n",
    "    height=500,\n",
    "    width=500,\n",
    "\n",
    "    ylabel= 'Property Crime per 100k People',\n",
    "    xlabel='Rank',\n",
    "    hover_data={'State'},\n",
    "    hover_cols=\"State\",\n",
    "    title=\"Property Crime vs Rank\")\n",
    "property_crime_100k"
   ]
  },
  {
   "cell_type": "code",
   "execution_count": 392,
   "id": "11286b78-ff2d-43cc-a853-875ccbca1d1f",
   "metadata": {},
   "outputs": [
    {
     "data": {
      "text/plain": [
       "0.6368521212960802"
      ]
     },
     "execution_count": 392,
     "metadata": {},
     "output_type": "execute_result"
    }
   ],
   "source": [
    "crime_data5=crime_data.drop([30,46])\n",
    "pc100k_corr = crime_data5[\"Rank\"].astype(float).corr(crime_data5[\"Property Crime per 100k\"].astype(float), method='pearson') \n",
    "pc100k_corr"
   ]
  },
  {
   "cell_type": "code",
   "execution_count": 393,
   "id": "279ff1bd-eb2d-4e59-9733-281c57814948",
   "metadata": {},
   "outputs": [
    {
     "name": "stderr",
     "output_type": "stream",
     "text": [
      "WARNING:param.main: hover_data option not found for scatter plot; similar options include: ['hover_alpha', 'sort_date', 'hover_line_alpha']\n"
     ]
    },
    {
     "data": {},
     "metadata": {},
     "output_type": "display_data"
    },
    {
     "data": {
      "application/vnd.holoviews_exec.v0+json": "",
      "text/html": [
       "<div id='21722'>\n",
       "\n",
       "\n",
       "\n",
       "\n",
       "\n",
       "  <div class=\"bk-root\" id=\"0599c221-7b5e-4fbc-8152-4908ea9c55b3\" data-root-id=\"21722\"></div>\n",
       "</div>\n",
       "<script type=\"application/javascript\">(function(root) {\n",
       "  function embed_document(root) {\n",
       "    var docs_json = {\"ce4cf72c-6c11-4899-91c2-cd56a9567fdb\":{\"defs\":[{\"extends\":null,\"module\":null,\"name\":\"ReactiveHTML1\",\"overrides\":[],\"properties\":[]},{\"extends\":null,\"module\":null,\"name\":\"FlexBox1\",\"overrides\":[],\"properties\":[{\"default\":\"flex-start\",\"kind\":null,\"name\":\"align_content\"},{\"default\":\"flex-start\",\"kind\":null,\"name\":\"align_items\"},{\"default\":\"row\",\"kind\":null,\"name\":\"flex_direction\"},{\"default\":\"wrap\",\"kind\":null,\"name\":\"flex_wrap\"},{\"default\":\"flex-start\",\"kind\":null,\"name\":\"justify_content\"}]},{\"extends\":null,\"module\":null,\"name\":\"TemplateActions1\",\"overrides\":[],\"properties\":[{\"default\":0,\"kind\":null,\"name\":\"open_modal\"},{\"default\":0,\"kind\":null,\"name\":\"close_modal\"}]},{\"extends\":null,\"module\":null,\"name\":\"MaterialTemplateActions1\",\"overrides\":[],\"properties\":[{\"default\":0,\"kind\":null,\"name\":\"open_modal\"},{\"default\":0,\"kind\":null,\"name\":\"close_modal\"}]}],\"roots\":{\"references\":[{\"attributes\":{\"fill_alpha\":{\"value\":0.1},\"fill_color\":{\"value\":\"#30a2da\"},\"line_alpha\":{\"value\":0.1},\"line_color\":{\"value\":\"#30a2da\"},\"size\":{\"value\":5.477225575051661},\"x\":{\"field\":\"Rank\"},\"y\":{\"field\":\"Motor vehicle theft per 100k\"}},\"id\":\"21761\",\"type\":\"Scatter\"},{\"attributes\":{},\"id\":\"21748\",\"type\":\"ResetTool\"},{\"attributes\":{},\"id\":\"21734\",\"type\":\"LinearScale\"},{\"attributes\":{\"children\":[{\"id\":\"21723\"},{\"id\":\"21727\"},{\"id\":\"21792\"}],\"margin\":[0,0,0,0],\"name\":\"Row42426\",\"tags\":[\"embedded\"]},\"id\":\"21722\",\"type\":\"Row\"},{\"attributes\":{\"overlay\":{\"id\":\"21749\"}},\"id\":\"21747\",\"type\":\"BoxZoomTool\"},{\"attributes\":{\"text\":\"Motor vehicle Theft vs Rank\",\"text_color\":\"black\",\"text_font_size\":\"12pt\"},\"id\":\"21728\",\"type\":\"Title\"},{\"attributes\":{\"margin\":[5,5,5,5],\"name\":\"HSpacer42431\",\"sizing_mode\":\"stretch_width\"},\"id\":\"21792\",\"type\":\"Spacer\"},{\"attributes\":{\"margin\":[5,5,5,5],\"name\":\"HSpacer42430\",\"sizing_mode\":\"stretch_width\"},\"id\":\"21723\",\"type\":\"Spacer\"},{\"attributes\":{\"data_source\":{\"id\":\"21757\"},\"glyph\":{\"id\":\"21760\"},\"hover_glyph\":null,\"muted_glyph\":{\"id\":\"21762\"},\"nonselection_glyph\":{\"id\":\"21761\"},\"selection_glyph\":{\"id\":\"21765\"},\"view\":{\"id\":\"21764\"}},\"id\":\"21763\",\"type\":\"GlyphRenderer\"},{\"attributes\":{},\"id\":\"21746\",\"type\":\"WheelZoomTool\"},{\"attributes\":{\"axis\":{\"id\":\"21740\"},\"dimension\":1,\"grid_line_color\":null,\"ticker\":null},\"id\":\"21743\",\"type\":\"Grid\"},{\"attributes\":{\"end\":54.9,\"reset_end\":54.9,\"reset_start\":-3.9000000000000004,\"start\":-3.9000000000000004,\"tags\":[[[\"Rank\",\"Rank\",null]]]},\"id\":\"21724\",\"type\":\"Range1d\"},{\"attributes\":{\"bottom_units\":\"screen\",\"fill_alpha\":0.5,\"fill_color\":\"lightgrey\",\"left_units\":\"screen\",\"level\":\"overlay\",\"line_alpha\":1.0,\"line_color\":\"black\",\"line_dash\":[4,4],\"line_width\":2,\"right_units\":\"screen\",\"syncable\":false,\"top_units\":\"screen\"},\"id\":\"21749\",\"type\":\"BoxAnnotation\"},{\"attributes\":{},\"id\":\"21767\",\"type\":\"AllLabels\"},{\"attributes\":{\"callback\":null,\"renderers\":[{\"id\":\"21763\"}],\"tags\":[\"hv_created\"],\"tooltips\":[[\"Rank\",\"@{Rank}\"],[\"Motor vehicle theft per 100k\",\"@{Motor_vehicle_theft_per_100k}\"],[\"State\",\"@{State}\"]]},\"id\":\"21726\",\"type\":\"HoverTool\"},{\"attributes\":{\"axis_label\":\"Motor vehicle theft per 100k\",\"formatter\":{\"id\":\"21771\"},\"major_label_policy\":{\"id\":\"21770\"},\"ticker\":{\"id\":\"21741\"}},\"id\":\"21740\",\"type\":\"LinearAxis\"},{\"attributes\":{},\"id\":\"21770\",\"type\":\"AllLabels\"},{\"attributes\":{},\"id\":\"21780\",\"type\":\"UnionRenderers\"},{\"attributes\":{},\"id\":\"21758\",\"type\":\"Selection\"},{\"attributes\":{\"source\":{\"id\":\"21757\"}},\"id\":\"21764\",\"type\":\"CDSView\"},{\"attributes\":{\"fill_color\":{\"value\":\"#30a2da\"},\"line_color\":{\"value\":\"#30a2da\"},\"size\":{\"value\":5.477225575051661},\"x\":{\"field\":\"Rank\"},\"y\":{\"field\":\"Motor vehicle theft per 100k\"}},\"id\":\"21760\",\"type\":\"Scatter\"},{\"attributes\":{\"below\":[{\"id\":\"21736\"}],\"center\":[{\"id\":\"21739\"},{\"id\":\"21743\"}],\"height\":500,\"left\":[{\"id\":\"21740\"}],\"margin\":[5,5,5,5],\"min_border_bottom\":10,\"min_border_left\":10,\"min_border_right\":10,\"min_border_top\":10,\"renderers\":[{\"id\":\"21763\"}],\"sizing_mode\":\"fixed\",\"title\":{\"id\":\"21728\"},\"toolbar\":{\"id\":\"21750\"},\"width\":500,\"x_range\":{\"id\":\"21724\"},\"x_scale\":{\"id\":\"21732\"},\"y_range\":{\"id\":\"21725\"},\"y_scale\":{\"id\":\"21734\"}},\"id\":\"21727\",\"subtype\":\"Figure\",\"type\":\"Plot\"},{\"attributes\":{\"active_multi\":null,\"tools\":[{\"id\":\"21726\"},{\"id\":\"21744\"},{\"id\":\"21745\"},{\"id\":\"21746\"},{\"id\":\"21747\"},{\"id\":\"21748\"}]},\"id\":\"21750\",\"type\":\"Toolbar\"},{\"attributes\":{},\"id\":\"21745\",\"type\":\"PanTool\"},{\"attributes\":{\"angle\":{\"value\":0.0},\"fill_alpha\":{\"value\":1.0},\"fill_color\":{\"value\":\"#30a2da\"},\"hatch_alpha\":{\"value\":1.0},\"hatch_color\":{\"value\":\"black\"},\"hatch_scale\":{\"value\":12.0},\"hatch_weight\":{\"value\":1.0},\"line_alpha\":{\"value\":1.0},\"line_cap\":{\"value\":\"butt\"},\"line_color\":{\"value\":\"#30a2da\"},\"line_dash\":{\"value\":[]},\"line_dash_offset\":{\"value\":0},\"line_join\":{\"value\":\"bevel\"},\"line_width\":{\"value\":1},\"marker\":{\"value\":\"circle\"},\"size\":{\"value\":5.477225575051661},\"x\":{\"field\":\"Rank\"},\"y\":{\"field\":\"Motor vehicle theft per 100k\"}},\"id\":\"21765\",\"type\":\"Scatter\"},{\"attributes\":{},\"id\":\"21741\",\"type\":\"BasicTicker\"},{\"attributes\":{\"data\":{\"Motor vehicle theft per 100k\":{\"__ndarray__\":\"MzMzMzMjbkCamZmZmcF5QM3MzMzMnHBAzczMzMzsbUDNzMzMzCR8QAAAAAAAIHZAZmZmZmbWaEBmZmZmZvZjQJqZmZmZKWpAZmZmZmY+cEDNzMzMzLx4QJqZmZmZ2V5AAAAAAABwY0AzMzMzM8NrQAAAAAAA4GNAMzMzMzPTbUCamZmZmdlrQJqZmZmZmWtAmpmZmZkZTUBmZmZmZpZoQDMzMzMzk11AZmZmZmZmaUAzMzMzM8NjQGZmZmZmFmJAzczMzMzEckCamZmZmXFwQJqZmZmZ+W5AzczMzMwEfEAzMzMzM1NQQGZmZmZmpl9AZmZmZmaigUCamZmZmTlSQJqZmZmZ2WJAmpmZmZkxcECamZmZmSllQM3MzMzMXHNAzczMzMwkdEBmZmZmZoZZQDMzMzMz42JAmpmZmZmJcUAzMzMzM7NlQJqZmZmZaWxAmpmZmZn5bkAzMzMzMztzQM3MzMzMjEZAmpmZmZkZXUAAAAAAALB7QAAAAAAAIGFAmpmZmZmJZUAzMzMzMxNhQAAAAAAAAPh/\",\"dtype\":\"float64\",\"order\":\"little\",\"shape\":[51]},\"Motor_vehicle_theft_per_100k\":{\"__ndarray__\":\"MzMzMzMjbkCamZmZmcF5QM3MzMzMnHBAzczMzMzsbUDNzMzMzCR8QAAAAAAAIHZAZmZmZmbWaEBmZmZmZvZjQJqZmZmZKWpAZmZmZmY+cEDNzMzMzLx4QJqZmZmZ2V5AAAAAAABwY0AzMzMzM8NrQAAAAAAA4GNAMzMzMzPTbUCamZmZmdlrQJqZmZmZmWtAmpmZmZkZTUBmZmZmZpZoQDMzMzMzk11AZmZmZmZmaUAzMzMzM8NjQGZmZmZmFmJAzczMzMzEckCamZmZmXFwQJqZmZmZ+W5AzczMzMwEfEAzMzMzM1NQQGZmZmZmpl9AZmZmZmaigUCamZmZmTlSQJqZmZmZ2WJAmpmZmZkxcECamZmZmSllQM3MzMzMXHNAzczMzMwkdEBmZmZmZoZZQDMzMzMz42JAmpmZmZmJcUAzMzMzM7NlQJqZmZmZaWxAmpmZmZn5bkAzMzMzMztzQM3MzMzMjEZAmpmZmZkZXUAAAAAAALB7QAAAAAAAIGFAmpmZmZmJZUAzMzMzMxNhQAAAAAAAAPh/\",\"dtype\":\"float64\",\"order\":\"little\",\"shape\":[51]},\"Rank\":{\"__ndarray__\":\"AAAAAACARkAAAAAAAIBIQAAAAAAAgEdAAAAAAAAAQ0AAAAAAAABEQAAAAAAAABxAAAAAAAAACEAAAAAAAAA2QAAAAAAAADBAAAAAAAAAPkAAAAAAAAA8QAAAAAAAADdAAAAAAAAAGEAAAAAAAAAiQAAAAAAAADhAAAAAAAAAO0AAAAAAAIBAQAAAAAAAAEdAAAAAAAAAKEAAAAAAAAAsQAAAAAAAAABAAAAAAAAAQEAAAAAAAAAyQAAAAAAAgEVAAAAAAAAAOkAAAAAAAABCQAAAAAAAACpAAAAAAAAASEAAAAAAAAAQQAAAAAAAAPA/AAAAAAAASUAAAAAAAAAzQAAAAAAAAC5AAAAAAAAAQUAAAAAAAAA0QAAAAAAAAEZAAAAAAACAQkAAAAAAAAAxQAAAAAAAADlAAAAAAAAARUAAAAAAAAA9QAAAAAAAAD9AAAAAAACAQUAAAAAAAAA1QAAAAAAAABRAAAAAAAAAJEAAAAAAAAAmQAAAAAAAgERAAAAAAAAAIEAAAAAAAIBDQAAAAAAAAPh/\",\"dtype\":\"float64\",\"order\":\"little\",\"shape\":[51]},\"State\":[\"Alabama\",\"Alaska\",\"Arizona\",\"Arkansas\",\"California\",\"Colorado\",\"Connecticut\",\"Delaware\",\"Florida\",\"Georgia\",\"Hawaii\",\"Idaho\",\"Illinois \",\"Indiana\",\"Iowa\",\"Kansas\",\"Kentucky\",\"Louisiana\",\"Maine\",\"Maryland \",\"Massachussets \",\"Michigan\",\"Minnesota\",\"Mississippi\",\"Missouri\",\"Montana\",\"Nebraska\",\"Nevada\",\"New Hampshire\",\"New Jersey\",\"New Mexico\",\"New York\",\"North Carolina\",\"North Dakota\",\"Ohio\",\"Oklahoma\",\"Oregon\",\"Pennsylvania \",\"Rhode Island\",\"South Carolina\",\"South Dakota\",\"Tennessee\",\"Texas\",\"Utah\",\"Vermont\",\"Virginia\",\"Washington\",\"West Virginia\",\"Wisconsin \",\"Wyoming\",\"nan\"]},\"selected\":{\"id\":\"21758\"},\"selection_policy\":{\"id\":\"21780\"}},\"id\":\"21757\",\"type\":\"ColumnDataSource\"},{\"attributes\":{},\"id\":\"21771\",\"type\":\"BasicTickFormatter\"},{\"attributes\":{},\"id\":\"21732\",\"type\":\"LinearScale\"},{\"attributes\":{},\"id\":\"21744\",\"type\":\"SaveTool\"},{\"attributes\":{\"fill_alpha\":{\"value\":0.2},\"fill_color\":{\"value\":\"#30a2da\"},\"line_alpha\":{\"value\":0.2},\"line_color\":{\"value\":\"#30a2da\"},\"size\":{\"value\":5.477225575051661},\"x\":{\"field\":\"Rank\"},\"y\":{\"field\":\"Motor vehicle theft per 100k\"}},\"id\":\"21762\",\"type\":\"Scatter\"},{\"attributes\":{\"axis\":{\"id\":\"21736\"},\"grid_line_color\":null,\"ticker\":null},\"id\":\"21739\",\"type\":\"Grid\"},{\"attributes\":{\"end\":616.2199999999999,\"reset_end\":616.2199999999999,\"reset_start\":-6.819999999999993,\"start\":-6.819999999999993,\"tags\":[[[\"Motor vehicle theft per 100k\",\"Motor vehicle theft per 100k\",null]]]},\"id\":\"21725\",\"type\":\"Range1d\"},{\"attributes\":{},\"id\":\"21768\",\"type\":\"BasicTickFormatter\"},{\"attributes\":{\"axis_label\":\"Rank\",\"formatter\":{\"id\":\"21768\"},\"major_label_policy\":{\"id\":\"21767\"},\"ticker\":{\"id\":\"21737\"}},\"id\":\"21736\",\"type\":\"LinearAxis\"},{\"attributes\":{},\"id\":\"21737\",\"type\":\"BasicTicker\"}],\"root_ids\":[\"21722\"]},\"title\":\"Bokeh Application\",\"version\":\"2.3.2\"}};\n",
       "    var render_items = [{\"docid\":\"ce4cf72c-6c11-4899-91c2-cd56a9567fdb\",\"root_ids\":[\"21722\"],\"roots\":{\"21722\":\"0599c221-7b5e-4fbc-8152-4908ea9c55b3\"}}];\n",
       "    root.Bokeh.embed.embed_items_notebook(docs_json, render_items);\n",
       "  }\n",
       "  if (root.Bokeh !== undefined && root.Bokeh.Panel !== undefined) {\n",
       "    embed_document(root);\n",
       "  } else {\n",
       "    var attempts = 0;\n",
       "    var timer = setInterval(function(root) {\n",
       "      if (root.Bokeh !== undefined && root.Bokeh.Panel !== undefined) {\n",
       "        clearInterval(timer);\n",
       "        embed_document(root);\n",
       "      } else if (document.readyState == \"complete\") {\n",
       "        attempts++;\n",
       "        if (attempts > 200) {\n",
       "          clearInterval(timer);\n",
       "          console.log(\"Bokeh: ERROR: Unable to run BokehJS code because BokehJS library is missing\");\n",
       "        }\n",
       "      }\n",
       "    }, 25, root)\n",
       "  }\n",
       "})(window);</script>"
      ],
      "text/plain": [
       ":Scatter   [Rank]   (Motor vehicle theft per 100k,State)"
      ]
     },
     "execution_count": 393,
     "metadata": {
      "application/vnd.holoviews_exec.v0+json": {
       "id": "21722"
      }
     },
     "output_type": "execute_result"
    }
   ],
   "source": [
    "gta_100k= crime_data.hvplot.scatter(\n",
    "    x=\"Rank\",\n",
    "    y='Motor vehicle theft per 100k',\n",
    "    height=500,\n",
    "    width=500,\n",
    "\n",
    "    ylabel= 'Motor vehicle theft per 100k',\n",
    "    xlabel='Rank',\n",
    "    hover_data={'State'},\n",
    "    hover_cols=\"State\",\n",
    "    title=\"Motor vehicle Theft vs Rank\")\n",
    "gta_100k"
   ]
  },
  {
   "cell_type": "code",
   "execution_count": 394,
   "id": "8d853670-a4c9-4e39-b9b3-9610d5b32d3b",
   "metadata": {
    "tags": []
   },
   "outputs": [
    {
     "data": {
      "text/plain": [
       "0.5078653176881202"
      ]
     },
     "execution_count": 394,
     "metadata": {},
     "output_type": "execute_result"
    }
   ],
   "source": [
    "gta100k_corr = crime_data[\"Rank\"].astype(float).corr(crime_data[\"Motor vehicle theft per 100k\"].astype(float), method='pearson') \n",
    "gta100k_corr"
   ]
  },
  {
   "cell_type": "code",
   "execution_count": 395,
   "id": "1abbfdcf-a9fb-4df1-a2fa-7c4bb19e442d",
   "metadata": {
    "tags": []
   },
   "outputs": [
    {
     "name": "stderr",
     "output_type": "stream",
     "text": [
      "WARNING:param.main: hover_data option not found for scatter plot; similar options include: ['hover_alpha', 'sort_date', 'hover_line_alpha']\n"
     ]
    },
    {
     "data": {},
     "metadata": {},
     "output_type": "display_data"
    },
    {
     "data": {
      "application/vnd.holoviews_exec.v0+json": "",
      "text/html": [
       "<div id='21844'>\n",
       "\n",
       "\n",
       "\n",
       "\n",
       "\n",
       "  <div class=\"bk-root\" id=\"96d961d5-8b3e-4064-bbd9-4f3bc9da20e5\" data-root-id=\"21844\"></div>\n",
       "</div>\n",
       "<script type=\"application/javascript\">(function(root) {\n",
       "  function embed_document(root) {\n",
       "    var docs_json = {\"61576a8e-5610-4897-8a75-120c7e18d798\":{\"defs\":[{\"extends\":null,\"module\":null,\"name\":\"ReactiveHTML1\",\"overrides\":[],\"properties\":[]},{\"extends\":null,\"module\":null,\"name\":\"FlexBox1\",\"overrides\":[],\"properties\":[{\"default\":\"flex-start\",\"kind\":null,\"name\":\"align_content\"},{\"default\":\"flex-start\",\"kind\":null,\"name\":\"align_items\"},{\"default\":\"row\",\"kind\":null,\"name\":\"flex_direction\"},{\"default\":\"wrap\",\"kind\":null,\"name\":\"flex_wrap\"},{\"default\":\"flex-start\",\"kind\":null,\"name\":\"justify_content\"}]},{\"extends\":null,\"module\":null,\"name\":\"TemplateActions1\",\"overrides\":[],\"properties\":[{\"default\":0,\"kind\":null,\"name\":\"open_modal\"},{\"default\":0,\"kind\":null,\"name\":\"close_modal\"}]},{\"extends\":null,\"module\":null,\"name\":\"MaterialTemplateActions1\",\"overrides\":[],\"properties\":[{\"default\":0,\"kind\":null,\"name\":\"open_modal\"},{\"default\":0,\"kind\":null,\"name\":\"close_modal\"}]}],\"roots\":{\"references\":[{\"attributes\":{\"below\":[{\"id\":\"21858\"}],\"center\":[{\"id\":\"21861\"},{\"id\":\"21865\"}],\"height\":500,\"left\":[{\"id\":\"21862\"}],\"margin\":[5,5,5,5],\"min_border_bottom\":10,\"min_border_left\":10,\"min_border_right\":10,\"min_border_top\":10,\"renderers\":[{\"id\":\"21885\"}],\"sizing_mode\":\"fixed\",\"title\":{\"id\":\"21850\"},\"toolbar\":{\"id\":\"21872\"},\"width\":500,\"x_range\":{\"id\":\"21846\"},\"x_scale\":{\"id\":\"21854\"},\"y_range\":{\"id\":\"21847\"},\"y_scale\":{\"id\":\"21856\"}},\"id\":\"21849\",\"subtype\":\"Figure\",\"type\":\"Plot\"},{\"attributes\":{},\"id\":\"21867\",\"type\":\"PanTool\"},{\"attributes\":{\"overlay\":{\"id\":\"21871\"}},\"id\":\"21869\",\"type\":\"BoxZoomTool\"},{\"attributes\":{\"axis_label\":\"Rank\",\"formatter\":{\"id\":\"21890\"},\"major_label_policy\":{\"id\":\"21889\"},\"ticker\":{\"id\":\"21859\"}},\"id\":\"21858\",\"type\":\"LinearAxis\"},{\"attributes\":{},\"id\":\"21892\",\"type\":\"AllLabels\"},{\"attributes\":{\"callback\":null,\"renderers\":[{\"id\":\"21885\"}],\"tags\":[\"hv_created\"],\"tooltips\":[[\"Rank\",\"@{Rank}\"],[\"Murder and non-negligent manslaughter per 100k\",\"@{Murder_and_non_hyphen_minus_negligent_manslaughter_per_100k}\"],[\"State\",\"@{State}\"]]},\"id\":\"21848\",\"type\":\"HoverTool\"},{\"attributes\":{},\"id\":\"21863\",\"type\":\"BasicTicker\"},{\"attributes\":{\"angle\":{\"value\":0.0},\"fill_alpha\":{\"value\":1.0},\"fill_color\":{\"value\":\"#30a2da\"},\"hatch_alpha\":{\"value\":1.0},\"hatch_color\":{\"value\":\"black\"},\"hatch_scale\":{\"value\":12.0},\"hatch_weight\":{\"value\":1.0},\"line_alpha\":{\"value\":1.0},\"line_cap\":{\"value\":\"butt\"},\"line_color\":{\"value\":\"#30a2da\"},\"line_dash\":{\"value\":[]},\"line_dash_offset\":{\"value\":0},\"line_join\":{\"value\":\"bevel\"},\"line_width\":{\"value\":1},\"marker\":{\"value\":\"circle\"},\"size\":{\"value\":5.477225575051661},\"x\":{\"field\":\"Rank\"},\"y\":{\"field\":\"Murder and non-negligent manslaughter per 100k\"}},\"id\":\"21887\",\"type\":\"Scatter\"},{\"attributes\":{},\"id\":\"21870\",\"type\":\"ResetTool\"},{\"attributes\":{\"bottom_units\":\"screen\",\"fill_alpha\":0.5,\"fill_color\":\"lightgrey\",\"left_units\":\"screen\",\"level\":\"overlay\",\"line_alpha\":1.0,\"line_color\":\"black\",\"line_dash\":[4,4],\"line_width\":2,\"right_units\":\"screen\",\"syncable\":false,\"top_units\":\"screen\"},\"id\":\"21871\",\"type\":\"BoxAnnotation\"},{\"attributes\":{\"axis\":{\"id\":\"21858\"},\"grid_line_color\":null,\"ticker\":null},\"id\":\"21861\",\"type\":\"Grid\"},{\"attributes\":{\"text\":\"Murder and Non-Negligent vs Rank\",\"text_color\":\"black\",\"text_font_size\":\"12pt\"},\"id\":\"21850\",\"type\":\"Title\"},{\"attributes\":{\"fill_alpha\":{\"value\":0.1},\"fill_color\":{\"value\":\"#30a2da\"},\"line_alpha\":{\"value\":0.1},\"line_color\":{\"value\":\"#30a2da\"},\"size\":{\"value\":5.477225575051661},\"x\":{\"field\":\"Rank\"},\"y\":{\"field\":\"Murder and non-negligent manslaughter per 100k\"}},\"id\":\"21883\",\"type\":\"Scatter\"},{\"attributes\":{},\"id\":\"21866\",\"type\":\"SaveTool\"},{\"attributes\":{},\"id\":\"21859\",\"type\":\"BasicTicker\"},{\"attributes\":{\"fill_color\":{\"value\":\"#30a2da\"},\"line_color\":{\"value\":\"#30a2da\"},\"size\":{\"value\":5.477225575051661},\"x\":{\"field\":\"Rank\"},\"y\":{\"field\":\"Murder and non-negligent manslaughter per 100k\"}},\"id\":\"21882\",\"type\":\"Scatter\"},{\"attributes\":{\"fill_alpha\":{\"value\":0.2},\"fill_color\":{\"value\":\"#30a2da\"},\"line_alpha\":{\"value\":0.2},\"line_color\":{\"value\":\"#30a2da\"},\"size\":{\"value\":5.477225575051661},\"x\":{\"field\":\"Rank\"},\"y\":{\"field\":\"Murder and non-negligent manslaughter per 100k\"}},\"id\":\"21884\",\"type\":\"Scatter\"},{\"attributes\":{},\"id\":\"21902\",\"type\":\"UnionRenderers\"},{\"attributes\":{\"children\":[{\"id\":\"21845\"},{\"id\":\"21849\"},{\"id\":\"21914\"}],\"margin\":[0,0,0,0],\"name\":\"Row42631\",\"tags\":[\"embedded\"]},\"id\":\"21844\",\"type\":\"Row\"},{\"attributes\":{},\"id\":\"21890\",\"type\":\"BasicTickFormatter\"},{\"attributes\":{\"margin\":[5,5,5,5],\"name\":\"HSpacer42635\",\"sizing_mode\":\"stretch_width\"},\"id\":\"21845\",\"type\":\"Spacer\"},{\"attributes\":{},\"id\":\"21854\",\"type\":\"LinearScale\"},{\"attributes\":{\"active_multi\":null,\"tools\":[{\"id\":\"21848\"},{\"id\":\"21866\"},{\"id\":\"21867\"},{\"id\":\"21868\"},{\"id\":\"21869\"},{\"id\":\"21870\"}]},\"id\":\"21872\",\"type\":\"Toolbar\"},{\"attributes\":{},\"id\":\"21889\",\"type\":\"AllLabels\"},{\"attributes\":{\"axis\":{\"id\":\"21862\"},\"dimension\":1,\"grid_line_color\":null,\"ticker\":null},\"id\":\"21865\",\"type\":\"Grid\"},{\"attributes\":{\"data_source\":{\"id\":\"21879\"},\"glyph\":{\"id\":\"21882\"},\"hover_glyph\":null,\"muted_glyph\":{\"id\":\"21884\"},\"nonselection_glyph\":{\"id\":\"21883\"},\"selection_glyph\":{\"id\":\"21887\"},\"view\":{\"id\":\"21886\"}},\"id\":\"21885\",\"type\":\"GlyphRenderer\"},{\"attributes\":{},\"id\":\"21893\",\"type\":\"BasicTickFormatter\"},{\"attributes\":{},\"id\":\"21856\",\"type\":\"LinearScale\"},{\"attributes\":{},\"id\":\"21880\",\"type\":\"Selection\"},{\"attributes\":{\"end\":54.9,\"reset_end\":54.9,\"reset_start\":-3.9000000000000004,\"start\":-3.9000000000000004,\"tags\":[[[\"Rank\",\"Rank\",null]]]},\"id\":\"21846\",\"type\":\"Range1d\"},{\"attributes\":{\"end\":12.850000000000001,\"reset_end\":12.850000000000001,\"reset_start\":0.25,\"start\":0.25,\"tags\":[[[\"Murder and non-negligent manslaughter per 100k\",\"Murder and non-negligent manslaughter per 100k\",null]]]},\"id\":\"21847\",\"type\":\"Range1d\"},{\"attributes\":{\"axis_label\":\"Murder and non-negligent manslaughter per 100k\",\"formatter\":{\"id\":\"21893\"},\"major_label_policy\":{\"id\":\"21892\"},\"ticker\":{\"id\":\"21863\"}},\"id\":\"21862\",\"type\":\"LinearAxis\"},{\"attributes\":{\"source\":{\"id\":\"21879\"}},\"id\":\"21886\",\"type\":\"CDSView\"},{\"attributes\":{},\"id\":\"21868\",\"type\":\"WheelZoomTool\"},{\"attributes\":{\"margin\":[5,5,5,5],\"name\":\"HSpacer42636\",\"sizing_mode\":\"stretch_width\"},\"id\":\"21914\",\"type\":\"Spacer\"},{\"attributes\":{\"data\":{\"Murder and non-negligent manslaughter per 100k\":{\"__ndarray__\":\"zczMzMzMIEAAAAAAAAAcQAAAAAAAABZAzczMzMzMHECamZmZmZkTQJqZmZmZmQ1AmpmZmZmZAUCamZmZmZkXQJqZmZmZmRVAZmZmZmZmGkAAAAAAAAAEQDMzMzMzMwdAZmZmZmZmIEBmZmZmZmYaQGZmZmZmZgJAZmZmZmZmDkCamZmZmZkXQJqZmZmZmSdAAAAAAAAA+D8AAAAAAAAgQAAAAAAAAABAAAAAAAAAGEDNzMzMzMz8PwAAAAAAACBAmpmZmZmZIUAAAAAAAAAMQM3MzMzMzARAZmZmZmZmHkDNzMzMzMz0P83MzMzMzBBAzczMzMzMGkCamZmZmZkJQM3MzMzMzBpAAAAAAAAAAEBmZmZmZmYWQM3MzMzMzBhAZmZmZmZmBkDNzMzMzMwUQJqZmZmZmQVAmpmZmZmZHUDNzMzMzMwIQDMzMzMzMx1AMzMzMzMzFUAzMzMzMzMDQJqZmZmZmQFAMzMzMzMzF0CamZmZmZkFQJqZmZmZmRFAAAAAAAAAEEAzMzMzMzMLQAAAAAAAAPh/\",\"dtype\":\"float64\",\"order\":\"little\",\"shape\":[51]},\"Murder_and_non_hyphen_minus_negligent_manslaughter_per_100k\":{\"__ndarray__\":\"zczMzMzMIEAAAAAAAAAcQAAAAAAAABZAzczMzMzMHECamZmZmZkTQJqZmZmZmQ1AmpmZmZmZAUCamZmZmZkXQJqZmZmZmRVAZmZmZmZmGkAAAAAAAAAEQDMzMzMzMwdAZmZmZmZmIEBmZmZmZmYaQGZmZmZmZgJAZmZmZmZmDkCamZmZmZkXQJqZmZmZmSdAAAAAAAAA+D8AAAAAAAAgQAAAAAAAAABAAAAAAAAAGEDNzMzMzMz8PwAAAAAAACBAmpmZmZmZIUAAAAAAAAAMQM3MzMzMzARAZmZmZmZmHkDNzMzMzMz0P83MzMzMzBBAzczMzMzMGkCamZmZmZkJQM3MzMzMzBpAAAAAAAAAAEBmZmZmZmYWQM3MzMzMzBhAZmZmZmZmBkDNzMzMzMwUQJqZmZmZmQVAmpmZmZmZHUDNzMzMzMwIQDMzMzMzMx1AMzMzMzMzFUAzMzMzMzMDQJqZmZmZmQFAMzMzMzMzF0CamZmZmZkFQJqZmZmZmRFAAAAAAAAAEEAzMzMzMzMLQAAAAAAAAPh/\",\"dtype\":\"float64\",\"order\":\"little\",\"shape\":[51]},\"Rank\":{\"__ndarray__\":\"AAAAAACARkAAAAAAAIBIQAAAAAAAgEdAAAAAAAAAQ0AAAAAAAABEQAAAAAAAABxAAAAAAAAACEAAAAAAAAA2QAAAAAAAADBAAAAAAAAAPkAAAAAAAAA8QAAAAAAAADdAAAAAAAAAGEAAAAAAAAAiQAAAAAAAADhAAAAAAAAAO0AAAAAAAIBAQAAAAAAAAEdAAAAAAAAAKEAAAAAAAAAsQAAAAAAAAABAAAAAAAAAQEAAAAAAAAAyQAAAAAAAgEVAAAAAAAAAOkAAAAAAAABCQAAAAAAAACpAAAAAAAAASEAAAAAAAAAQQAAAAAAAAPA/AAAAAAAASUAAAAAAAAAzQAAAAAAAAC5AAAAAAAAAQUAAAAAAAAA0QAAAAAAAAEZAAAAAAACAQkAAAAAAAAAxQAAAAAAAADlAAAAAAAAARUAAAAAAAAA9QAAAAAAAAD9AAAAAAACAQUAAAAAAAAA1QAAAAAAAABRAAAAAAAAAJEAAAAAAAAAmQAAAAAAAgERAAAAAAAAAIEAAAAAAAIBDQAAAAAAAAPh/\",\"dtype\":\"float64\",\"order\":\"little\",\"shape\":[51]},\"State\":[\"Alabama\",\"Alaska\",\"Arizona\",\"Arkansas\",\"California\",\"Colorado\",\"Connecticut\",\"Delaware\",\"Florida\",\"Georgia\",\"Hawaii\",\"Idaho\",\"Illinois \",\"Indiana\",\"Iowa\",\"Kansas\",\"Kentucky\",\"Louisiana\",\"Maine\",\"Maryland \",\"Massachussets \",\"Michigan\",\"Minnesota\",\"Mississippi\",\"Missouri\",\"Montana\",\"Nebraska\",\"Nevada\",\"New Hampshire\",\"New Jersey\",\"New Mexico\",\"New York\",\"North Carolina\",\"North Dakota\",\"Ohio\",\"Oklahoma\",\"Oregon\",\"Pennsylvania \",\"Rhode Island\",\"South Carolina\",\"South Dakota\",\"Tennessee\",\"Texas\",\"Utah\",\"Vermont\",\"Virginia\",\"Washington\",\"West Virginia\",\"Wisconsin \",\"Wyoming\",\"nan\"]},\"selected\":{\"id\":\"21880\"},\"selection_policy\":{\"id\":\"21902\"}},\"id\":\"21879\",\"type\":\"ColumnDataSource\"}],\"root_ids\":[\"21844\"]},\"title\":\"Bokeh Application\",\"version\":\"2.3.2\"}};\n",
       "    var render_items = [{\"docid\":\"61576a8e-5610-4897-8a75-120c7e18d798\",\"root_ids\":[\"21844\"],\"roots\":{\"21844\":\"96d961d5-8b3e-4064-bbd9-4f3bc9da20e5\"}}];\n",
       "    root.Bokeh.embed.embed_items_notebook(docs_json, render_items);\n",
       "  }\n",
       "  if (root.Bokeh !== undefined && root.Bokeh.Panel !== undefined) {\n",
       "    embed_document(root);\n",
       "  } else {\n",
       "    var attempts = 0;\n",
       "    var timer = setInterval(function(root) {\n",
       "      if (root.Bokeh !== undefined && root.Bokeh.Panel !== undefined) {\n",
       "        clearInterval(timer);\n",
       "        embed_document(root);\n",
       "      } else if (document.readyState == \"complete\") {\n",
       "        attempts++;\n",
       "        if (attempts > 200) {\n",
       "          clearInterval(timer);\n",
       "          console.log(\"Bokeh: ERROR: Unable to run BokehJS code because BokehJS library is missing\");\n",
       "        }\n",
       "      }\n",
       "    }, 25, root)\n",
       "  }\n",
       "})(window);</script>"
      ],
      "text/plain": [
       ":Scatter   [Rank]   (Murder and non-negligent manslaughter per 100k,State)"
      ]
     },
     "execution_count": 395,
     "metadata": {
      "application/vnd.holoviews_exec.v0+json": {
       "id": "21844"
      }
     },
     "output_type": "execute_result"
    }
   ],
   "source": [
    "murder_100k= crime_data.hvplot.scatter(\n",
    "    x=\"Rank\",\n",
    "    y='Murder and non-negligent manslaughter per 100k',\n",
    "    height=500,\n",
    "    width=500,\n",
    " \n",
    "    ylabel= 'Murder and non-negligent manslaughter per 100k',\n",
    "    xlabel='Rank',\n",
    "    hover_data={'State'},\n",
    "    hover_cols=\"State\",\n",
    "    title=\"Murder and Non-Negligent vs Rank\")\n",
    "murder_100k"
   ]
  },
  {
   "cell_type": "code",
   "execution_count": null,
   "id": "49aff25d-eacb-459e-b37a-d6d47d6e8ecd",
   "metadata": {},
   "outputs": [],
   "source": []
  },
  {
   "cell_type": "code",
   "execution_count": 396,
   "id": "bf9a999d-f907-46ce-81a9-d42b211349cf",
   "metadata": {},
   "outputs": [
    {
     "data": {
      "text/plain": [
       "0.41163379576173126"
      ]
     },
     "execution_count": 396,
     "metadata": {},
     "output_type": "execute_result"
    }
   ],
   "source": [
    "crime_data4=crime_data.drop([17])\n",
    "murder100k_corr = crime_data4[\"Rank\"].astype(float).corr(crime_data4[\"Murder and non-negligent manslaughter per 100k\"].astype(float), method='pearson') \n",
    "murder100k_corr"
   ]
  },
  {
   "cell_type": "code",
   "execution_count": 397,
   "id": "95f0eb81-d99b-4d9e-9e8c-35a04f26f323",
   "metadata": {},
   "outputs": [
    {
     "name": "stderr",
     "output_type": "stream",
     "text": [
      "WARNING:param.main: hover_data option not found for scatter plot; similar options include: ['hover_alpha', 'sort_date', 'hover_line_alpha']\n"
     ]
    },
    {
     "data": {},
     "metadata": {},
     "output_type": "display_data"
    },
    {
     "data": {
      "application/vnd.holoviews_exec.v0+json": "",
      "text/html": [
       "<div id='21966'>\n",
       "\n",
       "\n",
       "\n",
       "\n",
       "\n",
       "  <div class=\"bk-root\" id=\"e99ea02c-9335-4cf8-9b74-b21284aee7af\" data-root-id=\"21966\"></div>\n",
       "</div>\n",
       "<script type=\"application/javascript\">(function(root) {\n",
       "  function embed_document(root) {\n",
       "    var docs_json = {\"e019f07e-ee74-4862-a499-56e369229de2\":{\"defs\":[{\"extends\":null,\"module\":null,\"name\":\"ReactiveHTML1\",\"overrides\":[],\"properties\":[]},{\"extends\":null,\"module\":null,\"name\":\"FlexBox1\",\"overrides\":[],\"properties\":[{\"default\":\"flex-start\",\"kind\":null,\"name\":\"align_content\"},{\"default\":\"flex-start\",\"kind\":null,\"name\":\"align_items\"},{\"default\":\"row\",\"kind\":null,\"name\":\"flex_direction\"},{\"default\":\"wrap\",\"kind\":null,\"name\":\"flex_wrap\"},{\"default\":\"flex-start\",\"kind\":null,\"name\":\"justify_content\"}]},{\"extends\":null,\"module\":null,\"name\":\"TemplateActions1\",\"overrides\":[],\"properties\":[{\"default\":0,\"kind\":null,\"name\":\"open_modal\"},{\"default\":0,\"kind\":null,\"name\":\"close_modal\"}]},{\"extends\":null,\"module\":null,\"name\":\"MaterialTemplateActions1\",\"overrides\":[],\"properties\":[{\"default\":0,\"kind\":null,\"name\":\"open_modal\"},{\"default\":0,\"kind\":null,\"name\":\"close_modal\"}]}],\"roots\":{\"references\":[{\"attributes\":{\"text\":\"Larceny-Theft per 100k vs Rank\",\"text_color\":\"black\",\"text_font_size\":\"12pt\"},\"id\":\"21972\",\"type\":\"Title\"},{\"attributes\":{\"angle\":{\"value\":0.0},\"fill_alpha\":{\"value\":1.0},\"fill_color\":{\"value\":\"#30a2da\"},\"hatch_alpha\":{\"value\":1.0},\"hatch_color\":{\"value\":\"black\"},\"hatch_scale\":{\"value\":12.0},\"hatch_weight\":{\"value\":1.0},\"line_alpha\":{\"value\":1.0},\"line_cap\":{\"value\":\"butt\"},\"line_color\":{\"value\":\"#30a2da\"},\"line_dash\":{\"value\":[]},\"line_dash_offset\":{\"value\":0},\"line_join\":{\"value\":\"bevel\"},\"line_width\":{\"value\":1},\"marker\":{\"value\":\"circle\"},\"size\":{\"value\":5.477225575051661},\"x\":{\"field\":\"Rank\"},\"y\":{\"field\":\"Larceny-theft per 100k\"}},\"id\":\"22009\",\"type\":\"Scatter\"},{\"attributes\":{},\"id\":\"22024\",\"type\":\"UnionRenderers\"},{\"attributes\":{\"margin\":[5,5,5,5],\"name\":\"HSpacer42841\",\"sizing_mode\":\"stretch_width\"},\"id\":\"22036\",\"type\":\"Spacer\"},{\"attributes\":{\"axis\":{\"id\":\"21980\"},\"grid_line_color\":null,\"ticker\":null},\"id\":\"21983\",\"type\":\"Grid\"},{\"attributes\":{\"overlay\":{\"id\":\"21993\"}},\"id\":\"21991\",\"type\":\"BoxZoomTool\"},{\"attributes\":{\"end\":2683.12,\"reset_end\":2683.12,\"reset_start\":994.48,\"start\":994.48,\"tags\":[[[\"Larceny-theft per 100k\",\"Larceny-theft per 100k\",null]]]},\"id\":\"21969\",\"type\":\"Range1d\"},{\"attributes\":{},\"id\":\"21988\",\"type\":\"SaveTool\"},{\"attributes\":{\"fill_alpha\":{\"value\":0.1},\"fill_color\":{\"value\":\"#30a2da\"},\"line_alpha\":{\"value\":0.1},\"line_color\":{\"value\":\"#30a2da\"},\"size\":{\"value\":5.477225575051661},\"x\":{\"field\":\"Rank\"},\"y\":{\"field\":\"Larceny-theft per 100k\"}},\"id\":\"22005\",\"type\":\"Scatter\"},{\"attributes\":{},\"id\":\"21978\",\"type\":\"LinearScale\"},{\"attributes\":{\"fill_color\":{\"value\":\"#30a2da\"},\"line_color\":{\"value\":\"#30a2da\"},\"size\":{\"value\":5.477225575051661},\"x\":{\"field\":\"Rank\"},\"y\":{\"field\":\"Larceny-theft per 100k\"}},\"id\":\"22004\",\"type\":\"Scatter\"},{\"attributes\":{\"data_source\":{\"id\":\"22001\"},\"glyph\":{\"id\":\"22004\"},\"hover_glyph\":null,\"muted_glyph\":{\"id\":\"22006\"},\"nonselection_glyph\":{\"id\":\"22005\"},\"selection_glyph\":{\"id\":\"22009\"},\"view\":{\"id\":\"22008\"}},\"id\":\"22007\",\"type\":\"GlyphRenderer\"},{\"attributes\":{},\"id\":\"22012\",\"type\":\"BasicTickFormatter\"},{\"attributes\":{},\"id\":\"21981\",\"type\":\"BasicTicker\"},{\"attributes\":{\"below\":[{\"id\":\"21980\"}],\"center\":[{\"id\":\"21983\"},{\"id\":\"21987\"}],\"height\":500,\"left\":[{\"id\":\"21984\"}],\"margin\":[5,5,5,5],\"min_border_bottom\":10,\"min_border_left\":10,\"min_border_right\":10,\"min_border_top\":10,\"renderers\":[{\"id\":\"22007\"}],\"sizing_mode\":\"fixed\",\"title\":{\"id\":\"21972\"},\"toolbar\":{\"id\":\"21994\"},\"width\":500,\"x_range\":{\"id\":\"21968\"},\"x_scale\":{\"id\":\"21976\"},\"y_range\":{\"id\":\"21969\"},\"y_scale\":{\"id\":\"21978\"}},\"id\":\"21971\",\"subtype\":\"Figure\",\"type\":\"Plot\"},{\"attributes\":{\"data\":{\"Larceny-theft per 100k\":{\"__ndarray__\":\"MzMzMzNZn0BmZmZmZrWiQDMzMzMz8KBAMzMzMzNzoUAAAAAAAFyZQDMzMzMzjZ5AAAAAAADClEBmZmZmZj2gQDMzMzMzG59AMzMzMzOkoECamZmZmf+gQJqZmZmZdZNAZmZmZma6l0AzMzMzM/WcQGZmZmZmnpZAmpmZmZmrnkCamZmZmWWXQJqZmZmZQKJAMzMzMzMblECamZmZmTWaQAAAAAAAJJJAZmZmZmZwlEBmZmZmZpiZQGZmZmZmyJxAmpmZmZnpnkAAAAAAAOyfQGZmZmZmNppAZmZmZmZkl0DNzMzMzCaTQM3MzMzMvJFAzczMzMzco0AAAAAAANyTQM3MzMzMUJ1AmpmZmZkjmUAzMzMzM6GcQJqZmZmZLZ5AAAAAAABsoUAzMzMzM0uVQAAAAAAAtJVAAAAAAAD1oUCamZmZmdGWQM3MzMzMkp9AZmZmZmbonkBmZmZmZl6hQGZmZmZmjpRAZmZmZmaEl0CamZmZmZCiQDMzMzMz6ZVAMzMzMzNDlkDNzMzMzLiXQAAAAAAAAPh/\",\"dtype\":\"float64\",\"order\":\"little\",\"shape\":[51]},\"Larceny_hyphen_minus_theft_per_100k\":{\"__ndarray__\":\"MzMzMzNZn0BmZmZmZrWiQDMzMzMz8KBAMzMzMzNzoUAAAAAAAFyZQDMzMzMzjZ5AAAAAAADClEBmZmZmZj2gQDMzMzMzG59AMzMzMzOkoECamZmZmf+gQJqZmZmZdZNAZmZmZma6l0AzMzMzM/WcQGZmZmZmnpZAmpmZmZmrnkCamZmZmWWXQJqZmZmZQKJAMzMzMzMblECamZmZmTWaQAAAAAAAJJJAZmZmZmZwlEBmZmZmZpiZQGZmZmZmyJxAmpmZmZnpnkAAAAAAAOyfQGZmZmZmNppAZmZmZmZkl0DNzMzMzCaTQM3MzMzMvJFAzczMzMzco0AAAAAAANyTQM3MzMzMUJ1AmpmZmZkjmUAzMzMzM6GcQJqZmZmZLZ5AAAAAAABsoUAzMzMzM0uVQAAAAAAAtJVAAAAAAAD1oUCamZmZmdGWQM3MzMzMkp9AZmZmZmbonkBmZmZmZl6hQGZmZmZmjpRAZmZmZmaEl0CamZmZmZCiQDMzMzMz6ZVAMzMzMzNDlkDNzMzMzLiXQAAAAAAAAPh/\",\"dtype\":\"float64\",\"order\":\"little\",\"shape\":[51]},\"Rank\":{\"__ndarray__\":\"AAAAAACARkAAAAAAAIBIQAAAAAAAgEdAAAAAAAAAQ0AAAAAAAABEQAAAAAAAABxAAAAAAAAACEAAAAAAAAA2QAAAAAAAADBAAAAAAAAAPkAAAAAAAAA8QAAAAAAAADdAAAAAAAAAGEAAAAAAAAAiQAAAAAAAADhAAAAAAAAAO0AAAAAAAIBAQAAAAAAAAEdAAAAAAAAAKEAAAAAAAAAsQAAAAAAAAABAAAAAAAAAQEAAAAAAAAAyQAAAAAAAgEVAAAAAAAAAOkAAAAAAAABCQAAAAAAAACpAAAAAAAAASEAAAAAAAAAQQAAAAAAAAPA/AAAAAAAASUAAAAAAAAAzQAAAAAAAAC5AAAAAAAAAQUAAAAAAAAA0QAAAAAAAAEZAAAAAAACAQkAAAAAAAAAxQAAAAAAAADlAAAAAAAAARUAAAAAAAAA9QAAAAAAAAD9AAAAAAACAQUAAAAAAAAA1QAAAAAAAABRAAAAAAAAAJEAAAAAAAAAmQAAAAAAAgERAAAAAAAAAIEAAAAAAAIBDQAAAAAAAAPh/\",\"dtype\":\"float64\",\"order\":\"little\",\"shape\":[51]},\"State\":[\"Alabama\",\"Alaska\",\"Arizona\",\"Arkansas\",\"California\",\"Colorado\",\"Connecticut\",\"Delaware\",\"Florida\",\"Georgia\",\"Hawaii\",\"Idaho\",\"Illinois \",\"Indiana\",\"Iowa\",\"Kansas\",\"Kentucky\",\"Louisiana\",\"Maine\",\"Maryland \",\"Massachussets \",\"Michigan\",\"Minnesota\",\"Mississippi\",\"Missouri\",\"Montana\",\"Nebraska\",\"Nevada\",\"New Hampshire\",\"New Jersey\",\"New Mexico\",\"New York\",\"North Carolina\",\"North Dakota\",\"Ohio\",\"Oklahoma\",\"Oregon\",\"Pennsylvania \",\"Rhode Island\",\"South Carolina\",\"South Dakota\",\"Tennessee\",\"Texas\",\"Utah\",\"Vermont\",\"Virginia\",\"Washington\",\"West Virginia\",\"Wisconsin \",\"Wyoming\",\"nan\"]},\"selected\":{\"id\":\"22002\"},\"selection_policy\":{\"id\":\"22024\"}},\"id\":\"22001\",\"type\":\"ColumnDataSource\"},{\"attributes\":{\"bottom_units\":\"screen\",\"fill_alpha\":0.5,\"fill_color\":\"lightgrey\",\"left_units\":\"screen\",\"level\":\"overlay\",\"line_alpha\":1.0,\"line_color\":\"black\",\"line_dash\":[4,4],\"line_width\":2,\"right_units\":\"screen\",\"syncable\":false,\"top_units\":\"screen\"},\"id\":\"21993\",\"type\":\"BoxAnnotation\"},{\"attributes\":{},\"id\":\"22015\",\"type\":\"BasicTickFormatter\"},{\"attributes\":{\"axis_label\":\"Larceny-Theft per 100k\",\"formatter\":{\"id\":\"22015\"},\"major_label_policy\":{\"id\":\"22014\"},\"ticker\":{\"id\":\"21985\"}},\"id\":\"21984\",\"type\":\"LinearAxis\"},{\"attributes\":{},\"id\":\"21989\",\"type\":\"PanTool\"},{\"attributes\":{\"fill_alpha\":{\"value\":0.2},\"fill_color\":{\"value\":\"#30a2da\"},\"line_alpha\":{\"value\":0.2},\"line_color\":{\"value\":\"#30a2da\"},\"size\":{\"value\":5.477225575051661},\"x\":{\"field\":\"Rank\"},\"y\":{\"field\":\"Larceny-theft per 100k\"}},\"id\":\"22006\",\"type\":\"Scatter\"},{\"attributes\":{\"margin\":[5,5,5,5],\"name\":\"HSpacer42840\",\"sizing_mode\":\"stretch_width\"},\"id\":\"21967\",\"type\":\"Spacer\"},{\"attributes\":{},\"id\":\"21992\",\"type\":\"ResetTool\"},{\"attributes\":{\"axis_label\":\"Rank\",\"formatter\":{\"id\":\"22012\"},\"major_label_policy\":{\"id\":\"22011\"},\"ticker\":{\"id\":\"21981\"}},\"id\":\"21980\",\"type\":\"LinearAxis\"},{\"attributes\":{\"axis\":{\"id\":\"21984\"},\"dimension\":1,\"grid_line_color\":null,\"ticker\":null},\"id\":\"21987\",\"type\":\"Grid\"},{\"attributes\":{\"source\":{\"id\":\"22001\"}},\"id\":\"22008\",\"type\":\"CDSView\"},{\"attributes\":{},\"id\":\"22014\",\"type\":\"AllLabels\"},{\"attributes\":{\"children\":[{\"id\":\"21967\"},{\"id\":\"21971\"},{\"id\":\"22036\"}],\"margin\":[0,0,0,0],\"name\":\"Row42836\",\"tags\":[\"embedded\"]},\"id\":\"21966\",\"type\":\"Row\"},{\"attributes\":{},\"id\":\"21990\",\"type\":\"WheelZoomTool\"},{\"attributes\":{\"callback\":null,\"renderers\":[{\"id\":\"22007\"}],\"tags\":[\"hv_created\"],\"tooltips\":[[\"Rank\",\"@{Rank}\"],[\"Larceny-theft per 100k\",\"@{Larceny_hyphen_minus_theft_per_100k}\"],[\"State\",\"@{State}\"]]},\"id\":\"21970\",\"type\":\"HoverTool\"},{\"attributes\":{},\"id\":\"21985\",\"type\":\"BasicTicker\"},{\"attributes\":{\"active_multi\":null,\"tools\":[{\"id\":\"21970\"},{\"id\":\"21988\"},{\"id\":\"21989\"},{\"id\":\"21990\"},{\"id\":\"21991\"},{\"id\":\"21992\"}]},\"id\":\"21994\",\"type\":\"Toolbar\"},{\"attributes\":{\"end\":54.9,\"reset_end\":54.9,\"reset_start\":-3.9000000000000004,\"start\":-3.9000000000000004,\"tags\":[[[\"Rank\",\"Rank\",null]]]},\"id\":\"21968\",\"type\":\"Range1d\"},{\"attributes\":{},\"id\":\"21976\",\"type\":\"LinearScale\"},{\"attributes\":{},\"id\":\"22011\",\"type\":\"AllLabels\"},{\"attributes\":{},\"id\":\"22002\",\"type\":\"Selection\"}],\"root_ids\":[\"21966\"]},\"title\":\"Bokeh Application\",\"version\":\"2.3.2\"}};\n",
       "    var render_items = [{\"docid\":\"e019f07e-ee74-4862-a499-56e369229de2\",\"root_ids\":[\"21966\"],\"roots\":{\"21966\":\"e99ea02c-9335-4cf8-9b74-b21284aee7af\"}}];\n",
       "    root.Bokeh.embed.embed_items_notebook(docs_json, render_items);\n",
       "  }\n",
       "  if (root.Bokeh !== undefined && root.Bokeh.Panel !== undefined) {\n",
       "    embed_document(root);\n",
       "  } else {\n",
       "    var attempts = 0;\n",
       "    var timer = setInterval(function(root) {\n",
       "      if (root.Bokeh !== undefined && root.Bokeh.Panel !== undefined) {\n",
       "        clearInterval(timer);\n",
       "        embed_document(root);\n",
       "      } else if (document.readyState == \"complete\") {\n",
       "        attempts++;\n",
       "        if (attempts > 200) {\n",
       "          clearInterval(timer);\n",
       "          console.log(\"Bokeh: ERROR: Unable to run BokehJS code because BokehJS library is missing\");\n",
       "        }\n",
       "      }\n",
       "    }, 25, root)\n",
       "  }\n",
       "})(window);</script>"
      ],
      "text/plain": [
       ":Scatter   [Rank]   (Larceny-theft per 100k,State)"
      ]
     },
     "execution_count": 397,
     "metadata": {
      "application/vnd.holoviews_exec.v0+json": {
       "id": "21966"
      }
     },
     "output_type": "execute_result"
    }
   ],
   "source": [
    "theft_100k= crime_data.hvplot.scatter(\n",
    "    x=\"Rank\",\n",
    "    y='Larceny-theft per 100k',\n",
    "    height=500,\n",
    "    width=500,\n",
    "\n",
    "    ylabel= 'Larceny-Theft per 100k',\n",
    "    xlabel='Rank',\n",
    "    hover_data={'State'},\n",
    "    hover_cols=\"State\",\n",
    "    title=\"Larceny-Theft per 100k vs Rank\")\n",
    "theft_100k\n"
   ]
  },
  {
   "cell_type": "code",
   "execution_count": 398,
   "id": "0dd4603e-cae9-4910-8a9b-5bbc718d25cd",
   "metadata": {},
   "outputs": [
    {
     "data": {
      "text/plain": [
       "0.5137042549527701"
      ]
     },
     "execution_count": 398,
     "metadata": {},
     "output_type": "execute_result"
    }
   ],
   "source": [
    "theft100k_corr = crime_data[\"Rank\"].astype(float).corr(crime_data[\"Larceny-theft per 100k\"].astype(float), method='pearson') \n",
    "theft100k_corr"
   ]
  },
  {
   "cell_type": "code",
   "execution_count": 399,
   "id": "e77936f0-1e41-4887-b621-013c94b7fb34",
   "metadata": {},
   "outputs": [
    {
     "name": "stderr",
     "output_type": "stream",
     "text": [
      "WARNING:param.main: hover_data option not found for scatter plot; similar options include: ['hover_alpha', 'sort_date', 'hover_line_alpha']\n"
     ]
    },
    {
     "data": {},
     "metadata": {},
     "output_type": "display_data"
    },
    {
     "data": {
      "application/vnd.holoviews_exec.v0+json": "",
      "text/html": [
       "<div id='22088'>\n",
       "\n",
       "\n",
       "\n",
       "\n",
       "\n",
       "  <div class=\"bk-root\" id=\"96ce1a0e-9a60-4917-8701-169bfc7ed921\" data-root-id=\"22088\"></div>\n",
       "</div>\n",
       "<script type=\"application/javascript\">(function(root) {\n",
       "  function embed_document(root) {\n",
       "    var docs_json = {\"cca456d0-9a86-47ef-ae2c-7a21065531be\":{\"defs\":[{\"extends\":null,\"module\":null,\"name\":\"ReactiveHTML1\",\"overrides\":[],\"properties\":[]},{\"extends\":null,\"module\":null,\"name\":\"FlexBox1\",\"overrides\":[],\"properties\":[{\"default\":\"flex-start\",\"kind\":null,\"name\":\"align_content\"},{\"default\":\"flex-start\",\"kind\":null,\"name\":\"align_items\"},{\"default\":\"row\",\"kind\":null,\"name\":\"flex_direction\"},{\"default\":\"wrap\",\"kind\":null,\"name\":\"flex_wrap\"},{\"default\":\"flex-start\",\"kind\":null,\"name\":\"justify_content\"}]},{\"extends\":null,\"module\":null,\"name\":\"TemplateActions1\",\"overrides\":[],\"properties\":[{\"default\":0,\"kind\":null,\"name\":\"open_modal\"},{\"default\":0,\"kind\":null,\"name\":\"close_modal\"}]},{\"extends\":null,\"module\":null,\"name\":\"MaterialTemplateActions1\",\"overrides\":[],\"properties\":[{\"default\":0,\"kind\":null,\"name\":\"open_modal\"},{\"default\":0,\"kind\":null,\"name\":\"close_modal\"}]}],\"roots\":{\"references\":[{\"attributes\":{\"overlay\":{\"id\":\"22115\"}},\"id\":\"22113\",\"type\":\"BoxZoomTool\"},{\"attributes\":{\"data_source\":{\"id\":\"22123\"},\"glyph\":{\"id\":\"22126\"},\"hover_glyph\":null,\"muted_glyph\":{\"id\":\"22128\"},\"nonselection_glyph\":{\"id\":\"22127\"},\"selection_glyph\":{\"id\":\"22131\"},\"view\":{\"id\":\"22130\"}},\"id\":\"22129\",\"type\":\"GlyphRenderer\"},{\"attributes\":{},\"id\":\"22111\",\"type\":\"PanTool\"},{\"attributes\":{\"data\":{\"Rank\":{\"__ndarray__\":\"AAAAAACARkAAAAAAAIBIQAAAAAAAgEdAAAAAAAAAQ0AAAAAAAABEQAAAAAAAABxAAAAAAAAACEAAAAAAAAA2QAAAAAAAADBAAAAAAAAAPkAAAAAAAAA8QAAAAAAAADdAAAAAAAAAGEAAAAAAAAAiQAAAAAAAADhAAAAAAAAAO0AAAAAAAIBAQAAAAAAAAEdAAAAAAAAAKEAAAAAAAAAsQAAAAAAAAABAAAAAAAAAQEAAAAAAAAAyQAAAAAAAgEVAAAAAAAAAOkAAAAAAAABCQAAAAAAAACpAAAAAAAAASEAAAAAAAAAQQAAAAAAAAPA/AAAAAAAASUAAAAAAAAAzQAAAAAAAAC5AAAAAAAAAQUAAAAAAAAA0QAAAAAAAAEZAAAAAAACAQkAAAAAAAAAxQAAAAAAAADlAAAAAAAAARUAAAAAAAAA9QAAAAAAAAD9AAAAAAACAQUAAAAAAAAA1QAAAAAAAABRAAAAAAAAAJEAAAAAAAAAmQAAAAAAAgERAAAAAAAAAIEAAAAAAAIBDQAAAAAAAAPh/\",\"dtype\":\"float64\",\"order\":\"little\",\"shape\":[51]},\"Rape (rd) per 100k\":{\"__ndarray__\":\"MzMzMzOzQ0DNzMzMzLxhQAAAAAAAwEdAzczMzMzsUUAzMzMzM3NBQM3MzMzMDFBAzczMzMxMNUAzMzMzMzNAQDMzMzMzc0JAAAAAAAAAQUBmZmZmZqZFQJqZmZmZWUVAZmZmZmYmQ0CamZmZmdlCQGZmZmZm5kNAzczMzMyMRkAAAAAAAIBCQGZmZmZmZkNAZmZmZmbmPkAzMzMzMzM9QDMzMzMzMz9AMzMzMzPzUUAAAAAAAEBFQJqZmZmZWUVAMzMzMzPzREAzMzMzM7NLQM3MzMzMDEpAMzMzMzNzTUDNzMzMzMxFQDMzMzMzMzBAMzMzMzNTUkAzMzMzM7M/QJqZmZmZGTxAzczMzMyMRkDNzMzMzAxIQAAAAAAAAEpAAAAAAAAARUCamZmZmVlBQGZmZmZm5kRAzczMzMwMSEBmZmZmZmZNQGZmZmZmZkRAAAAAAAAASEBmZmZmZuZIQAAAAAAAgDxAAAAAAABAQECamZmZmRlFQDMzMzMz80FAmpmZmZkZQUAAAAAAAIBBQAAAAAAAAPh/\",\"dtype\":\"float64\",\"order\":\"little\",\"shape\":[51]},\"Rape_left_parenthesis_rd_right_parenthesis_per_100k\":{\"__ndarray__\":\"MzMzMzOzQ0DNzMzMzLxhQAAAAAAAwEdAzczMzMzsUUAzMzMzM3NBQM3MzMzMDFBAzczMzMxMNUAzMzMzMzNAQDMzMzMzc0JAAAAAAAAAQUBmZmZmZqZFQJqZmZmZWUVAZmZmZmYmQ0CamZmZmdlCQGZmZmZm5kNAzczMzMyMRkAAAAAAAIBCQGZmZmZmZkNAZmZmZmbmPkAzMzMzMzM9QDMzMzMzMz9AMzMzMzPzUUAAAAAAAEBFQJqZmZmZWUVAMzMzMzPzREAzMzMzM7NLQM3MzMzMDEpAMzMzMzNzTUDNzMzMzMxFQDMzMzMzMzBAMzMzMzNTUkAzMzMzM7M/QJqZmZmZGTxAzczMzMyMRkDNzMzMzAxIQAAAAAAAAEpAAAAAAAAARUCamZmZmVlBQGZmZmZm5kRAzczMzMwMSEBmZmZmZmZNQGZmZmZmZkRAAAAAAAAASEBmZmZmZuZIQAAAAAAAgDxAAAAAAABAQECamZmZmRlFQDMzMzMz80FAmpmZmZkZQUAAAAAAAIBBQAAAAAAAAPh/\",\"dtype\":\"float64\",\"order\":\"little\",\"shape\":[51]},\"State\":[\"Alabama\",\"Alaska\",\"Arizona\",\"Arkansas\",\"California\",\"Colorado\",\"Connecticut\",\"Delaware\",\"Florida\",\"Georgia\",\"Hawaii\",\"Idaho\",\"Illinois \",\"Indiana\",\"Iowa\",\"Kansas\",\"Kentucky\",\"Louisiana\",\"Maine\",\"Maryland \",\"Massachussets \",\"Michigan\",\"Minnesota\",\"Mississippi\",\"Missouri\",\"Montana\",\"Nebraska\",\"Nevada\",\"New Hampshire\",\"New Jersey\",\"New Mexico\",\"New York\",\"North Carolina\",\"North Dakota\",\"Ohio\",\"Oklahoma\",\"Oregon\",\"Pennsylvania \",\"Rhode Island\",\"South Carolina\",\"South Dakota\",\"Tennessee\",\"Texas\",\"Utah\",\"Vermont\",\"Virginia\",\"Washington\",\"West Virginia\",\"Wisconsin \",\"Wyoming\",\"nan\"]},\"selected\":{\"id\":\"22124\"},\"selection_policy\":{\"id\":\"22146\"}},\"id\":\"22123\",\"type\":\"ColumnDataSource\"},{\"attributes\":{\"callback\":null,\"renderers\":[{\"id\":\"22129\"}],\"tags\":[\"hv_created\"],\"tooltips\":[[\"Rank\",\"@{Rank}\"],[\"Rape (rd) per 100k\",\"@{Rape_left_parenthesis_rd_right_parenthesis_per_100k}\"],[\"State\",\"@{State}\"]]},\"id\":\"22092\",\"type\":\"HoverTool\"},{\"attributes\":{\"end\":54.9,\"reset_end\":54.9,\"reset_start\":-3.9000000000000004,\"start\":-3.9000000000000004,\"tags\":[[[\"Rank\",\"Rank\",null]]]},\"id\":\"22090\",\"type\":\"Range1d\"},{\"attributes\":{\"fill_alpha\":{\"value\":0.1},\"fill_color\":{\"value\":\"#30a2da\"},\"line_alpha\":{\"value\":0.1},\"line_color\":{\"value\":\"#30a2da\"},\"size\":{\"value\":5.477225575051661},\"x\":{\"field\":\"Rank\"},\"y\":{\"field\":\"Rape (rd) per 100k\"}},\"id\":\"22127\",\"type\":\"Scatter\"},{\"attributes\":{},\"id\":\"22146\",\"type\":\"UnionRenderers\"},{\"attributes\":{},\"id\":\"22098\",\"type\":\"LinearScale\"},{\"attributes\":{\"children\":[{\"id\":\"22089\"},{\"id\":\"22093\"},{\"id\":\"22158\"}],\"margin\":[0,0,0,0],\"name\":\"Row43041\",\"tags\":[\"embedded\"]},\"id\":\"22088\",\"type\":\"Row\"},{\"attributes\":{\"end\":154.47,\"reset_end\":154.47,\"reset_start\":3.629999999999999,\"start\":3.629999999999999,\"tags\":[[[\"Rape (rd) per 100k\",\"Rape (rd) per 100k\",null]]]},\"id\":\"22091\",\"type\":\"Range1d\"},{\"attributes\":{\"source\":{\"id\":\"22123\"}},\"id\":\"22130\",\"type\":\"CDSView\"},{\"attributes\":{},\"id\":\"22110\",\"type\":\"SaveTool\"},{\"attributes\":{},\"id\":\"22134\",\"type\":\"BasicTickFormatter\"},{\"attributes\":{},\"id\":\"22124\",\"type\":\"Selection\"},{\"attributes\":{\"bottom_units\":\"screen\",\"fill_alpha\":0.5,\"fill_color\":\"lightgrey\",\"left_units\":\"screen\",\"level\":\"overlay\",\"line_alpha\":1.0,\"line_color\":\"black\",\"line_dash\":[4,4],\"line_width\":2,\"right_units\":\"screen\",\"syncable\":false,\"top_units\":\"screen\"},\"id\":\"22115\",\"type\":\"BoxAnnotation\"},{\"attributes\":{\"angle\":{\"value\":0.0},\"fill_alpha\":{\"value\":1.0},\"fill_color\":{\"value\":\"#30a2da\"},\"hatch_alpha\":{\"value\":1.0},\"hatch_color\":{\"value\":\"black\"},\"hatch_scale\":{\"value\":12.0},\"hatch_weight\":{\"value\":1.0},\"line_alpha\":{\"value\":1.0},\"line_cap\":{\"value\":\"butt\"},\"line_color\":{\"value\":\"#30a2da\"},\"line_dash\":{\"value\":[]},\"line_dash_offset\":{\"value\":0},\"line_join\":{\"value\":\"bevel\"},\"line_width\":{\"value\":1},\"marker\":{\"value\":\"circle\"},\"size\":{\"value\":5.477225575051661},\"x\":{\"field\":\"Rank\"},\"y\":{\"field\":\"Rape (rd) per 100k\"}},\"id\":\"22131\",\"type\":\"Scatter\"},{\"attributes\":{\"axis\":{\"id\":\"22106\"},\"dimension\":1,\"grid_line_color\":null,\"ticker\":null},\"id\":\"22109\",\"type\":\"Grid\"},{\"attributes\":{\"axis_label\":\"Rank\",\"formatter\":{\"id\":\"22134\"},\"major_label_policy\":{\"id\":\"22133\"},\"ticker\":{\"id\":\"22103\"}},\"id\":\"22102\",\"type\":\"LinearAxis\"},{\"attributes\":{\"margin\":[5,5,5,5],\"name\":\"HSpacer43045\",\"sizing_mode\":\"stretch_width\"},\"id\":\"22089\",\"type\":\"Spacer\"},{\"attributes\":{\"fill_color\":{\"value\":\"#30a2da\"},\"line_color\":{\"value\":\"#30a2da\"},\"size\":{\"value\":5.477225575051661},\"x\":{\"field\":\"Rank\"},\"y\":{\"field\":\"Rape (rd) per 100k\"}},\"id\":\"22126\",\"type\":\"Scatter\"},{\"attributes\":{\"axis_label\":\"Rape per 100k\",\"formatter\":{\"id\":\"22137\"},\"major_label_policy\":{\"id\":\"22136\"},\"ticker\":{\"id\":\"22107\"}},\"id\":\"22106\",\"type\":\"LinearAxis\"},{\"attributes\":{\"active_multi\":null,\"tools\":[{\"id\":\"22092\"},{\"id\":\"22110\"},{\"id\":\"22111\"},{\"id\":\"22112\"},{\"id\":\"22113\"},{\"id\":\"22114\"}]},\"id\":\"22116\",\"type\":\"Toolbar\"},{\"attributes\":{},\"id\":\"22107\",\"type\":\"BasicTicker\"},{\"attributes\":{},\"id\":\"22137\",\"type\":\"BasicTickFormatter\"},{\"attributes\":{},\"id\":\"22133\",\"type\":\"AllLabels\"},{\"attributes\":{\"fill_alpha\":{\"value\":0.2},\"fill_color\":{\"value\":\"#30a2da\"},\"line_alpha\":{\"value\":0.2},\"line_color\":{\"value\":\"#30a2da\"},\"size\":{\"value\":5.477225575051661},\"x\":{\"field\":\"Rank\"},\"y\":{\"field\":\"Rape (rd) per 100k\"}},\"id\":\"22128\",\"type\":\"Scatter\"},{\"attributes\":{\"text\":\"Rape per 100k vs Rank\",\"text_color\":\"black\",\"text_font_size\":\"12pt\"},\"id\":\"22094\",\"type\":\"Title\"},{\"attributes\":{},\"id\":\"22136\",\"type\":\"AllLabels\"},{\"attributes\":{},\"id\":\"22114\",\"type\":\"ResetTool\"},{\"attributes\":{\"below\":[{\"id\":\"22102\"}],\"center\":[{\"id\":\"22105\"},{\"id\":\"22109\"}],\"height\":500,\"left\":[{\"id\":\"22106\"}],\"margin\":[5,5,5,5],\"min_border_bottom\":10,\"min_border_left\":10,\"min_border_right\":10,\"min_border_top\":10,\"renderers\":[{\"id\":\"22129\"}],\"sizing_mode\":\"fixed\",\"title\":{\"id\":\"22094\"},\"toolbar\":{\"id\":\"22116\"},\"width\":500,\"x_range\":{\"id\":\"22090\"},\"x_scale\":{\"id\":\"22098\"},\"y_range\":{\"id\":\"22091\"},\"y_scale\":{\"id\":\"22100\"}},\"id\":\"22093\",\"subtype\":\"Figure\",\"type\":\"Plot\"},{\"attributes\":{\"axis\":{\"id\":\"22102\"},\"grid_line_color\":null,\"ticker\":null},\"id\":\"22105\",\"type\":\"Grid\"},{\"attributes\":{},\"id\":\"22112\",\"type\":\"WheelZoomTool\"},{\"attributes\":{\"margin\":[5,5,5,5],\"name\":\"HSpacer43046\",\"sizing_mode\":\"stretch_width\"},\"id\":\"22158\",\"type\":\"Spacer\"},{\"attributes\":{},\"id\":\"22100\",\"type\":\"LinearScale\"},{\"attributes\":{},\"id\":\"22103\",\"type\":\"BasicTicker\"}],\"root_ids\":[\"22088\"]},\"title\":\"Bokeh Application\",\"version\":\"2.3.2\"}};\n",
       "    var render_items = [{\"docid\":\"cca456d0-9a86-47ef-ae2c-7a21065531be\",\"root_ids\":[\"22088\"],\"roots\":{\"22088\":\"96ce1a0e-9a60-4917-8701-169bfc7ed921\"}}];\n",
       "    root.Bokeh.embed.embed_items_notebook(docs_json, render_items);\n",
       "  }\n",
       "  if (root.Bokeh !== undefined && root.Bokeh.Panel !== undefined) {\n",
       "    embed_document(root);\n",
       "  } else {\n",
       "    var attempts = 0;\n",
       "    var timer = setInterval(function(root) {\n",
       "      if (root.Bokeh !== undefined && root.Bokeh.Panel !== undefined) {\n",
       "        clearInterval(timer);\n",
       "        embed_document(root);\n",
       "      } else if (document.readyState == \"complete\") {\n",
       "        attempts++;\n",
       "        if (attempts > 200) {\n",
       "          clearInterval(timer);\n",
       "          console.log(\"Bokeh: ERROR: Unable to run BokehJS code because BokehJS library is missing\");\n",
       "        }\n",
       "      }\n",
       "    }, 25, root)\n",
       "  }\n",
       "})(window);</script>"
      ],
      "text/plain": [
       ":Scatter   [Rank]   (Rape (rd) per 100k,State)"
      ]
     },
     "execution_count": 399,
     "metadata": {
      "application/vnd.holoviews_exec.v0+json": {
       "id": "22088"
      }
     },
     "output_type": "execute_result"
    }
   ],
   "source": [
    "rape_100k= crime_data.hvplot.scatter(\n",
    "    x=\"Rank\",\n",
    "    y='Rape (rd) per 100k',\n",
    "    height=500,\n",
    "    width=500,\n",
    "  \n",
    "    ylabel= 'Rape per 100k',\n",
    "    xlabel='Rank',\n",
    "    hover_data={'State'},\n",
    "    hover_cols=\"State\",\n",
    "    title=\"Rape per 100k vs Rank\")\n",
    "rape_100k"
   ]
  },
  {
   "cell_type": "code",
   "execution_count": 400,
   "id": "c5f4f696-8465-40b8-baa9-4c913fe6f218",
   "metadata": {},
   "outputs": [],
   "source": [
    "crime_data2=crime_data.drop([1])"
   ]
  },
  {
   "cell_type": "code",
   "execution_count": 401,
   "id": "5a65fd06-b6e9-4d3c-b70d-5f64204034d2",
   "metadata": {},
   "outputs": [
    {
     "data": {
      "text/plain": [
       "0.4820155214502388"
      ]
     },
     "execution_count": 401,
     "metadata": {},
     "output_type": "execute_result"
    }
   ],
   "source": [
    "rape100k_corr = crime_data2[\"Rank\"].astype(float).corr(crime_data2[\"Rape (rd) per 100k\"].astype(float), method='pearson') \n",
    "rape100k_corr"
   ]
  },
  {
   "cell_type": "code",
   "execution_count": null,
   "id": "e2d38e45-6511-42f0-9cc5-c2f818465c2e",
   "metadata": {},
   "outputs": [],
   "source": []
  },
  {
   "cell_type": "code",
   "execution_count": null,
   "id": "f60da9bf-a4ef-4433-ac60-cc1d724703d7",
   "metadata": {},
   "outputs": [],
   "source": []
  }
 ],
 "metadata": {
  "kernelspec": {
   "display_name": "Python 3",
   "language": "python",
   "name": "python3"
  },
  "language_info": {
   "codemirror_mode": {
    "name": "ipython",
    "version": 3
   },
   "file_extension": ".py",
   "mimetype": "text/x-python",
   "name": "python",
   "nbconvert_exporter": "python",
   "pygments_lexer": "ipython3",
   "version": "3.7.10"
  }
 },
 "nbformat": 4,
 "nbformat_minor": 5
}
